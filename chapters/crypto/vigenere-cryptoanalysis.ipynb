{
 "cells": [
  {
   "cell_type": "markdown",
   "metadata": {
    "slideshow": {
     "slide_type": "slide"
    }
   },
   "source": [
    "# Vigenere cipher cryptoanalysis\n",
    "\n",
    "\n",
    "This notebook studies the cryptoanalysis of the [Vigenere][wiki] cipher, which is polyalphabetic, namely two occurrences  $a_{1}, a_{2}$ of character $a$ belonging to the plaintext are associated with occurrences $c_{1}, c_{2}$ in the ciphertext, such that $c_{1}\\neq c_{2}$ with very high probability.\n",
    "\n",
    "Our implementation closely follows a class lecture given by Prof. [Orazio Puglisi][puglisi] within Cryptography course at the University of Florence. In order to fully understand the last part, where the concept of *mutual coincidence index* is crucial, we rest on the explanation at pag. 20 of [this notes][notes].\n",
    "\n",
    "[wiki]:https://en.wikipedia.org/wiki/Vigen%C3%A8re_cipher\n",
    "[puglisi]:http://web.math.unifi.it/users/puglisi/\n",
    "[notes]:http://iml.univ-mrs.fr/~ritzenth/cours/crypto.general.pdf"
   ]
  },
  {
   "cell_type": "markdown",
   "metadata": {
    "slideshow": {
     "slide_type": "subslide"
    }
   },
   "source": [
    "### physical shifting ciphers\n",
    "\n",
    "A crypto ruler: ![][crypto-ruler]\n",
    "\n",
    "[crypto-ruler]: https://upload.wikimedia.org/wikipedia/commons/f/fa/Cryptographic_sliding_rule-IMG_0533.jpg \"Crypto-ruler\""
   ]
  },
  {
   "cell_type": "markdown",
   "metadata": {
    "slideshow": {
     "slide_type": "subslide"
    }
   },
   "source": [
    "A Swiss disk cipher:![][swiss-disk]\n",
    "\n",
    "[swiss-disk]:https://upload.wikimedia.org/wikipedia/en/3/3f/Confederate_cipher_disk.png \"swiss disk\""
   ]
  },
  {
   "cell_type": "code",
   "execution_count": 3,
   "metadata": {
    "collapsed": false,
    "slideshow": {
     "slide_type": "skip"
    }
   },
   "outputs": [],
   "source": [
    "import itertools\n",
    "from itertools import *\n",
    "from copy import copy, deepcopy\n",
    "from heapq import *\n",
    "from random import *\n",
    "import matplotlib.pyplot as plt\n",
    "from collections import Counter\n",
    "from sympy import *\n",
    "\n",
    "init_printing()\n",
    "\n",
    "%matplotlib inline\n",
    "plt.rcParams['figure.figsize'] = (10.0, 10.0)"
   ]
  },
  {
   "cell_type": "markdown",
   "metadata": {
    "slideshow": {
     "slide_type": "skip"
    }
   },
   "source": [
    "---"
   ]
  },
  {
   "cell_type": "markdown",
   "metadata": {
    "slideshow": {
     "slide_type": "slide"
    }
   },
   "source": [
    "### alphabet\n",
    "\n",
    "Let $\\mathcal{A}$ be our alphabet composed of standard English characters plus the `space` character. It will be sufficient to encode simple and (not so quite) short messages. To define it as a group $\\frac{\\mathbb{Z}}{n\\mathbb{Z}}$ in the Python language we use a `dict` object, which can be reversed because it is a bijection."
   ]
  },
  {
   "cell_type": "code",
   "execution_count": 4,
   "metadata": {
    "collapsed": false
   },
   "outputs": [
    {
     "data": {
      "text/plain": [
       "{' ': 26,\n",
       " 'a': 0,\n",
       " 'b': 1,\n",
       " 'c': 2,\n",
       " 'd': 3,\n",
       " 'e': 4,\n",
       " 'f': 5,\n",
       " 'g': 6,\n",
       " 'h': 7,\n",
       " 'i': 8,\n",
       " 'j': 9,\n",
       " 'k': 10,\n",
       " 'l': 11,\n",
       " 'm': 12,\n",
       " 'n': 13,\n",
       " 'o': 14,\n",
       " 'p': 15,\n",
       " 'q': 16,\n",
       " 'r': 17,\n",
       " 's': 18,\n",
       " 't': 19,\n",
       " 'u': 20,\n",
       " 'v': 21,\n",
       " 'w': 22,\n",
       " 'x': 23,\n",
       " 'y': 24,\n",
       " 'z': 25}"
      ]
     },
     "execution_count": 4,
     "metadata": {},
     "output_type": "execute_result"
    }
   ],
   "source": [
    "def make_alphabet_entry(i):\n",
    "    alpha = i + ord('a')\n",
    "    return chr(alpha),i\n",
    "\n",
    "A = dict(map(make_alphabet_entry, range(26)))\n",
    "A.update({' ':26})\n",
    "inverse_A = {v:k for k,v in A.items()}\n",
    "\n",
    "A"
   ]
  },
  {
   "cell_type": "markdown",
   "metadata": {
    "slideshow": {
     "slide_type": "slide"
    }
   },
   "source": [
    "### string encoding and the *plaintext*\n",
    "\n",
    "We define a function `encode` that consumes a string and produces a list of integer in our field. In parallel, function `decode` goes backwards, it consumes a list of integers and return a string. Such functions are useful in order to use the cipher and analyze it using `str` objects instead of the coded version using lists of integers."
   ]
  },
  {
   "cell_type": "code",
   "execution_count": 5,
   "metadata": {
    "collapsed": false
   },
   "outputs": [],
   "source": [
    "def encode(s, alphabet=A): return list(map(lambda i: alphabet[i], s))\n",
    "\n",
    "def decode(e, inverse_alphabet=inverse_A): return \"\".join(map(lambda i: inverse_alphabet[i], e))"
   ]
  },
  {
   "cell_type": "markdown",
   "metadata": {
    "slideshow": {
     "slide_type": "fragment"
    }
   },
   "source": [
    "The following plaintext is a prose taken from [here]; before using it we have to swipe out punctuation marks:\n",
    "\n",
    "[here]:http://www.bartleby.com/209/2.html"
   ]
  },
  {
   "cell_type": "code",
   "execution_count": 12,
   "metadata": {
    "collapsed": false
   },
   "outputs": [
    {
     "data": {
      "text/plain": [
       "'the attraction of medieval literature comes perhaps more strongly from some other countries than from england in france and provence in germany and iceland there were literary adventurers more daring and achievements more distinguished it was not in england that the most wonderful things were produced there is nothing in old english that takes hold of the mind with that masterful and subduing power which still belongs to the lyrical stanzas of the troubadours and minnesingers to welsh romance or...'"
      ]
     },
     "execution_count": 12,
     "metadata": {},
     "output_type": "execute_result"
    }
   ],
   "source": [
    "def clean_text(text):\n",
    "    remove_chars = [',', '.', ';', ':', '-', '(', ')', \"'\", '\"']\n",
    "    for rc in remove_chars: text = text.replace(rc, '')\n",
    "    text = text.replace('\\n', ' ')\n",
    "\n",
    "    return \"\".join(filter(lambda c: not c.isdigit(), text))\n",
    "\n",
    "with open('rest_plain_text.txt', 'r') as f:\n",
    "    plain_text = clean_text(f.read().lower())\n",
    "    \n",
    "encoded_plain_text = encode(plain_text)\n",
    "\n",
    "chunk = 500\n",
    "\"{}...\".format(plain_text[:chunk])"
   ]
  },
  {
   "cell_type": "markdown",
   "metadata": {
    "slideshow": {
     "slide_type": "skip"
    }
   },
   "source": [
    "With the following assert we ensure that function `decode` is the inverse of function `encode`:"
   ]
  },
  {
   "cell_type": "code",
   "execution_count": 7,
   "metadata": {
    "collapsed": false,
    "slideshow": {
     "slide_type": "skip"
    }
   },
   "outputs": [],
   "source": [
    "assert decode(encode(plain_text)) == plain_text"
   ]
  },
  {
   "cell_type": "markdown",
   "metadata": {
    "slideshow": {
     "slide_type": "slide"
    }
   },
   "source": [
    "### key\n",
    "\n",
    "Let $\\textbf{k}=(k_{0},\\ldots,k_{m-1}) \\in \\left(\\frac{\\mathbb{Z}}{n\\mathbb{Z}}\\right)^{m}$ be a *key* of length $m\\in\\mathbb{N}$. In order to have a meaningful analysis we build a function `generate_random_key` which generate a random key of random length, keeping it safe...we will uncover it only at the end to check our work:"
   ]
  },
  {
   "cell_type": "code",
   "execution_count": 8,
   "metadata": {
    "collapsed": false
   },
   "outputs": [],
   "source": [
    "def generate_random_key(given_key=None, required_length=None, max_length=None, alphabet=A):\n",
    "    \n",
    "    if given_key is not None: return given_key\n",
    "    \n",
    "    if required_length is None and max_length is None: max_length = len(alphabet)\n",
    "    \n",
    "    # the minimum length of the key is 3 to build interesting cases\n",
    "    length = required_length if required_length else randint(3, max_length)\n",
    "    key = [0] * length\n",
    "    # -1 in the following max limit because it is inclusive in the sense of `randint`.\n",
    "    for i in range(length): key[i] = randint(0, len(alphabet)-1)\n",
    "    return key\n",
    "\n",
    "#key = encode(\"ericsmullyan\")\n",
    "secret_key = generate_random_key(required_length=17)"
   ]
  },
  {
   "cell_type": "markdown",
   "metadata": {
    "slideshow": {
     "slide_type": "slide"
    }
   },
   "source": [
    "### encryption and the *ciphertext*\n",
    "\n",
    "Now we are in the position to define `encrypt` and `decrypt` functions, both of them consumes an *encoded* message, namely a list of integers, and a key. The encryption work by repeating the key as long as necessary to match the same length of the input $\\textbf{x}=(x_{0},\\ldots,x_{h})$, where $h > m-1$ otherwise the cipher is a *OneTimePad* which is unbreakable, \n",
    "$$(\\underbrace{x_{0},\\ldots,x_{m-1}}_{k_{0},\\ldots,k_{m-1}}\n",
    "\\underbrace{x_{m},\\ldots,x_{m-1}}_{k_{0},\\ldots,k_{m-1}}\n",
    "\\ldots\n",
    "\\underbrace{x_{lm},\\ldots,x_{h}}_{k_{0},\\ldots,k_{h \\mod m}}) = \n",
    "(y_{0},\\ldots,y_{h}) = \\textbf{y}$$\n",
    "truncating the very right block to match plaintext suffix. At last, the ciphertext $\\textbf{y}$ is obtained by addition modulo $n$ of corresponding symbols, where $n$ is the length of the alphabet. Decryption follows the same scheme, using modular subtraction."
   ]
  },
  {
   "cell_type": "code",
   "execution_count": 9,
   "metadata": {
    "collapsed": false
   },
   "outputs": [],
   "source": [
    "def encrypt(message, key, alphabet=A):\n",
    "    n = len(alphabet)\n",
    "    return [(p+v)%n for p,v in zip(message, cycle(key))]\n",
    "\n",
    "def decrypt(cipher, key, alphabet=A):\n",
    "    n = len(alphabet)\n",
    "    return [(c-v)%n for c,v in zip(cipher, cycle(key))]"
   ]
  },
  {
   "cell_type": "markdown",
   "metadata": {
    "slideshow": {
     "slide_type": "subslide"
    }
   },
   "source": [
    "the following is the *ciphertext* produced by the application of function `encrypt` to the plaintext:"
   ]
  },
  {
   "cell_type": "code",
   "execution_count": 11,
   "metadata": {
    "collapsed": false
   },
   "outputs": [
    {
     "data": {
      "text/plain": [
       "'loiasyfsnlzokfcakstie jhbyiropxunymyiautzfeivkn dbxstssweeudxtmhqcswgtdtfrraabnknsfazf vjwxmuujtfbjrzexukmssqavwflntqpjshrerudphntiasl ezlvnsskanwjfevhyffkduzjdfmekxasovyxyespenehntzqjhdxstssweqbdrtmwtqqetjljw rnrwzywerdjskmtkn hgrynawcvyscetrsaumrtfafjyffkduzffafqkfigvfeovrewwsvyiznefjeeolvfrudpqcik swujjldjje pfqotcsl egshawstmvanfp dfelhofjeupymfubswujstmoveijfqfzdtwmrtzxfikgmmjtjwkxoimprhruaxr fbdafuek mmceofyxtmoswaeloiaccdjpjrfold dtzdpxefirizxkmenigavtrf emvotjxvvszlvtryaainrydsuartugfrtd...'"
      ]
     },
     "execution_count": 11,
     "metadata": {},
     "output_type": "execute_result"
    }
   ],
   "source": [
    "cipher_text = encrypt(encoded_plain_text, secret_key)\n",
    "'{}...'.format(decode(cipher_text)[:chunk])"
   ]
  },
  {
   "cell_type": "markdown",
   "metadata": {
    "slideshow": {
     "slide_type": "skip"
    }
   },
   "source": [
    "Assuming to know the `secret_key`, we ensure that function `decrypt` is the inverse of function `encrypt`:"
   ]
  },
  {
   "cell_type": "code",
   "execution_count": 14,
   "metadata": {
    "collapsed": false,
    "slideshow": {
     "slide_type": "skip"
    }
   },
   "outputs": [],
   "source": [
    "assert decode(decrypt(cipher_text, secret_key)) == plain_text"
   ]
  },
  {
   "cell_type": "markdown",
   "metadata": {
    "slideshow": {
     "slide_type": "slide"
    }
   },
   "source": [
    "### coincidence index\n",
    "\n",
    "Let $I_{c}$ be the *coincidence index* of a sequence $\\alpha$, over an alphabet $A$, defined as \n",
    "$$ I_{c}(\\alpha) = \\sum_{i=0}^{n}{\\frac{f_{a_{i}}^{(\\alpha)}(f_{a_{i}}^{(\\alpha)}-1)}{m(m-1)}} $$ where $n$ is the length of the alphabet, $m$ is the length of $\\alpha$ and $f_{a_{i}}^{^{(\\alpha)}}$ is the frequency of symbol $a_{i}\\in A$, namely the number of occurrences of $a_{i}$, in $\\alpha$. In other words, $I_{c}$ is the probability to sample two occurrences of the same symbol $a$, forall $a\\in A$, from the sequence $\\alpha$. \n",
    "\n",
    "Index $I_{c}$ is invariant to shifting by the same constant $v$. Let $\\alpha,\\beta$ be two sequences of integers of length $l$ such that $\\beta_{i} \\equiv_{n} \\alpha_{i} + v$, forall $i\\in\\lbrace0,\\ldots,l\\rbrace$; moreover, let $q_{\\gamma_{i}}^{(\\gamma)}$ be the probability to sample *two* occurrences of $\\gamma_{i}$ from a sequence $\\gamma$, we can state the relations\n",
    "$$\n",
    "    I_{c}(\\beta) = \\sum_{a_{i}\\in\\frac{\\mathbb{Z}}{n\\mathbb{Z}}}{q_{a_{i}}^{(\\beta)}}\n",
    "                = \\sum_{a_{i}\\in\\frac{\\mathbb{Z}}{n\\mathbb{Z}}}{q_{a_{i}-v}^{(\\alpha)}}\n",
    "                = \\sum_{\\hat{a}_{i}\\in\\frac{\\mathbb{Z}}{n\\mathbb{Z}}}{q_{\\hat{a}_{i}}^{(\\alpha)}}\n",
    "                = I_{c}(\\alpha)\n",
    "$$\n",
    "where $\\hat{a}_{i}\\equiv_{n}a_{i}-v$, proving the invariance of $I_{c}$ when a sequence is produced by another one shifted by a constant $v\\in\\frac{\\mathbb{Z}}{n\\mathbb{Z}}$."
   ]
  },
  {
   "cell_type": "code",
   "execution_count": 15,
   "metadata": {
    "collapsed": false,
    "slideshow": {
     "slide_type": "fragment"
    }
   },
   "outputs": [],
   "source": [
    "def frequencies(lst, alphabet=A, inverse_alphabet=inverse_A):\n",
    "    \"\"\" Produces a `dict` counting occcurrences of each object of the alphabet within the iterable.\n",
    "    \n",
    "    `frequencies` consumes an iterable $lst$ and an alphabet $A$, \n",
    "    produces a dictionary of entries $(k,v)$ where $k$ is a character \n",
    "    in $A$ and $v$ is the number of occurrences of $k$ in $lst$\n",
    "    \"\"\"\n",
    "    counter = Counter(lst)\n",
    "    return {k:counter[v] if v in counter else 0 for k,v in alphabet.items()}\n",
    "    \n",
    "def length_from_frequencies(freqs):\n",
    "    \"\"\" Returns the length of the original sequence by summation of symbols frequencies. \"\"\"\n",
    "    return sum(v for v in freqs.values())\n",
    "\n",
    "def coincidence_index(freqs, alphabet=A):\n",
    "    \"\"\" Produces the I_{c} relative to frequencies matched against an alphabet. \"\"\"\n",
    "    denom = length_from_frequencies(freqs)\n",
    "    if denom in range(2): return None\n",
    "    def mapper(a):\n",
    "        v = freqs[a] if a in freqs else 0\n",
    "        return v*(v-1)\n",
    "    return sum(map(mapper, alphabet.keys()))/(denom*(denom-1))\n",
    "\n",
    "def draw_frequencies_histogram(seq, alphabet=A, y_maxlimit=None, normed=None):\n",
    "    \n",
    "    #plaintext_length = len(plain_text)\n",
    "    #freqs = [plaintext_frequencies[inverse_A[ia]] for ia in sorted(inverse_A.keys())]\n",
    "    n, bins, patches = plt.hist(seq, len(alphabet), normed=normed,facecolor='green', alpha=0.5)\n",
    "\n",
    "    plt.xlabel('alphabet symbols')\n",
    "    plt.ylabel('frequencies' + (', normed respect: {}'.format(str(normed)) if normed else ''))\n",
    "    plt.xticks(range(-1, len(alphabet)), sorted(alphabet.keys()))\n",
    "    if y_maxlimit: plt.ylim([0, y_maxlimit])\n",
    "    plt.grid(True)\n",
    "    plt.show()\n",
    "    \n",
    "    return None"
   ]
  },
  {
   "cell_type": "markdown",
   "metadata": {
    "slideshow": {
     "slide_type": "slide"
    }
   },
   "source": [
    "### frequencies comparison\n",
    "\n",
    "The following are frequencies of alphabet symbols in the *plaintext*: in the analysis they are used as a `dict` produced by function `frequencies`, moreover it is possible to draw an histogram with the relative function."
   ]
  },
  {
   "cell_type": "code",
   "execution_count": 16,
   "metadata": {
    "collapsed": false
   },
   "outputs": [
    {
     "data": {
      "image/png": "[encoded data removed]",
      "text/plain": [
       "<matplotlib.figure.Figure at 0x7fa5d526a780>"
      ]
     },
     "metadata": {},
     "output_type": "display_data"
    }
   ],
   "source": [
    "plaintext_frequencies = frequencies(encoded_plain_text)\n",
    "draw_frequencies_histogram(encoded_plain_text, y_maxlimit=1800)"
   ]
  },
  {
   "cell_type": "code",
   "execution_count": 17,
   "metadata": {
    "collapsed": false,
    "slideshow": {
     "slide_type": "skip"
    }
   },
   "outputs": [
    {
     "data": {
      "text/plain": [
       "{' ': 1620,\n",
       " 'a': 571,\n",
       " 'b': 90,\n",
       " 'c': 207,\n",
       " 'd': 272,\n",
       " 'e': 1001,\n",
       " 'f': 208,\n",
       " 'g': 162,\n",
       " 'h': 422,\n",
       " 'i': 594,\n",
       " 'j': 2,\n",
       " 'k': 46,\n",
       " 'l': 312,\n",
       " 'm': 184,\n",
       " 'n': 624,\n",
       " 'o': 633,\n",
       " 'p': 131,\n",
       " 'q': 8,\n",
       " 'r': 529,\n",
       " 's': 490,\n",
       " 't': 800,\n",
       " 'u': 158,\n",
       " 'v': 71,\n",
       " 'w': 129,\n",
       " 'x': 13,\n",
       " 'y': 129,\n",
       " 'z': 2}"
      ]
     },
     "execution_count": 17,
     "metadata": {},
     "output_type": "execute_result"
    }
   ],
   "source": [
    "plaintext_frequencies"
   ]
  },
  {
   "cell_type": "markdown",
   "metadata": {
    "slideshow": {
     "slide_type": "subslide"
    }
   },
   "source": [
    "The following histogram shows frequencies in the *ciphertext*: using the same `y_maxlimit` value, we see that they are spread \"uniformly\" over symbols."
   ]
  },
  {
   "cell_type": "code",
   "execution_count": 18,
   "metadata": {
    "collapsed": false
   },
   "outputs": [
    {
     "data": {
      "image/png": "[encoded data removed]",
      "text/plain": [
       "<matplotlib.figure.Figure at 0x7fa5a8cecb00>"
      ]
     },
     "metadata": {},
     "output_type": "display_data"
    }
   ],
   "source": [
    "draw_frequencies_histogram(cipher_text, y_maxlimit=1800)"
   ]
  },
  {
   "cell_type": "markdown",
   "metadata": {
    "slideshow": {
     "slide_type": "subslide"
    }
   },
   "source": [
    "A first approach to encryption finishes computing the coincidence indexes of both *plaintext* and *ciphertext*:"
   ]
  },
  {
   "cell_type": "code",
   "execution_count": 19,
   "metadata": {
    "collapsed": false
   },
   "outputs": [
    {
     "name": "stdout",
     "output_type": "stream",
     "text": [
      "coincidence index of *plaintext*: 0.07720140650073147\n",
      "coincidence index of *ciphertext*: 0.04052089502751244\n"
     ]
    }
   ],
   "source": [
    "print(\"coincidence index of *plaintext*: {}\\ncoincidence index of *ciphertext*: {}\".format(\n",
    "        coincidence_index(plaintext_frequencies), coincidence_index(frequencies(cipher_text))))"
   ]
  },
  {
   "cell_type": "markdown",
   "metadata": {
    "slideshow": {
     "slide_type": "slide"
    }
   },
   "source": [
    "### finding the key *length* by spreading\n",
    "\n",
    "The following set of functions allows us to probe the key *length* by repeatedly fixing a candidate length $l$, then spreading the *ciphertext* in a matrix with $l$ columns, then computing $I_{c}$ of each column and, finally, report $l$ if the majority of $I_{c}$ scores is greater than a threshold (.06 for English)."
   ]
  },
  {
   "cell_type": "code",
   "execution_count": 26,
   "metadata": {
    "collapsed": true
   },
   "outputs": [],
   "source": [
    "def spread(message, block_length):\n",
    "    return [message[i:i+block_length] for i in range(0, len(message), block_length)]\n",
    "    \n",
    "def col(spreaded, c, join=False, joiner=lambda c: ''.join(decode(c))):\n",
    "    column = [lst[c] if c < len(lst) else None for lst in spreaded]\n",
    "    ready = list(filter(lambda i: i is not None, column))\n",
    "    return joiner(ready) if join else ready\n",
    "\n",
    "def decode_spreaded(spreaded, join_as_str=False):\n",
    "    decoded_spread = list(map(decode, spreaded))\n",
    "    return '\\n'.join(decoded_spread) if join_as_str else decoded_spread\n",
    "\n",
    "def analyze(cipher_text, max_key_length=None):\n",
    "    res = {}\n",
    "    # we discard the case where the key length equals the\n",
    "    # length of the cipher text, since it is the case of \n",
    "    # OneTimePad cipher, which is unbreakable!\n",
    "    for d in range(2, len(cipher_text) if max_key_length is None else max_key_length + 1):\n",
    "        spreaded = spread(cipher_text, d)\n",
    "        res[d] = []\n",
    "        for c in range(d):\n",
    "            ci = coincidence_index(frequencies(col(spreaded, c)))\n",
    "            if ci: res[d].append(ci)\n",
    "                \n",
    "    return res\n",
    "\n",
    "def guess_key_length(analysis, threshold=0.06):\n",
    "    candidates = {}\n",
    "    for k,v in analysis.items():\n",
    "        cs = list(filter(lambda i: i > threshold, v))\n",
    "        if cs and len(cs) > ceiling(k/2): candidates[k] = cs\n",
    "    return candidates"
   ]
  },
  {
   "cell_type": "markdown",
   "metadata": {
    "slideshow": {
     "slide_type": "subslide"
    }
   },
   "source": [
    "here are $I_{c}$ scores witnesses for the candidate key length after spreading the *ciphertext* by columns:"
   ]
  },
  {
   "cell_type": "code",
   "execution_count": 27,
   "metadata": {
    "collapsed": false,
    "slideshow": {
     "slide_type": "-"
    }
   },
   "outputs": [
    {
     "data": {
      "image/png": "[encoded data removed]",
      "text/latex": [
       "$$\\left \\{ 17 : \\left [ 0.07855412877576201, \\quad 0.08144613235322919, \\quad 0.07617132673112201, \\quad 0.0789001246890933, \\quad 0.07537488330798206, \\quad 0.07335113362623302, \\quad 0.08135473720631149, \\quad 0.07484209974578715, \\quad 0.07206410357208376, \\quad 0.07938255103912781, \\quad 0.08838483109259114, \\quad 0.07089131745158163, \\quad 0.07561522132243101, \\quad 0.07600833398852111, \\quad 0.07512383048981838, \\quad 0.07630972036585686, \\quad 0.07693214875383285\\right ]\\right \\}$$"
      ],
      "text/plain": [
       "{17: [0.07855412877576201, 0.08144613235322919, 0.07617132673112201, 0.0789001\n",
       "246890933, 0.07537488330798206, 0.07335113362623302, 0.08135473720631149, 0.07\n",
       "484209974578715, 0.07206410357208376, 0.07938255103912781, 0.08838483109259114\n",
       ", 0.07089131745158163, 0.07561522132243101, 0.07600833398852111, 0.07512383048\n",
       "981838, 0.07630972036585686, 0.07693214875383285]}"
      ]
     },
     "execution_count": 27,
     "metadata": {},
     "output_type": "execute_result"
    }
   ],
   "source": [
    "analysis = analyze(cipher_text, max_key_length=20)\n",
    "guess = guess_key_length(analysis)\n",
    "guess"
   ]
  },
  {
   "cell_type": "code",
   "execution_count": 28,
   "metadata": {
    "collapsed": false,
    "slideshow": {
     "slide_type": "fragment"
    }
   },
   "outputs": [],
   "source": [
    "probing_key_length = 17"
   ]
  },
  {
   "cell_type": "markdown",
   "metadata": {
    "slideshow": {
     "slide_type": "subslide"
    }
   },
   "source": [
    "The following is the *ciphertext* spread over a matrix with a number of column equals the candidate length found in the previous cell."
   ]
  },
  {
   "cell_type": "code",
   "execution_count": 31,
   "metadata": {
    "collapsed": false
   },
   "outputs": [
    {
     "name": "stdout",
     "output_type": "stream",
     "text": [
      "loiasyfsnlzokfcak\n",
      "stie jhbyiropxuny\n",
      "myiautzfeivkn dbx\n",
      "stssweeudxtmhqcsw\n",
      "gtdtfrraabnknsfaz\n",
      "f vjwxmuujtfbjrze\n",
      "xukmssqavwflntqpj\n",
      "shrerudphntiasl e\n",
      "zlvnsskanwjfevhyf\n",
      "fkduzjdfmekxasovy\n",
      "...\n",
      "loeorhanraftxlxdf\n",
      "dsba smqdrsopayre\n",
      "xzwbpxm\n"
     ]
    }
   ],
   "source": [
    "spreaded = decode_spreaded(spread(cipher_text, probing_key_length))\n",
    "print(\"{}\\n...\\n{}\".format(\"\\n\".join(spreaded[:10]), \"\\n\".join(spreaded[-3:])))"
   ]
  },
  {
   "cell_type": "markdown",
   "metadata": {
    "slideshow": {
     "slide_type": "slide"
    }
   },
   "source": [
    "### mutual coincidence index\n",
    "\n",
    "Once the length $m$ of key $\\textbf{k}$ has been \"established\", we're left with finding actual key symbols $k_{i}$, for $i\\in\\{0,\\ldots,m-1\\}$. In order to fullfil this step, we need another object, which resembles the index of mutual coincidence $I_{c}$ but it is more general, in the sense that sampling occurs on two given sequences instead of the same one. Formally, let $I_{mc}(\\alpha, \\beta)$ be the *index of mutual coincidence* of sequences $\\alpha$ and $\\beta$, defined as\n",
    "$$\n",
    "I_{mc}(\\alpha,\\beta) = \\sum_{a_{i}\\in\\frac{\\mathbb{Z}}{n\\mathbb{Z}}}{q_{a_{i}}^{(\\alpha)}q_{a_{i}}^{(\\beta)}}\n",
    "$$\n",
    "where $q_{a_{i}}^{(\\nu)}$ is the probability to draw an occurrence of symbol $a_{i}$ in sequence $\\nu$.\n",
    "\n",
    "Let $\\eta$ and $\\gamma$ be two sequences of length $l$, produced by adding shifts $v_{\\alpha}$ and $v_{\\beta}$ to sequences $\\alpha$ and $\\beta$, respectively (formally, $\\eta_{i} \\equiv_{n} \\alpha_{i} + v_{\\alpha}$ and $\\gamma_{i} \\equiv_{n} \\beta_{i} + v_{\\beta}$, forall $i\\in\\lbrace0,\\ldots,l-1\\rbrace$). The inequality\n",
    "$$\n",
    "    I_{mc}(\\eta,\\gamma) \n",
    "                = \\sum_{a_{i}\\in\\frac{\\mathbb{Z}}{n\\mathbb{Z}}}{q_{a_{i}}^{(\\eta)}q_{a_{i}}^{(\\gamma)}}\n",
    "                = \\sum_{a_{i}\\in\\frac{\\mathbb{Z}}{n\\mathbb{Z}}}{q_{a_{i}-v_{\\alpha}}^{(\\alpha)}q_{a_{i}-v_{\\beta}}^{(\\beta)}}\n",
    "                = \\sum_{a_{i}\\in\\frac{\\mathbb{Z}}{n\\mathbb{Z}}}{q_{a_{i}}^{(\\alpha)}q_{a_{i}+v_{\\alpha}-v_{\\beta}}^{(\\beta)}}\n",
    "                \\neq \\sum_{a_{i}\\in\\frac{\\mathbb{Z}}{n\\mathbb{Z}}}{q_{a_{i}}^{(\\alpha)}q_{a_{i}}^{(\\beta)}}\n",
    "                = I_{mc}(\\alpha,\\beta)\n",
    "$$\n",
    "holds unless factor $v_{\\alpha}-v_{\\beta}$ in each subscript. We can define an even more general version of $I_{mc}$ as\n",
    "$$\n",
    "    I_{mc}(\\eta,\\gamma,g) \n",
    "                = \\sum_{a_{i}\\in\\frac{\\mathbb{Z}}{n\\mathbb{Z}}}{q_{a_{i}-g}^{(\\eta)}q_{a_{i}}^{(\\gamma)}}\n",
    "                = \\sum_{a_{i}\\in\\frac{\\mathbb{Z}}{n\\mathbb{Z}}}{q_{a_{i}}^{(\\alpha)}q_{a_{i}+v_{\\alpha}-v_{\\beta}+g}^{(\\beta)}}\n",
    "$$\n",
    "where sequence $\\eta$ is shifted back by $g\\in\\mathbb{N}$. Therefore we can state the equality with the usual definition according to\n",
    "$$\n",
    "    I_{mc}(\\eta,\\gamma,g) = I_{mc}(\\alpha,\\beta) \\leftrightarrow v_{\\beta}-v_{\\alpha}=g\n",
    "$$\n",
    "proving the invariance of $I_{mc}$ when two sequences are produced by shifting two other ones by constant values $q,w$ respectively, providing that $g = w-q$."
   ]
  },
  {
   "cell_type": "code",
   "execution_count": 32,
   "metadata": {
    "collapsed": true,
    "slideshow": {
     "slide_type": "fragment"
    }
   },
   "outputs": [],
   "source": [
    "def mutual_coincidence_index(fst_freqs, snd_freqs, offset=0, \n",
    "                             alphabet=A, inverse_alphabet=inverse_A):\n",
    "    fst_len = length_from_frequencies(fst_freqs)\n",
    "    snd_len = length_from_frequencies(snd_freqs)\n",
    "    n = len(alphabet)\n",
    "    return sum(fst_freqs[k] * snd_freqs[inverse_alphabet[(v+offset) % n]] \n",
    "               for k,v in alphabet.items())/(fst_len * snd_len)"
   ]
  },
  {
   "cell_type": "markdown",
   "metadata": {
    "slideshow": {
     "slide_type": "subslide"
    }
   },
   "source": [
    "Previous generalization allows us to set the basis to break the cipher. It works as follows: for each pair $(\\eta,\\gamma)$ of different columns in the spread-matrix form of the *ciphertext*, fix a $g\\in\\frac{\\mathbb{Z}}{n\\mathbb{Z}}$ to compute $I_{mc}(\\eta,\\gamma,g)$: if such index value is close to $I_{c}(\\nu)$, where $\\nu$ is a structured sequence using the English language, namely close to $0.065$, then collect equation $k_{i(\\beta)}-k_{i(\\alpha)}=g$, where function $i(\\nu)$ return the zero-based index of column $\\nu$ in the matrix spread. Such equations are important since state difference relations over symbols of the key."
   ]
  },
  {
   "cell_type": "code",
   "execution_count": 36,
   "metadata": {
    "collapsed": false
   },
   "outputs": [],
   "source": [
    "def build_offsets_eqs(cipher_text, key_length, indexed_sym, threshold=.06, alphabet=A):\n",
    "    \n",
    "    n = len(alphabet)\n",
    "    eqs = {c:{} for c in range(key_length)}\n",
    "    spreaded = spread(cipher_text, key_length)\n",
    "    for c,a in itertools.product(range(key_length), repeat=2):\n",
    "    \n",
    "        if a == c: continue\n",
    "        \n",
    "        eqs[c][a]=[]\n",
    "        \n",
    "        for g in range(1,n):\n",
    "            column_freqs = frequencies(col(spreaded, c))\n",
    "            another_freqs = frequencies(col(spreaded, a))\n",
    "            mci = mutual_coincidence_index(column_freqs, another_freqs, g)\n",
    "            if mci > threshold: \n",
    "                eqs[c][a].append(tuple([Eq(indexed_sym[a]-indexed_sym[c],g,evaluate=True), mci]))\n",
    "    \n",
    "    return eqs"
   ]
  },
  {
   "cell_type": "code",
   "execution_count": 37,
   "metadata": {
    "collapsed": false,
    "scrolled": false
   },
   "outputs": [],
   "source": [
    "k_sym=IndexedBase('k')\n",
    "\n",
    "eqs_dict = build_offsets_eqs(cipher_text, key_length=probing_key_length, indexed_sym=k_sym)"
   ]
  },
  {
   "cell_type": "markdown",
   "metadata": {
    "slideshow": {
     "slide_type": "subslide"
    }
   },
   "source": [
    "The following cell report the set of difference equation collected respect the *first* column of the spread matrix: we observe that such set fails to instantiate $k_{6}$ because no likely equation gives a relation for it. On the contrary, it can be the case that collecting equations for a pair of columns with indexes $(c,a)$ yields one or more equations, namely $\\{k_{a}-k_{c}=g_{u_{0}},\\ldots,k_{a}-k_{c}=g_{u_{v}}\\}$, for some $v\\in\\mathbb{N}$: to properly explore all keys space, we have to consider the product of each list of \"equally-likely\" equations."
   ]
  },
  {
   "cell_type": "code",
   "execution_count": 38,
   "metadata": {
    "collapsed": false
   },
   "outputs": [
    {
     "data": {
      "image/png": "[encoded data removed]",
      "text/latex": [
       "$$\\left \\{ 1 : \\left [ \\left ( - k_{0} + k_{1} = 15, \\quad 0.07966023276727183\\right )\\right ], \\quad 2 : \\left [ \\left ( - k_{0} + k_{2} = 12, \\quad 0.07727521536837441\\right )\\right ], \\quad 3 : \\left [ \\left ( - k_{0} + k_{3} = 9, \\quad 0.07921711478059143\\right )\\right ], \\quad 4 : \\left [ \\left ( - k_{0} + k_{4} = 26, \\quad 0.07754238944857876\\right )\\right ], \\quad 5 : \\left [ \\left ( - k_{0} + k_{5} = 13, \\quad 0.07652582465560609\\right )\\right ], \\quad 6 : \\left [ \\left ( - k_{0} + k_{6} = 21, \\quad 0.07994369794992767\\right )\\right ], \\quad 7 : \\left [ \\left ( - k_{0} + k_{7} = 9, \\quad 0.07737252009061175\\right )\\right ], \\quad 8 : \\left [ \\left ( - k_{0} + k_{8} = 21, \\quad 0.07471226849282875\\right )\\right ], \\quad 9 : \\left [ \\left ( - k_{0} + k_{9} = 17, \\quad 0.07947134435732892\\right )\\right ], \\quad 10 : \\left [ \\left ( - k_{0} + k_{10} = 14, \\quad 0.08352537194560683\\right )\\right ], \\quad 11 : \\left [ \\left ( - k_{0} + k_{11} = 14, \\quad 0.07398110731748715\\right )\\right ], \\quad 12 : \\left [ \\left ( - k_{0} + k_{12} = 4, \\quad 0.07752919748532781\\right )\\right ], \\quad 13 : \\left [ \\right ], \\quad 14 : \\left [ \\left ( - k_{0} + k_{14} = 11, \\quad 0.07743127411363028\\right )\\right ], \\quad 15 : \\left [ \\left ( - k_{0} + k_{15} = 21, \\quad 0.07849211064035357\\right )\\right ], \\quad 16 : \\left [ \\left ( - k_{0} + k_{16} = 13, \\quad 0.07765323375614469\\right )\\right ]\\right \\}$$"
      ],
      "text/plain": [
       "{1: [(-k[0] + k[1] = 15, 0.07966023276727183)], 2: [(-k[0] + k[2] = 12, 0.0772\n",
       "7521536837441)], 3: [(-k[0] + k[3] = 9, 0.07921711478059143)], 4: [(-k[0] + k[\n",
       "4] = 26, 0.07754238944857876)], 5: [(-k[0] + k[5] = 13, 0.07652582465560609)],\n",
       " 6: [(-k[0] + k[6] = 21, 0.07994369794992767)], 7: [(-k[0] + k[7] = 9, 0.07737\n",
       "252009061175)], 8: [(-k[0] + k[8] = 21, 0.07471226849282875)], 9: [(-k[0] + k[\n",
       "9] = 17, 0.07947134435732892)], 10: [(-k[0] + k[10] = 14, 0.08352537194560683)\n",
       "], 11: [(-k[0] + k[11] = 14, 0.07398110731748715)], 12: [(-k[0] + k[12] = 4, 0\n",
       ".07752919748532781)], 13: [], 14: [(-k[0] + k[14] = 11, 0.07743127411363028)],\n",
       " 15: [(-k[0] + k[15] = 21, 0.07849211064035357)], 16: [(-k[0] + k[16] = 13, 0.\n",
       "07765323375614469)]}"
      ]
     },
     "execution_count": 38,
     "metadata": {},
     "output_type": "execute_result"
    }
   ],
   "source": [
    "eqs_dict[0]"
   ]
  },
  {
   "cell_type": "markdown",
   "metadata": {
    "slideshow": {
     "slide_type": "subslide"
    }
   },
   "source": [
    "The following function implements the last observation, namely it produces the complete keys space where we've to look for the good one."
   ]
  },
  {
   "cell_type": "code",
   "execution_count": 39,
   "metadata": {
    "collapsed": true,
    "slideshow": {
     "slide_type": "-"
    }
   },
   "outputs": [],
   "source": [
    "def explode_key_space(eqs_dict):\n",
    "    \n",
    "    res = {}\n",
    "    for c, eq_dict in eqs_dict.items():\n",
    "        eqs_list = []\n",
    "        for a, eqs in eq_dict.items():\n",
    "            if not eqs: \n",
    "                eqs_list = []\n",
    "                break\n",
    "            eqs_list.append([[a] + list(eq_pair) for eq_pair in eqs])\n",
    "        res[c]=list(itertools.product(*eqs_list))\n",
    "    \n",
    "    return res"
   ]
  },
  {
   "cell_type": "code",
   "execution_count": 40,
   "metadata": {
    "collapsed": false
   },
   "outputs": [
    {
     "data": {
      "image/png": "[encoded data removed]",
      "text/latex": [
       "$$\\left \\{ 0 : \\left [ \\left ( \\right )\\right ], \\quad 1 : \\left [ \\left ( \\left [ 0, \\quad k_{0} - k_{1} = 12, \\quad 0.07966023276727183\\right ], \\quad \\left [ 2, \\quad - k_{1} + k_{2} = 24, \\quad 0.07773136623701599\\right ], \\quad \\left [ 3, \\quad - k_{1} + k_{3} = 21, \\quad 0.08098632850682272\\right ], \\quad \\left [ 4, \\quad - k_{1} + k_{4} = 11, \\quad 0.07777698132388015\\right ], \\quad \\left [ 5, \\quad - k_{1} + k_{5} = 25, \\quad 0.07751632368465639\\right ], \\quad \\left [ 6, \\quad - k_{1} + k_{6} = 6, \\quad 0.08160213217948885\\right ], \\quad \\left [ 7, \\quad - k_{1} + k_{7} = 21, \\quad 0.07663483069049033\\right ], \\quad \\left [ 8, \\quad - k_{1} + k_{8} = 6, \\quad 0.07533571395930305\\right ], \\quad \\left [ 9, \\quad - k_{1} + k_{9} = 2, \\quad 0.08045710629908409\\right ], \\quad \\left [ 10, \\quad - k_{1} + k_{10} = 26, \\quad 0.08440341817849473\\right ], \\quad \\left [ 11, \\quad - k_{1} + k_{11} = 26, \\quad 0.07514313132829789\\right ], \\quad \\left [ 12, \\quad - k_{1} + k_{12} = 16, \\quad 0.07765649786853461\\right ], \\quad \\left [ 13, \\quad - k_{1} + k_{13} = 12, \\quad 0.07829952800934842\\right ], \\quad \\left [ 14, \\quad - k_{1} + k_{14} = 23, \\quad 0.07823750987393997\\right ], \\quad \\left [ 15, \\quad - k_{1} + k_{15} = 6, \\quad 0.07887727590236387\\right ], \\quad \\left [ 16, \\quad - k_{1} + k_{16} = 25, \\quad 0.079944640653867\\right ]\\right )\\right ], \\quad 2 : \\left [ \\left ( \\left [ 0, \\quad k_{0} - k_{2} = 15, \\quad 0.07727521536837441\\right ], \\quad \\left [ 1, \\quad k_{1} - k_{2} = 3, \\quad 0.07773136623701599\\right ], \\quad \\left [ 3, \\quad - k_{2} + k_{3} = 24, \\quad 0.07670176856208213\\right ], \\quad \\left [ 4, \\quad - k_{2} + k_{4} = 14, \\quad 0.07599473471568768\\right ], \\quad \\left [ 5, \\quad - k_{2} + k_{5} = 1, \\quad 0.07530725019223501\\right ], \\quad \\left [ 6, \\quad - k_{2} + k_{6} = 9, \\quad 0.07744790105436015\\right ], \\quad \\left [ 7, \\quad - k_{2} + k_{7} = 24, \\quad 0.07558052238854689\\right ], \\quad \\left [ 8, \\quad - k_{2} + k_{8} = 9, \\quad 0.07440544192817647\\right ], \\quad \\left [ 9, \\quad - k_{2} + k_{9} = 5, \\quad 0.07780991115086075\\right ], \\quad \\left [ 10, \\quad - k_{2} + k_{10} = 2, \\quad 0.08161586619750491\\right ], \\quad \\left [ 11, \\quad - k_{2} + k_{11} = 2, \\quad 0.07366122430327521\\right ], \\quad \\left [ 12, \\quad - k_{2} + k_{12} = 19, \\quad 0.07579921791867138\\right ], \\quad \\left [ 13, \\quad - k_{2} + k_{13} = 15, \\quad 0.07608645980898414\\right ], \\quad \\left [ 14, \\quad - k_{2} + k_{14} = 26, \\quad 0.07650100208250371\\right ], \\quad \\left [ 15, \\quad - k_{2} + k_{15} = 9, \\quad 0.07666747181438952\\right ], \\quad \\left [ 16, \\quad - k_{2} + k_{16} = 1, \\quad 0.0756392764115654\\right ]\\right )\\right ], \\quad 3 : \\left [ \\left ( \\right )\\right ], \\quad 4 : \\left [ \\left ( \\left [ 0, \\quad k_{0} - k_{4} = 1, \\quad 0.07754238944857876\\right ], \\quad \\left [ 1, \\quad k_{1} - k_{4} = 16, \\quad 0.07777698132388015\\right ], \\quad \\left [ 2, \\quad k_{2} - k_{4} = 13, \\quad 0.07599473471568768\\right ], \\quad \\left [ 3, \\quad k_{3} - k_{4} = 10, \\quad 0.07748374147975341\\right ], \\quad \\left [ 5, \\quad - k_{4} + k_{5} = 14, \\quad 0.07458066702289877\\right ], \\quad \\left [ 6, \\quad - k_{4} + k_{6} = 22, \\quad 0.0781581931212449\\right ], \\quad \\left [ 7, \\quad - k_{4} + k_{7} = 10, \\quad 0.07591999007709833\\right ], \\quad \\left [ 8, \\quad - k_{4} + k_{8} = 22, \\quad 0.07368407309000463\\right ], \\quad \\left [ 9, \\quad - k_{4} + k_{9} = 18, \\quad 0.0778360240499801\\right ], \\quad \\left [ 10, \\quad - k_{4} + k_{10} = 15, \\quad 0.08226216045070864\\right ], \\quad \\left [ 11, \\quad - k_{4} + k_{11} = 15, \\quad 0.07356982915635751\\right ], \\quad \\left [ 12, \\quad - k_{4} + k_{12} = 5, \\quad 0.07617785495590185\\right ], \\quad \\left [ 13, \\quad - k_{4} + k_{13} = 1, \\quad 0.07654669965596256\\right ], \\quad \\left [ 14, \\quad - k_{4} + k_{14} = 12, \\quad 0.0761517420567825\\right ], \\quad \\left [ 15, \\quad - k_{4} + k_{15} = 22, \\quad 0.07650100208250371\\right ], \\quad \\left [ 16, \\quad - k_{4} + k_{16} = 14, \\quad 0.07624640131609012\\right ]\\right )\\right ], \\quad 5 : \\left [ \\left ( \\right )\\right ], \\quad 6 : \\left [ \\left ( \\right )\\right ], \\quad 7 : \\left [ \\left ( \\right )\\right ], \\quad 8 : \\left [ \\left ( \\right )\\right ], \\quad 9 : \\left [ \\left ( \\left [ 0, \\quad k_{0} - k_{9} = 10, \\quad 0.07947134435732892\\right ], \\quad \\left [ 1, \\quad k_{1} - k_{9} = 25, \\quad 0.08045710629908409\\right ], \\quad \\left [ 2, \\quad k_{2} - k_{9} = 22, \\quad 0.07780991115086075\\right ], \\quad \\left [ 3, \\quad k_{3} - k_{9} = 19, \\quad 0.07961822941487522\\right ], \\quad \\left [ 4, \\quad k_{4} - k_{9} = 9, \\quad 0.0778360240499801\\right ], \\quad \\left [ 5, \\quad k_{5} - k_{9} = 23, \\quad 0.0768110927595459\\right ], \\quad \\left [ 6, \\quad k_{6} - k_{9} = 4, \\quad 0.08055502967078162\\right ], \\quad \\left [ 7, \\quad k_{7} - k_{9} = 19, \\quad 0.07728353318574666\\right ], \\quad \\left [ 8, \\quad k_{8} - k_{9} = 4, \\quad 0.075082813128456\\right ], \\quad \\left [ 10, \\quad - k_{9} + k_{10} = 24, \\quad 0.0840753542243688\\right ], \\quad \\left [ 11, \\quad - k_{9} + k_{11} = 24, \\quad 0.07506973306868013\\right ], \\quad \\left [ 12, \\quad - k_{9} + k_{12} = 14, \\quad 0.07802582657802747\\right ], \\quad \\left [ 13, \\quad - k_{9} + k_{13} = 10, \\quad 0.07810757695162666\\right ], \\quad \\left [ 14, \\quad - k_{9} + k_{14} = 21, \\quad 0.07796369629409207\\right ], \\quad \\left [ 15, \\quad - k_{9} + k_{15} = 4, \\quad 0.07841168834141572\\right ], \\quad \\left [ 16, \\quad - k_{9} + k_{16} = 23, \\quad 0.07853267889434255\\right ]\\right )\\right ], \\quad 10 : \\left [ \\left ( \\right )\\right ], \\quad 11 : \\left [ \\left ( \\right )\\right ], \\quad 12 : \\left [ \\left ( \\left [ 0, \\quad k_{0} - k_{12} = 23, \\quad 0.07752919748532781\\right ], \\quad \\left [ 1, \\quad k_{1} - k_{12} = 11, \\quad 0.07765649786853461\\right ], \\quad \\left [ 2, \\quad k_{2} - k_{12} = 8, \\quad 0.07579921791867138\\right ], \\quad \\left [ 3, \\quad k_{3} - k_{12} = 5, \\quad 0.07712771166136792\\right ], \\quad \\left [ 4, \\quad k_{4} - k_{12} = 22, \\quad 0.07617785495590185\\right ], \\quad \\left [ 5, \\quad k_{5} - k_{12} = 9, \\quad 0.07488526644949439\\right ], \\quad \\left [ 6, \\quad k_{6} - k_{12} = 17, \\quad 0.07855086466337209\\right ], \\quad \\left [ 7, \\quad k_{7} - k_{12} = 5, \\quad 0.07591993695411188\\right ], \\quad \\left [ 8, \\quad k_{8} - k_{12} = 17, \\quad 0.0736799767174936\\right ], \\quad \\left [ 9, \\quad k_{9} - k_{12} = 13, \\quad 0.07802582657802747\\right ], \\quad \\left [ 10, \\quad k_{10} - k_{12} = 10, \\quad 0.0816424631060564\\right ], \\quad \\left [ 11, \\quad k_{11} - k_{12} = 10, \\quad 0.07358514628411852\\right ], \\quad \\left [ 13, \\quad - k_{12} + k_{13} = 23, \\quad 0.07700231190056539\\right ], \\quad \\left [ 14, \\quad - k_{12} + k_{14} = 7, \\quad 0.07575316619196949\\right ], \\quad \\left [ 15, \\quad - k_{12} + k_{15} = 17, \\quad 0.07659683004751332\\right ], \\quad \\left [ 16, \\quad - k_{12} + k_{16} = 9, \\quad 0.07626001850828458\\right ]\\right )\\right ], \\quad 13 : \\left [ \\left ( \\right )\\right ], \\quad 14 : \\left [ \\left ( \\left [ 0, \\quad k_{0} - k_{14} = 16, \\quad 0.07743127411363028\\right ], \\quad \\left [ 1, \\quad k_{1} - k_{14} = 4, \\quad 0.07823750987393997\\right ], \\quad \\left [ 2, \\quad k_{2} - k_{14} = 1, \\quad 0.07650100208250371\\right ], \\quad \\left [ 3, \\quad k_{3} - k_{14} = 25, \\quad 0.07739536887734118\\right ], \\quad \\left [ 4, \\quad k_{4} - k_{14} = 15, \\quad 0.0761517420567825\\right ], \\quad \\left [ 5, \\quad k_{5} - k_{14} = 2, \\quad 0.07529654461062403\\right ], \\quad \\left [ 6, \\quad k_{6} - k_{14} = 10, \\quad 0.078315848571298\\right ], \\quad \\left [ 7, \\quad k_{7} - k_{14} = 25, \\quad 0.07572700607241775\\right ], \\quad \\left [ 8, \\quad k_{8} - k_{14} = 10, \\quad 0.07396446801761884\\right ], \\quad \\left [ 9, \\quad k_{9} - k_{14} = 6, \\quad 0.07796369629409207\\right ], \\quad \\left [ 10, \\quad k_{10} - k_{14} = 3, \\quad 0.0820544849889964\\right ], \\quad \\left [ 11, \\quad k_{11} - k_{14} = 3, \\quad 0.07316985438623455\\right ], \\quad \\left [ 12, \\quad k_{12} - k_{14} = 20, \\quad 0.07575316619196949\\right ], \\quad \\left [ 13, \\quad k_{13} - k_{14} = 16, \\quad 0.0762992586876122\\right ], \\quad \\left [ 15, \\quad - k_{14} + k_{15} = 10, \\quad 0.07664915028661681\\right ], \\quad \\left [ 16, \\quad - k_{14} + k_{16} = 2, \\quad 0.07643659931525887\\right ]\\right )\\right ], \\quad 15 : \\left [ \\left ( \\right )\\right ], \\quad 16 : \\left [ \\left ( \\right )\\right ]\\right \\}$$"
      ],
      "text/plain": [
       "{0: [()], 1: [([0, k[0] - k[1] = 12, 0.07966023276727183], [2, -k[1] + k[2] = \n",
       "24, 0.07773136623701599], [3, -k[1] + k[3] = 21, 0.08098632850682272], [4, -k[\n",
       "1] + k[4] = 11, 0.07777698132388015], [5, -k[1] + k[5] = 25, 0.077516323684656\n",
       "39], [6, -k[1] + k[6] = 6, 0.08160213217948885], [7, -k[1] + k[7] = 21, 0.0766\n",
       "3483069049033], [8, -k[1] + k[8] = 6, 0.07533571395930305], [9, -k[1] + k[9] =\n",
       " 2, 0.08045710629908409], [10, -k[1] + k[10] = 26, 0.08440341817849473], [11, \n",
       "-k[1] + k[11] = 26, 0.07514313132829789], [12, -k[1] + k[12] = 16, 0.077656497\n",
       "86853461], [13, -k[1] + k[13] = 12, 0.07829952800934842], [14, -k[1] + k[14] =\n",
       " 23, 0.07823750987393997], [15, -k[1] + k[15] = 6, 0.07887727590236387], [16, \n",
       "-k[1] + k[16] = 25, 0.079944640653867])], 2: [([0, k[0] - k[2] = 15, 0.0772752\n",
       "1536837441], [1, k[1] - k[2] = 3, 0.07773136623701599], [3, -k[2] + k[3] = 24,\n",
       " 0.07670176856208213], [4, -k[2] + k[4] = 14, 0.07599473471568768], [5, -k[2] \n",
       "+ k[5] = 1, 0.07530725019223501], [6, -k[2] + k[6] = 9, 0.07744790105436015], \n",
       "[7, -k[2] + k[7] = 24, 0.07558052238854689], [8, -k[2] + k[8] = 9, 0.074405441\n",
       "92817647], [9, -k[2] + k[9] = 5, 0.07780991115086075], [10, -k[2] + k[10] = 2,\n",
       " 0.08161586619750491], [11, -k[2] + k[11] = 2, 0.07366122430327521], [12, -k[2\n",
       "] + k[12] = 19, 0.07579921791867138], [13, -k[2] + k[13] = 15, 0.0760864598089\n",
       "8414], [14, -k[2] + k[14] = 26, 0.07650100208250371], [15, -k[2] + k[15] = 9, \n",
       "0.07666747181438952], [16, -k[2] + k[16] = 1, 0.0756392764115654])], 3: [()], \n",
       "4: [([0, k[0] - k[4] = 1, 0.07754238944857876], [1, k[1] - k[4] = 16, 0.077776\n",
       "98132388015], [2, k[2] - k[4] = 13, 0.07599473471568768], [3, k[3] - k[4] = 10\n",
       ", 0.07748374147975341], [5, -k[4] + k[5] = 14, 0.07458066702289877], [6, -k[4]\n",
       " + k[6] = 22, 0.0781581931212449], [7, -k[4] + k[7] = 10, 0.07591999007709833]\n",
       ", [8, -k[4] + k[8] = 22, 0.07368407309000463], [9, -k[4] + k[9] = 18, 0.077836\n",
       "0240499801], [10, -k[4] + k[10] = 15, 0.08226216045070864], [11, -k[4] + k[11]\n",
       " = 15, 0.07356982915635751], [12, -k[4] + k[12] = 5, 0.07617785495590185], [13\n",
       ", -k[4] + k[13] = 1, 0.07654669965596256], [14, -k[4] + k[14] = 12, 0.07615174\n",
       "20567825], [15, -k[4] + k[15] = 22, 0.07650100208250371], [16, -k[4] + k[16] =\n",
       " 14, 0.07624640131609012])], 5: [()], 6: [()], 7: [()], 8: [()], 9: [([0, k[0]\n",
       " - k[9] = 10, 0.07947134435732892], [1, k[1] - k[9] = 25, 0.08045710629908409]\n",
       ", [2, k[2] - k[9] = 22, 0.07780991115086075], [3, k[3] - k[9] = 19, 0.07961822\n",
       "941487522], [4, k[4] - k[9] = 9, 0.0778360240499801], [5, k[5] - k[9] = 23, 0.\n",
       "0768110927595459], [6, k[6] - k[9] = 4, 0.08055502967078162], [7, k[7] - k[9] \n",
       "= 19, 0.07728353318574666], [8, k[8] - k[9] = 4, 0.075082813128456], [10, -k[9\n",
       "] + k[10] = 24, 0.0840753542243688], [11, -k[9] + k[11] = 24, 0.07506973306868\n",
       "013], [12, -k[9] + k[12] = 14, 0.07802582657802747], [13, -k[9] + k[13] = 10, \n",
       "0.07810757695162666], [14, -k[9] + k[14] = 21, 0.07796369629409207], [15, -k[9\n",
       "] + k[15] = 4, 0.07841168834141572], [16, -k[9] + k[16] = 23, 0.07853267889434\n",
       "255])], 10: [()], 11: [()], 12: [([0, k[0] - k[12] = 23, 0.07752919748532781],\n",
       " [1, k[1] - k[12] = 11, 0.07765649786853461], [2, k[2] - k[12] = 8, 0.07579921\n",
       "791867138], [3, k[3] - k[12] = 5, 0.07712771166136792], [4, k[4] - k[12] = 22,\n",
       " 0.07617785495590185], [5, k[5] - k[12] = 9, 0.07488526644949439], [6, k[6] - \n",
       "k[12] = 17, 0.07855086466337209], [7, k[7] - k[12] = 5, 0.07591993695411188], \n",
       "[8, k[8] - k[12] = 17, 0.0736799767174936], [9, k[9] - k[12] = 13, 0.078025826\n",
       "57802747], [10, k[10] - k[12] = 10, 0.0816424631060564], [11, k[11] - k[12] = \n",
       "10, 0.07358514628411852], [13, -k[12] + k[13] = 23, 0.07700231190056539], [14,\n",
       " -k[12] + k[14] = 7, 0.07575316619196949], [15, -k[12] + k[15] = 17, 0.0765968\n",
       "3004751332], [16, -k[12] + k[16] = 9, 0.07626001850828458])], 13: [()], 14: [(\n",
       "[0, k[0] - k[14] = 16, 0.07743127411363028], [1, k[1] - k[14] = 4, 0.078237509\n",
       "87393997], [2, k[2] - k[14] = 1, 0.07650100208250371], [3, k[3] - k[14] = 25, \n",
       "0.07739536887734118], [4, k[4] - k[14] = 15, 0.0761517420567825], [5, k[5] - k\n",
       "[14] = 2, 0.07529654461062403], [6, k[6] - k[14] = 10, 0.078315848571298], [7,\n",
       " k[7] - k[14] = 25, 0.07572700607241775], [8, k[8] - k[14] = 10, 0.07396446801\n",
       "761884], [9, k[9] - k[14] = 6, 0.07796369629409207], [10, k[10] - k[14] = 3, 0\n",
       ".0820544849889964], [11, k[11] - k[14] = 3, 0.07316985438623455], [12, k[12] -\n",
       " k[14] = 20, 0.07575316619196949], [13, k[13] - k[14] = 16, 0.0762992586876122\n",
       "], [15, -k[14] + k[15] = 10, 0.07664915028661681], [16, -k[14] + k[16] = 2, 0.\n",
       "07643659931525887])], 15: [()], 16: [()]}"
      ]
     },
     "execution_count": 40,
     "metadata": {},
     "output_type": "execute_result"
    }
   ],
   "source": [
    "eqs_dict_pure = explode_key_space(eqs_dict)\n",
    "eqs_dict_pure"
   ]
  },
  {
   "cell_type": "markdown",
   "metadata": {
    "slideshow": {
     "slide_type": "subslide"
    }
   },
   "source": [
    "In order to instantiate candidates keys, for each index column $c$ we use the set of equations $\\{k_{a}-k_{c}=g_{u}\\}$, for some $u\\in\\mathbb{N}$ and $a\\in\\{0,\\ldots,m-1\\}\\setminus\\{c\\}$ as follows: for each equation $k_{a}-k_{c}=g_{u}$, instantiate $k_{c} = s$, for $s\\in\\frac{\\mathbb{Z}}{n\\mathbb{Z}}$, and solve it respect $k_{a}$. Therefore for each column index $c$ we have a candidate key if each symbol $k_{i}$ has been instantiated."
   ]
  },
  {
   "cell_type": "code",
   "execution_count": 41,
   "metadata": {
    "collapsed": false
   },
   "outputs": [],
   "source": [
    "def candidate_keys(eqs_dict, indexed_sym, alphabet=A):\n",
    "    key_length = len(eqs_dict)\n",
    "    n = len(alphabet)\n",
    "    candidates=set()\n",
    "    for c, eqs_tuples in eqs_dict.items():\n",
    "        for d in range(len(alphabet)):\n",
    "            for eq_tuple in eqs_tuples:\n",
    "                key = [indexed_sym[i] for i in range(key_length)]\n",
    "                key[c] = d\n",
    "                for a, eq, mci in eq_tuple:\n",
    "                    subs_eq = eq.subs(indexed_sym[c],d)\n",
    "                    key[a] = solve(subs_eq, indexed_sym[a])[0]\n",
    "                    key[a] = key[a] % n\n",
    "\n",
    "                key_is_fully_instantiated = True\n",
    "                for k in key:\n",
    "                    if isinstance(k, Indexed): key_is_fully_instantiated = False \n",
    "                \n",
    "                # `tuple` application to make `key` hashable\n",
    "                if key_is_fully_instantiated: candidates.add(tuple(key)) \n",
    "            \n",
    "    return candidates"
   ]
  },
  {
   "cell_type": "code",
   "execution_count": 42,
   "metadata": {
    "collapsed": false
   },
   "outputs": [],
   "source": [
    "possible_keys = candidate_keys(eqs_dict_pure, k_sym)"
   ]
  },
  {
   "cell_type": "markdown",
   "metadata": {
    "slideshow": {
     "slide_type": "slide"
    }
   },
   "source": [
    "The last step to filter out mistaken keys, we use each candidate key to perform a decryption, checking it against frequencies of an arbitrary English prose:"
   ]
  },
  {
   "cell_type": "code",
   "execution_count": 43,
   "metadata": {
    "collapsed": false
   },
   "outputs": [],
   "source": [
    "def arbitrary_frequencies(length, filename='rest_plain_text.txt'):\n",
    "    with open(filename, 'r') as f:\n",
    "        text = clean_text(f.read().lower())\n",
    "    text = text[:length]\n",
    "    return frequencies(encode(text))\n",
    "\n",
    "def attempt_keys(candidate_keys, cipher_text, threshold=.06, arbitrary_freqs=None):\n",
    "    sols = set()\n",
    "    for key in candidate_keys:\n",
    "        decrypted = decrypt(cipher_text, key)\n",
    "        freqs = frequencies(decrypted)\n",
    "        if arbitrary_freqs:\n",
    "            good = True\n",
    "            for k,v in arbitrary_freqs.items():\n",
    "                if 1-abs((freqs[k]-v)/v) < .6: good = False\n",
    "            if good: sols.add(decode(key))\n",
    "        else:\n",
    "            ci = coincidence_index(freqs)\n",
    "            if ci > threshold: sols.add(decode(key))#sols.add((ci, decode(key)))\n",
    "    return sols"
   ]
  },
  {
   "cell_type": "code",
   "execution_count": 44,
   "metadata": {
    "collapsed": false
   },
   "outputs": [],
   "source": [
    "sols = attempt_keys(possible_keys, cipher_text, arbitrary_freqs=arbitrary_frequencies(len(cipher_text)))"
   ]
  },
  {
   "cell_type": "code",
   "execution_count": 45,
   "metadata": {
    "collapsed": false,
    "slideshow": {
     "slide_type": "subslide"
    }
   },
   "outputs": [
    {
     "data": {
      "text/plain": [
       "(1, {'thebsfnbnjggxtdnf'})"
      ]
     },
     "execution_count": 45,
     "metadata": {},
     "output_type": "execute_result"
    }
   ],
   "source": [
    "len(sols), sols"
   ]
  },
  {
   "cell_type": "code",
   "execution_count": 48,
   "metadata": {
    "collapsed": false,
    "slideshow": {
     "slide_type": "fragment"
    }
   },
   "outputs": [
    {
     "name": "stdout",
     "output_type": "stream",
     "text": [
      "key:(thebsfnbnjggxtdnf)\n",
      "plaintext:\n",
      "the attraction of medieval literature comes perhaps more strongly from some other countries than from england in france and provence in germany and iceland there were literary adventurers more daring and achievements more distinguished it was not in england that the most wonderful things were produced there is nothing in old english that takes hold of the mind with that masterful and subduing power which still belongs to the lyrical stanzas of the troubadours and minnesingers to welsh romance or\n",
      "\n",
      "\n"
     ]
    }
   ],
   "source": [
    "for sol in sols: \n",
    "    key = sol\n",
    "    print(\"key:({})\\nplaintext:\\n{}\\n\\n\".format(\n",
    "            key, decode(decrypt(cipher_text, encode(key)))[:chunk]))"
   ]
  },
  {
   "cell_type": "code",
   "execution_count": 47,
   "metadata": {
    "collapsed": false,
    "slideshow": {
     "slide_type": "fragment"
    }
   },
   "outputs": [
    {
     "data": {
      "text/plain": [
       "'thebsfnbnjggxtdnf'"
      ]
     },
     "execution_count": 47,
     "metadata": {},
     "output_type": "execute_result"
    }
   ],
   "source": [
    "decode(secret_key)"
   ]
  },
  {
   "cell_type": "markdown",
   "metadata": {
    "slideshow": {
     "slide_type": "slide"
    }
   },
   "source": [
    "**:)**\n",
    "\n",
    "<!--<img src=\"https://upload.wikimedia.org/wikipedia/commons/8/85/Smiley.svg\" alt=\"Smiley face\" height=\"42\" width=\"42\"> -->"
   ]
  },
  {
   "cell_type": "markdown",
   "metadata": {
    "slideshow": {
     "slide_type": "skip"
    }
   },
   "source": [
    "---"
   ]
  },
  {
   "cell_type": "markdown",
   "metadata": {},
   "source": [
    "<a rel=\"license\" href=\"http://creativecommons.org/licenses/by-nc-sa/4.0/\"><img alt=\"Creative Commons License\" style=\"border-width:0\" src=\"https://i.creativecommons.org/l/by-nc-sa/4.0/88x31.png\" /></a><br /><span xmlns:dct=\"http://purl.org/dc/terms/\" property=\"dct:title\">Vigenere cryptoanalysis</span> by <a xmlns:cc=\"http://creativecommons.org/ns#\" href=\"mailto:massimo.nocentini@unifi.it\" property=\"cc:attributionName\" rel=\"cc:attributionURL\">Massimo Nocentini</a> is licensed under a <a rel=\"license\" href=\"http://creativecommons.org/licenses/by-nc-sa/4.0/\">Creative Commons Attribution-NonCommercial-ShareAlike 4.0 International License</a>.<br />Based on a work at <a xmlns:dct=\"http://purl.org/dc/terms/\" href=\"https://github.com/massimo-nocentini/scratchpad/blob/master/chapters/crypto/vigenere-cryptoanalysis.ipynb\" rel=\"dct:source\">https://github.com/massimo-nocentini/scratchpad/blob/master/chapters/crypto/vigenere-cryptoanalysis.ipynb</a>."
   ]
  }
 ],
 "metadata": {
  "celltoolbar": "Slideshow",
  "kernelspec": {
   "display_name": "Python 3",
   "language": "python",
   "name": "python3"
  },
  "language_info": {
   "codemirror_mode": {
    "name": "ipython",
    "version": 3
   },
   "file_extension": ".py",
   "mimetype": "text/x-python",
   "name": "python",
   "nbconvert_exporter": "python",
   "pygments_lexer": "ipython3",
   "version": "3.5.1"
  }
 },
 "nbformat": 4,
 "nbformat_minor": 0
}
