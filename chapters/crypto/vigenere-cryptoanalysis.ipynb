{
 "cells": [
  {
   "cell_type": "markdown",
   "metadata": {},
   "source": [
    "# Vigenere cipher cryptoanalysis\n",
    "\n",
    "\n",
    "This notebook studies the cryptoanalysis of the [Vigenere][wiki] cipher, which is polyalphabetic, namely two occurrences  $a_{1}, a_{2}$ of character $a$ belonging to the plaintext are associated with occurrences $c_{1}, c_{2}$ in the ciphertext, such that $c_{1}\\neq c_{2}$ with very high probability.\n",
    "\n",
    "Our implementation closely follows a class lecture given by Prof. [Orazio Puglisi][puglisi] within Cryptography course at the University of Florence. In order to fully understand the last part, where the concept of *mutual coincidence index* is crucial, we rest on the explanation at pag. 20 of [this notes][notes].\n",
    "\n",
    "[wiki]:https://en.wikipedia.org/wiki/Vigen%C3%A8re_cipher\n",
    "[puglisi]:http://web.math.unifi.it/users/puglisi/\n",
    "[notes]:http://iml.univ-mrs.fr/~ritzenth/cours/crypto.general.pdf"
   ]
  },
  {
   "cell_type": "code",
   "execution_count": 3,
   "metadata": {
    "collapsed": false
   },
   "outputs": [],
   "source": [
    "import itertools\n",
    "from itertools import *\n",
    "from copy import copy, deepcopy\n",
    "from heapq import *\n",
    "from random import *\n",
    "import matplotlib.pyplot as plt\n",
    "from collections import Counter\n",
    "from sympy import *\n",
    "\n",
    "init_printing()\n",
    "\n",
    "%matplotlib inline\n",
    "plt.rcParams['figure.figsize'] = (10.0, 10.0)"
   ]
  },
  {
   "cell_type": "markdown",
   "metadata": {},
   "source": [
    "---"
   ]
  },
  {
   "cell_type": "markdown",
   "metadata": {},
   "source": [
    "Let $\\mathcal{A}$ be our alphabet composed of standard English characters plus the `space` character. It will be sufficient to encode simple and (not so quite) short messages. To define it as a group $\\frac{\\mathbb{Z}}{n\\mathbb{Z}}$ in the Python language we use a `dict` object, which can be reversed because it is a bijection."
   ]
  },
  {
   "cell_type": "code",
   "execution_count": 4,
   "metadata": {
    "collapsed": false
   },
   "outputs": [
    {
     "data": {
      "text/plain": [
       "{' ': 26,\n",
       " 'a': 0,\n",
       " 'b': 1,\n",
       " 'c': 2,\n",
       " 'd': 3,\n",
       " 'e': 4,\n",
       " 'f': 5,\n",
       " 'g': 6,\n",
       " 'h': 7,\n",
       " 'i': 8,\n",
       " 'j': 9,\n",
       " 'k': 10,\n",
       " 'l': 11,\n",
       " 'm': 12,\n",
       " 'n': 13,\n",
       " 'o': 14,\n",
       " 'p': 15,\n",
       " 'q': 16,\n",
       " 'r': 17,\n",
       " 's': 18,\n",
       " 't': 19,\n",
       " 'u': 20,\n",
       " 'v': 21,\n",
       " 'w': 22,\n",
       " 'x': 23,\n",
       " 'y': 24,\n",
       " 'z': 25}"
      ]
     },
     "execution_count": 4,
     "metadata": {},
     "output_type": "execute_result"
    }
   ],
   "source": [
    "def make_alphabet_entry(i):\n",
    "    alpha = i + ord('a')\n",
    "    return chr(alpha),i\n",
    "\n",
    "A = dict(map(make_alphabet_entry, range(26)))\n",
    "A.update({' ':26})\n",
    "inverse_A = {v:k for k,v in A.items()}\n",
    "\n",
    "A"
   ]
  },
  {
   "cell_type": "markdown",
   "metadata": {},
   "source": [
    "We define a function `encode` that consumes a string and produces a list of integer in our field. In parallel, function `decode` goes backwards, it consumes a list of integers and return a string. Such functions are useful in order to use the cipher and analyze it using `str` objects instead of the coded version using lists of integers."
   ]
  },
  {
   "cell_type": "code",
   "execution_count": 5,
   "metadata": {
    "collapsed": false
   },
   "outputs": [],
   "source": [
    "def encode(s, alphabet=A): return list(map(lambda i: alphabet[i], s))\n",
    "\n",
    "def decode(e, inverse_alphabet=inverse_A): return \"\".join(map(lambda i: inverse_alphabet[i], e))"
   ]
  },
  {
   "cell_type": "markdown",
   "metadata": {},
   "source": [
    "The following plaintext is a prose taken from [here]; before using it we have to swipe out punctuation marks:\n",
    "\n",
    "[here]:http://www.bartleby.com/209/2.html"
   ]
  },
  {
   "cell_type": "code",
   "execution_count": 6,
   "metadata": {
    "collapsed": false
   },
   "outputs": [
    {
     "data": {
      "text/plain": [
       "('the attraction of medieval literature comes perhaps more strongly from some other countries than from england in france and provence in germany and iceland there were literary adventurers more daring and achievements more distinguished it was not in england that the most wonderful things were produced there is nothing in old english that takes hold of the mind with that masterful and subduing power which still belongs to the lyrical stanzas of the troubadours and minnesingers to welsh romance or to the epic prose of the iceland histories   the norman conquest degraded the english language from its literary rank and brought in a new language for the politer literature it did not destroy in one sense it did not absolutely interrupt english literature but it took away the english literary standard and threw the country back into the condition of italy before dantean anarchy of dialects when a new literary language was established in the time of chaucer the middle ages were nearly over and so it happened that for the greatest of the medieval centuries the twelfth and thirteenth the centuries of the crusades of the hohenstaufen emperors of st francis st dominic and st louis there is in english no great representative work in prose or rhyme there are better things it is true than the staggering rhythms of layamon or the wooden precision of orm the ancren riwle is better but there is no one who can be taken as some of the writers in other countries cancrestien de troies for instance or walther von der vogelweide or villehardouinthere is no one in england who can be taken for a representative poet or orator giving out what can be recognised at once and is recognised instinctively as the best possible literary work of its own day and its own kind the beauty of medieval poetry and prose is not to be found in england or only in a faint reflected way england did not possess the heart of the mystery to spend much time with the worthy clerks who promoted christian and useful knowledge in the thirteenth and fourteenth century dialects of lincoln or yorkshire kent or dorset is to acquire an invincible appetite for the glory of other countries not quite so tame for the pride of life of the castles and gardens of languedoc or swabia for the winds of the forest of broceliande not in the english tongue were the great stories told almost everything in the literature of the middle ages that is out of the common that is in any sense magical or inspired comes from beyond the english borders   for all this want of distinction there is some compensation the early english literature if not representative of what is keenest and strongest or most exalted in the intellect of europe in these times is admirably fitted to convey to after generations both the common sense and the commonplaces of western civilisation from the ninth century onward a study of english literature alone would give a very false and insufficient idea of the heights attained in the progress of european literature as a whole for there were worlds of imagination and poetical art which were open to some of the other nations and not at all or very imperfectly to the english but english literature contains and preserves in a better and completer form than elsewhere the common ideas the intellectual and educational groundwork of the middle ages and that is something the average mind at any rate is well represented prose and its development can be observed very fully and satisfactorily from a very early date one of the chief interests of the early literature is that it reflects the process by which the native teutonic civilisation of the english became metamorphosed by the intrusion of alien ideas either latin or transmitted through latin by the struggles of the english mind to overcome and assimilate the civilisation of the roman empire sometimes it is easy sometimes not so easy to distinguish the two kinds of thinking native and foreign the alliterative heroic poetry of the anglosaxons is inherited not imported it is the product of centuries during which the german tribes were educating themselves and making experiments in poetry among other things till they gradually formed the established epic type which in essentials in style and phrasing and even in subject matter is common to continental germany and scandinavia in early times along with england it may be compared even by temperate critics to the homeric poetry of greece and the comparison need not be misleading the anglosaxon prose on the other hand much of which is contemporaneous with the heroic poetry is generally derivative and latin in spirit repeating and adapting ideas that are very far removed from simplicity while on the one hand there are analogies with the homeric age and the homeric poems in anglosaxon society and poetry on the other hand there are many things in the work of the anglosaxon writers which make one think of the way european ideas are now being taken up without preparation in the eastof the wholesale modern progress of japan and its unhellenic confusion the spectacle is sometimes painful it cannot be called dull the same sort of thing the conflict of the two realms of ideas german and latin went on in all modern nations beginning in the first encounter of the northern tribes with the intellectual and spiritual powers of rome this conflict is really the whole matter of early modern history in england its character is brought out more plainly than elsewhere and in spite of the norman conquest and other interfering circumstances the process or progress is continuous for which reason if for nothing else it is convenient to begin at the beginning in dealing with the history of english poetry or prose   the work for which prose was needed first of all was mainly that of instruction and of the early didactic prose a great part is translation or adaptation from the time of ulfilas to the time of wycliffe and the time of caxton and since there has been ceaseless activity of the workers who have had to quarry into and break up and make portable and useful the great mass left by the older civilisations for the goths and their successors to do their best with   the early english literature is strong in translations translations were the books most necessary for people who wanted to know about things and who knew that the most important questions had already been answered by the latin authors so that it was a waste of time for the english or other simple folk to try to find out things for themselves the quarry of latin learning was worked zealously and the evidences left by that activity are more than respectable the anglosaxon bible versions and alfreds library of textbooksorosius boetius gregory and the translation of bedes historyare works which in point of style have attained the virtues of plain narration or exposition and even something more and the matter of them is such as was not antiquated for many centuries after alfred it was long before the other nations were as well provided in their own languages with useful handbooks of instruction besides the translations there were other didactic works in different departments there is a considerable stock of sermonssome of them imaginative and strong in narrative like the one on the harrowing of hell in the blickling homilies and others like the sermones catholici of aelfric more soft and gentle in their tone more finished in their rhetoric these may not appeal to every reader but the same might be said of the works of many later divines than aelfric   the old english educational literaturehandbooks and homilieshad merits that were of lasting importance the history of english prose cannot afford to ignore the books which whatever may have been their shortcomings established good habits of composition made it fairly easy for those who would to put english words together into sentences and gave more than one good pattern of sentence for students to copy the rhetorical value of the didactic prose will be rated high by any one who values a sound convention or tradition of ordinary prose style for ordinary useful purposes there are higher kinds of literature than the useful but it is something to have different kinds of useful prose at ones command and this in the tenth century was singular and exceptional among the vernacular tongues of the north and west in so far as the intellectual problem for the early english prose writers was the reproduction of latin learning they took the right way to solve it and were more than fortunate in the machinery they invented and used to adapt and work up the old latin materials   the difficulty of the problem may easily be underestimated there were many things to hinder the adoption of a decent prose convention there was on the one hand the danger of a close and slavish imitation of the foreign models one is reminded by a clumsy participle absolute here and there that the temptation which was too much for ulfilas also beset the anglosaxons who for the most part resisted successfully the temptations of foreign grammatical constructions comparing well in this respect not only with the grecisms of ulfilas but with the distracted participles of the wycliffite bible the latinism of the anglosaxon prose is to be found mainly in the use of conditional clauses and a closer bracing of the parts of the sentence than comes naturally in primitive essays ',\n",
       " 9408)"
      ]
     },
     "execution_count": 6,
     "metadata": {},
     "output_type": "execute_result"
    }
   ],
   "source": [
    "def clean_text(text):\n",
    "    remove_chars = [',', '.', ';', ':', '-', '(', ')', \"'\", '\"']\n",
    "    for rc in remove_chars: text = text.replace(rc, '')\n",
    "    text = text.replace('\\n', ' ')\n",
    "\n",
    "    return \"\".join(filter(lambda c: not c.isdigit(), text))\n",
    "\n",
    "with open('rest_plain_text.txt', 'r') as f:\n",
    "    plain_text = clean_text(f.read().lower())\n",
    "    \n",
    "encoded_plain_text = encode(plain_text)\n",
    "\n",
    "plain_text, len(plain_text)"
   ]
  },
  {
   "cell_type": "markdown",
   "metadata": {},
   "source": [
    "With the following assert we ensure that function `decode` is the inverse of function `encode`:"
   ]
  },
  {
   "cell_type": "code",
   "execution_count": 8,
   "metadata": {
    "collapsed": false
   },
   "outputs": [],
   "source": [
    "assert decode(encode(plain_text)) == plain_text"
   ]
  },
  {
   "cell_type": "markdown",
   "metadata": {},
   "source": [
    "Let $\\textbf{k}=(k_{0},\\ldots,k_{m-1}) \\in \\left(\\frac{\\mathbb{Z}}{n\\mathbb{Z}}\\right)^{m}$ be a *key* of length $m\\in\\mathbb{N}$. In order to have a meaningful analysis we build a function `generate_random_key` which generate a random key of random length, keeping it safe...we will uncover it only at the end to check our work:"
   ]
  },
  {
   "cell_type": "code",
   "execution_count": 9,
   "metadata": {
    "collapsed": false
   },
   "outputs": [],
   "source": [
    "def generate_random_key(given_key=None, required_length=None, max_length=None, alphabet=A):\n",
    "    \n",
    "    if given_key is not None: return given_key\n",
    "    \n",
    "    if required_length is None and max_length is None: max_length = len(alphabet)\n",
    "    \n",
    "    # the minimum length of the key is 3 to build interesting cases\n",
    "    length = required_length if required_length else randint(3, max_length)\n",
    "    key = [0] * length\n",
    "    # -1 in the following max limit because it is inclusive in the sense of `randint`.\n",
    "    for i in range(length): key[i] = randint(0, len(alphabet)-1)\n",
    "    return key\n",
    "\n",
    "#key = encode(\"ericsmullyan\")\n",
    "secret_key = generate_random_key(required_length=17)"
   ]
  },
  {
   "cell_type": "markdown",
   "metadata": {},
   "source": [
    "Now we are in the position to define `encrypt` and `decrypt` functions, both of them consumes an *encoded* message, namely a list of integers, and a key. The encryption work by repeating the key as long as necessary to match the same length of the input $\\textbf{x}=(x_{0},\\ldots,x_{h})$, where $h > m-1$ otherwise the cipher is a *OneTimePad* which is unbreakable, \n",
    "$$(\\underbrace{x_{0},\\ldots,x_{m-1}}_{k_{0},\\ldots,k_{m-1}}\n",
    "\\underbrace{x_{m},\\ldots,x_{m-1}}_{k_{0},\\ldots,k_{m-1}}\n",
    "\\ldots\n",
    "\\underbrace{x_{lm},\\ldots,x_{h}}_{k_{0},\\ldots,k_{h \\mod m}}) = \n",
    "(y_{0},\\ldots,y_{h}) = \\textbf{y}$$\n",
    "truncating the very right block to match plaintext suffix. At last, the ciphertext $\\textbf{y}$ is obtained by addition modulo $n$ of corresponding symbols, where $n$ is the length of the alphabet. Decryption follows the same scheme, using modular subtraction."
   ]
  },
  {
   "cell_type": "code",
   "execution_count": 10,
   "metadata": {
    "collapsed": false
   },
   "outputs": [],
   "source": [
    "def encrypt(message, key, alphabet=A):\n",
    "    n = len(alphabet)\n",
    "    return [(p+v)%n for p,v in zip(message, cycle(key))]\n",
    "\n",
    "def decrypt(cipher, key, alphabet=A):\n",
    "    n = len(alphabet)\n",
    "    return [(c-v)%n for c,v in zip(cipher, cycle(key))]"
   ]
  },
  {
   "cell_type": "markdown",
   "metadata": {},
   "source": [
    "the following is the *ciphertext* produced by the application of function `encrypt` to the plaintext:"
   ]
  },
  {
   "cell_type": "code",
   "execution_count": 11,
   "metadata": {
    "collapsed": false
   },
   "outputs": [
    {
     "data": {
      "text/plain": [
       "'yvgtwwvasavg lcide gxdhxkcyngecuvrzegtyroojyrccfdjqe qk cucimpexwc pt bljpgjfrjccyfissgtb vbczzpyrprgyjaiewqfj lbdczqxceopxvstymcpaqylhylstfwq jslfyuahfzsrbmchtorugpqyocrjecktccnmcprfphlqe qk cfkigpelzqyyfqjb ygwwlvqlkrlcerklolpqlgufqbccrejclvqqcrgpyqljfzsrbmcdvjkfgyymvnyabpx uhdcyvfuljmyastyvstyvsecpywbcwsbbncpykfklsylhytzft qiv qjyefdnyyomyncjycbbmrywbce kgzcyskfbrtzwukffvymiwvrzpblqxwbzwp vsqfwpbutgfbyxgkegcdocmpedywiyyvgtgatsuznydrdhxffbhacvrwyvp sevbthtlvdpnrkklzcvcllstlvwqjncnqtyuikfaeyvrtjkmbrtccznnqbimruormhyefhughsnuigbr qvmcghmyenva cpyikcllarhozsumvggqizfcpywbcesp glurrjclssdacetthhckcjyngecuvpcntuinbkebb cmxafynkgvdbxwubjmljozlsbzjubczcbn jlncwnnbohtkkstclgwubnrbgjwbnwqvp wcclebpyvvgxjcbgeygcbeaqmvddbfjwrqjaugsggkmxrcrcpexgvbyqwvymdvdicb frccregqhfccfswbrtcczllzklccnskctzcwcmrfafumgbkebbrtphqyyvgtyrwxkp ynzfeynavhvwjoraqlpgwcmsnqzvlvkcwb qdrlcercgohcxrzpzcaksyttbxddnouruyhfhhyfnpyrcnskctzcwcfzsuwubhbfsqbcdrdwjnfjyzckxrrjclrlgcebhtykcductyefhuknrfe ccqwqbuqphuljotetcqewpbzzbcmmewvtcdrzwlgblrkvretqkvwjoretcmrhmrebhtokgjdcfgqtdfyhspmpukojyvfqywqcqtvavdpnrrjgcrhzlyvbmchbmwlvscghmyttbmchbmisuzpcvumknva cjyzcpqezx csngfkhtyiqbmryvnykecgylujjrbb klhghncgzcucrjqsuqcnfjegtdvbseyglsjlmfeaqtbugkkytcaphmcsgcmdygjnmtilgqunwbuyvrtjif kqywbcwsbumhblwrvccywbgsuutdwbsjyvpfccnffabmchbbkzieqplheeejrokobrmhyxzavktabhmcvrwyym bhhyuegwdvkyeyqdlmugyyvgtwqeawlbpuuozynfbv wvoiydseywbcwsbbncpyrmpclukiyhoptxhbcsigllzvuqt gtjibczcbucgwzpxnkgvrvrwpba sqnpnsutydpmicurucqubjnvkjlgbrdqplgqmrfaeyvrtjnznrtcuuttabx ubefegjhclycebttqlnvwfcppmxclyvgk ckbrlqy lhugsnggbocxvyyf yfvlepgtodmoeyhmcydupjctynhpcsrktqysicynqkvrtkkmtysgycllnqnocyrsrbamlcwceegwjjpsjcfymrcilhsbuigbsjytcomjhgxsftdquc leruthfweoutokgjtcurlnrmqnpnyvokcwpcpjyzippnqzvlvbrmyllbdsyfaftdwujfupywgqyyyvgtxhcdkwbmrypzbnsxugcrywrtwlzqyyueql ckbrlqrlrru jnhhpqfj lbczeovlinqkvrpvpykllzc znavtmhhvwavcpyzvwesp gdpnrbkbllrnyubul vujkfgytcdlrebhtokgjdwurqpaurtnui qfjdseflrlgcejkmccvrwyymcrksyhzgkfvbfzmbncmpirjrbwcukbkgcllzqyyzfgzpobuemyjqbjzynabmchbczgtrqcqnfeopxviqdirgczrkuajavnmabn zncorvumknnbifqveyqplwrlixvkk cmoerbmcygipxsvtdvbcfycabsllceoptdqxseak xccvnusvbohbpfpbrtccajte tjibykfgplarolyekyncpykyssurhuqtnvuhhbpfpbrtccjpnrgtjibv dgy dcnfjneunwnojyclpyjvpisplvrhjczpefcgiaebttnzcl zbd pcnfjnybigujfdbrtcc mwsumvrhjtpqaqjlvlisbgjwbseyvfqyhheqwuavwqxysgyhcuzyyvgtbugkkyur plzqegqezccvdmurlcyzpcgjbijbseyvfqyocrjecmpugjfdbrtccggirnyvdiojyvfmrccqebwmvrhjkfgyompgmsnvawwbsjykllzqsyxspl cokygezxyrlynauidugnraqkqqc pt bv aqxvyvfqyhheqwuaveqavctqlyc mwncegcvr qbumlwumknfbnwkxurkmzywbcwsbbncuydcba kszlxovbjqbczcbcmposyjaiedvjjcgvcczwopjnkzvqqcrpgnccvzlyovbqhbyxyyfmrccqeygyihucrzpblqwlmsuglocqarkqqeyhrzqggxvlpjkfgyulwzjqsemvrhjwstmaccclegjynhbc kgqlgvuzi kkwenhrdkrecgurtnehiyghrrqymdwzpeugg ucc mpql rnfegjyvfqwdmpydcqmceopxvwjoraqkymqjjfqglvrhjncurqpquanikedvcc mpyrprgyyvgtilpczyeczrxlwebppwufjsyurfbaumknggbokbzyngecuvrzegtwoqxwyymfjguenigtwcxoiwbdmjvzyfaftdqudxdkaucqnynrguvrhjkfgytclafyfbuowcsecfyulcnfjnrkjjtojqbmryhoptcguicnskctzesuzyffbuvzjyccbd pcnfjegtrhtoruqpxbvumknkfwjkxsrkmzydhbecqyolekcycpeyzbghvbp ugjfngllrruqt gtjibczcbmefhlysovbjqujslfyzmwuzyncegcqartgpjylgnjehyywnhrrqyefhucsunbnkbllrbczeocqmnnbohtkkstclarhrfwplvdpnrntcdcupcxnkgvdblwrvccydhbeqqfkogcwpbd ppurmopt ouonfgpqywbceqqfhrpj bgzdywbcewpm onourwzxydhbesfnydvsflcjleuissryhmnbyxyvfqypcbizgtwjgbrzpblrkvrewutnrookfklsywbceoxymdiorkklpydnyfa tmdvorguyhcofywsrk vgxkcfyaprmceopxvlvbrbgtqjrjkjavtydpjtcbmnqhltjrbo u jxsnjjydhbefcmdvhkurqpujaudwbotwcxoiwbcmposyiovyvrpormhyefhuamwgzvlpcwpgqeqcidegjyvhcacwbjurhlzyhtyvlujkfcrlgwupjtnyywujkfgyaprxcxfbvtcyr ajyefhulfgko cvolrqluacxg wnbndvsflbmrywbcesp glurr gamkhukjgcfjurrfqgbl aurmsbbiwtdjgqllmiuzqwggvlfosqbcurkzpezcmdqbyiyvpmlvggyggxvwjafsifljdngsndrvwjorqvpfejfcxnqzvwjorcpexgvbyrwpxvwqjftgpompzyfaftwvusdgnzeccnfjnebqlnsjzvg lcidegjyvuqwslbcynllcefqf wkwwqbgeylmyjourvvqwwrkkqqchmynuhvhcbpyvmlblmrnaindvjjkfgyeuruinaflvrhjkfklwgqaysovbqhbkebbd phcesnva ccvcgvcczwctjnjymrkmrnqcepaumknva ccxyjqqmvrhqewutdqjoigvcpyqirewoijuvovykrlgvurmsbimrfdurbmryfzlyhtb vbnlpklsyzbghvbmchbqwpozzywlggsutrhtorcfsozwcllnva puoctgqlzqyyrombijboongpukhhrxnkgvsqokp ymkrheebva ubczgpedywcjqnva abqizfsmjosykbtf gbczcbcdrdwjnfjyzcgz abrjnhuumweavlpjwquczrlvjxnkgvvvhccbzzbcjfwoubijbkebbcgcqugsnunxmgmkyozerhlynfbwjpoyeyvmlarhrnaggodnjyctkmlauzsrblydpn lctuzcclesckgabc kgqlzoillnybokboeenzzbccre crvegjumonmphyyjiggve jkconqpdnceqtbolebrrqyefhuft gkdfbzfcvpjyr ylegyyhbkebbrtccxmrcckdvqxrlgcpyqirepgthluvwzfgzecnfjncgboqbsvqllnuiqjnqgvwjormvfqpcbzsrbfpfjjfdbutgfbynfbwjqvodnqpmlhisxnybokbczcbfqprcaecqyou j qbeqlhlzqz tzhtsmzvggccvlinnuolpj lbqagucreegi dvseebzzbcvbfcvbijbsvccqlrkvreotyvygapyhzcyuzktigxvitydyugynocang trkkvwyqllrkzytagtcdpnrrjccccvpjncgwoqq cuyhgwbyyvgtcrooigeymehuzsrbmchbrfkgpuacjmj utdqbkeenmdz ilefqwdhvhrzpblnrzrwlbhicvrwyqrtcuuffaftokgawycpqypvlcnvadqibrgpyefhuutemtjibczcbzzeoiqfkqgvztskctqlukcamnoufhbyecbrtgqeyttbmchbfswbcfprjcfabbzhcbrztcllrqygskgbcvkbcpyfncqgyvqnocrawncpmrlilewptokgjwzur dcnfjnyajogbsjgyymgzpsnrkjjtojqbmrymvnfabuigbskqbszfhfjjakwvfqxxsug lcnfjnui fvkujgyuqcmmrsvbhhujgzklrsougyneuiqqcr gyozofcinfngobczcbqmkhuqtevtjibczgpelrkzyhbpzglecrmhyefhurabbk dnwjyqdlggzzxniympcxrzpbljdngsnyyiwbyeykllzofyrbfymqbxsrkmzqcwclwpgdqij lbrtcc gwfvt qeyllvccyr yyvgtirtczctllruc jfbpdwjjkfgyulwzjqsempdnjslfydnllgyhcevsqfwpuy dclmrsbmclujumpdxgfnynfbk dnvpyvfqyzbmqsbfwwvoiyqdlcdljcnohzhtxrfkqemusynabyijnkebbgeqcxffecwohtj qb cmxafynqnocoyicbnxzlhjcnvawqbocqgutcuzyfaftdqbbggvclmiurmsbgjuokeyemzoxzqyncgzcqczctyulwzpkstbijbm pesyqwvlhsutokgjgpqaqqvumwnrkjjtojqbgdyfilywpnjxujxmtyhflxfeegunrpj dbd pchmyvkgbcgvjcbgeylmyhbpo qkoerbr yezenabuocvrwydcsgqhgsubbicfosjklsyzcrmnva cjsjrqpjyr yjaiedvjjgmgrcwcipecthnhbjrrjclurlietqkvzjsufbncmvzyaoutihgnwbbdupvnyttbugobfsqbkmgqfwegjuocqprgpqepxxrnbptwqfjfdbrtcczzwz tzlfkurkalnuiqjnctbugkkyrzcrccqegtuivnkkgqllmuuziormwwkyeyhp kcnfjnvbhhbyxywjrgovqegqtokgjkgoclmiuucqnbaigjslfyefhurn gtjibmsvvmzydhbefkgyhbczctclfdmygsggvfgkjcncdqcvaywxboabyxyvfqyzippstlvzjyrfctqykvbegqtlxcaiwbgzrruzsrbvmhcursrymlgukfygtkrtcs nclzqyyzfgzpobczcbeccdnyroulvogpkydwlrkzytzfymcesmgngdzwcmsfbzjubczcbe rkmyfaftokgsiyusoahmqteutorbnfyvfqguu jfvtrlvrrybrtcczzwz t qiv qjyxgwzpfgwk ckbrqvp ljugsnvkwquvsrkmzqcnpfauewwkyeqbuqphurmsbvjrmbrkqqeyqzajfuumabpfpbnqmsfcejjhvzcxkcfyemceltjbuxrwcrrjgzevuzsrbpcrbuecyyefdnyyvgthrucrgon pwvlynsn vvsfluytzguzqeguzablwcpymlvqcwsftxabczcbjmrlhyfhvajuujjmbrtzwugynyunccjnzurqyr yywoyviqarrjclcqajnfjtjubykfgplqlgnqsbzjomjkmbrcwcnmetkgzcqdkyvfuljmykbttokgwjcntqqcnfjnsnwuthrmhyxzwclezgumqkxyyyzdyzippsftuhcvfsujjydhbegjyvhxsvcpaqqcfckgbvtcvrsrbzorlpgylbumhbwfpgyefdhywsui fvktjgyefhuzsunhndzyeydgnjhutjeubjqujslfymjilcifbedetkiwbmrywzvypqhfvqafqksdyeicywwlvjtoymtwlzqyyyvgtoucxjjcrumqumkndyzhujzgur pavpjnyhmnujnfkatylhyubkgocqprqvwxccbz sbuowcsecfyefhutnevn vbyxyrjmgqulfetuolqxrmtyqvsiqngkhiccxvygtqlcmmrsvadqijdmtclzqyyyvgthdvcwpbmrywbcrnklvvwmzycqludmysbvtwqvshscrqbc mwnouiabmwlvscghmyftvymccvxpgblgwuuffbejqijtchmcccnfjnqmchtjezvg lvuujegtwvbfwjnyaprpgisftdqbczckplmzhyqop pdiojyygefcoqjtwevkcxv qmwqcidewplouwmkgqll hmgisutokgjkpcldjdngtautokgawyyccccirmsttzlfkurkalurlixnkgvgkpxctczrcycuotmhhpcjyvfqphugxnctyrpb bgpm ozyxgqwfcqprqgpymqmqt gtjibczcoyukdagsovbqhbkebbqeprheewptidtasrktqyocijnva cqxwyqllrkzymotkjzkxyyqdlfhfjewptokgjtjkawjlheevqfdokojyclpyrnfjeutglmorrjclqhlktaglvfcczmngogcideogeaukmrkqpqyvidyncgzcioernclgqurmskkvwqxwyomccc gswua gbseyvfqguupmsvhmlejkfgqqypvweaqmvdrzwznyemcztje tmhcnwpb frcnfjnuuhhbw ejrl huqfwftjibczcbu pnmyttbfwq jczvccygctnaglvwjkeyccxducaenbmchbycbbczeocqmngxpfcc mpzxyocrjecmpugrslf  mnmyfaftcroscggqtzgukjekmncvrsrbuqphumknnunwkxyykkamunzsqgtokgjzgur paumknggbokbzyrp qhuafaphoccpxmtblrruglaqk cvrwydm ivuumweavzjkkcxccypvwevco cdowlbrtcllyxvqkofqw liqlcvnzgzklchfjymqblfdwgyfbhaceydnqqurlile cx ckcrdcgcjaucff tartjkfqqqyzbmejqnggbcfyrseyhheqwuavzqavqbr ehnfjebbiwqjjcprqlfzqeopxvjcewyomcccnffabhihbqfmfyazwncwabhacuoerglocc mwnumpggxkqbr yfincnva ctrwrqpuadfy onn cqprrjclblyzhgkwvstyjcbuujou jntuohfjzgifl auzslbhihbfzmbtmjxzqeobljxpnraqlgcqngtabhmcvasbkrumqumknqkzlpkiwbncmvzyxg e chyiyqppgqvpcnwl iwvrnwpamvzqegjymhbkicbfuekzpeykgzvbyxyngecuvrzegtokcxrrjclsvzdzzbvpwbskykqlqrgcyvkgbcvyrfctqygcdkstyiwbu lfqlmiusxshngcrafqgymrciljfbwjpokebbzzbcnfnfbbicvrwyvczrkuajavnmabfsqbquljojfebuigbooagnegrhzqncfjqijkfgygcuhzhhnumcvyeewcdyr yyvgtirtczyclpyzzqynkgvvqjxztymqcnfjnkgohnvwavsmjcjptpnyhchyiyvfqyhvpqlbyijnsjfbncmvzyaekm uujnzuyefhupjcthzxec mpy dcfzywptghcaegpelrkzwegqhfcvrwytgsfwuuflbmjcuyctgyurcvlinyymhbwfpgyefdhykbtmpqccwykllrkzyroeadqgapyvfqwccl spm gbkebbsdcgurtncxwsvjslfyhmueyzcbmchbycbbjmrlhyrovymlcvjybyefhubnthbyxncpyqdlrkzyueqvghojdz yqzvcjcndyvxpnwpgqegpvrjrbmchtorugpqypvlcnvadqibrrqytgqycwnva ccnfnvg lcideobx fgxkyrp qhuataxyiwkyeyvfqphuuffbhicvrwyqlqykvlinva cfkeegplmiuzeqnhnhbkebbqxzycqmnkfdwcc mpy dcnfjnhhmhkqeyompcomytagtdvbawkklpcgu cnctyowwjwbnmpwcancnyvddbfjwrqykzpjncgzcvrwpgyefdnyyvgtohozkzvg lcqfnqjtrdujkmqyysfbykbttpohsczuymjviygsuyocvrwyclsjrmzbbplvzjyrdqplrkzyrbumvscakytcdgvncinunyfgbjdwjxwcnfjnvyhsvkkgqldyr ykbtydjpjypckyzwcafzbwjquciserumqmyhboiwukxyyycxjcclegjbnctojngaeyqirebpetcyskfbrtccapjqklhvbyxywjrgovqepwmvzkczyvfqygcqyecwohfjgztrualjjjfbhacvrwyywojl dnggtxldvwyvfqyovrnaklhcqprrjclzqajtfcqjqbzimuclgvurtndyviqdebbkmgqfwewptokgjlqgy dcxmsrkmdrpkcyejmsvzqeopxvdbmcmuccyelzhwp vrhjkfgyazunqebhtokgjjcprqlfzyyvcgvfqwwqblmrxlzqz tdqbzigogegyzyjfuutvb'"
      ]
     },
     "execution_count": 11,
     "metadata": {},
     "output_type": "execute_result"
    }
   ],
   "source": [
    "cipher_text = encrypt(encoded_plain_text, secret_key)\n",
    "decode(cipher_text)"
   ]
  },
  {
   "cell_type": "markdown",
   "metadata": {},
   "source": [
    "Assuming to know the `secret_key`, we ensure that function `decrypt` is the inverse of function `encrypt`:"
   ]
  },
  {
   "cell_type": "code",
   "execution_count": 12,
   "metadata": {
    "collapsed": false
   },
   "outputs": [],
   "source": [
    "assert decode(decrypt(cipher_text, secret_key)) == plain_text"
   ]
  },
  {
   "cell_type": "markdown",
   "metadata": {},
   "source": [
    "Let $I_{c}$ be the *coincidence index* of a sequence $\\alpha$, over an alphabet $A$, defined as \n",
    "$$ I_{c}(\\alpha) = \\sum_{i=0}^{n}{\\frac{f_{a_{i}}^{(\\alpha)}(f_{a_{i}}^{(\\alpha)}-1)}{m(m-1)}} $$ where $n$ is the length of the alphabet, $m$ is the length of $\\alpha$ and $f_{a_{i}}^{^{(\\alpha)}}$ is the frequency of symbol $a_{i}\\in A$, namely the number of occurrences of $a_{i}$, in $\\alpha$. In other words, $I_{c}$ is the probability to sample two occurrences of the same symbol $a$, forall $a\\in A$, from the sequence $\\alpha$. \n",
    "\n",
    "Index $I_{c}$ is invariant to shifting by the same constant $v$. Let $\\alpha,\\beta$ be two sequences of integers of length $l$ such that $\\beta_{i} \\equiv_{n} \\alpha_{i} + v$, forall $i\\in\\lbrace0,\\ldots,l\\rbrace$; moreover, let $q_{\\gamma_{i}}^{(\\gamma)}$ be the probability to sample *two* occurrences of $\\gamma_{i}$ from a sequence $\\gamma$, we can state the relations\n",
    "$$\n",
    "    I_{c}(\\beta) = \\sum_{a_{i}\\in\\frac{\\mathbb{Z}}{n\\mathbb{Z}}}{q_{a_{i}}^{(\\beta)}}\n",
    "                = \\sum_{a_{i}\\in\\frac{\\mathbb{Z}}{n\\mathbb{Z}}}{q_{a_{i}-v}^{(\\alpha)}}\n",
    "                = \\sum_{\\hat{a}_{i}\\in\\frac{\\mathbb{Z}}{n\\mathbb{Z}}}{q_{\\hat{a}_{i}}^{(\\alpha)}}\n",
    "                = I_{c}(\\alpha)\n",
    "$$\n",
    "where $\\hat{a}_{i}\\equiv_{n}a_{i}-v$, proving the invariance of $I_{c}$ when a sequence is produced by another one shifted by a constant $v\\in\\frac{\\mathbb{Z}}{n\\mathbb{Z}}$."
   ]
  },
  {
   "cell_type": "code",
   "execution_count": 30,
   "metadata": {
    "collapsed": false
   },
   "outputs": [],
   "source": [
    "def frequencies(lst, alphabet=A, inverse_alphabet=inverse_A):\n",
    "    \"\"\" Produces a `dict` counting occcurrences of each object of the alphabet within the iterable.\n",
    "    \n",
    "    `frequencies` consumes an iterable $lst$ and an alphabet $A$, \n",
    "    produces a dictionary of entries $(k,v)$ where $k$ is a character \n",
    "    in $A$ and $v$ is the number of occurrences of $k$ in $lst$\n",
    "    \"\"\"\n",
    "    counter = Counter(lst)\n",
    "    return {k:counter[v] if v in counter else 0 for k,v in alphabet.items()}\n",
    "    \n",
    "def length_from_frequencies(freqs):\n",
    "    \"\"\" Returns the length of the original sequence by summation of symbols frequencies. \"\"\"\n",
    "    return sum(v for v in freqs.values())\n",
    "\n",
    "def coincidence_index(freqs, alphabet=A):\n",
    "    \"\"\" Produces the I_{c} relative to frequencies matched against an alphabet. \"\"\"\n",
    "    denom = length_from_frequencies(freqs)\n",
    "    if denom in range(2): return None\n",
    "    def mapper(a):\n",
    "        v = freqs[a] if a in freqs else 0\n",
    "        return v*(v-1)\n",
    "    return sum(map(mapper, alphabet.keys()))/(denom*(denom-1))\n",
    "\n",
    "def draw_frequencies_histogram(seq, alphabet=A, y_maxlimit=None, normed=None):\n",
    "    \n",
    "    #plaintext_length = len(plain_text)\n",
    "    #freqs = [plaintext_frequencies[inverse_A[ia]] for ia in sorted(inverse_A.keys())]\n",
    "    n, bins, patches = plt.hist(seq, len(alphabet), normed=normed,facecolor='green', alpha=0.5)\n",
    "\n",
    "    plt.xlabel('alphabet symbols')\n",
    "    plt.ylabel('frequencies' + (', normed respect: {}'.format(str(normed)) if normed else ''))\n",
    "    plt.xticks(range(-1, len(alphabet)), sorted(alphabet.keys()))\n",
    "    if y_maxlimit: plt.ylim([0, y_maxlimit])\n",
    "    plt.grid(True)\n",
    "    plt.show()\n",
    "    \n",
    "    return None"
   ]
  },
  {
   "cell_type": "markdown",
   "metadata": {},
   "source": [
    "The following are frequencies of alphabet symbols in the *plaintext*: in the analysis they are used as a `dict` produced by function `frequencies`, moreover it is possible to draw an histogram with the relative function."
   ]
  },
  {
   "cell_type": "code",
   "execution_count": 31,
   "metadata": {
    "collapsed": false
   },
   "outputs": [
    {
     "data": {
      "image/png": "[encoded data removed]",
      "text/plain": [
       "<matplotlib.figure.Figure at 0x7fb026654a20>"
      ]
     },
     "metadata": {},
     "output_type": "display_data"
    }
   ],
   "source": [
    "plaintext_frequencies = frequencies(encoded_plain_text)\n",
    "draw_frequencies_histogram(encoded_plain_text, y_maxlimit=1800)"
   ]
  },
  {
   "cell_type": "code",
   "execution_count": 32,
   "metadata": {
    "collapsed": false
   },
   "outputs": [
    {
     "data": {
      "text/plain": [
       "{' ': 1620,\n",
       " 'a': 571,\n",
       " 'b': 90,\n",
       " 'c': 207,\n",
       " 'd': 272,\n",
       " 'e': 1001,\n",
       " 'f': 208,\n",
       " 'g': 162,\n",
       " 'h': 422,\n",
       " 'i': 594,\n",
       " 'j': 2,\n",
       " 'k': 46,\n",
       " 'l': 312,\n",
       " 'm': 184,\n",
       " 'n': 624,\n",
       " 'o': 633,\n",
       " 'p': 131,\n",
       " 'q': 8,\n",
       " 'r': 529,\n",
       " 's': 490,\n",
       " 't': 800,\n",
       " 'u': 158,\n",
       " 'v': 71,\n",
       " 'w': 129,\n",
       " 'x': 13,\n",
       " 'y': 129,\n",
       " 'z': 2}"
      ]
     },
     "execution_count": 32,
     "metadata": {},
     "output_type": "execute_result"
    }
   ],
   "source": [
    "plaintext_frequencies"
   ]
  },
  {
   "cell_type": "markdown",
   "metadata": {},
   "source": [
    "The following histogram shows frequencies in the *ciphertext*: using the same `y_maxlimit` value, we see that they are spread \"uniformly\" over symbols."
   ]
  },
  {
   "cell_type": "code",
   "execution_count": 29,
   "metadata": {
    "collapsed": false
   },
   "outputs": [
    {
     "data": {
      "image/png": "[encoded data removed]",
      "text/plain": [
       "<matplotlib.figure.Figure at 0x7fb0267834a8>"
      ]
     },
     "metadata": {},
     "output_type": "display_data"
    }
   ],
   "source": [
    "draw_frequencies_histogram(cipher_text, y_maxlimit=1800)"
   ]
  },
  {
   "cell_type": "markdown",
   "metadata": {},
   "source": [
    "A first approach to encryption finishes computing the coincidence indexes of both *plaintext* and *ciphertext*:"
   ]
  },
  {
   "cell_type": "code",
   "execution_count": 100,
   "metadata": {
    "collapsed": false
   },
   "outputs": [
    {
     "name": "stdout",
     "output_type": "stream",
     "text": [
      "coincidence index of *plaintext*: 0.07720140650073147\n",
      "coincidence index of *ciphertext*: 0.04092000890927222\n"
     ]
    }
   ],
   "source": [
    "print(\"coincidence index of *plaintext*: {}\\ncoincidence index of *ciphertext*: {}\".format(\n",
    "        coincidence_index(plaintext_frequencies), coincidence_index(frequencies(cipher_text))))"
   ]
  },
  {
   "cell_type": "code",
   "execution_count": 112,
   "metadata": {
    "collapsed": true
   },
   "outputs": [],
   "source": [
    "def spread(message, block_length):\n",
    "    return [message[i:i+block_length] for i in range(0, len(message), block_length)]\n",
    "    \n",
    "def col(spreaded, c, join=False, joiner=lambda c: ''.join(decode(c))):\n",
    "    column = [lst[c] if c < len(lst) else None for lst in spreaded]\n",
    "    ready = list(filter(lambda i: i is not None, column))\n",
    "    return joiner(ready) if join else ready\n",
    "\n",
    "def decode_spreaded(spreaded, join_as_str=False):\n",
    "    decoded_spread = list(map(decode, spreaded))\n",
    "    return '\\n'.join(decoded_spread) if join_as_str else decoded_spread\n",
    "\n",
    "def analyze(cipher_text, max_key_length=None):\n",
    "    res = {}\n",
    "    # we discard the case where the key length equals the\n",
    "    # length of the cipher text, since it is the case of \n",
    "    # OneTimePad cipher, which is unbreakable!\n",
    "    for d in range(2, len(cipher_text) if max_key_length is None else max_key_length + 1):\n",
    "        spreaded = spread(cipher_text, d)\n",
    "        res[d] = []\n",
    "        for c in range(d):\n",
    "            ci = coincidence_index(frequencies(col(spreaded, c)))\n",
    "            if ci: res[d].append(ci)\n",
    "                \n",
    "    return res\n",
    "\n",
    "def guess_key_length(analysis, threshold=0.06):\n",
    "    candidates = {}\n",
    "    for k,v in analysis.items():\n",
    "        cs = list(filter(lambda i: i > threshold, v))\n",
    "        if cs and len(cs) > ceiling(k/2): candidates[k] = cs\n",
    "    return candidates\n",
    "\n",
    "def scores(candidates, key_length):\n",
    "    return candidates[key_length] if key_length in candidates else None"
   ]
  },
  {
   "cell_type": "markdown",
   "metadata": {},
   "source": [
    "The above set of functions allows us to probe the key *length* by repeatedly fixing a candidate length $l$, then spreading the *ciphertext* in a matrix with $l$ columns, then computing $I_{c}$ of each column and, finally, report $l$ if the majority of $I_{c}$ scores is greater than a threshold (.06 for English)."
   ]
  },
  {
   "cell_type": "code",
   "execution_count": 110,
   "metadata": {
    "collapsed": false
   },
   "outputs": [],
   "source": [
    "analysis = analyze(cipher_text, max_key_length=20)\n",
    "# analysis # delete the first `#` comment symbol in order to discover candidates key lengths"
   ]
  },
  {
   "cell_type": "markdown",
   "metadata": {},
   "source": [
    "here are $I_{c}$ scores witnesses for the candidate key length:"
   ]
  },
  {
   "cell_type": "code",
   "execution_count": 114,
   "metadata": {
    "collapsed": false
   },
   "outputs": [
    {
     "data": {
      "image/png": "[encoded data removed]",
      "text/latex": [
       "$$\\left [ 0.07855412877576201, \\quad 0.08144613235322919, \\quad 0.07617132673112201, \\quad 0.0789001246890933, \\quad 0.07537488330798206, \\quad 0.07335113362623302, \\quad 0.08135473720631149, \\quad 0.07484209974578715, \\quad 0.07206410357208376, \\quad 0.07938255103912781, \\quad 0.08838483109259114, \\quad 0.07089131745158163, \\quad 0.07561522132243101, \\quad 0.07600833398852111, \\quad 0.07512383048981838, \\quad 0.07630972036585686, \\quad 0.07693214875383285\\right ]$$"
      ],
      "text/plain": [
       "[0.07855412877576201, 0.08144613235322919, 0.07617132673112201, 0.078900124689\n",
       "0933, 0.07537488330798206, 0.07335113362623302, 0.08135473720631149, 0.0748420\n",
       "9974578715, 0.07206410357208376, 0.07938255103912781, 0.08838483109259114, 0.0\n",
       "7089131745158163, 0.07561522132243101, 0.07600833398852111, 0.0751238304898183\n",
       "8, 0.07630972036585686, 0.07693214875383285]"
      ]
     },
     "execution_count": 114,
     "metadata": {},
     "output_type": "execute_result"
    }
   ],
   "source": [
    "probing_key_length = 17\n",
    "scores(guess_key_length(analysis), probing_key_length)"
   ]
  },
  {
   "cell_type": "markdown",
   "metadata": {},
   "source": [
    "The following is the *ciphertext* spread over a matrix with a number of column equals the candidate length found in the previous cell."
   ]
  },
  {
   "cell_type": "code",
   "execution_count": 107,
   "metadata": {
    "collapsed": false
   },
   "outputs": [
    {
     "data": {
      "text/plain": [
       "['au fsda wpfefwlkq',\n",
       " 'hz j pcjgmyekncxd',\n",
       " 'bd fuzunnmbaiqmlc',\n",
       " 'hzjxwk bma ccglbb',\n",
       " 'wzvyfxmijfuaiioke',\n",
       " 'vfmowchbcn wx  ik',\n",
       " 'm brsylid mbijzzp',\n",
       " 'hnijr zxqr zwiujk',\n",
       " 'ormssyfiw qw lqhl',\n",
       " 'vqvzzpznvirnwixed',\n",
       " 'mdwxpkimqr pl qnc',\n",
       " 'hzjxwkljmv crjz k',\n",
       " 'ipcowfmv  forv np',\n",
       " 'hqdyktvppvedwmled',\n",
       " 'hiwyrywbvv wwwshl',\n",
       " 'vqvzzlaiourwdxdpk',\n",
       " 'daijwbncgmfd wsok',\n",
       " 'drmkr zxzgpaviedp',\n",
       " 'zrvojkvxouvjyiujk',\n",
       " 'wyzfwyoudeuwkqmpk',\n",
       " 'anfkjkpxgqmkxiedp',\n",
       " 'hzdtvkdroumpzjewx',\n",
       " 'ieokiqbuvn  rafyo',\n",
       " 'bvimr we dmszrodk',\n",
       " ' fdrckjnga cjiekk',\n",
       " 'au fcizrynywjbmjj',\n",
       " 'ievuxkaq mfnfcnxo',\n",
       " 'wgmyrlvmvzvjendey',\n",
       " 'ormyrdwirryozickx',\n",
       " 'i ykrzzioampznla ',\n",
       " 'qpvviz nvaswkqqwt',\n",
       " 'krggeohqdefkirqok',\n",
       " 'hmonwkvxmznjrl ja',\n",
       " 'brnzrompmnqaviedp',\n",
       " 'hrimct qvynjycmcp',\n",
       " 'hsmudkqbnmyekncxb',\n",
       " 'fmmgevhjiqmyixfcs',\n",
       " 'amdtrlhw imhswsql',\n",
       " 'orvlfbhbcrmlfuupp',\n",
       " 'zmgokpzjogdarrewo',\n",
       " 'qqvtfdhm efnfgley',\n",
       " 'haikrcmwnrmekipeo',\n",
       " 'h jzrljajygpwujwt',\n",
       " 'vf xiexbvr ccrddk',\n",
       " 'tvokilacmrmylbled',\n",
       " 'hfjubkiewkmpznlay',\n",
       " 'oydyzktrordxiglod',\n",
       " 'i zgiohjiqmpz qsk',\n",
       " 'au fuzbwodkwtjogk',\n",
       " 'q ourdpnvpajvreez',\n",
       " 'vmjlrtajgkmywo np',\n",
       " 'hqwtkpiwvn xiltuk',\n",
       " 'wsvj ltnyfewnqqjk',\n",
       " 'imiknktrordxiglhl',\n",
       " 'vtpgyphewemajbmyw',\n",
       " 'qeckvkqwvfuarbuip',\n",
       " 'haafusicyrdwkqqwx',\n",
       " 'qqzrwkip emsw qwy',\n",
       " 'mnmrpkwd dmxemloz',\n",
       " 'hvofzlxy  r rbtxd',\n",
       " 'hsjxrdpnvtdasbqod',\n",
       " 'haafksmihrqewdmhk',\n",
       " 'krizlbqnnmfdwiesp',\n",
       " 'tsonrlvmvfueibqay',\n",
       " 'auvzzphl  fqirqok',\n",
       " 'wsvzzphlmgexvndwz',\n",
       " 'nmonwkpxcr okjfbp',\n",
       " 'vm sgpzxmemkxidpk',\n",
       " 'ndwtut infm fvujt',\n",
       " 'kmwtvk bvyaq alps',\n",
       " 'md f chrimrjyuuos',\n",
       " 'h jfybmjomdag qop',\n",
       " 'vfwz fmiradgrrzw ',\n",
       " 'zankrzzimukiwiedp',\n",
       " 'zrvgiphk ffaiiedt',\n",
       " 'vtnf dhrnmfnlnlps',\n",
       " 'i vzzphaontcw ujr',\n",
       " 'hdcdksuavaswcjjxx',\n",
       " 'w vuikaq mikfmqjk',\n",
       " 'xd i cqximabrxcik',\n",
       " 'au fsyk   mn exak',\n",
       " 'qevhwdanmmoqkiedp',\n",
       " 'zrvojkvxva aretkk',\n",
       " 'kniftphbwxrjrjdwc',\n",
       " 'wz ffqhbcrmsireab',\n",
       " ' mdtrzaq dmzfczpb',\n",
       " 'qrnfulvlmrep nzwo',\n",
       " 'mmoxftmavsanrrzod',\n",
       " 'i ykrzzirnypzncwf',\n",
       " 'w vjwbhdjtrhnnu p',\n",
       " 'hamfmttu unnvxfey',\n",
       " 'au xwkqav awfwqwt',\n",
       " 'vm tywiwzmidfioxy',\n",
       " 'ho fklsnimskiimwb',\n",
       " 'mbmkjpvbwfvrwiakp',\n",
       " 'amjxrzzjoadwyrgey',\n",
       " 'omj kkdqwfmzswlyp',\n",
       " 'hd ifrvrnrqwsblky',\n",
       " 'krvgeohrnmdauxsjt',\n",
       " ' rzf y bd pp dqhi',\n",
       " 'hnnfksmixrepry oc',\n",
       " 'qogkrwqb dnnpihkb',\n",
       " 'smjlrtaavaijrmmuk',\n",
       " 'i zf d iji wbrz k',\n",
       " 'au ftpicokmkxiyao',\n",
       " 'qrqgckxx fdurjz k',\n",
       " 'xdjywkqav aprb wm',\n",
       " 'mmaulylid maepxxy',\n",
       " 'lmjxrzvutmvjrjlbl',\n",
       " 'q ofipnu pfavihxi',\n",
       " 'hrimclvmvqv rw pk',\n",
       " 'xanywc iourwznmnd',\n",
       " 'haafksmihkepw jwd',\n",
       " 'wmnvwylihgpdrbuip',\n",
       " 'hidzzkaq mikibtuk',\n",
       " 'ky xbchecamlixykd',\n",
       " 'mqvizbqaovnjrjz k',\n",
       " 'be llwhtiaihwmsak',\n",
       " 'q vzzphbcvdpwnzps',\n",
       " 'hnijrqwcmfraebtwn',\n",
       " 'm o iihmdnyaubdwz',\n",
       " 'nmgoenwuimanrg nv',\n",
       " ' udxwksnifmkiipkb',\n",
       " ' rof chbjmnzhcunp',\n",
       " 'hnif ycripvycnlx ',\n",
       " 'xrookphojdmpznlcw',\n",
       " 'wdtffqhxournrl qy',\n",
       " 'addkjkvxomcq bqwc',\n",
       " 'wmogdphojdmpznllb',\n",
       " 'qq ffqhudsrwfolps',\n",
       " 'mmygjdtnnmnjvisxb',\n",
       " 'lriyrznign clnpkn',\n",
       " 'hamfjgikdnmbf lps',\n",
       " 'mmroeo ijsmpznlbz',\n",
       " 'zrnzrznixdazwuuxy',\n",
       " 'lrvtfdhrimfdwiqjr',\n",
       " 'tvnnrdwwbgrwnncak',\n",
       " 'au fybmjomepf uac',\n",
       " 'hfjrvkiuhaeprngab',\n",
       " 'ffcoerhrimfdwixed',\n",
       " 'mdwzlbmijsmpznlit',\n",
       " 'lqgkrlonnmfdsblec',\n",
       " 'hapzrzniourwuxyiz',\n",
       " 'vmonsdhrnmvjrjzuk',\n",
       " ' riywkujbvpxci nk',\n",
       " 'q nv bmmvpaiwalbb',\n",
       " 'wzvhwiwwzmfdwiqjr',\n",
       " 'tvnnrmw zrdorilbz',\n",
       " 'zmwrckaqdemsswewz',\n",
       " 'nmzojdqwyfvkeiedp',\n",
       " 'zrvojk xhrmzfvaay',\n",
       " ' noofyhbcrmas xuk',\n",
       " 'm br cpigvfaijeqb',\n",
       " 'mmdlrywbvdrlinday',\n",
       " 'anoomphxamidsblec',\n",
       " 'hx kep bvn  raenz',\n",
       " 'vt ykkw vzaokiqtl',\n",
       " 'tf jrtviourw weaw',\n",
       " 'tryzrzni gdkgnley',\n",
       " 'hfckjphbdzrorrdwl',\n",
       " 'lzdxsmtgvsvpknpwd',\n",
       " 'wmyuefmgvfawsoeab',\n",
       " 'ht twbibda ork ps',\n",
       " 'hfckrnwvha wjnzop',\n",
       " 'hnijrdpnvpaidxzlw',\n",
       " 'ip yrznirrepw zwn',\n",
       " 'qhdr cibda wx  ik',\n",
       " 'au fetvbcmpaebfni',\n",
       " 'haibsbliwmeplmjwz',\n",
       " 'nm tywqacmyekncxd',\n",
       " 'bd fswww miklupwr',\n",
       " 'qh fskcnmkmbsudak',\n",
       " 'i zf y casvz nzpk',\n",
       " 'qq grzniourwznucs',\n",
       " 'aevgkdirirqw wlps',\n",
       " 'mmkxfrznnemkxiqqb',\n",
       " 'wb gektrordxkccak',\n",
       " 'ievgrgpxgrmbf lps',\n",
       " 'md fnpznviancmdwz',\n",
       " 'nmdssrqwwfvkeimjo',\n",
       " 'hbjkktkjgmnnkihdt',\n",
       " 'kuvbwbmijbrjrb wc',\n",
       " 'wz ffqhbcrmkkqqnk',\n",
       " 'vnoofy iw qwexewl',\n",
       " 'amwrckw vhrnpiui ',\n",
       " 'mdakudtgvfawkqqwp',\n",
       " 'vtgojshkpfmaepxec',\n",
       " 'pmgokpzjogdarl jd',\n",
       " 'iviyrlvmvbdajncrp',\n",
       " ' mdtrlhk ffaiimjo',\n",
       " 'hpjsgwmb dmbf ywd',\n",
       " 'pnifww nrurnwiedp',\n",
       " 'hpjsdzvidqrxjiedp',\n",
       " 'hvizwwtnyfgxcimjo',\n",
       " 'hrz ularj nhrpcke',\n",
       " 'vqruivhxamfdwiyeo',\n",
       " 'ly fsrmavn  rbtxd',\n",
       " 'hvnfjzunouvjyiedp',\n",
       " 'hnqkilonvzvjvimpk',\n",
       " 'i tfilanvvewnnxhk',\n",
       " 'zrkxwcmworqwg  op',\n",
       " 'hnijrtaavqrrwu lx',\n",
       " 'm ofulvixrmktaqnf',\n",
       " 'mqvawbfiagyhpimjo',\n",
       " 'hewz cnjyfan ujwq',\n",
       " 'zahfskcnmkmas xuk',\n",
       " 'lnokrzvnvaswkqqwn',\n",
       " 'pv lrtvb drokalkq',\n",
       " 'hfckrpi gkmh bqnl',\n",
       " 'agmkrt iounprrewb',\n",
       " 'msgkud iourwg  zp',\n",
       " ' evhpkdqdpuwkqqwy',\n",
       " 'ifdawkanpfaj llzt',\n",
       " 'cvgojlarj mkxiedp',\n",
       " 'hrimct qvorzsvqwx',\n",
       " 'mfwsfbxqjer rkjwd',\n",
       " 'prvoedzcnvajrxrwl',\n",
       " 'tv trtlnwema btab',\n",
       " 'hywz yhxmmfnswdit',\n",
       " 'af jrdp jgtdrumpt',\n",
       " 'vmxdrdpnvefnlpshp',\n",
       " ' mjlrdpnvr ccrddk',\n",
       " 'uvijrdwijhrnuxyak',\n",
       " 'i zfsc rhvyxknlps',\n",
       " 'mmyomttrnnfefwlkq',\n",
       " 'hfckrbwvw madyunp',\n",
       " 'hejswdqv emekiuok',\n",
       " 'mnndrcwv fviwaljz',\n",
       " 'amnurpiatmfkrmuod',\n",
       " 'q b  cpiourwke wv',\n",
       " 'q zyrzniouvjbrzck',\n",
       " 'vnoomphjiqmbf qer',\n",
       " 'vmonwkiugvfaijeef',\n",
       " 'mmckizqlvbaak jwz',\n",
       " 'nmonwkiwbyaosf jc',\n",
       " 'hvnf ypnmvfavizkd',\n",
       " 'hvhvfbanzmvprrdwd',\n",
       " 'prvvizlcyfmkxioay',\n",
       " 'agmowchmpdvjyihdt',\n",
       " 'kuvzzphp dzxeient',\n",
       " 'jrnfnpznvrqqujeey',\n",
       " 'omonwx nghrorjz k',\n",
       " 'unfoerhnsbrn vqjd',\n",
       " ' mdtr wnodkwsv jr',\n",
       " 'haonwbhbcv cjieew',\n",
       " 'tmonwihpmnqqsuxuk',\n",
       " 'namswohbcrmajbmyw',\n",
       " 'qeckvkmydpmppyqwg',\n",
       " 'pvynrtvi eeaebuxw',\n",
       " ' mdtrcaggrmxemlls',\n",
       " 'znnoerhjiqmamnzwt',\n",
       " 'vmn tumlomzxkbqnk',\n",
       " 'qevifxuximfkrl jd',\n",
       " 'q  tkltibrdiswjwl',\n",
       " 'vqvyulvmd nr jley',\n",
       " 'hrwxcihbdzrorjxky',\n",
       " 'omrokshnityxemled',\n",
       " 'hzwdrmmiyazls q k',\n",
       " 'mh trmfiorzlw mpp',\n",
       " 'hpmoktkavfawkqqws',\n",
       " 'wz x nhyjrfnpi bk',\n",
       " 'od kuphjiqmpznlzz',\n",
       " 'ubwx cwwv ravizkd',\n",
       " 'ho fdt u nqeeplps',\n",
       " 'mmwtywwawjajryckc',\n",
       " 'mmjtrdpnvafdw ldl',\n",
       " 'vqvslnpijsmszrodk',\n",
       " 'qevifyanhbanswqke',\n",
       " ' mrokshbcrmdw  en',\n",
       " 'hbjkkbfidemcwwqnl',\n",
       " 'tytfvpzrqnfemnlxy',\n",
       " 'lmggktvid mogrced',\n",
       " 'hd vwlaritmxemlxo',\n",
       " 'ibooerhrzrnorbtxd',\n",
       " 'hnmkrfm tmsxiicax',\n",
       " 'wh jrqzxhmeedyxen',\n",
       " 'qftfnsqu majrbtak',\n",
       " 'w  fzlvmvfuainlxb',\n",
       " 'mmwtswwpdrewnredk',\n",
       " 'au fzzunmvpwspqwl',\n",
       " 'vqvzzphqjzrn lllz',\n",
       " 'mznf yhjitykjjiky',\n",
       " 'heji pagvn  ry ad',\n",
       " 'zkvuekaq mapzncws',\n",
       " 'i zfksm  mnnwiyxy',\n",
       " 'fmon yoavv wkqqwg',\n",
       " 'wdfffqhbcrmxepxkc',\n",
       " 'ijjtrgzrordoreten',\n",
       " 'pmhgbphxirmpzrzgk',\n",
       " 'wsvzzphewkmal  lp',\n",
       " 'i vovpiavndarw sk',\n",
       " 'jrdtykajfr wlylst',\n",
       " 'auj kkx  bnnsbuky',\n",
       " 'hvifksmi nepfolps',\n",
       " 'mmrnfwmawyrwdxpab',\n",
       " 'vmkxfrznnemkxivx ',\n",
       " 'i vgeohroemqeqqhw',\n",
       " 'm dirnwwageefwlps',\n",
       " 'mmnvwnajyyrw aloz',\n",
       " 'uroodp iknvjxcxwt',\n",
       " 'amygeywbvorwujxhp',\n",
       " 'lmz cwhbcrmosvqwc',\n",
       " 'wdoffqhbcv crbtak',\n",
       " 'kailctkbvaswkqqwd',\n",
       " 'davxwltvnmabrrpal',\n",
       " ' mbkixiwvn  rumpt',\n",
       " 'vmrkedhximvjrjxhk',\n",
       " 'uazkiyhwwfvkealyp',\n",
       " 'ovit yoid mpznlbt',\n",
       " 'zeofwykxp faii bk',\n",
       " 'au fezzbcrdjrbcem',\n",
       " 'mevb dpiourw weaw',\n",
       " 'tryzlltiw qwjyunt',\n",
       " 'agwrr we dewfolnz',\n",
       " 'urvzzt iya bcropk',\n",
       " 'qevxwltutmfdwihdz',\n",
       " 'trvssdanmmabrnmnw',\n",
       " 'fmhuvpzwvuvokxcuk',\n",
       " 'q vkertjiqmekalzs',\n",
       " 'idwikpzidemyixfcs',\n",
       " 'amj kkuxmrmlcjujw',\n",
       " 'fmonsyhngerszncak',\n",
       " 'i zf yhakvfarxrwd',\n",
       " 'prvtfbujimpkezfac',\n",
       " 'amwtvkwbcrdw weab',\n",
       " 'nrmoerhlddpqdaexy',\n",
       " 'krnfksmikdazwadwz',\n",
       " 'zmkxfrznnemejioky',\n",
       " 'avi fe iaadwnquzs',\n",
       " 'hd gjzvidsmbf ljz',\n",
       " 'audtykmunrmekiuok',\n",
       " 'kaiawyqnifmpfinar',\n",
       " 'q vgkkaq moayrzjt',\n",
       " 'vtvoeklnwyvjyihed',\n",
       " 'pmonwkprnfanpi bk',\n",
       " 'm br cpikarpiglkb',\n",
       " 'hbmujphivfuare nv',\n",
       " 'hsjxrgpryumlixdak',\n",
       " 'dnnfepmm qmb  dpk',\n",
       " 'wsvgcwhewemisrzhi',\n",
       " 'hfcgkkwovv ok fzd',\n",
       " 'qaifsylijsmpznlal',\n",
       " 'zytfvtljyfvzryckc',\n",
       " 'mmwfybmjombxiblec',\n",
       " 'hfmgectjovajrxcwl',\n",
       " 'lnkzsdqximsnfvlps',\n",
       " 'mmoodphxamghxrxxc',\n",
       " 'hfjfksmiovzarxrwg',\n",
       " 'fpgoxqmiw qwkqqwd',\n",
       " 'qz ffqhlwjfkeimjo',\n",
       " 'hedtuphbcrdarqmok',\n",
       " 'jr trnmjnryajalxn',\n",
       " 'avqokihxamfdwihkb',\n",
       " 'srmyrgpxvunrwitxo',\n",
       " 'hfjfhei mkmeeb wl',\n",
       " 'vqvhipitvgbwswpwx',\n",
       " 'ix fgzzbwoyarjz k',\n",
       " 'be llwhbcrmcinmpk',\n",
       " 'unnyrwmoomourbtak',\n",
       " 'wyzkikkrqvyejjeez',\n",
       " 'vevlfbhbcrmcfbtok',\n",
       " 'i zfksmrmmequlqoc',\n",
       " 'wdnfkzhmjmfdwrcwm',\n",
       " 'meofntaqvmmpznlal',\n",
       " 'zytfwyoudeuwcreab',\n",
       " 'ifpxwkqavefnfwswt',\n",
       " 'vmoxsy uwfvkealpb',\n",
       " 'i nrsdqxiemsw qwd',\n",
       " 'prvhfzsavzaokizan',\n",
       " 'mengiihojdmlwxahp',\n",
       " 'hicurgiworqwkxlgy',\n",
       " 'wivgtzbbvfueepdwl',\n",
       " 'vqvbzzhtiriwkqmpk',\n",
       " 'au fdz bvvzlf exy',\n",
       " 'aml wcarj ewzjpwl',\n",
       " 'td gvihk r wswdsp',\n",
       " 'zrzftihbcrmhsbujk',\n",
       " 'igonfb inampzjewt',\n",
       " 'amrgjkiirnepwi bk',\n",
       " 'avhkrqw vfuarnzcw',\n",
       " 'qecffbhxournraui ',\n",
       " 'trvlfwsioampiglpz',\n",
       " 'hsdtvkwcomfd wsok',\n",
       " 'namfksmvnryrwalps',\n",
       " 'mml sbzgvaswcjeey',\n",
       " 'hy giyqwbmixjihkb',\n",
       " 'srzfqpiujgehpimjo',\n",
       " 'hfckrpcrzr zwalhp',\n",
       " 'nfvhpkaqwfmxuburt',\n",
       " 'akvgiphvjdrwkqmjk',\n",
       " 'zrnvwnajxyrwkqqwl',\n",
       " 'vtgujleximoetuqwf',\n",
       " 'mdnofy iw qwsurnp',\n",
       " 'levr mzjmkmkxieah',\n",
       " 'aojubcw jevqjinkp',\n",
       " 'avpyrrznbadurjz k',\n",
       " 'au fkbiwnynp xzwz',\n",
       " 'nmxkvp icvepf jxb',\n",
       " 'mmruiv iruvzziujk',\n",
       " 'xadtkkwovefucnldl',\n",
       " 'crvgkdirirqwkqqwf',\n",
       " 'qdo wchxambhsrzwy',\n",
       " 'idmgktwwvadwwfakc',\n",
       " 'qfduekiwzmrrwwloz',\n",
       " 'uron yoihadarjz k',\n",
       " 'au fdlab dmkxiedp',\n",
       " 'umdyrcblcmnoremok',\n",
       " 'vaofsyarlgnpwmlbz',\n",
       " 'zmhgeihl  fqirqok',\n",
       " 'isokikiuadr rrewg',\n",
       " 'ievrfyoixrskinlps',\n",
       " 'mmjzzpziinfefwdwg',\n",
       " 'md fsche yywg  rt',\n",
       " 'lrzf yhbcrvnrxhjk',\n",
       " 'tnimllonnmiekqlqc',\n",
       " 'msprrsiwzoakbalkq',\n",
       " 'hviykbblovajrkqot',\n",
       " 'lrnfksmiodnjjumpt',\n",
       " 'w nfksm  miainlkd',\n",
       " 'prmfvtljyfvzre nv',\n",
       " ' mdtroqoardaebl p',\n",
       " 'xnmzdpvbnmfdw qwt',\n",
       " ' mwfuzvadqrnskxak',\n",
       " ' fjibkwoverndxzoc',\n",
       " 'wz ffqhbcrzw vmct',\n",
       " 'vnoomphjiqmok  jr',\n",
       " 'hvifelz wfvrwixev',\n",
       " 'mmonwkww majrbtak',\n",
       " 'pnmxfgqwbmabrqqhw',\n",
       " 'hvifksmixyvzbuujr',\n",
       " 'hujs wqnnmnjvi ps',\n",
       " 'mdnfctsnvfuaraqnx',\n",
       " 'w  yrnibcayeurlkq',\n",
       " 'hn rxbqlvzanwidkq',\n",
       " 'amwtvkonifyarrzwd',\n",
       " 'prdxrdww mzkinlbt',\n",
       " 'vvnnwohrimfdwrcwb',\n",
       " 'prouitkiourowiyxi',\n",
       " 'h jzrlxy nywkxlaf',\n",
       " 'mdtfipim dmylblps',\n",
       " 'mmngdphvdtuprkqwc',\n",
       " 'ivzffqhbcrmsf wok',\n",
       " 'wsvssyfignfaiipef',\n",
       " 'q  yrdpjimnacocen',\n",
       " 'hmvzzphxgqmaepxec',\n",
       " 'pm jlnibda xcixed',\n",
       " 'mdwzlbmqw qyfxwok',\n",
       " 'i zfzzurgvrozjpwx',\n",
       " 'mddzjkaqwfmsw qwz',\n",
       " 'nmggjdqwbmvigxcpl',\n",
       " 'vp fksmicvepf jwz',\n",
       " 'nm tywqacmbnfaqwn',\n",
       " 'i iukkioaad rb wt',\n",
       " 'o jxwkaq mokftdwg',\n",
       " 'pvynrgpjorhaiiyxi',\n",
       " 'huwawkjn  mpznunk',\n",
       " ' ujxknwvd torndpl',\n",
       " 'jydyzplibaa rqmyt',\n",
       " 'aevuxkkxhbao buky',\n",
       " 'hzwjwkqbvsneiujwp',\n",
       " 'ietfxzziouaowihdz',\n",
       " 'hij cohbjmbqkiqjr',\n",
       " 'tvnnrgw zempfpqps',\n",
       " 'mdvoedwinr pwwoac',\n",
       " 'hnijrrid mzkinlps',\n",
       " 'i vuephpjaqwgjepp',\n",
       " 'z vuxk nifrjunlbz',\n",
       " 'zmnzlomwoempfiok ',\n",
       " 'fmonwkzq fan lmhk',\n",
       " 'cng wkwovfuarmu l',\n",
       " 'kfdir zxnrms uxwm',\n",
       " 'mmmgkplicvtdrkjwl',\n",
       " 'vkvuephecamrsufac',\n",
       " 'hnvyfevmvpajmnzpt',\n",
       " 'w vuika wqvp xzwz',\n",
       " 'nmjxvtvjmkmlixdak',\n",
       " ' ftrwknxmmanvrzxb',\n",
       " 'fmpywqbuvbgngxdac',\n",
       " 'hfckiphjmrmd ptab',\n",
       " 'hxdtvchxamyekncxd',\n",
       " 'bd fksiwvfuarcdaq',\n",
       " 'byvhldhromvora ip',\n",
       " 'audtykaxvunrwipeq',\n",
       " 'nrmkedhtd qorxrwe',\n",
       " ' ra ckx jerwsblky',\n",
       " 'mevifxujiqmxemlps',\n",
       " 'qevoekaq mfaebtwn',\n",
       " 'm o iihewemo wsqw',\n",
       " 'idvgeohnsprlkr jl',\n",
       " 'tmwsfyoiourwmncjl',\n",
       " 'kgggikaxitgaji bk',\n",
       " 'au fezzbcmnjvihac',\n",
       " 'amdtrcwiandwsalps',\n",
       " 'mmdtkptu pfqsullb',\n",
       " 'wogkdknxmmfdwiqxb',\n",
       " 'tkvkertrnumlixdak',\n",
       " 'dddzwb irnewkqqwb',\n",
       " 'mbmuvekbda wfolhl',\n",
       " 'avifcpi iv crbtai',\n",
       " 'hfjubkaq mdeyqewg',\n",
       " 'ikvzfk xghrw blxy',\n",
       " 'lmrkiphvjdrwkqmjk',\n",
       " 'namzlyib mvjrbtak',\n",
       " 'unyn ym tmfdwgley',\n",
       " 'crizwohjiqmqjnpwd',\n",
       " 'wmwjs aiw qwnxcgk',\n",
       " 'bbvzzphxgqmhsbujk',\n",
       " 'unokitiunmmwkqqwo',\n",
       " 'qsaouetbtmabrbtak',\n",
       " 'xdjhcpuihnkwwjdew',\n",
       " 'fmxkrevm drokryxd',\n",
       " 'mqvzzpznvirnwiyxy',\n",
       " 'fmon yoavfawzrz p',\n",
       " 'zmonwkimjbfefwlkq',\n",
       " 'hnvjwnmwombnfaqwn',\n",
       " 'w qkedqximfdw qwg',\n",
       " 'ievuekaq majwitxy',\n",
       " 'lmonwkljitrnrxrwl',\n",
       " 'hpgujphjiqmocjgec',\n",
       " 'pmds dibda wfolps',\n",
       " 'mmauipqpimzkvnxok',\n",
       " 'w  f ch  zvjvnpwm',\n",
       " 'fmwfuwbvnkmls een',\n",
       " 'qbgkrljajygpwitab',\n",
       " 'mmwtvkaq drwkqmpk',\n",
       " 'au fkpuyonfefwlss',\n",
       " 'qpcfnl ioaawdcodk',\n",
       " 'namflwnrgnewsudkk',\n",
       " 'jrnkkkaq mnjyu ol',\n",
       " 'eaiyrgpxvsanrbtak',\n",
       " 'uanzr i omdajrdpp',\n",
       " 'lmn unmansghcglps',\n",
       " 'mmokd ajovajji bk',\n",
       " 'namk rvibdnidjeen',\n",
       " 'iyvify bmgpp xzok',\n",
       " 'kahvsbqwbmiaculey',\n",
       " 'hfcojkznnbrzkizkd',\n",
       " 'hairpkdroumpznlcb',\n",
       " 'mpdydchxamghxrxxc',\n",
       " 'hopzrgqbcmfdwipec',\n",
       " 'adwikplikndp lulw',\n",
       " 'mevuxkaq miuuuubq',\n",
       " 'qf fttju mfdwixxd',\n",
       " 'q dydkwovfuarjzcw',\n",
       " 'wewcfyhymaearrdwd',\n",
       " 'wmxkrqwciqmisrzhi',\n",
       " 'hvifksmiperwfolzz',\n",
       " 'vqdz zvjgmphscdac',\n",
       " 'hnijrlhlgaeaiinnl',\n",
       " 'kvimrzniourwgjcpc',\n",
       " 'haafksminr pwwoak',\n",
       " 'auwtrnwv emjsbfnl',\n",
       " 'tytf yhymvzekrgak',\n",
       " 'mengpch']"
      ]
     },
     "execution_count": 107,
     "metadata": {},
     "output_type": "execute_result"
    }
   ],
   "source": [
    "decode_spreaded(spread(cipher_text, probing_key_length))"
   ]
  },
  {
   "cell_type": "markdown",
   "metadata": {},
   "source": [
    "Once the length $m$ of key $\\textbf{k}$ has been \"established\", we're left with finding actual key symbols $k_{i}$, for $i\\in\\{0,\\ldots,m-1\\}$. In order to fullfil this step, we need another object, which resembles the index of mutual coincidence $I_{c}$ but it is more general, in the sense that sampling occurs on two given sequences instead of the same one. Formally, let $I_{mc}(\\alpha, \\beta)$ be the *index of mutual coincidence* of sequences $\\alpha$ and $\\beta$, defined as\n",
    "$$\n",
    "I_{mc}(\\alpha,\\beta) = \\sum_{a_{i}\\in\\frac{\\mathbb{Z}}{n\\mathbb{Z}}}{q_{a_{i}}^{(\\alpha)}q_{a_{i}}^{(\\beta)}}\n",
    "$$\n",
    "where $q_{a_{i}}^{(\\nu)}$ is the probability to draw an occurrence of symbol $a_{i}$ in sequence $\\nu$.\n",
    "\n",
    "Let $\\eta$ and $\\gamma$ be two sequences of length $l$, produced by adding shifts $v_{\\alpha}$ and $v_{\\beta}$ to sequences $\\alpha$ and $\\beta$, respectively (formally, $\\eta_{i} \\equiv_{n} \\alpha_{i} + v_{\\alpha}$ and $\\gamma_{i} \\equiv_{n} \\beta_{i} + v_{\\beta}$, forall $i\\in\\lbrace0,\\ldots,l-1\\rbrace$). The inequality\n",
    "$$\n",
    "    I_{mc}(\\eta,\\gamma) \n",
    "                = \\sum_{a_{i}\\in\\frac{\\mathbb{Z}}{n\\mathbb{Z}}}{q_{a_{i}}^{(\\eta)}q_{a_{i}}^{(\\gamma)}}\n",
    "                = \\sum_{a_{i}\\in\\frac{\\mathbb{Z}}{n\\mathbb{Z}}}{q_{a_{i}-v_{\\alpha}}^{(\\alpha)}q_{a_{i}-v_{\\beta}}^{(\\beta)}}\n",
    "                = \\sum_{a_{i}\\in\\frac{\\mathbb{Z}}{n\\mathbb{Z}}}{q_{a_{i}}^{(\\alpha)}q_{a_{i}+v_{\\alpha}-v_{\\beta}}^{(\\beta)}}\n",
    "                \\neq \\sum_{a_{i}\\in\\frac{\\mathbb{Z}}{n\\mathbb{Z}}}{q_{a_{i}}^{(\\alpha)}q_{a_{i}}^{(\\beta)}}\n",
    "                = I_{mc}(\\alpha,\\beta)\n",
    "$$\n",
    "holds unless factor $v_{\\alpha}-v_{\\beta}$ in each subscript. We can define an even more general version of $I_{mc}$ as\n",
    "$$\n",
    "    I_{mc}(\\eta,\\gamma,g) \n",
    "                = \\sum_{a_{i}\\in\\frac{\\mathbb{Z}}{n\\mathbb{Z}}}{q_{a_{i}-g}^{(\\eta)}q_{a_{i}}^{(\\gamma)}}\n",
    "                = \\sum_{a_{i}\\in\\frac{\\mathbb{Z}}{n\\mathbb{Z}}}{q_{a_{i}}^{(\\alpha)}q_{a_{i}+v_{\\alpha}-v_{\\beta}+g}^{(\\beta)}}\n",
    "$$\n",
    "where sequence $\\eta$ is shifted back by $g\\in\\mathbb{N}$. Therefore we can state the equality with the usual definition according to\n",
    "$$\n",
    "    I_{mc}(\\eta,\\gamma,g) = I_{mc}(\\alpha,\\beta) \\leftrightarrow v_{\\beta}-v_{\\alpha}=g\n",
    "$$\n",
    "proving the invariance of $I_{mc}$ when two sequences are produced by shifting two other ones by constant values $q,w$ respectively, providing that $g = w-q$."
   ]
  },
  {
   "cell_type": "code",
   "execution_count": 117,
   "metadata": {
    "collapsed": true
   },
   "outputs": [],
   "source": [
    "def mutual_coincidence_index(fst_freqs, snd_freqs, offset=0, \n",
    "                             alphabet=A, inverse_alphabet=inverse_A):\n",
    "    fst_len = length_from_frequencies(fst_freqs)\n",
    "    snd_len = length_from_frequencies(snd_freqs)\n",
    "    n = len(alphabet)\n",
    "    return sum(fst_freqs[k] * snd_freqs[inverse_alphabet[(v+offset) % n]] \n",
    "               for k,v in alphabet.items())/(fst_len * snd_len)"
   ]
  },
  {
   "cell_type": "markdown",
   "metadata": {},
   "source": [
    "Previous generalization allows us to set the basis to break the cipher. It works as follows: for each pair $(\\eta,\\gamma)$ of different columns in the spread-matrix form of the *ciphertext*, fix a $g\\in\\frac{\\mathbb{Z}}{n\\mathbb{Z}}$ to compute $I_{mc}(\\eta,\\gamma,g)$: if such index value is close to $I_{c}(\\nu)$, where $\\nu$ is a structured sequence using the English language, namely close to $0.065$, then collect equation $k_{i(\\beta)}-k_{i(\\alpha)}=g$, where function $i(\\nu)$ return the zero-based index of column $\\nu$ in the matrix spread. Such equations are important since state difference relations over symbols of the key."
   ]
  },
  {
   "cell_type": "code",
   "execution_count": 118,
   "metadata": {
    "collapsed": false
   },
   "outputs": [],
   "source": [
    "def build_offsets_eqs(cipher_text, key_length, indexed_sym, threshold=.06, alphabet=A):\n",
    "    \n",
    "    n = len(alphabet)\n",
    "    eqs = {c:{} for c in range(key_length)}\n",
    "    spreaded = spread(cipher_text, key_length)\n",
    "    for c,a in itertools.product(range(key_length), repeat=2):\n",
    "    \n",
    "        if a == c: continue\n",
    "        \n",
    "        eqs[c][a]=[]\n",
    "        \n",
    "        for g in range(1,n):\n",
    "            column_freqs = frequencies(col(spreaded, c))\n",
    "            another_freqs = frequencies(col(spreaded, a))\n",
    "            mci = mutual_coincidence_index(column_freqs, another_freqs, g)\n",
    "            if mci > threshold: \n",
    "                eqs[c][a].append(tuple([Eq(indexed_sym[a]-indexed_sym[c],g,evaluate=True), mci]))\n",
    "    \n",
    "    return eqs"
   ]
  },
  {
   "cell_type": "code",
   "execution_count": 119,
   "metadata": {
    "collapsed": false,
    "scrolled": false
   },
   "outputs": [],
   "source": [
    "k_sym=IndexedBase('k')\n",
    "\n",
    "eqs_dict = build_offsets_eqs(cipher_text, key_length=probing_key_length, indexed_sym=k_sym)"
   ]
  },
  {
   "cell_type": "markdown",
   "metadata": {},
   "source": [
    "The following cell report the set of difference equation collected respect the *first* column of the spread matrix: we observe that such set fails to instantiate $k_{6}$ because no likely equation gives a relation for it. On the contrary, it can be the case that collecting equations for a pair of columns with indexes $(c,a)$ yields one or more equations, namely $\\{k_{a}-k_{c}=g_{u_{0}},\\ldots,k_{a}-k_{c}=g_{u_{v}}\\}$, for some $v\\in\\mathbb{N}$: to properly explore all keys space, we have to consider the product of each list of \"equally-likely\" equations."
   ]
  },
  {
   "cell_type": "code",
   "execution_count": 129,
   "metadata": {
    "collapsed": false
   },
   "outputs": [
    {
     "data": {
      "image/png": "[encoded data removed]",
      "text/latex": [
       "$$\\left \\{ 1 : \\left [ \\left ( - k_{0} + k_{1} = 5, \\quad 0.07966023276727183\\right )\\right ], \\quad 2 : \\left [ \\left ( - k_{0} + k_{2} = 14, \\quad 0.07727521536837441\\right )\\right ], \\quad 3 : \\left [ \\left ( - k_{0} + k_{3} = 25, \\quad 0.07921711478059143\\right )\\right ], \\quad 4 : \\left [ \\left ( - k_{0} + k_{4} = 10, \\quad 0.07754238944857876\\right )\\right ], \\quad 5 : \\left [ \\left ( - k_{0} + k_{5} = 3, \\quad 0.07652582465560609\\right )\\right ], \\quad 6 : \\left [ \\right ], \\quad 7 : \\left [ \\left ( - k_{0} + k_{7} = 1, \\quad 0.07737252009061175\\right )\\right ], \\quad 8 : \\left [ \\left ( - k_{0} + k_{8} = 14, \\quad 0.07471226849282875\\right )\\right ], \\quad 9 : \\left [ \\left ( - k_{0} + k_{9} = 5, \\quad 0.07947134435732892\\right )\\right ], \\quad 10 : \\left [ \\left ( - k_{0} + k_{10} = 5, \\quad 0.08352537194560683\\right )\\right ], \\quad 11 : \\left [ \\left ( - k_{0} + k_{11} = 15, \\quad 0.07398110731748715\\right )\\right ], \\quad 12 : \\left [ \\left ( - k_{0} + k_{12} = 10, \\quad 0.07752919748532781\\right )\\right ], \\quad 13 : \\left [ \\left ( - k_{0} + k_{13} = 1, \\quad 0.07779685470130107\\right )\\right ], \\quad 14 : \\left [ \\left ( - k_{0} + k_{14} = 4, \\quad 0.07743127411363028\\right )\\right ], \\quad 15 : \\left [ \\left ( - k_{0} + k_{15} = 15, \\quad 0.07849211064035357\\right )\\right ], \\quad 16 : \\left [ \\left ( - k_{0} + k_{16} = 3, \\quad 0.07765323375614469\\right )\\right ]\\right \\}$$"
      ],
      "text/plain": [
       "{1: [(-k[0] + k[1] = 5, 0.07966023276727183)], 2: [(-k[0] + k[2] = 14, 0.07727\n",
       "521536837441)], 3: [(-k[0] + k[3] = 25, 0.07921711478059143)], 4: [(-k[0] + k[\n",
       "4] = 10, 0.07754238944857876)], 5: [(-k[0] + k[5] = 3, 0.07652582465560609)], \n",
       "6: [], 7: [(-k[0] + k[7] = 1, 0.07737252009061175)], 8: [(-k[0] + k[8] = 14, 0\n",
       ".07471226849282875)], 9: [(-k[0] + k[9] = 5, 0.07947134435732892)], 10: [(-k[0\n",
       "] + k[10] = 5, 0.08352537194560683)], 11: [(-k[0] + k[11] = 15, 0.073981107317\n",
       "48715)], 12: [(-k[0] + k[12] = 10, 0.07752919748532781)], 13: [(-k[0] + k[13] \n",
       "= 1, 0.07779685470130107)], 14: [(-k[0] + k[14] = 4, 0.07743127411363028)], 15\n",
       ": [(-k[0] + k[15] = 15, 0.07849211064035357)], 16: [(-k[0] + k[16] = 3, 0.0776\n",
       "5323375614469)]}"
      ]
     },
     "execution_count": 129,
     "metadata": {},
     "output_type": "execute_result"
    }
   ],
   "source": [
    "eqs_dict[0]"
   ]
  },
  {
   "cell_type": "code",
   "execution_count": 121,
   "metadata": {
    "collapsed": true
   },
   "outputs": [],
   "source": [
    "def clean_mci_info(eqs_dict):\n",
    "    \n",
    "    res = {}\n",
    "    for c, eq_dict in eqs_dict.items():\n",
    "        eqs_list = []\n",
    "        for a, eqs in eq_dict.items():\n",
    "            if not eqs: \n",
    "                eqs_list = []\n",
    "                break\n",
    "            eqs_list.append([[a] + list(eq_pair) for eq_pair in eqs])\n",
    "        res[c]=list(itertools.product(*eqs_list))\n",
    "    \n",
    "    return res"
   ]
  },
  {
   "cell_type": "markdown",
   "metadata": {},
   "source": [
    "The above function implements the last observation, namely it produces the complete keys space where we've to look for the good one."
   ]
  },
  {
   "cell_type": "code",
   "execution_count": 128,
   "metadata": {
    "collapsed": false
   },
   "outputs": [
    {
     "data": {
      "image/png": "[encoded data removed]",
      "text/latex": [
       "$$\\left \\{ 0 : \\left [ \\left ( \\right )\\right ], \\quad 1 : \\left [ \\left ( \\right )\\right ], \\quad 2 : \\left [ \\left ( \\right )\\right ], \\quad 3 : \\left [ \\left ( \\left [ 0, \\quad k_{0} - k_{3} = 2, \\quad 0.07921711478059143\\right ], \\quad \\left [ 1, \\quad k_{1} - k_{3} = 7, \\quad 0.08098632850682272\\right ], \\quad \\left [ 2, \\quad k_{2} - k_{3} = 16, \\quad 0.07670176856208213\\right ], \\quad \\left [ 4, \\quad - k_{3} + k_{4} = 12, \\quad 0.07748374147975341\\right ], \\quad \\left [ 5, \\quad - k_{3} + k_{5} = 5, \\quad 0.07601428403862946\\right ], \\quad \\left [ 6, \\quad - k_{3} + k_{6} = 2, \\quad 0.08063769891436093\\right ], \\quad \\left [ 7, \\quad - k_{3} + k_{7} = 3, \\quad 0.0768502621082249\\right ], \\quad \\left [ 8, \\quad - k_{3} + k_{8} = 16, \\quad 0.07454906287333285\\right ], \\quad \\left [ 9, \\quad - k_{3} + k_{9} = 7, \\quad 0.07961822941487522\\right ], \\quad \\left [ 10, \\quad - k_{3} + k_{10} = 7, \\quad 0.08357759774384552\\right ], \\quad \\left [ 11, \\quad - k_{3} + k_{11} = 17, \\quad 0.07412146415025363\\right ], \\quad \\left [ 12, \\quad - k_{3} + k_{12} = 12, \\quad 0.07712771166136792\\right ], \\quad \\left [ 13, \\quad - k_{3} + k_{13} = 3, \\quad 0.07806777602966425\\right ], \\quad \\left [ 14, \\quad - k_{3} + k_{14} = 6, \\quad 0.07739536887734118\\right ], \\quad \\left [ 15, \\quad - k_{3} + k_{15} = 17, \\quad 0.07830932034651818\\right ], \\quad \\left [ 16, \\quad - k_{3} + k_{16} = 5, \\quad 0.07879893720500585\\right ]\\right )\\right ], \\quad 4 : \\left [ \\left ( \\right )\\right ], \\quad 5 : \\left [ \\left ( \\right )\\right ], \\quad 6 : \\left [ \\left ( \\right )\\right ], \\quad 7 : \\left [ \\left ( \\right )\\right ], \\quad 8 : \\left [ \\left ( \\right )\\right ], \\quad 9 : \\left [ \\left ( \\right )\\right ], \\quad 10 : \\left [ \\left ( \\right )\\right ], \\quad 11 : \\left [ \\left ( \\right )\\right ], \\quad 12 : \\left [ \\left ( \\right )\\right ], \\quad 13 : \\left [ \\left ( \\right )\\right ], \\quad 14 : \\left [ \\left ( \\left [ 0, \\quad k_{0} - k_{14} = 23, \\quad 0.07743127411363028\\right ], \\quad \\left [ 1, \\quad k_{1} - k_{14} = 1, \\quad 0.07823750987393997\\right ], \\quad \\left [ 2, \\quad k_{2} - k_{14} = 10, \\quad 0.07650100208250371\\right ], \\quad \\left [ 3, \\quad k_{3} - k_{14} = 21, \\quad 0.07739536887734118\\right ], \\quad \\left [ 4, \\quad k_{4} - k_{14} = 6, \\quad 0.0761517420567825\\right ], \\quad \\left [ 5, \\quad k_{5} - k_{14} = 26, \\quad 0.07529654461062403\\right ], \\quad \\left [ 6, \\quad k_{6} - k_{14} = 23, \\quad 0.078315848571298\\right ], \\quad \\left [ 7, \\quad k_{7} - k_{14} = 24, \\quad 0.07572700607241775\\right ], \\quad \\left [ 8, \\quad k_{8} - k_{14} = 10, \\quad 0.07396446801761884\\right ], \\quad \\left [ 9, \\quad k_{9} - k_{14} = 1, \\quad 0.07796369629409207\\right ], \\quad \\left [ 10, \\quad k_{10} - k_{14} = 1, \\quad 0.0820544849889964\\right ], \\quad \\left [ 11, \\quad k_{11} - k_{14} = 11, \\quad 0.07316985438623455\\right ], \\quad \\left [ 12, \\quad k_{12} - k_{14} = 6, \\quad 0.07575316619196949\\right ], \\quad \\left [ 13, \\quad k_{13} - k_{14} = 24, \\quad 0.0762992586876122\\right ], \\quad \\left [ 15, \\quad - k_{14} + k_{15} = 11, \\quad 0.07664915028661681\\right ], \\quad \\left [ 16, \\quad - k_{14} + k_{16} = 26, \\quad 0.07643659931525887\\right ]\\right )\\right ], \\quad 15 : \\left [ \\left ( \\right )\\right ], \\quad 16 : \\left [ \\left ( \\right )\\right ]\\right \\}$$"
      ],
      "text/plain": [
       "{0: [()], 1: [()], 2: [()], 3: [([0, k[0] - k[3] = 2, 0.07921711478059143], [1\n",
       ", k[1] - k[3] = 7, 0.08098632850682272], [2, k[2] - k[3] = 16, 0.0767017685620\n",
       "8213], [4, -k[3] + k[4] = 12, 0.07748374147975341], [5, -k[3] + k[5] = 5, 0.07\n",
       "601428403862946], [6, -k[3] + k[6] = 2, 0.08063769891436093], [7, -k[3] + k[7]\n",
       " = 3, 0.0768502621082249], [8, -k[3] + k[8] = 16, 0.07454906287333285], [9, -k\n",
       "[3] + k[9] = 7, 0.07961822941487522], [10, -k[3] + k[10] = 7, 0.08357759774384\n",
       "552], [11, -k[3] + k[11] = 17, 0.07412146415025363], [12, -k[3] + k[12] = 12, \n",
       "0.07712771166136792], [13, -k[3] + k[13] = 3, 0.07806777602966425], [14, -k[3]\n",
       " + k[14] = 6, 0.07739536887734118], [15, -k[3] + k[15] = 17, 0.078309320346518\n",
       "18], [16, -k[3] + k[16] = 5, 0.07879893720500585])], 4: [()], 5: [()], 6: [()]\n",
       ", 7: [()], 8: [()], 9: [()], 10: [()], 11: [()], 12: [()], 13: [()], 14: [([0,\n",
       " k[0] - k[14] = 23, 0.07743127411363028], [1, k[1] - k[14] = 1, 0.078237509873\n",
       "93997], [2, k[2] - k[14] = 10, 0.07650100208250371], [3, k[3] - k[14] = 21, 0.\n",
       "07739536887734118], [4, k[4] - k[14] = 6, 0.0761517420567825], [5, k[5] - k[14\n",
       "] = 26, 0.07529654461062403], [6, k[6] - k[14] = 23, 0.078315848571298], [7, k\n",
       "[7] - k[14] = 24, 0.07572700607241775], [8, k[8] - k[14] = 10, 0.0739644680176\n",
       "1884], [9, k[9] - k[14] = 1, 0.07796369629409207], [10, k[10] - k[14] = 1, 0.0\n",
       "820544849889964], [11, k[11] - k[14] = 11, 0.07316985438623455], [12, k[12] - \n",
       "k[14] = 6, 0.07575316619196949], [13, k[13] - k[14] = 24, 0.0762992586876122],\n",
       " [15, -k[14] + k[15] = 11, 0.07664915028661681], [16, -k[14] + k[16] = 26, 0.0\n",
       "7643659931525887])], 15: [()], 16: [()]}"
      ]
     },
     "execution_count": 128,
     "metadata": {},
     "output_type": "execute_result"
    }
   ],
   "source": [
    "eqs_dict_pure = clean_mci_info(eqs_dict)\n",
    "eqs_dict_pure"
   ]
  },
  {
   "cell_type": "code",
   "execution_count": 168,
   "metadata": {
    "collapsed": false
   },
   "outputs": [],
   "source": [
    "def candidate_keys(eqs_dict, indexed_sym, alphabet=A):\n",
    "    key_length = len(eqs_dict)\n",
    "    n = len(alphabet)\n",
    "    candidates=set()\n",
    "    for c, eqs_tuples in eqs_dict.items():\n",
    "        for d in range(len(alphabet)):\n",
    "            for eq_tuple in eqs_tuples:\n",
    "                key = [indexed_sym[i] for i in range(key_length)]\n",
    "                key[c] = d\n",
    "                for a, eq, mci in eq_tuple:\n",
    "                    subs_eq = eq.subs(indexed_sym[c],d)\n",
    "                    key[a] = solve(subs_eq, indexed_sym[a])[0]\n",
    "                    key[a] = key[a] % n\n",
    "\n",
    "                key_is_fully_instantiated = True\n",
    "                for k in key:\n",
    "                    if isinstance(k, Indexed): key_is_fully_instantiated = False \n",
    "                \n",
    "                # `tuple` application to make `key` hashable\n",
    "                if key_is_fully_instantiated: candidates.add(tuple(key)) \n",
    "            \n",
    "    return candidates"
   ]
  },
  {
   "cell_type": "markdown",
   "metadata": {},
   "source": [
    "In order to instantiate candidates keys, for each index column $c$ we use the set of equations $\\{k_{a}-k_{c}=g_{u}\\}$, for some $u\\in\\mathbb{N}$ and $a\\in\\{0,\\ldots,m-1\\}\\setminus\\{c\\}$ as follows: for each equation $k_{a}-k_{c}=g_{u}$, instantiate $k_{c} = s$, for $s\\in\\frac{\\mathbb{Z}}{n\\mathbb{Z}}$, and solve it respect $k_{a}$. Therefore for each column index $c$ we have a candidate key if each symbol $k_{i}$ has been instantiated."
   ]
  },
  {
   "cell_type": "code",
   "execution_count": 162,
   "metadata": {
    "collapsed": false
   },
   "outputs": [],
   "source": [
    "possible_keys = candidate_keys(eqs_dict_pure, k_sym)"
   ]
  },
  {
   "cell_type": "code",
   "execution_count": 163,
   "metadata": {
    "collapsed": false
   },
   "outputs": [],
   "source": [
    "def arbitrary_frequencies(length, filename='rest_plain_text.txt'):\n",
    "    with open(filename, 'r') as f:\n",
    "        text = clean_text(f.read().lower())\n",
    "    text = text[:length]\n",
    "    return frequencies(encode(text))\n",
    "\n",
    "def attempt_keys(candidate_keys, cipher_text, threshold=.06, arbitrary_freqs=None):\n",
    "    sols = set()\n",
    "    for key in candidate_keys:\n",
    "        decrypted = decrypt(cipher_text, key)\n",
    "        freqs = frequencies(decrypted)\n",
    "        if arbitrary_freqs:\n",
    "            good = True\n",
    "            for k,v in arbitrary_freqs.items():\n",
    "                if 1-abs((freqs[k]-v)/v) < .6: good = False\n",
    "            if good: sols.add(decode(key))\n",
    "        else:\n",
    "            ci = coincidence_index(freqs)\n",
    "            if ci > threshold: sols.add(decode(key))#sols.add((ci, decode(key)))\n",
    "    return sols"
   ]
  },
  {
   "cell_type": "markdown",
   "metadata": {},
   "source": [
    "The last step to filter out mistaken keys, we use each candidate key to perform a decryption, checking it against frequencies of an arbitrary English prose:"
   ]
  },
  {
   "cell_type": "code",
   "execution_count": 164,
   "metadata": {
    "collapsed": false
   },
   "outputs": [],
   "source": [
    "sols = attempt_keys(possible_keys, cipher_text, arbitrary_freqs=arbitrary_frequencies(len(cipher_text)))"
   ]
  },
  {
   "cell_type": "code",
   "execution_count": 169,
   "metadata": {
    "collapsed": false
   },
   "outputs": [
    {
     "data": {
      "text/plain": [
       "(1, {'inwgslijwnnxsjmxl'})"
      ]
     },
     "execution_count": 169,
     "metadata": {},
     "output_type": "execute_result"
    }
   ],
   "source": [
    "len(sols), sols"
   ]
  },
  {
   "cell_type": "code",
   "execution_count": 166,
   "metadata": {
    "collapsed": false
   },
   "outputs": [
    {
     "name": "stdout",
     "output_type": "stream",
     "text": [
      "key:(inwgslijwnnxsjmxl)\n",
      "plaintext:\n",
      "the attraction of medieval literature comes perhaps more strongly from some other countries than from england in france and provence in germany and iceland there were literary adventurers more daring and achievements more distinguished it was not in england that the most wonderful things were produced there is nothing in old english that takes hold of the mind with that masterful and subduing power which still belongs to the lyrical stanzas of the troubadours and minnesingers to welsh romance or to the epic prose of the iceland histories   the norman conquest degraded the english language from its literary rank and brought in a new language for the politer literature it did not destroy in one sense it did not absolutely interrupt english literature but it took away the english literary standard and threw the country back into the condition of italy before dantean anarchy of dialects when a new literary language was established in the time of chaucer the middle ages were nearly over and so it happened that for the greatest of the medieval centuries the twelfth and thirteenth the centuries of the crusades of the hohenstaufen emperors of st francis st dominic and st louis there is in english no great representative work in prose or rhyme there are better things it is true than the staggering rhythms of layamon or the wooden precision of orm the ancren riwle is better but there is no one who can be taken as some of the writers in other countries cancrestien de troies for instance or walther von der vogelweide or villehardouinthere is no one in england who can be taken for a representative poet or orator giving out what can be recognised at once and is recognised instinctively as the best possible literary work of its own day and its own kind the beauty of medieval poetry and prose is not to be found in england or only in a faint reflected way england did not possess the heart of the mystery to spend much time with the worthy clerks who promoted christian and useful knowledge in the thirteenth and fourteenth century dialects of lincoln or yorkshire kent or dorset is to acquire an invincible appetite for the glory of other countries not quite so tame for the pride of life of the castles and gardens of languedoc or swabia for the winds of the forest of broceliande not in the english tongue were the great stories told almost everything in the literature of the middle ages that is out of the common that is in any sense magical or inspired comes from beyond the english borders   for all this want of distinction there is some compensation the early english literature if not representative of what is keenest and strongest or most exalted in the intellect of europe in these times is admirably fitted to convey to after generations both the common sense and the commonplaces of western civilisation from the ninth century onward a study of english literature alone would give a very false and insufficient idea of the heights attained in the progress of european literature as a whole for there were worlds of imagination and poetical art which were open to some of the other nations and not at all or very imperfectly to the english but english literature contains and preserves in a better and completer form than elsewhere the common ideas the intellectual and educational groundwork of the middle ages and that is something the average mind at any rate is well represented prose and its development can be observed very fully and satisfactorily from a very early date one of the chief interests of the early literature is that it reflects the process by which the native teutonic civilisation of the english became metamorphosed by the intrusion of alien ideas either latin or transmitted through latin by the struggles of the english mind to overcome and assimilate the civilisation of the roman empire sometimes it is easy sometimes not so easy to distinguish the two kinds of thinking native and foreign the alliterative heroic poetry of the anglosaxons is inherited not imported it is the product of centuries during which the german tribes were educating themselves and making experiments in poetry among other things till they gradually formed the established epic type which in essentials in style and phrasing and even in subject matter is common to continental germany and scandinavia in early times along with england it may be compared even by temperate critics to the homeric poetry of greece and the comparison need not be misleading the anglosaxon prose on the other hand much of which is contemporaneous with the heroic poetry is generally derivative and latin in spirit repeating and adapting ideas that are very far removed from simplicity while on the one hand there are analogies with the homeric age and the homeric poems in anglosaxon society and poetry on the other hand there are many things in the work of the anglosaxon writers which make one think of the way european ideas are now being taken up without preparation in the eastof the wholesale modern progress of japan and its unhellenic confusion the spectacle is sometimes painful it cannot be called dull the same sort of thing the conflict of the two realms of ideas german and latin went on in all modern nations beginning in the first encounter of the northern tribes with the intellectual and spiritual powers of rome this conflict is really the whole matter of early modern history in england its character is brought out more plainly than elsewhere and in spite of the norman conquest and other interfering circumstances the process or progress is continuous for which reason if for nothing else it is convenient to begin at the beginning in dealing with the history of english poetry or prose   the work for which prose was needed first of all was mainly that of instruction and of the early didactic prose a great part is translation or adaptation from the time of ulfilas to the time of wycliffe and the time of caxton and since there has been ceaseless activity of the workers who have had to quarry into and break up and make portable and useful the great mass left by the older civilisations for the goths and their successors to do their best with   the early english literature is strong in translations translations were the books most necessary for people who wanted to know about things and who knew that the most important questions had already been answered by the latin authors so that it was a waste of time for the english or other simple folk to try to find out things for themselves the quarry of latin learning was worked zealously and the evidences left by that activity are more than respectable the anglosaxon bible versions and alfreds library of textbooksorosius boetius gregory and the translation of bedes historyare works which in point of style have attained the virtues of plain narration or exposition and even something more and the matter of them is such as was not antiquated for many centuries after alfred it was long before the other nations were as well provided in their own languages with useful handbooks of instruction besides the translations there were other didactic works in different departments there is a considerable stock of sermonssome of them imaginative and strong in narrative like the one on the harrowing of hell in the blickling homilies and others like the sermones catholici of aelfric more soft and gentle in their tone more finished in their rhetoric these may not appeal to every reader but the same might be said of the works of many later divines than aelfric   the old english educational literaturehandbooks and homilieshad merits that were of lasting importance the history of english prose cannot afford to ignore the books which whatever may have been their shortcomings established good habits of composition made it fairly easy for those who would to put english words together into sentences and gave more than one good pattern of sentence for students to copy the rhetorical value of the didactic prose will be rated high by any one who values a sound convention or tradition of ordinary prose style for ordinary useful purposes there are higher kinds of literature than the useful but it is something to have different kinds of useful prose at ones command and this in the tenth century was singular and exceptional among the vernacular tongues of the north and west in so far as the intellectual problem for the early english prose writers was the reproduction of latin learning they took the right way to solve it and were more than fortunate in the machinery they invented and used to adapt and work up the old latin materials   the difficulty of the problem may easily be underestimated there were many things to hinder the adoption of a decent prose convention there was on the one hand the danger of a close and slavish imitation of the foreign models one is reminded by a clumsy participle absolute here and there that the temptation which was too much for ulfilas also beset the anglosaxons who for the most part resisted successfully the temptations of foreign grammatical constructions comparing well in this respect not only with the grecisms of ulfilas but with the distracted participles of the wycliffite bible the latinism of the anglosaxon prose is to be found mainly in the use of conditional clauses and a closer bracing of the parts of the sentence than comes naturally in primitive essays \n",
      "\n",
      "\n"
     ]
    }
   ],
   "source": [
    "for sol in sols: \n",
    "    key = sol\n",
    "    print(\"key:({})\\nplaintext:\\n{}\\n\\n\".format(\n",
    "            key, decode(decrypt(cipher_text, encode(key)))))"
   ]
  },
  {
   "cell_type": "code",
   "execution_count": 150,
   "metadata": {
    "collapsed": false
   },
   "outputs": [
    {
     "data": {
      "text/plain": [
       "'inwgslijwnnxsjmxl'"
      ]
     },
     "execution_count": 150,
     "metadata": {},
     "output_type": "execute_result"
    }
   ],
   "source": [
    "decode(secret_key)"
   ]
  },
  {
   "cell_type": "markdown",
   "metadata": {},
   "source": [
    "**:)**"
   ]
  },
  {
   "cell_type": "markdown",
   "metadata": {},
   "source": [
    "---"
   ]
  },
  {
   "cell_type": "markdown",
   "metadata": {},
   "source": [
    "<a rel=\"license\" href=\"http://creativecommons.org/licenses/by-nc-sa/4.0/\"><img alt=\"Creative Commons License\" style=\"border-width:0\" src=\"https://i.creativecommons.org/l/by-nc-sa/4.0/88x31.png\" /></a><br /><span xmlns:dct=\"http://purl.org/dc/terms/\" property=\"dct:title\">Vigenere cryptoanalysis</span> by <a xmlns:cc=\"http://creativecommons.org/ns#\" href=\"mailto:massimo.nocentini@unifi.it\" property=\"cc:attributionName\" rel=\"cc:attributionURL\">Massimo Nocentini</a> is licensed under a <a rel=\"license\" href=\"http://creativecommons.org/licenses/by-nc-sa/4.0/\">Creative Commons Attribution-NonCommercial-ShareAlike 4.0 International License</a>.<br />Based on a work at <a xmlns:dct=\"http://purl.org/dc/terms/\" href=\"https://github.com/massimo-nocentini/scratchpad/blob/master/chapters/crypto/vigenere-cryptoanalysis.ipynb\" rel=\"dct:source\">https://github.com/massimo-nocentini/scratchpad/blob/master/chapters/crypto/vigenere-cryptoanalysis.ipynb</a>."
   ]
  }
 ],
 "metadata": {
  "kernelspec": {
   "display_name": "Python 3",
   "language": "python",
   "name": "python3"
  },
  "language_info": {
   "codemirror_mode": {
    "name": "ipython",
    "version": 3
   },
   "file_extension": ".py",
   "mimetype": "text/x-python",
   "name": "python",
   "nbconvert_exporter": "python",
   "pygments_lexer": "ipython3",
   "version": "3.5.1"
  }
 },
 "nbformat": 4,
 "nbformat_minor": 0
}
