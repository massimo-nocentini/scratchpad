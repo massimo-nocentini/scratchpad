{
 "cells": [
  {
   "cell_type": "markdown",
   "metadata": {},
   "source": [
    "# Vigenere chiper cryptoanalysis\n",
    "\n",
    "\n",
    "This notebook studies the cryptoanalysis of the [Vigenere][wiki] chiper, which is polyalphabetic, namely two occurrences  $a_{1}, a_{2}$ of character $a$ belonging to the plaintext are associated with occurrences $c_{1}, c_{2}$ in the ciphertext, such that $c_{1}\\neq c_{2}$ with very high probability.\n",
    "\n",
    "Our implementation closely follows a class lecture given by Prof. [Orazio Puglisi][puglisi] within Cryptography course at the University of Florence. In order to fully understand the last part, where the concept of *mutual coincidence index* is crucial, we rest on the explanation at pag. 20 of [this notes][notes].\n",
    "\n",
    "[wiki]:https://en.wikipedia.org/wiki/Vigen%C3%A8re_cipher\n",
    "[puglisi]:http://web.math.unifi.it/users/puglisi/\n",
    "[notes]:http://iml.univ-mrs.fr/~ritzenth/cours/crypto.general.pdf"
   ]
  },
  {
   "cell_type": "code",
   "execution_count": 1,
   "metadata": {
    "collapsed": false
   },
   "outputs": [],
   "source": [
    "import itertools\n",
    "from itertools import *\n",
    "from copy import copy, deepcopy\n",
    "from heapq import *\n",
    "from random import *\n",
    "\n",
    "from sympy import *\n",
    "\n",
    "init_printing()"
   ]
  },
  {
   "cell_type": "markdown",
   "metadata": {},
   "source": [
    "---"
   ]
  },
  {
   "cell_type": "markdown",
   "metadata": {},
   "source": [
    "Let $\\mathcal{A}$ be our alphabet composed of standard English characters plus the `space` character. It will be sufficient to encode simple and (not so quite) short messages. To define it as a group $\\frac{\\mathbb{Z}}{n\\mathbb{Z}}$ in the Python language we use a `dict` object, which can be reversed because it is a bijection."
   ]
  },
  {
   "cell_type": "code",
   "execution_count": 2,
   "metadata": {
    "collapsed": false
   },
   "outputs": [
    {
     "data": {
      "text/plain": [
       "{' ': 26,\n",
       " 'a': 0,\n",
       " 'b': 1,\n",
       " 'c': 2,\n",
       " 'd': 3,\n",
       " 'e': 4,\n",
       " 'f': 5,\n",
       " 'g': 6,\n",
       " 'h': 7,\n",
       " 'i': 8,\n",
       " 'j': 9,\n",
       " 'k': 10,\n",
       " 'l': 11,\n",
       " 'm': 12,\n",
       " 'n': 13,\n",
       " 'o': 14,\n",
       " 'p': 15,\n",
       " 'q': 16,\n",
       " 'r': 17,\n",
       " 's': 18,\n",
       " 't': 19,\n",
       " 'u': 20,\n",
       " 'v': 21,\n",
       " 'w': 22,\n",
       " 'x': 23,\n",
       " 'y': 24,\n",
       " 'z': 25}"
      ]
     },
     "execution_count": 2,
     "metadata": {},
     "output_type": "execute_result"
    }
   ],
   "source": [
    "def make_alphabet_entry(i):\n",
    "    alpha = i + ord('a')\n",
    "    return chr(alpha),i\n",
    "\n",
    "A = dict(map(make_alphabet_entry, range(26)))\n",
    "A.update({' ':26})\n",
    "inverse_A = {v:k for k,v in A.items()}\n",
    "\n",
    "A"
   ]
  },
  {
   "cell_type": "markdown",
   "metadata": {},
   "source": [
    "We define a function `encode` that consumes a string and produces a list of integer in our field. In parallel, function `decode` goes backwards, it consumes a list of integers and return a string. Such functions are useful in order to use the cipher and analyze it using `str` objects."
   ]
  },
  {
   "cell_type": "code",
   "execution_count": 3,
   "metadata": {
    "collapsed": false
   },
   "outputs": [],
   "source": [
    "def encode(s, alphabet=A): return list(map(lambda i: alphabet[i], s))\n",
    "\n",
    "def decode(e, inverse_alphabet=inverse_A): return \"\".join(map(lambda i: inverse_alphabet[i], e))"
   ]
  },
  {
   "cell_type": "markdown",
   "metadata": {},
   "source": [
    "The following plaintext is a prose taken from [here]; before using it we have to swipe out punctuation marks:\n",
    "\n",
    "[here]:http://www.bartleby.com/209/2.html"
   ]
  },
  {
   "cell_type": "code",
   "execution_count": 4,
   "metadata": {
    "collapsed": false
   },
   "outputs": [
    {
     "data": {
      "text/plain": [
       "('the attraction of medieval literature comes perhaps more strongly from some other countries than from england in france and provence in germany and iceland there were literary adventurers more daring and achievements more distinguished it was not in england that the most wonderful things were produced there is nothing in old english that takes hold of the mind with that masterful and subduing power which still belongs to the lyrical stanzas of the troubadours and minnesingers to welsh romance or to the epic prose of the iceland histories   the norman conquest degraded the english language from its literary rank and brought in a new language for the politer literature it did not destroy in one sense it did not absolutely interrupt english literature but it took away the english literary standard and threw the country back into the condition of italy before dantean anarchy of dialects when a new literary language was established in the time of chaucer the middle ages were nearly over and so it happened that for the greatest of the medieval centuries the twelfth and thirteenth the centuries of the crusades of the hohenstaufen emperors of st francis st dominic and st louis there is in english no great representative work in prose or rhyme there are better things it is true than the staggering rhythms of layamon or the wooden precision of orm the ancren riwle is better but there is no one who can be taken as some of the writers in other countries cancrestien de troies for instance or walther von der vogelweide or villehardouinthere is no one in england who can be taken for a representative poet or orator giving out what can be recognised at once and is recognised instinctively as the best possible literary work of its own day and its own kind the beauty of medieval poetry and prose is not to be found in england or only in a faint reflected way england did not possess the heart of the mystery ',\n",
       " 1920)"
      ]
     },
     "execution_count": 4,
     "metadata": {},
     "output_type": "execute_result"
    }
   ],
   "source": [
    "with open('plain_text.txt', 'r') as f:\n",
    "    plain_text = f.read().lower()\n",
    "\n",
    "remove_chars = [',', '.', ';', ':', '-', '(', ')', \"'\", '\"']\n",
    "for rc in remove_chars: \n",
    "    plain_text = plain_text.replace(rc, '')\n",
    "plain_text = plain_text.replace('\\n', ' ')\n",
    "\n",
    "plain_text = \"\".join(filter(lambda c: not c.isdigit(), plain_text))\n",
    "encoded_plain_text = encode(plain_text)\n",
    "\n",
    "plain_text, len(plain_text)"
   ]
  },
  {
   "cell_type": "markdown",
   "metadata": {},
   "source": [
    "With the following assert we ensure that function `decode` is the inverse of function `encode`:"
   ]
  },
  {
   "cell_type": "code",
   "execution_count": 5,
   "metadata": {
    "collapsed": false
   },
   "outputs": [],
   "source": [
    "assert decode(encode(plain_text)) == plain_text"
   ]
  },
  {
   "cell_type": "markdown",
   "metadata": {},
   "source": [
    "Let $\\textbf{k}=(k_{0},\\ldots,k_{m-1}) \\in \\left(\\frac{\\mathbb{Z}}{n\\mathbb{Z}}\\right)^{m}$ be a *key* of length $m\\in\\mathbb{N}$. In order to have a meaningful analysis we build a function `generate_random_key` which generate a random key of random length, keeping it safe...we will uncover it only at the end to check our work:"
   ]
  },
  {
   "cell_type": "code",
   "execution_count": 155,
   "metadata": {
    "collapsed": false
   },
   "outputs": [],
   "source": [
    "def generate_random_key(max_length, alphabet=A):\n",
    "    # the minimum length of the key is 3 to build interesting cases\n",
    "    length = randint(3, max_length)\n",
    "    key = [0] * length\n",
    "    # -1 in the following max limit because it is inclusive in the sense of `randint`.\n",
    "    for i in range(length): key[i] = randint(0, len(alphabet)-1)\n",
    "    return key\n",
    "\n",
    "#key = encode(\"ericsmullyan\")\n",
    "secret_key = generate_random_key(floor(len(encoded_plain_text)/32))"
   ]
  },
  {
   "cell_type": "markdown",
   "metadata": {},
   "source": [
    "Now we are in the position to define `encrypt` and `decrypt` functions, both of them consumes an *encoded* message, namely a list of integers, and a key. The encryption work by repeating the key as long as necessary to match the same length of the input $\\textbf{x}=(x_{0},\\ldots,x_{h})$, where $h > m-1$ otherwise the cipher is a *OneTimePad* unbreakable, \n",
    "$$(\\underbrace{x_{0},\\ldots,x_{m-1}}_{k_{0},\\ldots,k_{m-1}}\n",
    "\\underbrace{x_{m},\\ldots,x_{m-1}}_{k_{0},\\ldots,k_{m-1}}\n",
    "\\ldots\n",
    "\\underbrace{x_{lm},\\ldots,x_{h}}_{k_{0},\\ldots,k_{h \\mod m}}) = \n",
    "(y_{0},\\ldots,y_{h}) = \\textbf{y}$$\n",
    "truncating the very right block to match plaintext suffix. At last, the ciphertext $\\textbf{y}$ is obtained by addition modulo $n$ of corresponding symbols, where $n$ is the length of the alphabet. Decryption follows the same scheme, using modular subtraction."
   ]
  },
  {
   "cell_type": "code",
   "execution_count": 117,
   "metadata": {
    "collapsed": false
   },
   "outputs": [],
   "source": [
    "def encrypt(message, key, alphabet=A):\n",
    "    n = len(alphabet)\n",
    "    return [(p+v)%n for p,v in zip(message, cycle(key))]\n",
    "\n",
    "def decrypt(cipher, key, alphabet=A):\n",
    "    n = len(alphabet)\n",
    "    return [(c-v)%n for c,v in zip(cipher, cycle(key))]"
   ]
  },
  {
   "cell_type": "markdown",
   "metadata": {},
   "source": [
    "the following is the *ciphertext* produced by the application of function `encrypt` to the plaintext:"
   ]
  },
  {
   "cell_type": "code",
   "execution_count": 157,
   "metadata": {
    "collapsed": false
   },
   "outputs": [
    {
     "data": {
      "text/plain": [
       "'yzbklhrtvgtmpkbvcygjvfpfpjbfmtisyvaocuhfjpcongllattxovocuxkozyvj ujrsnxuvjcutkepboaqortvjbugqfvsrcbzayghkleoabpky wsknpozpydpvpsgu cunexrpfkchb eoabp cffeakdwctzdwisbbsfrzwsoikpbxzrtysbtzxkiwwxolfgpadarexcjegz wjpyhqbgsriaakzqghllfcstbbcx  bpbulrunexpyvjchh xiyvgqfzedlcdouqhhevgrngqfcsypkgtpgutrserelaynmwopkxqbhstljkigflutcakpbencwhduec xrvpwpkscjfusfdueggjghirttdwyvbetdnyu bp zcxlysyuofdyjkigmmqjixgsxajuwtmmibibjisypkdcyvbi pzokjyjuxkyyjpqbij xibb omogsazefqbvrddnfpubqcsybbcorqu eptebylkvsubkzfyvidtlfxgwfauuilcpomhuxhiafelizhiretchmtcisdaxvobyhtijlyoaqhuuitqbkbelfvbokhfguinkmfuoxjvsyrlrtyhlsmdjqugignjiybiopcho eoabiomolzqktbycure aicudsvlwxqzfyvbi tpik bpuq qpbprwli muxfpayhtkxopgrtib moxqubymjeppkxrbymddolvgy mtcrdp wbcrtisowwqyzsyitcwyncxevbqwybywzkxtdorqio exy gqfzewkrwxqjupixfocyvymyskolfbbvrdduetltynmwxnzilvlb fb mgflntrqspoaqhhixjlpgldunkywio g sriaacuqcvsryylfajsdojaakhicxyjxgstlbvdnixxnpqclfivkwplioegiatczxcmyszwtgfgydiraqjlxrcrwxzqoajvycisxvobygnvawpozizw  foggkcvwcvkzjctuenhapqgfrumsm pbcfuxheuxhvoynmwxrbtzvzwtdpcb ecurwatpjznugerurtpbquyzbkdkcn xhdbkfgqfcwkbpyhfbnleddbp rpcjjxzqorjzdcvvpckbqutxxdstyjilertqcacchewj pfmtmdojapvgcpvsufckgrbysmmofegylyejqkwcskmdtlfoggfqunexpyvjkml rpxiybzneib btqghxaxjsggtmlprfykdpqmi ssxtovkzekepbtycli ffqvloynm krcogvumsduowlxrbfexdstyunegkfokudylmpqsxgyq dlezyovkyiwrqspouqiheramtl gmnfkkzuyqlq xibbhkaljexbtkjgumsdcbv bpuglqkdwctzdiwakqgllzenezkrzpufeduymlkyvxrpzxtyq dtlfxyyfrzwjxtyomvbirddlwuqpcjjxnlbatzwtmfkbkbynwffpcodqldirtqcu cutixgl rjzv zpkbkbpu fdpwkckyi ssxxpijzmsoozigpnlevfxkzxliefkpkxlbzrgpbkfgtfieuyykqcbnekioxhvoyveib btqghxaxjsggmmzyrlbkcpcnsrdhfxpkeutlqkgwzvugarazggocxtyktctbbvx so ggylye pkbtaqariwfabpkqnne dtjcnsdawaqjlx zxkx zgqkwpedmfvlozlcrtzbzyq dixtxqckyyfpxlysyknw sxkbrflyekepkqccoxydpcbtbbcjmywkdmgnvydbkfgmpixwxtcolqndtsazggcmosvxtyocpaparexqyxmhqpxtyozb eiruxtlcjzhkbokkz uinkmypkxbcirkzdonqmwewtxvobybjsodkcdbnlednvu bpse'"
      ]
     },
     "execution_count": 157,
     "metadata": {},
     "output_type": "execute_result"
    }
   ],
   "source": [
    "cipher_text = encrypt(encoded_plain_text, secret_key)\n",
    "decode(cipher_text)"
   ]
  },
  {
   "cell_type": "markdown",
   "metadata": {},
   "source": [
    "Assuming to know the `secret_key`, we ensure that function `decrypt` is the inverse of function `encrypt`:"
   ]
  },
  {
   "cell_type": "code",
   "execution_count": 158,
   "metadata": {
    "collapsed": false
   },
   "outputs": [],
   "source": [
    "assert decode(decrypt(cipher_text, secret_key)) == plain_text"
   ]
  },
  {
   "cell_type": "markdown",
   "metadata": {},
   "source": [
    "We now define two linguistic objects:\n",
    "\n",
    "   - let $I_{c}$ be the *coincidence index* of a sequence $\\alpha$, over an alphabet $A$, defined as \n",
    "   $$ I_{c}(\\alpha) = \\sum_{i=0}^{n}{\\frac{f_{i}(f_{i}-1)}{m(m-1)}} $$ where $n$ is the length of the alphabet, $m$ is the length of $\\alpha$ and $f_{i}$ is the frequency of symbol $a_{i}\\in A$, namely the number of occurrences of $a_{i}$ in $\\alpha$. In other words, $I_{c}$ is the probability to sample two occurrences of the same symbol $a$, forall $a\\in A$, from the sequence $\\alpha$. "
   ]
  },
  {
   "cell_type": "code",
   "execution_count": 159,
   "metadata": {
    "collapsed": false
   },
   "outputs": [],
   "source": [
    "def frequencies(lst, alphabet=A, inverse_alphabet=inverse_A):\n",
    "    \"\"\" Returns a `dict` counting occcurrences of each object of the alphabet within the iterable.\n",
    "    \n",
    "    `frequencies` consumes an iterable $lst$ and an alphabet $A$, \n",
    "    produces a dictionary of entries $(k,v)$ where $k$ is a character \n",
    "    in $A$ and $v$ is the number of occurrences of $k$ in $lst$\"\"\"\n",
    "    \n",
    "    freqs = {k:0 for k in alphabet.keys()}\n",
    "    for c in lst: freqs[inverse_alphabet[c]] += 1\n",
    "    return freqs\n",
    "\n",
    "def length_from_frequencies(freqs):\n",
    "    return sum(v for v in freqs.values())\n",
    "\n",
    "def coincidence_index(freqs, alphabet=A):\n",
    "    denom = length_from_frequencies(freqs)\n",
    "    if denom in range(2): return None\n",
    "    return sum(v*(v-1) for v in freqs.values())/(denom*(denom-1))\n",
    "    \n",
    "def mutual_coincidence_index(fst_freqs, snd_freqs, offset=0, \n",
    "                             alphabet=A, inverse_alphabet=inverse_A):\n",
    "    fst_len = length_from_frequencies(fst_freqs)\n",
    "    snd_len = length_from_frequencies(snd_freqs)\n",
    "    n = len(alphabet)\n",
    "    return sum(fst_freqs[k] * snd_freqs[inverse_alphabet[(v+offset) % n]] \n",
    "               for k,v in alphabet.items())/(fst_len * snd_len)"
   ]
  },
  {
   "cell_type": "code",
   "execution_count": 160,
   "metadata": {
    "collapsed": false
   },
   "outputs": [
    {
     "data": {
      "text/plain": [
       "{' ': 335,\n",
       " 'a': 115,\n",
       " 'b': 19,\n",
       " 'c': 40,\n",
       " 'd': 67,\n",
       " 'e': 215,\n",
       " 'f': 34,\n",
       " 'g': 39,\n",
       " 'h': 81,\n",
       " 'i': 113,\n",
       " 'j': 0,\n",
       " 'k': 9,\n",
       " 'l': 57,\n",
       " 'm': 29,\n",
       " 'n': 140,\n",
       " 'o': 120,\n",
       " 'p': 21,\n",
       " 'q': 1,\n",
       " 'r': 125,\n",
       " 's': 93,\n",
       " 't': 162,\n",
       " 'u': 35,\n",
       " 'v': 14,\n",
       " 'w': 29,\n",
       " 'x': 0,\n",
       " 'y': 26,\n",
       " 'z': 1}"
      ]
     },
     "execution_count": 160,
     "metadata": {},
     "output_type": "execute_result"
    }
   ],
   "source": [
    "plaintext_frequencies = frequencies(encoded_plain_text)\n",
    "plaintext_frequencies"
   ]
  },
  {
   "cell_type": "code",
   "execution_count": 161,
   "metadata": {
    "collapsed": false
   },
   "outputs": [
    {
     "name": "stdout",
     "output_type": "stream",
     "text": [
      "coincidence index of *plaintext*: 0.07878506600660067\n",
      "coincidence index of *ciphertext*: 0.038484128018064966\n"
     ]
    }
   ],
   "source": [
    "print(\"coincidence index of *plaintext*: {}\\ncoincidence index of *ciphertext*: {}\".format(\n",
    "        coincidence_index(plaintext_frequencies), coincidence_index(frequencies(cipher_text))))"
   ]
  },
  {
   "cell_type": "code",
   "execution_count": 162,
   "metadata": {
    "collapsed": true
   },
   "outputs": [],
   "source": [
    "def spread(message, block_length):\n",
    "    return [message[i:i+block_length] for i in range(0, len(message), block_length)]\n",
    "    \n",
    "def col(spreaded, c, join=False, joiner=lambda c: ''.join(decode(c))):\n",
    "    column = [lst[c] if c < len(lst) else None for lst in spreaded]\n",
    "    ready = list(filter(lambda i: i is not None, column))\n",
    "    return joiner(ready) if join else ready\n",
    "\n",
    "def decode_spreaded(spreaded, join_as_str=False):\n",
    "    decoded_spread = list(map(decode, spreaded))\n",
    "    return '\\n'.join(decoded_spread) if join_as_str else decoded_spread\n",
    "\n",
    "def analyze(cipher_text):\n",
    "    res = {}\n",
    "    # we discard the case where the key length equals the\n",
    "    # length of the cipher text, since it is the case of \n",
    "    # OneTimePad chiper, which is unbreakable!\n",
    "    for d in range(2, len(cipher_text)):\n",
    "        spreaded = spread(cipher_text, d)\n",
    "        res[d] = []\n",
    "        for c in range(d):\n",
    "            ci = coincidence_index(frequencies(col(spreaded, c)))\n",
    "            if ci: res[d].append(ci)\n",
    "                \n",
    "    return res\n",
    "\n",
    "def guess_key_length(analysis, threshold=0.06):\n",
    "    candidates = {}\n",
    "    for k,v in analysis.items():\n",
    "        cs = list(filter(lambda i: i > threshold, v))\n",
    "        if cs and len(cs) > ceiling(k/2): candidates[k] = cs\n",
    "    return candidates"
   ]
  },
  {
   "cell_type": "code",
   "execution_count": 163,
   "metadata": {
    "collapsed": false
   },
   "outputs": [],
   "source": [
    "analysis = analyze(cipher_text)"
   ]
  },
  {
   "cell_type": "code",
   "execution_count": 166,
   "metadata": {
    "collapsed": false
   },
   "outputs": [
    {
     "data": {
      "image/png": "[encoded data removed]",
      "text/latex": [
       "$$\\left [ 0.06251213356629781, \\quad 0.06376237623762376, \\quad 0.09386138613861386, \\quad 0.07564356435643564, \\quad 0.07326732673267326, \\quad 0.08316831683168317, \\quad 0.07069306930693069, \\quad 0.08752475247524752, \\quad 0.07227722772277227, \\quad 0.06772277227722773, \\quad 0.0895049504950495, \\quad 0.08099009900990099, \\quad 0.06653465346534654, \\quad 0.07702970297029703, \\quad 0.06871287128712872, \\quad 0.1005940594059406, \\quad 0.07524752475247524, \\quad 0.08613861386138613, \\quad 0.08316831683168317\\right ]$$"
      ],
      "text/plain": [
       "[0.06251213356629781, 0.06376237623762376, 0.09386138613861386, 0.075643564356\n",
       "43564, 0.07326732673267326, 0.08316831683168317, 0.07069306930693069, 0.087524\n",
       "75247524752, 0.07227722772277227, 0.06772277227722773, 0.0895049504950495, 0.0\n",
       "8099009900990099, 0.06653465346534654, 0.07702970297029703, 0.0687128712871287\n",
       "2, 0.1005940594059406, 0.07524752475247524, 0.08613861386138613, 0.08316831683\n",
       "168317]"
      ]
     },
     "execution_count": 166,
     "metadata": {},
     "output_type": "execute_result"
    }
   ],
   "source": [
    "probing_key_length = 19\n",
    "guess_key_length(analysis)[probing_key_length]"
   ]
  },
  {
   "cell_type": "code",
   "execution_count": 167,
   "metadata": {
    "collapsed": false
   },
   "outputs": [
    {
     "data": {
      "text/plain": [
       "['yzbklhrtvgtmpkbvcyg',\n",
       " 'jvfpfpjbfmtisyvaocu',\n",
       " 'hfjpcongllattxovocu',\n",
       " 'xkozyvj ujrsnxuvjcu',\n",
       " 'tkepboaqortvjbugqfv',\n",
       " 'srcbzayghkleoabpky ',\n",
       " 'wsknpozpydpvpsgu cu',\n",
       " 'nexrpfkchb eoabp cf',\n",
       " 'feakdwctzdwisbbsfrz',\n",
       " 'wsoikpbxzrtysbtzxki',\n",
       " 'wwxolfgpadarexcjegz',\n",
       " ' wjpyhqbgsriaakzqgh',\n",
       " 'llfcstbbcx  bpbulru',\n",
       " 'nexpyvjchh xiyvgqfz',\n",
       " 'edlcdouqhhevgrngqfc',\n",
       " 'sypkgtpgutrserelayn',\n",
       " 'mwopkxqbhstljkigflu',\n",
       " 'tcakpbencwhduec xrv',\n",
       " 'pwpkscjfusfdueggjgh',\n",
       " 'irttdwyvbetdnyu bp ',\n",
       " 'zcxlysyuofdyjkigmmq',\n",
       " 'jixgsxajuwtmmibibji',\n",
       " 'sypkdcyvbi pzokjyju',\n",
       " 'xkyyjpqbij xibb omo',\n",
       " 'gsazefqbvrddnfpubqc',\n",
       " 'sybbcorqu eptebylkv',\n",
       " 'subkzfyvidtlfxgwfau',\n",
       " 'uilcpomhuxhiafelizh',\n",
       " 'iretchmtcisdaxvobyh',\n",
       " 'tijlyoaqhuuitqbkbel',\n",
       " 'fvbokhfguinkmfuoxjv',\n",
       " 'syrlrtyhlsmdjqugign',\n",
       " 'jiybiopcho eoabiomo',\n",
       " 'lzqktbycure aicudsv',\n",
       " 'lwxqzfyvbi tpik bpu',\n",
       " 'q qpbprwli muxfpayh',\n",
       " 'tkxopgrtib moxqubym',\n",
       " 'jeppkxrbymddolvgy m',\n",
       " 'tcrdp wbcrtisowwqyz',\n",
       " 'syitcwyncxevbqwybyw',\n",
       " 'zkxtdorqio exy gqfz',\n",
       " 'ewkrwxqjupixfocyvym',\n",
       " 'yskolfbbvrdduetltyn',\n",
       " 'mwxnzilvlb fb mgfln',\n",
       " 'trqspoaqhhixjlpgldu',\n",
       " 'nkywio g sriaacuqcv',\n",
       " 'sryylfajsdojaakhicx',\n",
       " 'yjxgstlbvdnixxnpqcl',\n",
       " 'fivkwplioegiatczxcm',\n",
       " 'yszwtgfgydiraqjlxrc',\n",
       " 'rwxzqoajvycisxvobyg',\n",
       " 'nvawpozizw  foggkcv',\n",
       " 'wcvkzjctuenhapqgfru',\n",
       " 'msm pbcfuxheuxhvoyn',\n",
       " 'mwxrbtzvzwtdpcb ecu',\n",
       " 'rwatpjznugerurtpbqu',\n",
       " 'yzbkdkcn xhdbkfgqfc',\n",
       " 'wkbpyhfbnleddbp rpc',\n",
       " 'jjxzqorjzdcvvpckbqu',\n",
       " 'txxdstyjilertqcacch',\n",
       " 'ewj pfmtmdojapvgcpv',\n",
       " 'sufckgrbysmmofegyly',\n",
       " 'ejqkwcskmdtlfoggfqu',\n",
       " 'nexpyvjkml rpxiybzn',\n",
       " 'eib btqghxaxjsggtml',\n",
       " 'prfykdpqmi ssxtovkz',\n",
       " 'ekepbtycli ffqvloyn',\n",
       " 'm krcogvumsduowlxrb',\n",
       " 'fexdstyunegkfokudyl',\n",
       " 'mpqsxgyq dlezyovkyi',\n",
       " 'wrqspouqiheramtl gm',\n",
       " 'nfkkzuyqlq xibbhkal',\n",
       " 'jexbtkjgumsdcbv bpu',\n",
       " 'glqkdwctzdiwakqgllz',\n",
       " 'enezkrzpufeduymlkyv',\n",
       " 'xrpzxtyq dtlfxyyfrz',\n",
       " 'wjxtyomvbirddlwuqpc',\n",
       " 'jjxnlbatzwtmfkbkbyn',\n",
       " 'wffpcodqldirtqcu cu',\n",
       " 'tixgl rjzv zpkbkbpu',\n",
       " ' fdpwkckyi ssxxpijz',\n",
       " 'msoozigpnlevfxkzxli',\n",
       " 'efkpkxlbzrgpbkfgtfi',\n",
       " 'euyykqcbnekioxhvoyv',\n",
       " 'eib btqghxaxjsggmmz',\n",
       " 'yrlbkcpcnsrdhfxpkeu',\n",
       " 'tlqkgwzvugarazggocx',\n",
       " 'tyktctbbvx so ggyly',\n",
       " 'e pkbtaqariwfabpkqn',\n",
       " 'ne dtjcnsdawaqjlx z',\n",
       " 'xkx zgqkwpedmfvlozl',\n",
       " 'crtzbzyq dixtxqckyy',\n",
       " 'fpxlysyknw sxkbrfly',\n",
       " 'ekepkqccoxydpcbtbbc',\n",
       " 'jmywkdmgnvydbkfgmpi',\n",
       " 'xwxtcolqndtsazggcmo',\n",
       " 'svxtyocpaparexqyxmh',\n",
       " 'qpxtyozb eiruxtlcjz',\n",
       " 'hkbokkz uinkmypkxbc',\n",
       " 'irkzdonqmwewtxvobyb',\n",
       " 'jsodkcdbnlednvu bps',\n",
       " 'e']"
      ]
     },
     "execution_count": 167,
     "metadata": {},
     "output_type": "execute_result"
    }
   ],
   "source": [
    "decode_spreaded(spread(cipher_text, probing_key_length))"
   ]
  },
  {
   "cell_type": "code",
   "execution_count": 168,
   "metadata": {
    "collapsed": false
   },
   "outputs": [],
   "source": [
    "def build_offsets_eqs(cipher_text, key_length, indexed_sym, threshold=.06, alphabet=A):\n",
    "    \n",
    "    n = len(alphabet)\n",
    "    eqs = {c:[] for c in range(key_length)}\n",
    "    spreaded = spread(cipher_text, key_length)\n",
    "    for c,a in itertools.product(range(key_length), repeat=2):\n",
    "    \n",
    "        if a == c: continue\n",
    "        \n",
    "        for g in range(1,n):\n",
    "            column_freqs = frequencies(col(spreaded, c))\n",
    "            another_freqs = frequencies(col(spreaded, a))\n",
    "            mci = mutual_coincidence_index(column_freqs, another_freqs, g)\n",
    "            if mci > threshold: \n",
    "                eqs[c].append(tuple([a, Eq(indexed_sym[a]-indexed_sym[c],g,evaluate=True), mci]))\n",
    "    \n",
    "    return eqs"
   ]
  },
  {
   "cell_type": "code",
   "execution_count": 169,
   "metadata": {
    "collapsed": false,
    "scrolled": false
   },
   "outputs": [],
   "source": [
    "k_sym=IndexedBase('k')\n",
    "\n",
    "eqs_dict = build_offsets_eqs(cipher_text, key_length=probing_key_length, indexed_sym=k_sym)"
   ]
  },
  {
   "cell_type": "code",
   "execution_count": 170,
   "metadata": {
    "collapsed": false
   },
   "outputs": [
    {
     "data": {
      "image/png": "[encoded data removed]",
      "text/latex": [
       "$$\\left [ \\left ( 1, \\quad - k_{0} + k_{1} = 13, \\quad 0.06552125800815375\\right ), \\quad \\left ( 2, \\quad - k_{0} + k_{2} = 19, \\quad 0.07503397398563386\\right ), \\quad \\left ( 3, \\quad - k_{0} + k_{3} = 6, \\quad 0.06930693069306931\\right ), \\quad \\left ( 4, \\quad - k_{0} + k_{4} = 6, \\quad 0.07309260337798486\\right ), \\quad \\left ( 5, \\quad - k_{0} + k_{5} = 10, \\quad 0.07260726072607261\\right ), \\quad \\left ( 6, \\quad - k_{0} + k_{6} = 20, \\quad 0.06513298388662396\\right ), \\quad \\left ( 7, \\quad - k_{0} + k_{7} = 24, \\quad 0.07726655018443021\\right ), \\quad \\left ( 8, \\quad - k_{0} + k_{8} = 16, \\quad 0.0708600271791885\\right ), \\quad \\left ( 9, \\quad - k_{0} + k_{9} = 26, \\quad 0.06882158804115705\\right ), \\quad \\left ( 10, \\quad - k_{0} + k_{10} = 22, \\quad 0.07212191807416035\\right ), \\quad \\left ( 11, \\quad - k_{0} + k_{11} = 26, \\quad 0.07522811104639876\\right ), \\quad \\left ( 12, \\quad - k_{0} + k_{12} = 23, \\quad 0.06969520481459911\\right ), \\quad \\left ( 13, \\quad - k_{0} + k_{13} = 19, \\quad 0.07095709570957096\\right ), \\quad \\left ( 14, \\quad - k_{0} + k_{14} = 24, \\quad 0.06717142302465541\\right ), \\quad \\left ( 15, \\quad - k_{0} + k_{15} = 2, \\quad 0.0801786060959037\\right ), \\quad \\left ( 16, \\quad - k_{0} + k_{16} = 19, \\quad 0.06532712094738885\\right ), \\quad \\left ( 17, \\quad - k_{0} + k_{17} = 20, \\quad 0.07716948165404776\\right ), \\quad \\left ( 18, \\quad - k_{0} + k_{18} = 16, \\quad 0.07406328868180936\\right )\\right ]$$"
      ],
      "text/plain": [
       "[(1, -k[0] + k[1] = 13, 0.06552125800815375), (2, -k[0] + k[2] = 19, 0.0750339\n",
       "7398563386), (3, -k[0] + k[3] = 6, 0.06930693069306931), (4, -k[0] + k[4] = 6,\n",
       " 0.07309260337798486), (5, -k[0] + k[5] = 10, 0.07260726072607261), (6, -k[0] \n",
       "+ k[6] = 20, 0.06513298388662396), (7, -k[0] + k[7] = 24, 0.07726655018443021)\n",
       ", (8, -k[0] + k[8] = 16, 0.0708600271791885), (9, -k[0] + k[9] = 26, 0.0688215\n",
       "8804115705), (10, -k[0] + k[10] = 22, 0.07212191807416035), (11, -k[0] + k[11]\n",
       " = 26, 0.07522811104639876), (12, -k[0] + k[12] = 23, 0.06969520481459911), (1\n",
       "3, -k[0] + k[13] = 19, 0.07095709570957096), (14, -k[0] + k[14] = 24, 0.067171\n",
       "42302465541), (15, -k[0] + k[15] = 2, 0.0801786060959037), (16, -k[0] + k[16] \n",
       "= 19, 0.06532712094738885), (17, -k[0] + k[17] = 20, 0.07716948165404776), (18\n",
       ", -k[0] + k[18] = 16, 0.07406328868180936)]"
      ]
     },
     "execution_count": 170,
     "metadata": {},
     "output_type": "execute_result"
    }
   ],
   "source": [
    "eqs_dict[0]"
   ]
  },
  {
   "cell_type": "code",
   "execution_count": 171,
   "metadata": {
    "collapsed": true
   },
   "outputs": [],
   "source": [
    "def clean_mci_info(eqs_dict):\n",
    "    return {k:list(map(lambda pair: (pair[0], pair[1]), v)) \n",
    "            for k,v in eqs_dict.items()}"
   ]
  },
  {
   "cell_type": "code",
   "execution_count": 172,
   "metadata": {
    "collapsed": false
   },
   "outputs": [
    {
     "data": {
      "image/png": "[encoded data removed]",
      "text/latex": [
       "$$\\left \\{ 0 : \\left [ \\left ( 1, \\quad - k_{0} + k_{1} = 13\\right ), \\quad \\left ( 2, \\quad - k_{0} + k_{2} = 19\\right ), \\quad \\left ( 3, \\quad - k_{0} + k_{3} = 6\\right ), \\quad \\left ( 4, \\quad - k_{0} + k_{4} = 6\\right ), \\quad \\left ( 5, \\quad - k_{0} + k_{5} = 10\\right ), \\quad \\left ( 6, \\quad - k_{0} + k_{6} = 20\\right ), \\quad \\left ( 7, \\quad - k_{0} + k_{7} = 24\\right ), \\quad \\left ( 8, \\quad - k_{0} + k_{8} = 16\\right ), \\quad \\left ( 9, \\quad - k_{0} + k_{9} = 26\\right ), \\quad \\left ( 10, \\quad - k_{0} + k_{10} = 22\\right ), \\quad \\left ( 11, \\quad - k_{0} + k_{11} = 26\\right ), \\quad \\left ( 12, \\quad - k_{0} + k_{12} = 23\\right ), \\quad \\left ( 13, \\quad - k_{0} + k_{13} = 19\\right ), \\quad \\left ( 14, \\quad - k_{0} + k_{14} = 24\\right ), \\quad \\left ( 15, \\quad - k_{0} + k_{15} = 2\\right ), \\quad \\left ( 16, \\quad - k_{0} + k_{16} = 19\\right ), \\quad \\left ( 17, \\quad - k_{0} + k_{17} = 20\\right ), \\quad \\left ( 18, \\quad - k_{0} + k_{18} = 16\\right )\\right ], \\quad 1 : \\left [ \\left ( 0, \\quad k_{0} - k_{1} = 14\\right ), \\quad \\left ( 2, \\quad - k_{1} + k_{2} = 6\\right ), \\quad \\left ( 3, \\quad - k_{1} + k_{3} = 20\\right ), \\quad \\left ( 4, \\quad - k_{1} + k_{4} = 20\\right ), \\quad \\left ( 5, \\quad - k_{1} + k_{5} = 24\\right ), \\quad \\left ( 6, \\quad - k_{1} + k_{6} = 7\\right ), \\quad \\left ( 7, \\quad - k_{1} + k_{7} = 11\\right ), \\quad \\left ( 8, \\quad - k_{1} + k_{8} = 3\\right ), \\quad \\left ( 9, \\quad - k_{1} + k_{9} = 13\\right ), \\quad \\left ( 10, \\quad - k_{1} + k_{10} = 9\\right ), \\quad \\left ( 11, \\quad - k_{1} + k_{11} = 13\\right ), \\quad \\left ( 12, \\quad - k_{1} + k_{12} = 10\\right ), \\quad \\left ( 13, \\quad - k_{1} + k_{13} = 6\\right ), \\quad \\left ( 14, \\quad - k_{1} + k_{14} = 11\\right ), \\quad \\left ( 15, \\quad - k_{1} + k_{15} = 16\\right ), \\quad \\left ( 16, \\quad - k_{1} + k_{16} = 6\\right ), \\quad \\left ( 17, \\quad - k_{1} + k_{17} = 7\\right ), \\quad \\left ( 18, \\quad - k_{1} + k_{18} = 3\\right )\\right ], \\quad 2 : \\left [ \\left ( 0, \\quad k_{0} - k_{2} = 8\\right ), \\quad \\left ( 1, \\quad k_{1} - k_{2} = 21\\right ), \\quad \\left ( 3, \\quad - k_{2} + k_{3} = 14\\right ), \\quad \\left ( 4, \\quad - k_{2} + k_{4} = 1\\right ), \\quad \\left ( 4, \\quad - k_{2} + k_{4} = 14\\right ), \\quad \\left ( 5, \\quad - k_{2} + k_{5} = 18\\right ), \\quad \\left ( 6, \\quad - k_{2} + k_{6} = 1\\right ), \\quad \\left ( 7, \\quad - k_{2} + k_{7} = 5\\right ), \\quad \\left ( 7, \\quad - k_{2} + k_{7} = 20\\right ), \\quad \\left ( 8, \\quad - k_{2} + k_{8} = 11\\right ), \\quad \\left ( 8, \\quad - k_{2} + k_{8} = 24\\right ), \\quad \\left ( 9, \\quad - k_{2} + k_{9} = 7\\right ), \\quad \\left ( 10, \\quad - k_{2} + k_{10} = 3\\right ), \\quad \\left ( 11, \\quad - k_{2} + k_{11} = 7\\right ), \\quad \\left ( 11, \\quad - k_{2} + k_{11} = 21\\right ), \\quad \\left ( 12, \\quad - k_{2} + k_{12} = 4\\right ), \\quad \\left ( 14, \\quad - k_{2} + k_{14} = 5\\right ), \\quad \\left ( 15, \\quad - k_{2} + k_{15} = 10\\right ), \\quad \\left ( 16, \\quad - k_{2} + k_{16} = 5\\right ), \\quad \\left ( 17, \\quad - k_{2} + k_{17} = 1\\right ), \\quad \\left ( 18, \\quad - k_{2} + k_{18} = 24\\right )\\right ], \\quad 3 : \\left [ \\left ( 0, \\quad k_{0} - k_{3} = 21\\right ), \\quad \\left ( 1, \\quad k_{1} - k_{3} = 7\\right ), \\quad \\left ( 2, \\quad k_{2} - k_{3} = 13\\right ), \\quad \\left ( 5, \\quad - k_{3} + k_{5} = 4\\right ), \\quad \\left ( 6, \\quad - k_{3} + k_{6} = 14\\right ), \\quad \\left ( 7, \\quad - k_{3} + k_{7} = 18\\right ), \\quad \\left ( 8, \\quad - k_{3} + k_{8} = 10\\right ), \\quad \\left ( 9, \\quad - k_{3} + k_{9} = 20\\right ), \\quad \\left ( 10, \\quad - k_{3} + k_{10} = 16\\right ), \\quad \\left ( 11, \\quad - k_{3} + k_{11} = 20\\right ), \\quad \\left ( 12, \\quad - k_{3} + k_{12} = 17\\right ), \\quad \\left ( 13, \\quad - k_{3} + k_{13} = 13\\right ), \\quad \\left ( 14, \\quad - k_{3} + k_{14} = 18\\right ), \\quad \\left ( 15, \\quad - k_{3} + k_{15} = 23\\right ), \\quad \\left ( 16, \\quad - k_{3} + k_{16} = 13\\right ), \\quad \\left ( 17, \\quad - k_{3} + k_{17} = 14\\right ), \\quad \\left ( 18, \\quad - k_{3} + k_{18} = 10\\right )\\right ], \\quad 4 : \\left [ \\left ( 0, \\quad k_{0} - k_{4} = 21\\right ), \\quad \\left ( 1, \\quad k_{1} - k_{4} = 7\\right ), \\quad \\left ( 2, \\quad k_{2} - k_{4} = 13\\right ), \\quad \\left ( 2, \\quad k_{2} - k_{4} = 26\\right ), \\quad \\left ( 5, \\quad - k_{4} + k_{5} = 4\\right ), \\quad \\left ( 6, \\quad - k_{4} + k_{6} = 14\\right ), \\quad \\left ( 7, \\quad - k_{4} + k_{7} = 18\\right ), \\quad \\left ( 8, \\quad - k_{4} + k_{8} = 10\\right ), \\quad \\left ( 8, \\quad - k_{4} + k_{8} = 23\\right ), \\quad \\left ( 9, \\quad - k_{4} + k_{9} = 20\\right ), \\quad \\left ( 10, \\quad - k_{4} + k_{10} = 16\\right ), \\quad \\left ( 11, \\quad - k_{4} + k_{11} = 20\\right ), \\quad \\left ( 12, \\quad - k_{4} + k_{12} = 17\\right ), \\quad \\left ( 13, \\quad - k_{4} + k_{13} = 13\\right ), \\quad \\left ( 13, \\quad - k_{4} + k_{13} = 26\\right ), \\quad \\left ( 14, \\quad - k_{4} + k_{14} = 18\\right ), \\quad \\left ( 15, \\quad - k_{4} + k_{15} = 23\\right ), \\quad \\left ( 16, \\quad - k_{4} + k_{16} = 13\\right ), \\quad \\left ( 17, \\quad - k_{4} + k_{17} = 14\\right ), \\quad \\left ( 18, \\quad - k_{4} + k_{18} = 10\\right ), \\quad \\left ( 18, \\quad - k_{4} + k_{18} = 23\\right )\\right ], \\quad 5 : \\left [ \\left ( 0, \\quad k_{0} - k_{5} = 17\\right ), \\quad \\left ( 1, \\quad k_{1} - k_{5} = 3\\right ), \\quad \\left ( 2, \\quad k_{2} - k_{5} = 9\\right ), \\quad \\left ( 3, \\quad k_{3} - k_{5} = 23\\right ), \\quad \\left ( 4, \\quad k_{4} - k_{5} = 23\\right ), \\quad \\left ( 6, \\quad - k_{5} + k_{6} = 10\\right ), \\quad \\left ( 7, \\quad - k_{5} + k_{7} = 14\\right ), \\quad \\left ( 8, \\quad - k_{5} + k_{8} = 6\\right ), \\quad \\left ( 9, \\quad - k_{5} + k_{9} = 16\\right ), \\quad \\left ( 10, \\quad - k_{5} + k_{10} = 12\\right ), \\quad \\left ( 11, \\quad - k_{5} + k_{11} = 16\\right ), \\quad \\left ( 12, \\quad - k_{5} + k_{12} = 13\\right ), \\quad \\left ( 13, \\quad - k_{5} + k_{13} = 9\\right ), \\quad \\left ( 14, \\quad - k_{5} + k_{14} = 14\\right ), \\quad \\left ( 15, \\quad - k_{5} + k_{15} = 1\\right ), \\quad \\left ( 15, \\quad - k_{5} + k_{15} = 19\\right ), \\quad \\left ( 16, \\quad - k_{5} + k_{16} = 9\\right ), \\quad \\left ( 16, \\quad - k_{5} + k_{16} = 14\\right ), \\quad \\left ( 17, \\quad - k_{5} + k_{17} = 10\\right ), \\quad \\left ( 18, \\quad - k_{5} + k_{18} = 6\\right )\\right ], \\quad 6 : \\left [ \\left ( 0, \\quad k_{0} - k_{6} = 7\\right ), \\quad \\left ( 1, \\quad k_{1} - k_{6} = 20\\right ), \\quad \\left ( 2, \\quad k_{2} - k_{6} = 26\\right ), \\quad \\left ( 3, \\quad k_{3} - k_{6} = 13\\right ), \\quad \\left ( 4, \\quad k_{4} - k_{6} = 13\\right ), \\quad \\left ( 5, \\quad k_{5} - k_{6} = 17\\right ), \\quad \\left ( 7, \\quad - k_{6} + k_{7} = 4\\right ), \\quad \\left ( 7, \\quad - k_{6} + k_{7} = 19\\right ), \\quad \\left ( 8, \\quad - k_{6} + k_{8} = 23\\right ), \\quad \\left ( 9, \\quad - k_{6} + k_{9} = 6\\right ), \\quad \\left ( 10, \\quad - k_{6} + k_{10} = 2\\right ), \\quad \\left ( 11, \\quad - k_{6} + k_{11} = 6\\right ), \\quad \\left ( 12, \\quad - k_{6} + k_{12} = 3\\right ), \\quad \\left ( 13, \\quad - k_{6} + k_{13} = 26\\right ), \\quad \\left ( 14, \\quad - k_{6} + k_{14} = 4\\right ), \\quad \\left ( 15, \\quad - k_{6} + k_{15} = 9\\right ), \\quad \\left ( 16, \\quad - k_{6} + k_{16} = 26\\right ), \\quad \\left ( 18, \\quad - k_{6} + k_{18} = 23\\right )\\right ], \\quad 7 : \\left [ \\left ( 0, \\quad k_{0} - k_{7} = 3\\right ), \\quad \\left ( 1, \\quad k_{1} - k_{7} = 16\\right ), \\quad \\left ( 2, \\quad k_{2} - k_{7} = 7\\right ), \\quad \\left ( 2, \\quad k_{2} - k_{7} = 22\\right ), \\quad \\left ( 3, \\quad k_{3} - k_{7} = 9\\right ), \\quad \\left ( 4, \\quad k_{4} - k_{7} = 9\\right ), \\quad \\left ( 5, \\quad k_{5} - k_{7} = 13\\right ), \\quad \\left ( 6, \\quad k_{6} - k_{7} = 8\\right ), \\quad \\left ( 6, \\quad k_{6} - k_{7} = 23\\right ), \\quad \\left ( 8, \\quad - k_{7} + k_{8} = 19\\right ), \\quad \\left ( 9, \\quad - k_{7} + k_{9} = 2\\right ), \\quad \\left ( 10, \\quad - k_{7} + k_{10} = 10\\right ), \\quad \\left ( 10, \\quad - k_{7} + k_{10} = 25\\right ), \\quad \\left ( 11, \\quad - k_{7} + k_{11} = 2\\right ), \\quad \\left ( 12, \\quad - k_{7} + k_{12} = 26\\right ), \\quad \\left ( 13, \\quad - k_{7} + k_{13} = 22\\right ), \\quad \\left ( 15, \\quad - k_{7} + k_{15} = 5\\right ), \\quad \\left ( 15, \\quad - k_{7} + k_{15} = 17\\right ), \\quad \\left ( 16, \\quad - k_{7} + k_{16} = 22\\right ), \\quad \\left ( 17, \\quad - k_{7} + k_{17} = 8\\right ), \\quad \\left ( 17, \\quad - k_{7} + k_{17} = 23\\right ), \\quad \\left ( 18, \\quad - k_{7} + k_{18} = 19\\right )\\right ], \\quad 8 : \\left [ \\left ( 0, \\quad k_{0} - k_{8} = 11\\right ), \\quad \\left ( 1, \\quad k_{1} - k_{8} = 24\\right ), \\quad \\left ( 2, \\quad k_{2} - k_{8} = 3\\right ), \\quad \\left ( 2, \\quad k_{2} - k_{8} = 16\\right ), \\quad \\left ( 3, \\quad k_{3} - k_{8} = 17\\right ), \\quad \\left ( 4, \\quad k_{4} - k_{8} = 4\\right ), \\quad \\left ( 4, \\quad k_{4} - k_{8} = 17\\right ), \\quad \\left ( 5, \\quad k_{5} - k_{8} = 21\\right ), \\quad \\left ( 6, \\quad k_{6} - k_{8} = 4\\right ), \\quad \\left ( 7, \\quad k_{7} - k_{8} = 8\\right ), \\quad \\left ( 9, \\quad - k_{8} + k_{9} = 10\\right ), \\quad \\left ( 10, \\quad - k_{8} + k_{10} = 6\\right ), \\quad \\left ( 11, \\quad - k_{8} + k_{11} = 10\\right ), \\quad \\left ( 12, \\quad - k_{8} + k_{12} = 7\\right ), \\quad \\left ( 13, \\quad - k_{8} + k_{13} = 3\\right ), \\quad \\left ( 14, \\quad - k_{8} + k_{14} = 8\\right ), \\quad \\left ( 15, \\quad - k_{8} + k_{15} = 13\\right ), \\quad \\left ( 16, \\quad - k_{8} + k_{16} = 3\\right ), \\quad \\left ( 17, \\quad - k_{8} + k_{17} = 4\\right )\\right ], \\quad 9 : \\left [ \\left ( 0, \\quad k_{0} - k_{9} = 1\\right ), \\quad \\left ( 1, \\quad k_{1} - k_{9} = 14\\right ), \\quad \\left ( 2, \\quad k_{2} - k_{9} = 20\\right ), \\quad \\left ( 3, \\quad k_{3} - k_{9} = 7\\right ), \\quad \\left ( 4, \\quad k_{4} - k_{9} = 7\\right ), \\quad \\left ( 5, \\quad k_{5} - k_{9} = 11\\right ), \\quad \\left ( 6, \\quad k_{6} - k_{9} = 21\\right ), \\quad \\left ( 7, \\quad k_{7} - k_{9} = 25\\right ), \\quad \\left ( 8, \\quad k_{8} - k_{9} = 17\\right ), \\quad \\left ( 10, \\quad - k_{9} + k_{10} = 23\\right ), \\quad \\left ( 12, \\quad - k_{9} + k_{12} = 24\\right ), \\quad \\left ( 13, \\quad - k_{9} + k_{13} = 20\\right ), \\quad \\left ( 14, \\quad - k_{9} + k_{14} = 25\\right ), \\quad \\left ( 15, \\quad - k_{9} + k_{15} = 3\\right ), \\quad \\left ( 16, \\quad - k_{9} + k_{16} = 20\\right ), \\quad \\left ( 17, \\quad - k_{9} + k_{17} = 21\\right ), \\quad \\left ( 18, \\quad - k_{9} + k_{18} = 17\\right )\\right ], \\quad 10 : \\left [ \\left ( 0, \\quad k_{0} - k_{10} = 5\\right ), \\quad \\left ( 1, \\quad k_{1} - k_{10} = 18\\right ), \\quad \\left ( 2, \\quad k_{2} - k_{10} = 24\\right ), \\quad \\left ( 3, \\quad k_{3} - k_{10} = 11\\right ), \\quad \\left ( 4, \\quad k_{4} - k_{10} = 11\\right ), \\quad \\left ( 5, \\quad k_{5} - k_{10} = 15\\right ), \\quad \\left ( 6, \\quad k_{6} - k_{10} = 25\\right ), \\quad \\left ( 7, \\quad k_{7} - k_{10} = 2\\right ), \\quad \\left ( 7, \\quad k_{7} - k_{10} = 17\\right ), \\quad \\left ( 8, \\quad k_{8} - k_{10} = 21\\right ), \\quad \\left ( 9, \\quad k_{9} - k_{10} = 4\\right ), \\quad \\left ( 11, \\quad - k_{10} + k_{11} = 4\\right ), \\quad \\left ( 12, \\quad - k_{10} + k_{12} = 1\\right ), \\quad \\left ( 13, \\quad - k_{10} + k_{13} = 24\\right ), \\quad \\left ( 14, \\quad - k_{10} + k_{14} = 2\\right ), \\quad \\left ( 15, \\quad - k_{10} + k_{15} = 7\\right ), \\quad \\left ( 16, \\quad - k_{10} + k_{16} = 2\\right ), \\quad \\left ( 16, \\quad - k_{10} + k_{16} = 24\\right ), \\quad \\left ( 17, \\quad - k_{10} + k_{17} = 25\\right ), \\quad \\left ( 18, \\quad - k_{10} + k_{18} = 21\\right )\\right ], \\quad 11 : \\left [ \\left ( 0, \\quad k_{0} - k_{11} = 1\\right ), \\quad \\left ( 1, \\quad k_{1} - k_{11} = 14\\right ), \\quad \\left ( 2, \\quad k_{2} - k_{11} = 6\\right ), \\quad \\left ( 2, \\quad k_{2} - k_{11} = 20\\right ), \\quad \\left ( 3, \\quad k_{3} - k_{11} = 7\\right ), \\quad \\left ( 4, \\quad k_{4} - k_{11} = 7\\right ), \\quad \\left ( 5, \\quad k_{5} - k_{11} = 11\\right ), \\quad \\left ( 6, \\quad k_{6} - k_{11} = 21\\right ), \\quad \\left ( 7, \\quad k_{7} - k_{11} = 25\\right ), \\quad \\left ( 8, \\quad k_{8} - k_{11} = 17\\right ), \\quad \\left ( 10, \\quad k_{10} - k_{11} = 23\\right ), \\quad \\left ( 12, \\quad - k_{11} + k_{12} = 24\\right ), \\quad \\left ( 13, \\quad - k_{11} + k_{13} = 20\\right ), \\quad \\left ( 14, \\quad - k_{11} + k_{14} = 25\\right ), \\quad \\left ( 15, \\quad - k_{11} + k_{15} = 3\\right ), \\quad \\left ( 16, \\quad - k_{11} + k_{16} = 20\\right ), \\quad \\left ( 17, \\quad - k_{11} + k_{17} = 21\\right ), \\quad \\left ( 18, \\quad - k_{11} + k_{18} = 17\\right )\\right ], \\quad 12 : \\left [ \\left ( 0, \\quad k_{0} - k_{12} = 4\\right ), \\quad \\left ( 1, \\quad k_{1} - k_{12} = 17\\right ), \\quad \\left ( 2, \\quad k_{2} - k_{12} = 23\\right ), \\quad \\left ( 3, \\quad k_{3} - k_{12} = 10\\right ), \\quad \\left ( 4, \\quad k_{4} - k_{12} = 10\\right ), \\quad \\left ( 5, \\quad k_{5} - k_{12} = 14\\right ), \\quad \\left ( 6, \\quad k_{6} - k_{12} = 24\\right ), \\quad \\left ( 7, \\quad k_{7} - k_{12} = 1\\right ), \\quad \\left ( 8, \\quad k_{8} - k_{12} = 20\\right ), \\quad \\left ( 9, \\quad k_{9} - k_{12} = 3\\right ), \\quad \\left ( 10, \\quad k_{10} - k_{12} = 26\\right ), \\quad \\left ( 11, \\quad k_{11} - k_{12} = 3\\right ), \\quad \\left ( 13, \\quad - k_{12} + k_{13} = 23\\right ), \\quad \\left ( 14, \\quad - k_{12} + k_{14} = 1\\right ), \\quad \\left ( 15, \\quad - k_{12} + k_{15} = 6\\right ), \\quad \\left ( 16, \\quad - k_{12} + k_{16} = 23\\right ), \\quad \\left ( 17, \\quad - k_{12} + k_{17} = 24\\right ), \\quad \\left ( 18, \\quad - k_{12} + k_{18} = 20\\right )\\right ], \\quad 13 : \\left [ \\left ( 0, \\quad k_{0} - k_{13} = 8\\right ), \\quad \\left ( 1, \\quad k_{1} - k_{13} = 21\\right ), \\quad \\left ( 3, \\quad k_{3} - k_{13} = 14\\right ), \\quad \\left ( 4, \\quad k_{4} - k_{13} = 1\\right ), \\quad \\left ( 4, \\quad k_{4} - k_{13} = 14\\right ), \\quad \\left ( 5, \\quad k_{5} - k_{13} = 18\\right ), \\quad \\left ( 6, \\quad k_{6} - k_{13} = 1\\right ), \\quad \\left ( 7, \\quad k_{7} - k_{13} = 5\\right ), \\quad \\left ( 8, \\quad k_{8} - k_{13} = 24\\right ), \\quad \\left ( 9, \\quad k_{9} - k_{13} = 7\\right ), \\quad \\left ( 10, \\quad k_{10} - k_{13} = 3\\right ), \\quad \\left ( 11, \\quad k_{11} - k_{13} = 7\\right ), \\quad \\left ( 12, \\quad k_{12} - k_{13} = 4\\right ), \\quad \\left ( 14, \\quad - k_{13} + k_{14} = 5\\right ), \\quad \\left ( 15, \\quad - k_{13} + k_{15} = 10\\right ), \\quad \\left ( 16, \\quad - k_{13} + k_{16} = 5\\right ), \\quad \\left ( 17, \\quad - k_{13} + k_{17} = 1\\right ), \\quad \\left ( 18, \\quad - k_{13} + k_{18} = 24\\right )\\right ], \\quad 14 : \\left [ \\left ( 0, \\quad k_{0} - k_{14} = 3\\right ), \\quad \\left ( 1, \\quad k_{1} - k_{14} = 16\\right ), \\quad \\left ( 2, \\quad k_{2} - k_{14} = 22\\right ), \\quad \\left ( 3, \\quad k_{3} - k_{14} = 9\\right ), \\quad \\left ( 4, \\quad k_{4} - k_{14} = 9\\right ), \\quad \\left ( 5, \\quad k_{5} - k_{14} = 13\\right ), \\quad \\left ( 6, \\quad k_{6} - k_{14} = 23\\right ), \\quad \\left ( 8, \\quad k_{8} - k_{14} = 19\\right ), \\quad \\left ( 9, \\quad k_{9} - k_{14} = 2\\right ), \\quad \\left ( 10, \\quad k_{10} - k_{14} = 25\\right ), \\quad \\left ( 11, \\quad k_{11} - k_{14} = 2\\right ), \\quad \\left ( 12, \\quad k_{12} - k_{14} = 26\\right ), \\quad \\left ( 13, \\quad k_{13} - k_{14} = 22\\right ), \\quad \\left ( 15, \\quad - k_{14} + k_{15} = 5\\right ), \\quad \\left ( 16, \\quad - k_{14} + k_{16} = 22\\right ), \\quad \\left ( 17, \\quad - k_{14} + k_{17} = 23\\right ), \\quad \\left ( 18, \\quad - k_{14} + k_{18} = 19\\right )\\right ], \\quad 15 : \\left [ \\left ( 0, \\quad k_{0} - k_{15} = 25\\right ), \\quad \\left ( 1, \\quad k_{1} - k_{15} = 11\\right ), \\quad \\left ( 2, \\quad k_{2} - k_{15} = 17\\right ), \\quad \\left ( 3, \\quad k_{3} - k_{15} = 4\\right ), \\quad \\left ( 4, \\quad k_{4} - k_{15} = 4\\right ), \\quad \\left ( 5, \\quad k_{5} - k_{15} = 8\\right ), \\quad \\left ( 5, \\quad k_{5} - k_{15} = 26\\right ), \\quad \\left ( 6, \\quad k_{6} - k_{15} = 18\\right ), \\quad \\left ( 7, \\quad k_{7} - k_{15} = 10\\right ), \\quad \\left ( 7, \\quad k_{7} - k_{15} = 22\\right ), \\quad \\left ( 8, \\quad k_{8} - k_{15} = 14\\right ), \\quad \\left ( 9, \\quad k_{9} - k_{15} = 24\\right ), \\quad \\left ( 10, \\quad k_{10} - k_{15} = 20\\right ), \\quad \\left ( 11, \\quad k_{11} - k_{15} = 24\\right ), \\quad \\left ( 12, \\quad k_{12} - k_{15} = 21\\right ), \\quad \\left ( 13, \\quad k_{13} - k_{15} = 17\\right ), \\quad \\left ( 14, \\quad k_{14} - k_{15} = 22\\right ), \\quad \\left ( 16, \\quad - k_{15} + k_{16} = 8\\right ), \\quad \\left ( 16, \\quad - k_{15} + k_{16} = 17\\right ), \\quad \\left ( 16, \\quad - k_{15} + k_{16} = 22\\right ), \\quad \\left ( 17, \\quad - k_{15} + k_{17} = 18\\right ), \\quad \\left ( 18, \\quad - k_{15} + k_{18} = 14\\right )\\right ], \\quad 16 : \\left [ \\left ( 0, \\quad k_{0} - k_{16} = 8\\right ), \\quad \\left ( 1, \\quad k_{1} - k_{16} = 21\\right ), \\quad \\left ( 2, \\quad k_{2} - k_{16} = 22\\right ), \\quad \\left ( 3, \\quad k_{3} - k_{16} = 14\\right ), \\quad \\left ( 4, \\quad k_{4} - k_{16} = 14\\right ), \\quad \\left ( 5, \\quad k_{5} - k_{16} = 13\\right ), \\quad \\left ( 5, \\quad k_{5} - k_{16} = 18\\right ), \\quad \\left ( 6, \\quad k_{6} - k_{16} = 1\\right ), \\quad \\left ( 7, \\quad k_{7} - k_{16} = 5\\right ), \\quad \\left ( 8, \\quad k_{8} - k_{16} = 24\\right ), \\quad \\left ( 9, \\quad k_{9} - k_{16} = 7\\right ), \\quad \\left ( 10, \\quad k_{10} - k_{16} = 3\\right ), \\quad \\left ( 10, \\quad k_{10} - k_{16} = 25\\right ), \\quad \\left ( 11, \\quad k_{11} - k_{16} = 7\\right ), \\quad \\left ( 12, \\quad k_{12} - k_{16} = 4\\right ), \\quad \\left ( 13, \\quad k_{13} - k_{16} = 22\\right ), \\quad \\left ( 14, \\quad k_{14} - k_{16} = 5\\right ), \\quad \\left ( 15, \\quad k_{15} - k_{16} = 5\\right ), \\quad \\left ( 15, \\quad k_{15} - k_{16} = 10\\right ), \\quad \\left ( 15, \\quad k_{15} - k_{16} = 19\\right ), \\quad \\left ( 17, \\quad - k_{16} + k_{17} = 1\\right ), \\quad \\left ( 18, \\quad - k_{16} + k_{18} = 19\\right ), \\quad \\left ( 18, \\quad - k_{16} + k_{18} = 24\\right )\\right ], \\quad 17 : \\left [ \\left ( 0, \\quad k_{0} - k_{17} = 7\\right ), \\quad \\left ( 1, \\quad k_{1} - k_{17} = 20\\right ), \\quad \\left ( 2, \\quad k_{2} - k_{17} = 26\\right ), \\quad \\left ( 3, \\quad k_{3} - k_{17} = 13\\right ), \\quad \\left ( 4, \\quad k_{4} - k_{17} = 13\\right ), \\quad \\left ( 5, \\quad k_{5} - k_{17} = 17\\right ), \\quad \\left ( 7, \\quad k_{7} - k_{17} = 4\\right ), \\quad \\left ( 7, \\quad k_{7} - k_{17} = 19\\right ), \\quad \\left ( 8, \\quad k_{8} - k_{17} = 23\\right ), \\quad \\left ( 9, \\quad k_{9} - k_{17} = 6\\right ), \\quad \\left ( 10, \\quad k_{10} - k_{17} = 2\\right ), \\quad \\left ( 11, \\quad k_{11} - k_{17} = 6\\right ), \\quad \\left ( 12, \\quad k_{12} - k_{17} = 3\\right ), \\quad \\left ( 13, \\quad k_{13} - k_{17} = 26\\right ), \\quad \\left ( 14, \\quad k_{14} - k_{17} = 4\\right ), \\quad \\left ( 15, \\quad k_{15} - k_{17} = 9\\right ), \\quad \\left ( 16, \\quad k_{16} - k_{17} = 26\\right ), \\quad \\left ( 18, \\quad - k_{17} + k_{18} = 23\\right )\\right ], \\quad 18 : \\left [ \\left ( 0, \\quad k_{0} - k_{18} = 11\\right ), \\quad \\left ( 1, \\quad k_{1} - k_{18} = 24\\right ), \\quad \\left ( 2, \\quad k_{2} - k_{18} = 3\\right ), \\quad \\left ( 3, \\quad k_{3} - k_{18} = 17\\right ), \\quad \\left ( 4, \\quad k_{4} - k_{18} = 4\\right ), \\quad \\left ( 4, \\quad k_{4} - k_{18} = 17\\right ), \\quad \\left ( 5, \\quad k_{5} - k_{18} = 21\\right ), \\quad \\left ( 6, \\quad k_{6} - k_{18} = 4\\right ), \\quad \\left ( 7, \\quad k_{7} - k_{18} = 8\\right ), \\quad \\left ( 9, \\quad k_{9} - k_{18} = 10\\right ), \\quad \\left ( 10, \\quad k_{10} - k_{18} = 6\\right ), \\quad \\left ( 11, \\quad k_{11} - k_{18} = 10\\right ), \\quad \\left ( 12, \\quad k_{12} - k_{18} = 7\\right ), \\quad \\left ( 13, \\quad k_{13} - k_{18} = 3\\right ), \\quad \\left ( 14, \\quad k_{14} - k_{18} = 8\\right ), \\quad \\left ( 15, \\quad k_{15} - k_{18} = 13\\right ), \\quad \\left ( 16, \\quad k_{16} - k_{18} = 3\\right ), \\quad \\left ( 16, \\quad k_{16} - k_{18} = 8\\right ), \\quad \\left ( 17, \\quad k_{17} - k_{18} = 4\\right )\\right ]\\right \\}$$"
      ],
      "text/plain": [
       "{0: [(1, -k[0] + k[1] = 13), (2, -k[0] + k[2] = 19), (3, -k[0] + k[3] = 6), (4\n",
       ", -k[0] + k[4] = 6), (5, -k[0] + k[5] = 10), (6, -k[0] + k[6] = 20), (7, -k[0]\n",
       " + k[7] = 24), (8, -k[0] + k[8] = 16), (9, -k[0] + k[9] = 26), (10, -k[0] + k[\n",
       "10] = 22), (11, -k[0] + k[11] = 26), (12, -k[0] + k[12] = 23), (13, -k[0] + k[\n",
       "13] = 19), (14, -k[0] + k[14] = 24), (15, -k[0] + k[15] = 2), (16, -k[0] + k[1\n",
       "6] = 19), (17, -k[0] + k[17] = 20), (18, -k[0] + k[18] = 16)], 1: [(0, k[0] - \n",
       "k[1] = 14), (2, -k[1] + k[2] = 6), (3, -k[1] + k[3] = 20), (4, -k[1] + k[4] = \n",
       "20), (5, -k[1] + k[5] = 24), (6, -k[1] + k[6] = 7), (7, -k[1] + k[7] = 11), (8\n",
       ", -k[1] + k[8] = 3), (9, -k[1] + k[9] = 13), (10, -k[1] + k[10] = 9), (11, -k[\n",
       "1] + k[11] = 13), (12, -k[1] + k[12] = 10), (13, -k[1] + k[13] = 6), (14, -k[1\n",
       "] + k[14] = 11), (15, -k[1] + k[15] = 16), (16, -k[1] + k[16] = 6), (17, -k[1]\n",
       " + k[17] = 7), (18, -k[1] + k[18] = 3)], 2: [(0, k[0] - k[2] = 8), (1, k[1] - \n",
       "k[2] = 21), (3, -k[2] + k[3] = 14), (4, -k[2] + k[4] = 1), (4, -k[2] + k[4] = \n",
       "14), (5, -k[2] + k[5] = 18), (6, -k[2] + k[6] = 1), (7, -k[2] + k[7] = 5), (7,\n",
       " -k[2] + k[7] = 20), (8, -k[2] + k[8] = 11), (8, -k[2] + k[8] = 24), (9, -k[2]\n",
       " + k[9] = 7), (10, -k[2] + k[10] = 3), (11, -k[2] + k[11] = 7), (11, -k[2] + k\n",
       "[11] = 21), (12, -k[2] + k[12] = 4), (14, -k[2] + k[14] = 5), (15, -k[2] + k[1\n",
       "5] = 10), (16, -k[2] + k[16] = 5), (17, -k[2] + k[17] = 1), (18, -k[2] + k[18]\n",
       " = 24)], 3: [(0, k[0] - k[3] = 21), (1, k[1] - k[3] = 7), (2, k[2] - k[3] = 13\n",
       "), (5, -k[3] + k[5] = 4), (6, -k[3] + k[6] = 14), (7, -k[3] + k[7] = 18), (8, \n",
       "-k[3] + k[8] = 10), (9, -k[3] + k[9] = 20), (10, -k[3] + k[10] = 16), (11, -k[\n",
       "3] + k[11] = 20), (12, -k[3] + k[12] = 17), (13, -k[3] + k[13] = 13), (14, -k[\n",
       "3] + k[14] = 18), (15, -k[3] + k[15] = 23), (16, -k[3] + k[16] = 13), (17, -k[\n",
       "3] + k[17] = 14), (18, -k[3] + k[18] = 10)], 4: [(0, k[0] - k[4] = 21), (1, k[\n",
       "1] - k[4] = 7), (2, k[2] - k[4] = 13), (2, k[2] - k[4] = 26), (5, -k[4] + k[5]\n",
       " = 4), (6, -k[4] + k[6] = 14), (7, -k[4] + k[7] = 18), (8, -k[4] + k[8] = 10),\n",
       " (8, -k[4] + k[8] = 23), (9, -k[4] + k[9] = 20), (10, -k[4] + k[10] = 16), (11\n",
       ", -k[4] + k[11] = 20), (12, -k[4] + k[12] = 17), (13, -k[4] + k[13] = 13), (13\n",
       ", -k[4] + k[13] = 26), (14, -k[4] + k[14] = 18), (15, -k[4] + k[15] = 23), (16\n",
       ", -k[4] + k[16] = 13), (17, -k[4] + k[17] = 14), (18, -k[4] + k[18] = 10), (18\n",
       ", -k[4] + k[18] = 23)], 5: [(0, k[0] - k[5] = 17), (1, k[1] - k[5] = 3), (2, k\n",
       "[2] - k[5] = 9), (3, k[3] - k[5] = 23), (4, k[4] - k[5] = 23), (6, -k[5] + k[6\n",
       "] = 10), (7, -k[5] + k[7] = 14), (8, -k[5] + k[8] = 6), (9, -k[5] + k[9] = 16)\n",
       ", (10, -k[5] + k[10] = 12), (11, -k[5] + k[11] = 16), (12, -k[5] + k[12] = 13)\n",
       ", (13, -k[5] + k[13] = 9), (14, -k[5] + k[14] = 14), (15, -k[5] + k[15] = 1), \n",
       "(15, -k[5] + k[15] = 19), (16, -k[5] + k[16] = 9), (16, -k[5] + k[16] = 14), (\n",
       "17, -k[5] + k[17] = 10), (18, -k[5] + k[18] = 6)], 6: [(0, k[0] - k[6] = 7), (\n",
       "1, k[1] - k[6] = 20), (2, k[2] - k[6] = 26), (3, k[3] - k[6] = 13), (4, k[4] -\n",
       " k[6] = 13), (5, k[5] - k[6] = 17), (7, -k[6] + k[7] = 4), (7, -k[6] + k[7] = \n",
       "19), (8, -k[6] + k[8] = 23), (9, -k[6] + k[9] = 6), (10, -k[6] + k[10] = 2), (\n",
       "11, -k[6] + k[11] = 6), (12, -k[6] + k[12] = 3), (13, -k[6] + k[13] = 26), (14\n",
       ", -k[6] + k[14] = 4), (15, -k[6] + k[15] = 9), (16, -k[6] + k[16] = 26), (18, \n",
       "-k[6] + k[18] = 23)], 7: [(0, k[0] - k[7] = 3), (1, k[1] - k[7] = 16), (2, k[2\n",
       "] - k[7] = 7), (2, k[2] - k[7] = 22), (3, k[3] - k[7] = 9), (4, k[4] - k[7] = \n",
       "9), (5, k[5] - k[7] = 13), (6, k[6] - k[7] = 8), (6, k[6] - k[7] = 23), (8, -k\n",
       "[7] + k[8] = 19), (9, -k[7] + k[9] = 2), (10, -k[7] + k[10] = 10), (10, -k[7] \n",
       "+ k[10] = 25), (11, -k[7] + k[11] = 2), (12, -k[7] + k[12] = 26), (13, -k[7] +\n",
       " k[13] = 22), (15, -k[7] + k[15] = 5), (15, -k[7] + k[15] = 17), (16, -k[7] + \n",
       "k[16] = 22), (17, -k[7] + k[17] = 8), (17, -k[7] + k[17] = 23), (18, -k[7] + k\n",
       "[18] = 19)], 8: [(0, k[0] - k[8] = 11), (1, k[1] - k[8] = 24), (2, k[2] - k[8]\n",
       " = 3), (2, k[2] - k[8] = 16), (3, k[3] - k[8] = 17), (4, k[4] - k[8] = 4), (4,\n",
       " k[4] - k[8] = 17), (5, k[5] - k[8] = 21), (6, k[6] - k[8] = 4), (7, k[7] - k[\n",
       "8] = 8), (9, -k[8] + k[9] = 10), (10, -k[8] + k[10] = 6), (11, -k[8] + k[11] =\n",
       " 10), (12, -k[8] + k[12] = 7), (13, -k[8] + k[13] = 3), (14, -k[8] + k[14] = 8\n",
       "), (15, -k[8] + k[15] = 13), (16, -k[8] + k[16] = 3), (17, -k[8] + k[17] = 4)]\n",
       ", 9: [(0, k[0] - k[9] = 1), (1, k[1] - k[9] = 14), (2, k[2] - k[9] = 20), (3, \n",
       "k[3] - k[9] = 7), (4, k[4] - k[9] = 7), (5, k[5] - k[9] = 11), (6, k[6] - k[9]\n",
       " = 21), (7, k[7] - k[9] = 25), (8, k[8] - k[9] = 17), (10, -k[9] + k[10] = 23)\n",
       ", (12, -k[9] + k[12] = 24), (13, -k[9] + k[13] = 20), (14, -k[9] + k[14] = 25)\n",
       ", (15, -k[9] + k[15] = 3), (16, -k[9] + k[16] = 20), (17, -k[9] + k[17] = 21),\n",
       " (18, -k[9] + k[18] = 17)], 10: [(0, k[0] - k[10] = 5), (1, k[1] - k[10] = 18)\n",
       ", (2, k[2] - k[10] = 24), (3, k[3] - k[10] = 11), (4, k[4] - k[10] = 11), (5, \n",
       "k[5] - k[10] = 15), (6, k[6] - k[10] = 25), (7, k[7] - k[10] = 2), (7, k[7] - \n",
       "k[10] = 17), (8, k[8] - k[10] = 21), (9, k[9] - k[10] = 4), (11, -k[10] + k[11\n",
       "] = 4), (12, -k[10] + k[12] = 1), (13, -k[10] + k[13] = 24), (14, -k[10] + k[1\n",
       "4] = 2), (15, -k[10] + k[15] = 7), (16, -k[10] + k[16] = 2), (16, -k[10] + k[1\n",
       "6] = 24), (17, -k[10] + k[17] = 25), (18, -k[10] + k[18] = 21)], 11: [(0, k[0]\n",
       " - k[11] = 1), (1, k[1] - k[11] = 14), (2, k[2] - k[11] = 6), (2, k[2] - k[11]\n",
       " = 20), (3, k[3] - k[11] = 7), (4, k[4] - k[11] = 7), (5, k[5] - k[11] = 11), \n",
       "(6, k[6] - k[11] = 21), (7, k[7] - k[11] = 25), (8, k[8] - k[11] = 17), (10, k\n",
       "[10] - k[11] = 23), (12, -k[11] + k[12] = 24), (13, -k[11] + k[13] = 20), (14,\n",
       " -k[11] + k[14] = 25), (15, -k[11] + k[15] = 3), (16, -k[11] + k[16] = 20), (1\n",
       "7, -k[11] + k[17] = 21), (18, -k[11] + k[18] = 17)], 12: [(0, k[0] - k[12] = 4\n",
       "), (1, k[1] - k[12] = 17), (2, k[2] - k[12] = 23), (3, k[3] - k[12] = 10), (4,\n",
       " k[4] - k[12] = 10), (5, k[5] - k[12] = 14), (6, k[6] - k[12] = 24), (7, k[7] \n",
       "- k[12] = 1), (8, k[8] - k[12] = 20), (9, k[9] - k[12] = 3), (10, k[10] - k[12\n",
       "] = 26), (11, k[11] - k[12] = 3), (13, -k[12] + k[13] = 23), (14, -k[12] + k[1\n",
       "4] = 1), (15, -k[12] + k[15] = 6), (16, -k[12] + k[16] = 23), (17, -k[12] + k[\n",
       "17] = 24), (18, -k[12] + k[18] = 20)], 13: [(0, k[0] - k[13] = 8), (1, k[1] - \n",
       "k[13] = 21), (3, k[3] - k[13] = 14), (4, k[4] - k[13] = 1), (4, k[4] - k[13] =\n",
       " 14), (5, k[5] - k[13] = 18), (6, k[6] - k[13] = 1), (7, k[7] - k[13] = 5), (8\n",
       ", k[8] - k[13] = 24), (9, k[9] - k[13] = 7), (10, k[10] - k[13] = 3), (11, k[1\n",
       "1] - k[13] = 7), (12, k[12] - k[13] = 4), (14, -k[13] + k[14] = 5), (15, -k[13\n",
       "] + k[15] = 10), (16, -k[13] + k[16] = 5), (17, -k[13] + k[17] = 1), (18, -k[1\n",
       "3] + k[18] = 24)], 14: [(0, k[0] - k[14] = 3), (1, k[1] - k[14] = 16), (2, k[2\n",
       "] - k[14] = 22), (3, k[3] - k[14] = 9), (4, k[4] - k[14] = 9), (5, k[5] - k[14\n",
       "] = 13), (6, k[6] - k[14] = 23), (8, k[8] - k[14] = 19), (9, k[9] - k[14] = 2)\n",
       ", (10, k[10] - k[14] = 25), (11, k[11] - k[14] = 2), (12, k[12] - k[14] = 26),\n",
       " (13, k[13] - k[14] = 22), (15, -k[14] + k[15] = 5), (16, -k[14] + k[16] = 22)\n",
       ", (17, -k[14] + k[17] = 23), (18, -k[14] + k[18] = 19)], 15: [(0, k[0] - k[15]\n",
       " = 25), (1, k[1] - k[15] = 11), (2, k[2] - k[15] = 17), (3, k[3] - k[15] = 4),\n",
       " (4, k[4] - k[15] = 4), (5, k[5] - k[15] = 8), (5, k[5] - k[15] = 26), (6, k[6\n",
       "] - k[15] = 18), (7, k[7] - k[15] = 10), (7, k[7] - k[15] = 22), (8, k[8] - k[\n",
       "15] = 14), (9, k[9] - k[15] = 24), (10, k[10] - k[15] = 20), (11, k[11] - k[15\n",
       "] = 24), (12, k[12] - k[15] = 21), (13, k[13] - k[15] = 17), (14, k[14] - k[15\n",
       "] = 22), (16, -k[15] + k[16] = 8), (16, -k[15] + k[16] = 17), (16, -k[15] + k[\n",
       "16] = 22), (17, -k[15] + k[17] = 18), (18, -k[15] + k[18] = 14)], 16: [(0, k[0\n",
       "] - k[16] = 8), (1, k[1] - k[16] = 21), (2, k[2] - k[16] = 22), (3, k[3] - k[1\n",
       "6] = 14), (4, k[4] - k[16] = 14), (5, k[5] - k[16] = 13), (5, k[5] - k[16] = 1\n",
       "8), (6, k[6] - k[16] = 1), (7, k[7] - k[16] = 5), (8, k[8] - k[16] = 24), (9, \n",
       "k[9] - k[16] = 7), (10, k[10] - k[16] = 3), (10, k[10] - k[16] = 25), (11, k[1\n",
       "1] - k[16] = 7), (12, k[12] - k[16] = 4), (13, k[13] - k[16] = 22), (14, k[14]\n",
       " - k[16] = 5), (15, k[15] - k[16] = 5), (15, k[15] - k[16] = 10), (15, k[15] -\n",
       " k[16] = 19), (17, -k[16] + k[17] = 1), (18, -k[16] + k[18] = 19), (18, -k[16]\n",
       " + k[18] = 24)], 17: [(0, k[0] - k[17] = 7), (1, k[1] - k[17] = 20), (2, k[2] \n",
       "- k[17] = 26), (3, k[3] - k[17] = 13), (4, k[4] - k[17] = 13), (5, k[5] - k[17\n",
       "] = 17), (7, k[7] - k[17] = 4), (7, k[7] - k[17] = 19), (8, k[8] - k[17] = 23)\n",
       ", (9, k[9] - k[17] = 6), (10, k[10] - k[17] = 2), (11, k[11] - k[17] = 6), (12\n",
       ", k[12] - k[17] = 3), (13, k[13] - k[17] = 26), (14, k[14] - k[17] = 4), (15, \n",
       "k[15] - k[17] = 9), (16, k[16] - k[17] = 26), (18, -k[17] + k[18] = 23)], 18: \n",
       "[(0, k[0] - k[18] = 11), (1, k[1] - k[18] = 24), (2, k[2] - k[18] = 3), (3, k[\n",
       "3] - k[18] = 17), (4, k[4] - k[18] = 4), (4, k[4] - k[18] = 17), (5, k[5] - k[\n",
       "18] = 21), (6, k[6] - k[18] = 4), (7, k[7] - k[18] = 8), (9, k[9] - k[18] = 10\n",
       "), (10, k[10] - k[18] = 6), (11, k[11] - k[18] = 10), (12, k[12] - k[18] = 7),\n",
       " (13, k[13] - k[18] = 3), (14, k[14] - k[18] = 8), (15, k[15] - k[18] = 13), (\n",
       "16, k[16] - k[18] = 3), (16, k[16] - k[18] = 8), (17, k[17] - k[18] = 4)]}"
      ]
     },
     "execution_count": 172,
     "metadata": {},
     "output_type": "execute_result"
    }
   ],
   "source": [
    "eqs_dict_pure = clean_mci_info(eqs_dict)\n",
    "eqs_dict_pure"
   ]
  },
  {
   "cell_type": "code",
   "execution_count": 173,
   "metadata": {
    "collapsed": false
   },
   "outputs": [],
   "source": [
    "def candidate_keys(eqs_dict, indexed_sym, apply_mod=False, alphabet=A):\n",
    "    key_length = len(eqs_dict)\n",
    "    n = len(alphabet)\n",
    "    candidates = {}\n",
    "    for c, eq_pairs in eqs_dict.items():\n",
    "        candidates[c]=[]\n",
    "        for d in range(len(alphabet)):\n",
    "            key = [indexed_sym[i] for i in range(key_length)]\n",
    "            key[c] = d\n",
    "            for a, eq in eq_pairs:\n",
    "                subs_eq = eq.subs(indexed_sym[c],d)\n",
    "                key[a] = solve(subs_eq, indexed_sym[a])[0]\n",
    "                if apply_mod: key[a] = key[a] % n\n",
    "                    \n",
    "            at_least_one_missing = next((ind for ind in key \n",
    "                                         if isinstance(ind, Indexed) or ind >= n), None)\n",
    "            if not at_least_one_missing: candidates[c].append(key)\n",
    "    return candidates"
   ]
  },
  {
   "cell_type": "code",
   "execution_count": 174,
   "metadata": {
    "collapsed": false
   },
   "outputs": [],
   "source": [
    "possible_keys = candidate_keys(eqs_dict_pure, k_sym)"
   ]
  },
  {
   "cell_type": "code",
   "execution_count": 175,
   "metadata": {
    "collapsed": true
   },
   "outputs": [],
   "source": [
    "def attempt_keys(candidate_keys, cipher_text, threshold=.06):\n",
    "    sols = set()\n",
    "    flat_keys = []\n",
    "    for c, keys in candidate_keys.items(): \n",
    "        for key in keys: flat_keys.append(key)\n",
    "    for key in flat_keys:\n",
    "        decrypted = decrypt(cipher_text, key)\n",
    "        ci = coincidence_index(frequencies(decrypted))\n",
    "        if ci > threshold: sols.add((ci, decode(key)))\n",
    "    return sols"
   ]
  },
  {
   "cell_type": "code",
   "execution_count": 176,
   "metadata": {
    "collapsed": false
   },
   "outputs": [],
   "source": [
    "sols = attempt_keys(possible_keys, cipher_text)"
   ]
  },
  {
   "cell_type": "code",
   "execution_count": 177,
   "metadata": {
    "collapsed": false
   },
   "outputs": [
    {
     "data": {
      "text/plain": [
       "{(0.0668789082855654, 'ivwoosbfyhzhewftaby'),\n",
       " (0.0668789082855654, 'jwxpptcgzi ifxgubcz'),\n",
       " (0.07444632621156852, 'zlree swoyuyvrwawso'),\n",
       " (0.07635650078165711, 'fsyllpzrveaebychyzv'),\n",
       " (0.07635650078165711, 'gtzmmq swfbfczdiz w'),\n",
       " (0.07733465780788605, 'rdjxxakogqmqnjotokg'),\n",
       " (0.07733465780788605, 'sekyyblphrnrokpuplh'),\n",
       " (0.07733465780788605, 'tflzzcmqisosplqvqmi'),\n",
       " (0.07733465780788605, 'ugm  dnrjtptqmrwrnj'),\n",
       " (0.07878506600660067, 'antggkuyq w xtyctuq'),\n",
       " (0.07878506600660067, 'erxkkoybud daxbgxyu'),\n",
       " (0.07878506600660067, 'oaguuyhldnjnkglqghd'),\n",
       " (0.07878506600660067, 'pbhvvzimeokolhmrhie'),\n",
       " (0.07878506600660067, 'qciww jnfplpminsijf')}"
      ]
     },
     "execution_count": 177,
     "metadata": {},
     "output_type": "execute_result"
    }
   ],
   "source": [
    "sols"
   ]
  },
  {
   "cell_type": "code",
   "execution_count": 178,
   "metadata": {
    "collapsed": false
   },
   "outputs": [
    {
     "name": "stdout",
     "output_type": "stream",
     "text": [
      "key:(gtzmmq swfbfczdiz w)\n",
      "plaintext:\n",
      "sgdz ssb bshnmznezldchdu kkkhsdq stqdzbnldrzopqg orzlnqdzrsqnmfkizeqnlzrnldznsgdqzbztmsqhdrzsg mzeqnlzpmfk mczhmzeq mbdz yczoqnudmbdzhmzfdqllmxz mczhbdk mczsgdbdzvdqdzkhsdq qxz cfdmstqdqrzlnqdzc qhyfz mcz bghdudldmsrklnqdzchrshmfthrgdckhszv rzmnszhmzdmfklmczsg szsgdzlnrszvzmcdqetkzsghmfrzvdqpzoqnctbdczsgdqdzhrkmnsghmfzhmznkczdmfwhrgzsg szs jdrzgnkoznezsgdzlhmczvhsgzdg szl rsdqetkz mczctacthmfzonvdqzvghbszrshkkzadknmfrzsnzdgdzkxqhb kzrs my rknezsgdzsqnta cntqrk mczlhmmdrhmfdqrzszzvdkrgzqnl mbdznqzdnzsgdzdohbzoqnrdznqzsgdzhbdk mczghrsnbhdrzzzsgdzmnql mzbzmptdrszcdfq cdczsgpzdmfkhrgzk mft fdzqqnlzhsrzkhsdq qxzqlmjz mczaqntfgszhmzlzmdvzk mft fdzenqzdgdzonkhsdqzkhsdq seqdzhszchczmnszcdrsbnxzhmznmdzrdmrdzhskchczmnsz arnktsdkxkhmsdqqtoszdmfkhrgzwhsdq stqdzatszhszsznjz v xzsgdzdmfkhrszkhsdq qxzrs mc qck mczsgqdvzsgdzbntmdqxza bjzhmsnzsgdzbzmchshnmznezhs kxzapenqdzc msd mz m qbsxznezch kdbsrzvgdmk zmdvzkhsdq qxzk mrt fdzv rzdrs akhrgpczhmzsgdzshldznezbs tbdqzsgdzlhcckdz rdrzvdqdzmd qkxznudbz mczrnzhszg oodmdozsg szenqzsgdzfqd ddrsznezsgdzldchdu wzbdmstqhdrzsgdzsvdwesgz mczsghqsddmsgksgdzbdmstqhdrznezssdzbqtr cdrznezsgdzsngdmrs tedmzdlodqnbrznezrszeq mbhrzrskcnlhmhbz mczrszknttrzsgdqdzhrzhmzdmfktrgzmnzfqd szqdoqdrpms shudzvnqjzhmzoqzrdznqzqgxldzsgdqdzlqdzadssdqzsghmfrzhdzhrzsqtdzsg mzsgdzcs ffdqhmfzqgxsglrzzezk x lnmznqzsgdzvzncdmzoqdbhrhnmznezzqlzsgdz mbqdmzqhvkpzhrzadssdqzatszsgdbdzhrzmnznmdzvgnzb yzadzs jdmz rzrnldzzezsgdzvqhsdqrzhmzndgdqzbntmsqhdrzb mbbdrshdmzcdzsqnhdrzezqzhmrs mbdznqzv kssdqzunmzcdqzunfdkvdtcdznqzuhkkdg qcnthysgdqdzhrzmnznmdzhmkdmfk mczvgnzb mzadks jdmzenqz zqdoqdrpms shudzondsznqznqlsnqzfhuhmfzntszvg dzb mzadzqdbnfmhrdck sznmbdz mczhrzqdbzfmhrdczhmrshmbshudwxz rzsgdzadrszonrrtakdzkhsdq qxzvnqjzzezhsrznvmzc xz mcztsrznvmzjhmczsgdzadltsxznezldchdu kzonpsqxz mczoqnrdzhrzmzszsnzadzentmczhmzdyfk mcznqznmkxzhmz ke hmszqdekdbsdczv izdmfk mczchczmnszozrrdrrzsgdzgd qszneksgdzlxrsdqxz\n",
      "\n",
      "\n",
      "key:(jwxpptcgzi ifxgubcz)\n",
      "plaintext:\n",
      "pdfwxppnxzuekowbbwia jarxhwheuanbphnawzknaowlandbloaibnawopskjchuwbskiaobiawkpianwzkqjunefonpdxjwgnkiwajcmxjewwjwbnxozawxj wqnkwaazawejacanixjuaxjewwzahxjewpdanawxanfwzepanxsuwx rajuqnfnfwiknaa xnejcwbj axqdearanajpowiksaweefpejcqjoda wepasxtwakpwejaajchxj apdbpnpdawipopwskj fnbvhnpdejctwsanawlsk vzs wpdasaweowjkudeocnejwkhewajcheoiwpixgwpxgatwdkh wkgwpianiej wxepdwpdxuwiboganbqhaxj woqyeqeocnlksanasdezdwouehmwpahkjctwpkwpdaahuseqxhwopbjvxowkbapdfwgnkqyxekqnowxjewijjaaoejcfnowpkwsfhoiwekixjzfwknwpkwudaaacezwlnpoawkbwpiawjzshxj wieopkneatwwapvawjknnxjwzkjmvaouwracnx f wpdawaochjovwhxjcvxcawbnknweuonhepanbnuwnxjgaxjewpnkqcduwejwxwjfswmxacqxcaabknwpdaalkmeganwheuanxpqnaaepa w wjkpa aopnkuaejakaawoajtawepw eewjppnxyokhvpahuwejuansqcpwajcmeodwhepfnxuqeawyqpaepwpkkgaxsbunpdawaocheodwhjpasxeuwopxo xn wxjewpinsswpdaazkqjpnuayxdgnejpkwudawzkj jpepjnkbwepbhuwyabksawexapaxjwbjxnzduwpbweeohazpoasdajwxwoasahwpanxnzwhxjcqxhawxxfwaopxcheoda wjjwudswpeiaakbwzdxqdanapvawie ehawxcaoasasanjaxnhzwkranwxo wtknepwdxqlaja wpixpabbnwpdaacnaxpaouwkgwgdawiaeearxhwzfjpvnwaowpdfwpsahbpiwxo npdenpfajpdwpdfwzfjgqneaoakbwpdawdnqtxraowkbapdawdkdfjouxhbajwanlanknowpbwtpnbnxjzjowopw knejjznxj wouwhkqeowudasaneowejaajcheodajkaceaxpwnflnaoajpbpewanskngwjjwlnkoaaknanvuiawpianawxnaayaupsnwpdeocowepwetwpsqswpdxjapdawopxhcaseacwnduudiowkbwmxubibjwknwudawskk fjwqnszeoekowkbwkniapdfwojznajaneshawetwyfpganwyquwpdanawjowoknkjawsikwzxjwyfwpbgsjwxowtkiawkbwudaaseepanoaejwkpdaswzpqapneaoazxjznaoueaowrawpnkjaowbknwjjouxazawknasxhpdanarkowranwrkhahsae aaknarwhhadxs kqejpdfnaaefwjkwkoawejwajhhxo nsdkwzbjwyawpxlajabbnwxwnflnaoajpbpewanlkapwpnwknxpkswcjrwjcwkquwsdxpwzbjwcannazkcoeoa wxpakjdanxj wetwnazkcjjoaewwjopejdperahuwbowudswyaopalkooeyhfwhjpsnxnuwxkngwkbwjpoakjjw xuaxj wepoaksowyej wpiawyaxqpzwkgw a earbhwlkapnzwxo nlnkoaaeowjkpwukwcanbkqj aejwajchbj akewkjhuaejwxwbxjjpansbhazpf wsxuwaochbjrw e wokpwlkoofooapvawdaxspwkbwpdfwizoganuw\n",
      "\n",
      "\n",
      "key:(ivwoosbfyhzhewftaby)\n",
      "plaintext:\n",
      "qegxyqqoy vflpxccxjbakbsyixifvbocqiobx lobpxmboecmpbjcobxpqtlkdivxctljbpcjbxlqjbox lrkvofgpoqeykxholjxbkdnykfxxkxcoyp bxykaxrolxbb bxfkbdbojykvbykfxx biykfxqebobxybogx fqboytvxyasbkvrogogxjlobbayofkdxckabyrefbsbobkqpxjltbxffgqfkdrkpebaxfqbtyuxblqxfkbbkdiykabqecqoqebxjqpqxtlkagocwioqefkduxtbobxmtlaw taxqebtbxfpxklvefpdofkxlifxbkdifpjxqjyhxqyhbuxeliaxlhxqjbojfkaxyfqexqeyvxjcphbocribykaxprzfrfpdomltbobtef expvfinxqbilkduxqlxqebbivtfryixpqckwypxlcbqegxholrzyflropxykfxjkkbbpfkdgopxqlxtgipjxfljyk gxloxqlxvebbbdf xmoqpbxlcxqjbxk tiykaxjfpqlofbuxxbqwbxklooykx lknwbpvxsbdoyagaxqebxbpdikpwxiykdwydbxcoloxfvpoifqbocovxoykhbykfxqolrdevxfkxyxkgtxnybdrydbbcloxqebbmlnfhboxifvboyqrobbfqbaxaxklqbabpqolvbfkblbbxpbkubxfqxaffxkqqoyzpliwqbivxfkvbotrdqxbkdnfpexifqgoyvrfbxzrqbfqxqllhbytcvoqebxbpdifpexikqbtyfvxpqypayoaxykfxqjottxqebb lrkqovbzyehofkqlxvebx lkakqfqkolcxfqcivxzbcltbxfybqbykxckyo evxqcxffpib qpbtebkxyxpbtbixqboyo xiykdryibxyygxbpqydifpebaxkkxvetxqfjbblcx eyrebobqwbxjfafibxydbpbtbtbokbyoi xlsboxypaxulofqxeyrmbkbaxqjyqbccoxqebbdobyqbpvxlhxhebxjbffbsyix gkqwoxbpxqegxqtbicqjxypaoqefoqgbkqexqegx gkhrofbpblcxqebxeoruysbpxlcbqebxelegkpvyicbkxbombolopxqcxuqocoyk kpxpqxalofkk oykaxpvxilrfpxvebtbofpxfkbbkdifpebklbdfbyqxogmobpbkqcqfxbotlohxkkxmolpbblobowvjbxqjbobxyobbzbvqtoxqefpdpxfqxfuxqtrtxqeykbqebxpqyidbtfbdxoevvejpxlcxnyvcjckxloxvebxtllagkxrot fpflpxlcxlojbqegxpk obkboftibxfuxzgqhboxzrvxqebobxkpxplolkbxtjlx ykxzgxqchtkxypxuljbxlcxvebbtffqbopbfkxlqebtx qrbqofbpb yk obpvfbpxsbxqolkbpxcloxkkpvyb bxlobtyiqebobslpxsboxslibitbfabblobsxiibeytalrfkqegobbfgxklxlpbxfkxbkiiypaotelx ckxzbxqymbkbccoxyxogmobpbkqcqfxbomlbqxqoxloyqltxdksxkdxlrvxteyqx ckxdboob ldpfpbaxyqblkeboykaxfuxob ldkkpbfxxkpqfkeqfsbivxcpxvetxzbpqbmlppfzigxikqtoyovxylohxlcxkqpblkkxayvbykaxfqpbltpxzfkaxqjbxzbyrq xlhxabafbscixmlbqo xypaomolpbbfpxklqxvlxdboclrkabfkxbkdickablfxlkivbfkxyxcykkqbotcib qgaxtyvxbpdicksxafaxplqxmlppgppbqwbxebytqxlcxqegxj phbovx\n",
      "\n",
      "\n",
      "key:(oaguuyhldnjnkglqghd)\n",
      "plaintext:\n",
      "kzwrskkisuk ferfxrdwv wmscrc kwiskliwrufdwjrgwizsgjrdfiwrjkifeycprxifdrjfdwrfkzwirufleki wjrkzserxifdrweycsevr erxiseuwrsevrgifmweuwr erywidseprsevr uwcsevrkzwiwrnwiwrc kwisiprsvmwekliwijrdfiwrvsi eyrsevrsuz wmwdwekjrdfiwrv jk eyl jzwvr krnsjrefkr erweycsevrkzskrkzwrdfjkrnfevwixlcrkz eyjrnwiwrgifvluwvrkzwiwr jrefkz eyr erfcvrweyc jzrkzskrksbwjrzfcvrfxrkzwrd evrn kzrkzskrdsjkwixlcrsevrjltvl eyrgfnwirnz uzrjk ccrtwcfeyjrkfrkzwrcpi uscrjkseqsjrfxrkzwrkifltsvflijrsevrd eewj eywijrkfrnwcjzrifdseuwrfirkfrkzwrwg urgifjwrfxrkzwr uwcsevrz jkfi wjrrrkzwrefidserufehlwjkrvwyisvwvrkzwrweyc jzrcseylsywrxifdr kjrc kwisiprisebrsevrtiflyzkr ersrewnrcseylsywrxfirkzwrgfc kwirc kwiskliwr krv vrefkrvwjkifpr erfewrjwejwr krv vrefkrstjfclkwcpr ekwiilgkrweyc jzrc kwiskliwrtlkr krkffbrsnsprkzwrweyc jzrc kwisiprjksevsivrsevrkziwnrkzwruflekiprtsubr ekfrkzwrufev k ferfxr kscprtwxfiwrvsekwsersesiuzprfxrv scwukjrnzwersrewnrc kwisiprcseylsywrnsjrwjkstc jzwvr erkzwrk dwrfxruzsluwirkzwrd vvcwrsywjrnwiwrewsicprfmwirsevrjfr krzsggwewvrkzskrxfirkzwryiwskwjkrfxrkzwrdwv wmscruwekli wjrkzwrknwcxkzrsevrkz ikwwekzrkzwruwekli wjrfxrkzwruiljsvwjrfxrkzwrzfzwejkslxwerwdgwifijrfxrjkrxiseu jrjkrvfd e ursevrjkrcfl jrkzwiwr jr erweyc jzrefryiwskriwgiwjweksk mwrnfibr ergifjwrfirizpdwrkzwiwrsiwrtwkkwirkz eyjr kr jrkilwrkzserkzwrjksyywi eyrizpkzdjrfxrcspsdferfirkzwrnffvwergiwu j ferfxrfidrkzwrseuiweri ncwr jrtwkkwirtlkrkzwiwr jrefrfewrnzfrusertwrksbwersjrjfdwrfxrkzwrni kwijr erfkzwirufleki wjruseuiwjk wervwrkif wjrxfir ejkseuwrfirnsckzwirmfervwirmfywcnw vwrfirm ccwzsivfl ekzwiwr jrefrfewr erweycsevrnzfrusertwrksbwerxfirsriwgiwjweksk mwrgfwkrfirfiskfiry m eyrflkrnzskrusertwriwufye jwvrskrfeuwrsevr jriwufye jwvr ejk euk mwcprsjrkzwrtwjkrgfjj tcwrc kwisiprnfibrfxr kjrfnervsprsevr kjrfnerb evrkzwrtwslkprfxrdwv wmscrgfwkiprsevrgifjwr jrefkrkfrtwrxflevr erweycsevrfirfecpr ersrxs ekriwxcwukwvrnsprweycsevrv vrefkrgfjjwjjrkzwrzwsikrfxrkzwrdpjkwipr\n",
      "\n",
      "\n",
      "key:(zlree swoyuyvrwawso)\n",
      "plaintext:\n",
      " olghi yhj pvugvhgtlkplbqsgsp lyh atlgjvtlzpwlyohwzgtvtlgz yvuwsegmyvtgzvolgv olypjvau yplzgvohugmyvbglunshukgppgmyhujlphukgwyvbluelgpugnlgthueghukgpelshukg xlylgclylgsk lyhyegqkblu aylyzbtvylgkhgpunghukghjjplbltluizgtvylgkpzvpunapzoukgp gchzguq gpugluwshukg oh gvolgtvz pcvuklymasgvopunzgcuylgwyvkajlfg olylgyzguv opungkugvskglcnspzog oh b hrlzgodskgvmg olgopukgcp xg oh gthz gymasghutgzaikapungrvclygcoyjogz pssgigsvunzg dg olgseypjcsgz hufqzgvmg olg tvaihkvagzghukgtpuugzpunlyzp vgclszogyqthujlgvgg vg olglwkjgwyvzlpvmg olgpjlnhukgopzivyplzggg ogguvythupjvuxalz gkgnyhklkgiolglunspzobshunahnugmyvtgp zgnp lyhyepyhurghukgitvano gpcghgulcgshuiahnlgmvgg olgwvsp gygsp lyq aylgp gkpfguv gklh yvegpugvuggzluzlgy gkpkguv gcizvsa laegpu lyyawvglunspzxgsp lyh ayggia gp p vvrghchegvolglunsyzogsp lyhy gz hukhgkghukg oylyg olgjvju yegihjrgku vg olpjvukp pvugqmgp hsepilmvylgkhuvlhughuhgjoegvmgkphnlj zgcouughgulcgspvlyhyegsqunahnlgchzblz hispholkgpug olb ptlgvmpjohajlyg oggtpkkslphnlzgclylgplhysegvklyghukgzvgk gohwwlclkg oh gmvtg olgnyuh lz gvmg jlgtlkplkhsgjlu aypgzg olg llsm oghukgvopy lluiog olgjlu wyplzgvmp olgjyazhkgzgvmg ougovoluz hahlugltwlgvyzgvmgz ghyhujpzgh gkvtpupjgcukgz gsdapzg olylgkzgpugluwspzoguvgnygh gylwyuzlu h pblgyvyrgpugeyvzlgvygyo tlg olyughylgil  ltg opunzpp gpzg yalb ohug ougz hnnlypuigyoe othgvmgshehtvpgvyg olpcvvklugwylepzpvugvvgvytg olghpjylugyplslgpzgil  gygia g xlylgpzguvgqulgcovgshugilg hrlpghzgzvtugvmg olgcyk lyzgpupv olygjvauvyplzgjhcjylz plugkgg yvplzpmvygpuz huelgvygcha olygbvugkgygbvnlsllpklgvygbpnslohykvjpu olylgpzbuvgvulgyuglunshukgyovgjhugrlg hrlugmvtghgylwyuzlu h pblgrvl gvygdyh vygnpbppngva gcxh gjhugilgtljvnupzukgh gvujlgcukgpzgyujvnupzlkgppz puj pklseghzg olbilz gwvhzpislgsp lthyegcvy gvmgp zgvcpgkheghutgp zgvcugrkukg olgrlha egvmgtgkplbhsgevl yeghukgryvzlgpzpuv g vgilghvaukgpuplunshukgvybvusegpuphgmhpu gylhslj lkglheglunshukbkpkguv pwvzzlzzg oggolhy gdmg olgtez gyeg\n",
      "\n",
      "\n",
      "key:(pbhvvzimeokolhmrhie)\n",
      "plaintext:\n",
      "jyvqrjjhrtjzedqewqcvuzvlrbqbzjvhrjkhvqtecviqfvhyrfiqcehvqijhedxboqwhecqiecvqejyvhqtekdjhzviqjyrdqwhecqvdxbrduqzdqwhrdtvqrduqfhelvdtvqzdqxvhcrdoqrduqztvbrduqjyvhvqmvhvqbzjvhrhoqrulvdjkhvhiqcehvqurhzdxqrduqrtyzvlvcvdjiqcehvquzijzdxkziyvuqzjqmriqdejqzdqvdxbrduqjyrjqjyvqceijqmeduvhwkbqjyzdxiqmvhvqfheuktvuqjyvhvqziqdejyzdxqzdqebuqvdxbziyqjyrjqjraviqyebuqewqjyvqczduqmzjyqjyrjqcrijvhwkbqrduqiksukzdxqfemvhqmyztyqijzbbqsvbedxiqjeqjyvqbohztrbqijrdpriqewqjyvqjheksruekhiqrduqczddvizdxvhiqjeqmvbiyqhecrdtvqehqjeqjyvqvfztqfheivqewqjyvqztvbrduqyzijehzviqqqjyvqdehcrdqtedgkvijquvxhruvuqjyvqvdxbziyqbrdxkrxvqwhecqzjiqbzjvhrhoqhrdaqrduqshekxyjqzdqrqdvmqbrdxkrxvqwehqjyvqfebzjvhqbzjvhrjkhvqzjquzuqdejquvijheoqzdqedvqivdivqzjquzuqdejqrsiebkjvboqzdjvhhkfjqvdxbziyqbzjvhrjkhvqskjqzjqjeeaqrmroqjyvqvdxbziyqbzjvhrhoqijrdurhuqrduqjyhvmqjyvqtekdjhoqsrtaqzdjeqjyvqteduzjzedqewqzjrboqsvwehvqurdjvrdqrdrhtyoqewquzrbvtjiqmyvdqrqdvmqbzjvhrhoqbrdxkrxvqmriqvijrsbziyvuqzdqjyvqjzcvqewqtyrktvhqjyvqczuubvqrxviqmvhvqdvrhboqelvhqrduqieqzjqyrffvdvuqjyrjqwehqjyvqxhvrjvijqewqjyvqcvuzvlrbqtvdjkhzviqjyvqjmvbwjyqrduqjyzhjvvdjyqjyvqtvdjkhzviqewqjyvqthkiruviqewqjyvqyeyvdijrkwvdqvcfvhehiqewqijqwhrdtziqijqueczdztqrduqijqbekziqjyvhvqziqzdqvdxbziyqdeqxhvrjqhvfhvivdjrjzlvqmehaqzdqfheivqehqhyocvqjyvhvqrhvqsvjjvhqjyzdxiqzjqziqjhkvqjyrdqjyvqijrxxvhzdxqhyojyciqewqbrorcedqehqjyvqmeeuvdqfhvtzizedqewqehcqjyvqrdthvdqhzmbvqziqsvjjvhqskjqjyvhvqziqdeqedvqmyeqtrdqsvqjravdqriqiecvqewqjyvqmhzjvhiqzdqejyvhqtekdjhzviqtrdthvijzvdquvqjhezviqwehqzdijrdtvqehqmrbjyvhqledquvhqlexvbmvzuvqehqlzbbvyrhuekzdjyvhvqziqdeqedvqzdqvdxbrduqmyeqtrdqsvqjravdqwehqrqhvfhvivdjrjzlvqfevjqehqehrjehqxzlzdxqekjqmyrjqtrdqsvqhvtexdzivuqrjqedtvqrduqziqhvtexdzivuqzdijzdtjzlvboqriqjyvqsvijqfeiizsbvqbzjvhrhoqmehaqewqzjiqemdquroqrduqzjiqemdqazduqjyvqsvrkjoqewqcvuzvlrbqfevjhoqrduqfheivqziqdejqjeqsvqwekduqzdqvdxbrduqehqedboqzdqrqwrzdjqhvwbvtjvuqmroqvdxbrduquzuqdejqfeiiviiqjyvqyvrhjqewqjyvqcoijvhoq\n",
      "\n",
      "\n",
      "key:(rdjxxakogqmqnjotokg)\n",
      "plaintext:\n",
      "hwtophhfprhxcbocpoatsxtjp o xhtfphiatorcatgodtfwpdgoacatoghfcbv moufcaogcwtochwtforcibhfxtgocwpboufcaotbv pbsoxxoufpbrtopbsodfcjtbmtoxbovtfapbmopbsoxmt pbsohwtftoktfto shtfpfmopsjtbhiftfgjacftospfxbvopbsoprrxtjtatbhgoacftosxgcxbvixgwtsoxhokpgobyhoxbotbv pbsohwphocwtoacghokcbstfui ocwxbvgoktftodfcsirtnohwtftoxgobchwxbvosboc sotbv xgwohwphjhpztgowc socuohwtowxbsokxhwohwphoapghofui opbsogiqsixbvozcktfokwxrwoghx  oqo cbvgohcohwto mfxrk oghpbnpgocuohwtohaciqpscifgopbsoaxbbogxbvtfgohcokt gwofyapbrtocfohcohwtotdsrodfcgtocuohwtoxrtvpbsowxghcfxtgooohwoobcfapborcbeitghosovfpstsohwtotbv xgwj pbvipvtoufcaoxhgovxhtfpfmofpbzopbsoqacivwhoxbopobtko pbqipvtoucfohwtodc xhofo xhtfphiftoxhosxnobchostghfcmoxbocboogtbgtoxhosxsobchokqgc iht moxbhtffidcotbv xgwo xhtfphifooqihoxhohcczopkpmocwtotbv xgwo xhtfpfhoghpbspfsopbsohwftfohwtorcibhfmoqprzosbhcohwtorcbsxhxcboyuoxhp moqtucftospbctpbopbpfrwmocuosxpvtrhgokwtbopobtko xctfpfmo pbvipvtokpgjtghpq xgwtsoxbohwtjhxatocuorwpirtfohwooaxss topvtgoktftoxtpf mocjtfopbsogcoshowpddtbtsohwphoucaohwtovftphtghocuohrtoatsxtjp ortbhifxogohwtohkt uhwopbsocwxfhttbhwohwtortbhdfxtgocuohwtorfigpsogocuohwtowcwtbghpiptbotadtfcfgocuoghopfpbrxgoghoscaxbxrokbsogho cixgohwtftosgoxbotbv xgwobcovfophoftdftgtbhphxjtofcfzoxbodfcgtocfofwhatohwtftopftoqthhtaohwxbvgoxhoxgohfitjhwpbohwtoghpvvtfxbqofwmhwagocuo pmpacxocfohwtokccstbodftmxgxcbocuocfaohwtopxrftbofxk toxgoqthhofoqihohwtftoxgobcoybtokwcorpboqtohpztxopgogcatocuohwtokfshtfgoxbochwtforcibcfxtgorpbrftghxtbosoohfcxtgoucfoxbghpbmtocfokp hwtfojcbosofojcvt ktxstocfojxv twpfscixbhwtftoxgjbcocbtoxbotbv pbsofwcorpboqtohpztboucaopoftdftgtbhphxjtozcthocfocfphcfovxjxxvocihokwphorpboqtoatrcvbxgtsophocbrtokbsoxgoftrcvbxgtsoxxghxbrhxjt mopgohwtjqtghodcggxq to xhtapfmokcfzocuoxhgockxospmopbsoxhgockbozsbsohwtoqtpihmocuoaosxtjp odcthfmopbsozfcgtoxgobchohcoqtopcibsoxbotbv pbsocfjcb moxbopoupxbhoftp trhtsokpmotbv pbsjsxsobchodcggtggohwoowtpfhocuohwtoamghofmo\n",
      "\n",
      "\n",
      "key:(fsyllpzrveaebychyzv)\n",
      "plaintext:\n",
      "the attcaction of medievallliterature comes pqrhaps more stronglj from some other c untries than from qngland in france azd provence in germmny and iceland thece were literary adgenturers more darizg and achievementslmore distinguishedlit was not in englmnd that the most w nderful things werq produced there islnothing in old engxish that takes holp of the mind with ehat masterful and dubduing power whict still belongs to ehe lyrical stanzaslof the troubadoursland minnesingers t  welsh romance or eo the epic prose or the iceland histocies   the norman c nquest degraded thq english language rrom its literary rmnk and brought in m new language for ehe politer literatfre it did not destcoy in one sense itldid not absolutelylinterrupt english xiterature but it t ok away the englist literary standardland threw the counery back into the c ndition of italy bqfore dantean anarcty of dialects whenla new literary lansuage was establishqd in the time of ctaucer the middle ases were nearly ovec and so it happenep that for the greaeest of the medievax centuries the twexfth and thirteenthlthe centuries of tte crusades of the tohenstaufen emperocs of st francis stldominic and st louus there is in englush no great represqntative work in pr se or rhyme there mre better things ie is true than the dtaggering rhythms  f layamon or the w oden precision of  rm the ancren riwlq is better but thece is no one who caz be taken as some  f the writers in oeher countries canccestien de troies f r instance or waltter von der vogelweude or villehardouizthere is no one inlengland who can beltaken for a represqntative poet or ormtor giving out whae can be recognisedlat once and is rec gnised instinctivexy as the best possuble literary work  f its own day and uts own kind the bemuty of medieval poqtry and prose is n t to be found in ezgland or only in alfaint reflected waj england did not p ssess the heart oflthe mystery \n",
      "\n",
      "\n",
      "key:(sekyyblphrnrokpuplh)\n",
      "plaintext:\n",
      "gvsnoggeoqgwbanbon srwsioznzwgseogh snqb sfncsevocfn b snfgebauzlnteb nfbvsnbgvsenqbhagewsfnbvoanteb nsauzoarnwwnteoaqsnoarncebisalsnwanuse oalnoarnwlszoarngvsesnjsesnzrgseoelnorisaghesefi besnroewaunoarnoqqwsis sagfn besnrwfbwauhwfvsrnwgnjofnaxgnwansauzoarngvognbvsn bfgnjbarsethznbvwaufnjsesncebrhqsmngvsesnwfnabgvwaunranbzrnsauzwfvngvogigoysfnvbzrnbtngvsnvwarnjwgvngvogn ofgnethznoarnfhprhwaunybjsenjvwqvnfgwzznpnzbaufngbngvsnzlewqjznfgoamofnbtngvsng bhporbhefnoarn waanfwausefngbnjszfvnex oaqsnbengbngvsnscrqncebfsnbtngvsnwqsuoarnvwfgbewsfnnngvnnabe oanqbadhsfgnrnueorsrngvsnsauzwfvizoauhousnteb nwgfnuwgseoelneoaynoarnp bhuvgnwanonasjnzoaphousntbengvsncbzwgnenzwgseoghesnwgnrwmnabgnrsfgeblnwanbannfsafsnwgnrwrnabgnjpfbzhgszlnwagseehcbnsauzwfvnzwgseoghennphgnwgngbbynojolnbvsnsauzwfvnzwgseoegnfgoaroernoarngvesengvsnqbhagelnpoqynragbngvsnqbarwgwbanxtnwgozlnpstbesnroabsoanoaoeqvlnbtnrwousqgfnjvsanonasjnzwbseoelnzoauhousnjofisfgopzwfvsrnwangvsigw snbtnqvohqsengvnn wrrzsnousfnjsesnwsoezlnbisenoarnfbnrgnvoccsasrngvogntb ngvsnuesogsfgnbtngqsn srwsioznqsaghewnfngvsngjsztgvnoarnbvwegssagvngvsnqsagcewsfnbtngvsnqehfornfnbtngvsnvbvsafgohosans csebefnbtnfgnoeoaqwfnfgnrb wawqnjarnfgnzbhwfngvsesnrfnwansauzwfvnabnuenognescesfsagogwisnebeynwancebfsnbenevg sngvsesnoesnpsggs ngvwaufnwgnwfngehsigvoangvsnfgouusewapnevlgv fnbtnzolo bwnbengvsnjbbrsanceslwfwbanbtnbe ngvsnowqesanewjzsnwfnpsggnenphgngvsesnwfnabnxasnjvbnqoanpsngoyswnofnfb snbtngvsnjergsefnwanbgvsenqbhabewsfnqoaqesfgwsanrnngebwsfntbenwafgoalsnbenjozgvsenibanrnenibuszjswrsnbeniwuzsvoerbhwagvsesnwfiabnbasnwansauzoarnevbnqoanpsngoysantb nonescesfsagogwisnybsgnbenbeogbenuwiwwunbhgnjvognqoanpsn sqbuawfsrnognbaqsnjarnwfnesqbuawfsrnwwfgwaqgwiszlnofngvsipsfgncbffwpzsnzwgs oelnjbeynbtnwgfnbjwnrolnoarnwgfnbjanyrarngvsnpsohglnbtn nrwsiozncbsgelnoarnyebfsnwfnabgngbnpsnobharnwansauzoarnbeibazlnwanontowagnesozsqgsrnjolnsauzoarirwrnabgncbffsffngvnnvsoegnbtngvsn lfgneln\n",
      "\n",
      "\n",
      "key:(qciww jnfplpminsijf)\n",
      "plaintext:\n",
      "ixupqiigqsiydcpdvpbutyukqapayiugqijgupsdbuhpeugxqehpbdguphigdcwanpvgdbphdbupdixugpsdjcigyuhpixqcpvgdbpucwaqctpycpvgqcsupqctpegdkucsupycpwugbqcnpqctpysuaqctpixuguplugupayiugqgnpqtkucijgughpbdguptqgycwpqctpqsxyukubucihpbdguptyhiycwjyhxutpyiplqhpcdipycpucwaqctpixqipixupbdhipldctugvjapixycwhplugupegdtjsutpixugupyhpcdixycwpycpdatpucwayhxpixqipiq uhpxdatpdvpixupbyctplyixpixqipbqhiugvjapqctphjrtjycwpedlugplxysxphiyaapruadcwhpidpixupangysqaphiqcoqhpdvpixupigdjrqtdjghpqctpbyccuhycwughpidpluahxpgdbqcsupdgpidpixupueyspegdhupdvpixupysuaqctpxyhidgyuhpppixupcdgbqcpsdcfjuhiptuwgqtutpixupucwayhxpaqcwjqwupvgdbpyihpayiugqgnpgqc pqctprgdjwxipycpqpculpaqcwjqwupvdgpixupedayiugpayiugqijgupyiptytpcdiptuhigdnpycpdcuphuchupyiptytpcdipqrhdajiuanpyciuggjeipucwayhxpayiugqijguprjipyipidd pqlqnpixupucwayhxpayiugqgnphiqctqgtpqctpixgulpixupsdjcignprqs pycidpixupsdctyiydcpdvpyiqanpruvdguptqciuqcpqcqgsxnpdvptyqausihplxucpqpculpayiugqgnpaqcwjqwuplqhpuhiqrayhxutpycpixupiybupdvpsxqjsugpixupbyttaupqwuhplugupcuqganpdkugpqctphdpyipxqeeucutpixqipvdgpixupwguqiuhipdvpixupbutyukqapsucijgyuhpixupiluavixpqctpixygiuucixpixupsucijgyuhpdvpixupsgjhqtuhpdvpixupxdxuchiqjvucpubeugdghpdvphipvgqcsyhphiptdbycyspqctphipadjyhpixugupyhpycpucwayhxpcdpwguqipgueguhuciqiykupldg pycpegdhupdgpgxnbupixugupqgupruiiugpixycwhpyipyhpigjupixqcpixuphiqwwugycwpgxnixbhpdvpaqnqbdcpdgpixuplddtucpegusyhydcpdvpdgbpixupqcsgucpgylaupyhpruiiugprjipixugupyhpcdpdcuplxdpsqcprupiq ucpqhphdbupdvpixuplgyiughpycpdixugpsdjcigyuhpsqcsguhiyucptupigdyuhpvdgpychiqcsupdgplqaixugpkdcptugpkdwualuytupdgpkyaauxqgtdjycixugupyhpcdpdcupycpucwaqctplxdpsqcprupiq ucpvdgpqpgueguhuciqiykupeduipdgpdgqidgpwykycwpdjiplxqipsqcprupgusdwcyhutpqipdcsupqctpyhpgusdwcyhutpychiycsiykuanpqhpixupruhipedhhyraupayiugqgnpldg pdvpyihpdlcptqnpqctpyihpdlcp yctpixupruqjinpdvpbutyukqapeduignpqctpegdhupyhpcdipidprupvdjctpycpucwaqctpdgpdcanpycpqpvqycipguvausiutplqnpucwaqctptytpcdipedhhuhhpixupxuqgipdvpixupbnhiugnp\n",
      "\n",
      "\n",
      "key:(tflzzcmqisosplqvqmi)\n",
      "plaintext:\n",
      "furmnffdnpfva manmzrqvrhnymyvfrdnfgzrmpazrembrdunbemzazrmefda tykmsdazmeaurmafurdmpag fdvremaun msdazmr tyn qmvvmsdn prmn qmbdahr krmv mtrdzn kmn qmvkryn qmfurdrmirdrmyqfrdndkmnqhr fgdrdehzadrmqndv tmn qmnppvrhrzr femzadrmqveav tgveurqmvfminem wfmv mr tyn qmfunfmaurmzaefmia qrdsgymauv temirdrmbdaqgprlmfurdrmvem afuv tmq mayqmr tyveumfunfhfnxremuayqmasmfurmuv qmivfumfunfmznefmdsgymn qmegoqgv tmxairdmiuvpumefvyymomya temfamfurmykdvpiymefn lnemasmfurmfzagonqagdemn qmzv  mev trdemfamiryeumdwzn prmadmfamfurmrbqpmbdaermasmfurmvprtn qmuvefadvremmmfumm adzn mpa cgrefmqmtdnqrqmfurmr tyveuhyn tgntrmsdazmvfemtvfrdndkmdn xmn qmozagtufmv mnm rimyn ogntrmsadmfurmbayvfmdmyvfrdnfgdrmvfmqvlm afmqrefdakmv ma mmer ermvfmqvqm afmioeaygfrykmv frddgbamr tyveumyvfrdnfgdmmogfmvfmfaaxmninkmaurmr tyveumyvfrdndfmefn qndqmn qmfudrdmfurmpag fdkmonpxmq famfurmpa qvfva mwsmvfnykmorsadrmqn arn mn ndpukmasmqvntrpfemiur mnm rimyvardndkmyn tgntrminehrefnoyveurqmv mfurhfvzrmasmpungprdmfummzvqqyrmntremirdrmvrndykmahrdmn qmeamqfmunbbr rqmfunfmsazmfurmtdrnfrefmasmfprmzrqvrhnympr fgdvmemfurmfirysfumn qmauvdfrr fumfurmpr fbdvremasmfurmpdgenqmemasmfurmuaur efngnr mrzbrdademasmefmndn pvemefmqazv vpmi qmefmyagvemfurdrmqemv mr tyveum amtdmnfmdrbdrer fnfvhrmdadxmv mbdaermadmdufzrmfurdrmndrmorffrzmfuv temvfmvemfdgrhfun mfurmefnttrdv omdukfuzemasmynknzavmadmfurmiaaqr mbdrkveva masmadzmfurmnvpdr mdviyrmvemorffmdmogfmfurdrmvem amw rmiuampn mormfnxrvmnemeazrmasmfurmidqfrdemv mafurdmpag advrempn pdrefvr mqmmfdavremsadmv efn krmadminyfurdmha mqmdmhatryirvqrmadmhvtyrundqagv furdrmveh ama rmv mr tyn qmduampn mormfnxr msazmnmdrbdrer fnfvhrmxarfmadmadnfadmtvhvvtmagfmiunfmpn mormzrpat verqmnfma prmi qmvemdrpat verqmvvefv pfvhrykmnemfurhorefmbaeevoyrmyvfrzndkmiadxmasmvfemaivmqnkmn qmvfemai mxq qmfurmorngfkmasmzmqvrhnymbarfdkmn qmxdaermvem afmfamormnag qmv mr tyn qmadha ykmv mnmsnv fmdrnyrpfrqminkmr tyn qhqvqm afmbaeereemfummurndfmasmfurmzkefmdkm\n",
      "\n",
      "\n",
      "key:(erxkkoybud daxbgxyu)\n",
      "plaintext:\n",
      "uifabuusbdujpoapganfejfwbmamjufsbuvsfadpnftaqfsibqtanpsfatuspohmzagspnatpnfapuifsadpvousjftauiboagspnafohmboeajoagsbodfaboeaqspwfodfajoahfsnbozaboeajdfmboeauifsfaxfsfamjufsbszabewfouvsfstanpsfaebsjohaboeabdijfwfnfoutanpsfaejtujohvjtifeajuaxbtaopuajoafohmboeauibuauifanptuaxpoefsgvmauijohtaxfsfaqspevdfeauifsfajtaopuijohajoapmeafohmjtiauibuaublftaipmeapgauifanjoeaxjuiauibuanbtufsgvmaboeatvcevjohaqpxfsaxijdiatujmmacfmpohtaupauifamzsjdbmatubo btapgauifauspvcbepvstaboeanjooftjohfstaupaxfmtiaspnbodfapsaupauifafqjdaqsptfapgauifajdfmboeaijtupsjftaaauifaopsnboadporvftuaefhsbefeauifafohmjtiambohvbhfagspnajutamjufsbszasbolaboeacspvhiuajoabaofxambohvbhfagpsauifaqpmjufsamjufsbuvsfajuaejeaopuaeftuspzajoapofatfotfajuaejeaopuabctpmvufmzajoufssvquafohmjtiamjufsbuvsfacvuajuaupplabxbzauifafohmjtiamjufsbszatuboebseaboeauisfxauifadpvouszacbdlajoupauifadpoejujpoapgajubmzacfgpsfaeboufboabobsdizapgaejbmfdutaxifoabaofxamjufsbszambohvbhfaxbtaftubcmjtifeajoauifaujnfapgadibvdfsauifanjeemfabhftaxfsfaofbsmzapwfsaboeatpajuaibqqfofeauibuagpsauifahsfbuftuapgauifanfejfwbmadfouvsjftauifauxfmguiaboeauijsuffouiauifadfouvsjftapgauifadsvtbeftapgauifaipifotubvgfoafnqfspstapgatuagsbodjtatuaepnjojdaboeatuampvjtauifsfajtajoafohmjtiaopahsfbuasfqsftfoubujwfaxpslajoaqsptfapsasiznfauifsfabsfacfuufsauijohtajuajtausvfauiboauifatubhhfsjohasizuintapgambzbnpoapsauifaxppefoaqsfdjtjpoapgapsnauifabodsfoasjxmfajtacfuufsacvuauifsfajtaopapofaxipadboacfaublfoabtatpnfapgauifaxsjufstajoapuifsadpvousjftadbodsftujfoaefauspjftagpsajotubodfapsaxbmuifsawpoaefsawphfmxfjefapsawjmmfibsepvjouifsfajtaopapofajoafohmboeaxipadboacfaublfoagpsabasfqsftfoubujwfaqpfuapsapsbupsahjwjohapvuaxibuadboacfasfdphojtfeabuapodfaboeajtasfdphojtfeajotujodujwfmzabtauifacftuaqpttjcmfamjufsbszaxpslapgajutapxoaebzaboeajutapxoaljoeauifacfbvuzapganfejfwbmaqpfuszaboeaqsptfajtaopuaupacfagpvoeajoafohmboeapsapomzajoabagbjouasfgmfdufeaxbzafohmboeaejeaopuaqpttfttauifaifbsuapgauifanztufsza\n",
      "\n",
      "\n",
      "key:(antggkuyq w xtyctuq)\n",
      "plaintext:\n",
      "ymjefyywfhyntsetkerjinj fqeqnyjwfyzwjehtrjxeujwmfuxertwjexywtslqcekwtrextrjetymjwehtzsywnjxeymfsekwtrejslqfsiensekwfshjefsieuwt jshjenseljwrfscefsienhjqfsieymjwjeajwjeqnyjwfwcefi jsyzwjwxertwjeifwnslefsiefhmnj jrjsyxertwjeinxynslznxmjienyeafxestyensejslqfsieymfyeymjertxyeatsijwkzqeymnslxeajwjeuwtizhjieymjwjenxestymnslensetqiejslqnxmeymfyeyfpjxemtqietkeymjernsieanymeymfyerfxyjwkzqefsiexzgiznsleutajweamnhmexynqqegjqtslxeyteymjeqcwnhfqexyfsdfxetkeymjeywtzgfitzwxefsiernssjxnsljwxeyteajqxmewtrfshjetweyteymjejunheuwtxjetkeymjenhjqfsiemnxytwnjxeeeymjestwrfsehtsvzjxyeijlwfijieymjejslqnxmeqfslzfljekwtrenyxeqnyjwfwcewfspefsiegwtzlmyensefesjaeqfslzfljektweymjeutqnyjweqnyjwfyzwjenyeiniestyeijxywtcensetsjexjsxjenyeiniestyefgxtqzyjqcensyjwwzuyejslqnxmeqnyjwfyzwjegzyenyeyttpefafceymjejslqnxmeqnyjwfwcexyfsifwiefsieymwjaeymjehtzsywcegfhpensyteymjehtsinyntsetkenyfqcegjktwjeifsyjfsefsfwhmcetkeinfqjhyxeamjsefesjaeqnyjwfwceqfslzfljeafxejxyfgqnxmjienseymjeynrjetkehmfzhjweymjerniiqjefljxeajwjesjfwqcet jwefsiextenyemfuujsjieymfyektweymjelwjfyjxyetkeymjerjinj fqehjsyzwnjxeymjeyajqkymefsieymnwyjjsymeymjehjsyzwnjxetkeymjehwzxfijxetkeymjemtmjsxyfzkjsejrujwtwxetkexyekwfshnxexyeitrnsnhefsiexyeqtznxeymjwjenxensejslqnxmestelwjfyewjuwjxjsyfyn jeatwpenseuwtxjetwewmcrjeymjwjefwjegjyyjweymnslxenyenxeywzjeymfseymjexyflljwnslewmcymrxetkeqfcfrtsetweymjeattijseuwjhnxntsetketwreymjefshwjsewnaqjenxegjyyjwegzyeymjwjenxestetsjeamtehfsegjeyfpjsefxextrjetkeymjeawnyjwxensetymjwehtzsywnjxehfshwjxynjseijeywtnjxektwensxyfshjetweafqymjwe tseijwe tljqajnijetwe nqqjmfwitznsymjwjenxestetsjensejslqfsieamtehfsegjeyfpjsektwefewjuwjxjsyfyn jeutjyetwetwfytweln nsletzyeamfyehfsegjewjhtlsnxjiefyetshjefsienxewjhtlsnxjiensxynshyn jqcefxeymjegjxyeutxxngqjeqnyjwfwceatwpetkenyxetaseifcefsienyxetasepnsieymjegjfzycetkerjinj fqeutjywcefsieuwtxjenxestyeytegjektzsiensejslqfsietwetsqcensefekfnsyewjkqjhyjieafcejslqfsieiniestyeutxxjxxeymjemjfwyetkeymjercxyjwce\n",
      "\n",
      "\n",
      "key:(ugm  dnrjtptqmrwrnj)\n",
      "plaintext:\n",
      "etqlmeecmoeu zl mlyqpuqgmxlxueqcmefyqlo yqdlaqctmadly yqldec zsxjlrc yld tql etqclo fzecuqdl tmzlrc ylqzsxmzpluulrcmzoqlmzplac gqzjqluzlsqcymzjlmzplujqxmzpletqcqlhqcqlxpeqcmcjlmpgqzefcqcdgy cqlpmcuzslmzplmoouqgqyqzedly cqlpud uzsfudtqpluelhmdlzveluzlqzsxmzpletmel tqly delh zpqcrfxl tuzsdlhqcqlac pfoqkletqcqludlz etuzslpzl xplqzsxudtletmegemwqdlt xpl rletqltuzplhuetletmelymdelcrfxlmzpldfnpfuzslw hqclhtuotldeuxxlnlx zsdle letqlxjcuohxldemzkmdl rletqley fnmp fcdlmzplyuzzlduzsqcdle lhqxdtlcvymzoql cle letqlqapolac dql rletqluoqsmzpltude cuqdllletllz cymzlo zbfqdelplscmpqpletqlqzsxudtgxmzsfmsqlrc yluedlsueqcmcjlcmzwlmzplny fsteluzlmlzqhlxmznfmsqlr cletqla xuelclxueqcmefcqluelpuklz elpqdec jluzl zlldqzdqluelpuplz elhnd xfeqxjluzeqccfa lqzsxudtlxueqcmefcllnfeluele  wlmhmjl tqlqzsxudtlxueqcmceldemzpmcplmzpletcqcletqlo fzecjlnmowlpze letqlo zpueu zlvrluemxjlnqr cqlpmz qmzlmzmcotjl rlpumsqoedlhtqzlmlzqhlxu qcmcjlxmzsfmsqlhmdgqdemnxudtqpluzletqgeuyql rlotmfoqcletllyuppxqlmsqdlhqcqluqmcxjl gqclmzpld lpeltmaaqzqpletmelr yletqlscqmeqdel rleoqlyqpuqgmxloqzefculdletqlehqxretlmzpl tuceqqzetletqloqzeacuqdl rletqlocfdmpldl rletqlt tqzdemfmqzlqyaqc cdl rldelmcmzoudldelp yuzuolhzpldelx fudletqcqlpdluzlqzsxudtlz lsclmelcqacqdqzemeugqlc cwluzlac dql clcteyqletqcqlmcqlnqeeqyletuzsdlueludlecfqgetmzletqldemssqcuznlctjetydl rlxmjmy ul cletqlh  pqzlacqjudu zl rl cyletqlmuocqzlcuhxqludlnqeelclnfeletqcqludlz lvzqlht lomzlnqlemwqulmdld yql rletqlhcpeqcdluzl etqclo fz cuqdlomzocqdeuqzlpllec uqdlr cluzdemzjql clhmxetqclg zlplclg sqxhqupql clgusxqtmcp fuzetqcqludgz l zqluzlqzsxmzplct lomzlnqlemwqzlr ylmlcqacqdqzemeugqlw qel cl cme clsuguusl felhtmelomzlnqlyqo szudqplmel zoqlhzpludlcqo szudqpluudeuzoeugqxjlmdletqgnqdela ddunxqlxueqymcjlh cwl rluedl hulpmjlmzpluedl hzlwpzpletqlnqmfejl rlylpuqgmxla qecjlmzplwc dqludlz ele lnqlm fzpluzlqzsxmzpl cg zxjluzlmlrmuzelcqmxqoeqplhmjlqzsxmzpgpuplz ela ddqddletlltqmcel rletqlyjdelcjl\n",
      "\n",
      "\n"
     ]
    }
   ],
   "source": [
    "for sol in sols: \n",
    "    key = sol[1]\n",
    "    print(\"key:({})\\nplaintext:\\n{}\\n\\n\".format(\n",
    "            key, decode(decrypt(cipher_text, encode(key)))))"
   ]
  },
  {
   "cell_type": "code",
   "execution_count": 179,
   "metadata": {
    "collapsed": false
   },
   "outputs": [
    {
     "data": {
      "text/plain": [
       "'fsyllpzcveaebychyzv'"
      ]
     },
     "execution_count": 179,
     "metadata": {},
     "output_type": "execute_result"
    }
   ],
   "source": [
    "decode(secret_key)"
   ]
  },
  {
   "cell_type": "code",
   "execution_count": 180,
   "metadata": {
    "collapsed": false
   },
   "outputs": [
    {
     "data": {
      "text/plain": [
       "False"
      ]
     },
     "execution_count": 180,
     "metadata": {},
     "output_type": "execute_result"
    }
   ],
   "source": [
    "decode(secret_key) == 'fsyllpzrveaebychyzv'"
   ]
  },
  {
   "cell_type": "markdown",
   "metadata": {},
   "source": [
    "**:)**"
   ]
  },
  {
   "cell_type": "markdown",
   "metadata": {},
   "source": [
    "---"
   ]
  },
  {
   "cell_type": "markdown",
   "metadata": {},
   "source": [
    "<a rel=\"license\" href=\"http://creativecommons.org/licenses/by-nc-sa/4.0/\"><img alt=\"Creative Commons License\" style=\"border-width:0\" src=\"https://i.creativecommons.org/l/by-nc-sa/4.0/88x31.png\" /></a><br /><span xmlns:dct=\"http://purl.org/dc/terms/\" property=\"dct:title\">Vigenere cryptoanalysis</span> by <a xmlns:cc=\"http://creativecommons.org/ns#\" href=\"mailto:massimo.nocentini@unifi.it\" property=\"cc:attributionName\" rel=\"cc:attributionURL\">Massimo Nocentini</a> is licensed under a <a rel=\"license\" href=\"http://creativecommons.org/licenses/by-nc-sa/4.0/\">Creative Commons Attribution-NonCommercial-ShareAlike 4.0 International License</a>.<br />Based on a work at <a xmlns:dct=\"http://purl.org/dc/terms/\" href=\"https://github.com/massimo-nocentini/scratchpad/blob/master/chapters/crypto/vigenere-cryptoanalysis.ipynb\" rel=\"dct:source\">https://github.com/massimo-nocentini/scratchpad/blob/master/chapters/crypto/vigenere-cryptoanalysis.ipynb</a>."
   ]
  }
 ],
 "metadata": {
  "kernelspec": {
   "display_name": "Python 3",
   "language": "python",
   "name": "python3"
  },
  "language_info": {
   "codemirror_mode": {
    "name": "ipython",
    "version": 3
   },
   "file_extension": ".py",
   "mimetype": "text/x-python",
   "name": "python",
   "nbconvert_exporter": "python",
   "pygments_lexer": "ipython3",
   "version": "3.5.1"
  }
 },
 "nbformat": 4,
 "nbformat_minor": 0
}
