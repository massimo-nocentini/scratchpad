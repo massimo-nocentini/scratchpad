{
 "cells": [
  {
   "cell_type": "markdown",
   "metadata": {},
   "source": [
    "# Vigenere chiper cryptoanalysis\n",
    "\n",
    "\n",
    "This notebook studies the cryptoanalysis of the [Vigenere][wiki] chiper, which is polyalphabetic, namely two occurrences  $a_{1}, a_{2}$ of character $a$ belonging to the plaintext are associated with occurrences $c_{1}, c_{2}$ in the ciphertext, such that $c_{1}\\neq c_{2}$ with very high probability.\n",
    "\n",
    "Our implementation closely follows a class lecture given by Prof. [Orazio Puglisi][puglisi] within Cryptography course at the University of Florence. In order to fully understand the last part, where the concept of *mutual coincidence index* is crucial, we rest on the explanation at pag. 20 of [this notes][notes].\n",
    "\n",
    "[wiki]:https://en.wikipedia.org/wiki/Vigen%C3%A8re_cipher\n",
    "[puglisi]:http://web.math.unifi.it/users/puglisi/\n",
    "[notes]:http://iml.univ-mrs.fr/~ritzenth/cours/crypto.general.pdf"
   ]
  },
  {
   "cell_type": "code",
   "execution_count": 1,
   "metadata": {
    "collapsed": false
   },
   "outputs": [],
   "source": [
    "import itertools\n",
    "from itertools import *\n",
    "from copy import copy, deepcopy\n",
    "from heapq import *\n",
    "from random import *\n",
    "\n",
    "from sympy import *\n",
    "\n",
    "init_printing()"
   ]
  },
  {
   "cell_type": "markdown",
   "metadata": {},
   "source": [
    "Let $\\mathcal{A}$ be our alphabet composed of standard English characters plus the `space` character. It will be sufficient to encode simple and (not so quite) short messages. To define it as a group $\\frac{\\mathbb{Z}}{n\\mathbb{Z}}$ in the Python language we use a `dict` object, which can be reversed because it is a bijection."
   ]
  },
  {
   "cell_type": "code",
   "execution_count": 2,
   "metadata": {
    "collapsed": false
   },
   "outputs": [
    {
     "data": {
      "text/plain": [
       "{' ': 26,\n",
       " 'a': 0,\n",
       " 'b': 1,\n",
       " 'c': 2,\n",
       " 'd': 3,\n",
       " 'e': 4,\n",
       " 'f': 5,\n",
       " 'g': 6,\n",
       " 'h': 7,\n",
       " 'i': 8,\n",
       " 'j': 9,\n",
       " 'k': 10,\n",
       " 'l': 11,\n",
       " 'm': 12,\n",
       " 'n': 13,\n",
       " 'o': 14,\n",
       " 'p': 15,\n",
       " 'q': 16,\n",
       " 'r': 17,\n",
       " 's': 18,\n",
       " 't': 19,\n",
       " 'u': 20,\n",
       " 'v': 21,\n",
       " 'w': 22,\n",
       " 'x': 23,\n",
       " 'y': 24,\n",
       " 'z': 25}"
      ]
     },
     "execution_count": 2,
     "metadata": {},
     "output_type": "execute_result"
    }
   ],
   "source": [
    "def make_alphabet_entry(i):\n",
    "    alpha = i + ord('a')\n",
    "    return chr(alpha),i\n",
    "\n",
    "A = dict(map(make_alphabet_entry, range(26)))\n",
    "A.update({' ':26})\n",
    "inverse_A = {v:k for k,v in A.items()}\n",
    "\n",
    "A"
   ]
  },
  {
   "cell_type": "markdown",
   "metadata": {},
   "source": [
    "We define a function `encode` that consumes a string and produces a list of integer in our field. In parallel, function `decode` goes backwards, it consumes a list of integers and return a string. Such functions are useful in order to use the cipher and analyze it using `str` objects."
   ]
  },
  {
   "cell_type": "code",
   "execution_count": 3,
   "metadata": {
    "collapsed": false
   },
   "outputs": [],
   "source": [
    "def encode(s, alphabet=A): return list(map(lambda i: alphabet[i], s))\n",
    "\n",
    "def decode(e, inverse_alphabet=inverse_A): return \"\".join(map(lambda i: inverse_alphabet[i], e))"
   ]
  },
  {
   "cell_type": "markdown",
   "metadata": {},
   "source": [
    "The following plaintext is a prose taken from [here]; before using it we have to swipe out punctuation marks:\n",
    "\n",
    "[here]:http://www.bartleby.com/209/2.html"
   ]
  },
  {
   "cell_type": "code",
   "execution_count": 4,
   "metadata": {
    "collapsed": false
   },
   "outputs": [
    {
     "data": {
      "text/plain": [
       "('the attraction of medieval literature comes perhaps more strongly from some other countries than from england in france and provence in germany and iceland there were literary adventurers more daring and achievements more distinguished it was not in england that the most wonderful things were produced there is nothing in old english that takes hold of the mind with that masterful and subduing power which still belongs to the lyrical stanzas of the troubadours and minnesingers to welsh romance or to the epic prose of the iceland histories   the norman conquest degraded the english language from its literary rank and brought in a new language for the politer literature it did not destroy in one sense it did not absolutely interrupt english literature but it took away the english literary standard and threw the country back into the condition of italy before dantean anarchy of dialects when a new literary language was established in the time of chaucer the middle ages were nearly over and so it happened that for the greatest of the medieval centuries the twelfth and thirteenth the centuries of the crusades of the hohenstaufen emperors of st francis st dominic and st louis there is in english no great representative work in prose or rhyme there are better things it is true than the staggering rhythms of layamon or the wooden precision of orm the ancren riwle is better but there is no one who can be taken as some of the writers in other countries cancrestien de troies for instance or walther von der vogelweide or villehardouinthere is no one in england who can be taken for a representative poet or orator giving out what can be recognised at once and is recognised instinctively as the best possible literary work of its own day and its own kind the beauty of medieval poetry and prose is not to be found in england or only in a faint reflected way england did not possess the heart of the mystery ',\n",
       " 1920)"
      ]
     },
     "execution_count": 4,
     "metadata": {},
     "output_type": "execute_result"
    }
   ],
   "source": [
    "with open('plain_text.txt', 'r') as f:\n",
    "    plain_text = f.read().lower()\n",
    "\n",
    "remove_chars = [',', '.', ';', ':', '-', '(', ')', \"'\", '\"']\n",
    "for rc in remove_chars: \n",
    "    plain_text = plain_text.replace(rc, '')\n",
    "plain_text = plain_text.replace('\\n', ' ')\n",
    "\n",
    "plain_text = \"\".join(filter(lambda c: not c.isdigit(), plain_text))\n",
    "encoded_plain_text = encode(plain_text)\n",
    "\n",
    "plain_text, len(plain_text)"
   ]
  },
  {
   "cell_type": "markdown",
   "metadata": {},
   "source": [
    "With the following assert we ensure that function `decode` is the inverse of function `encode`:"
   ]
  },
  {
   "cell_type": "code",
   "execution_count": 5,
   "metadata": {
    "collapsed": false
   },
   "outputs": [],
   "source": [
    "assert decode(encode(plain_text)) == plain_text"
   ]
  },
  {
   "cell_type": "markdown",
   "metadata": {},
   "source": [
    "Let $k \\in \\left(\\frac{\\mathbb{Z}}{n\\mathbb{Z}}\\right)^{m}$ be a *key* of length $m\\in\\mathbb{N}$. In order to have a meaningful analysis we build a function `generate_random_key` which generate a random key of random length, keeping it safe...we will uncover it only at the end to check our work:"
   ]
  },
  {
   "cell_type": "code",
   "execution_count": 54,
   "metadata": {
    "collapsed": false
   },
   "outputs": [],
   "source": [
    "def generate_random_key(alphabet=A):\n",
    "    length = randint(0,floor(len(alphabet)/2))\n",
    "    key = [0] * length\n",
    "    for i in range(length): key[i] = randint(0, len(alphabet)-1)\n",
    "    return key\n",
    "\n",
    "#key = encode(\"ericsmullyan\")\n",
    "secret_key = generate_random_key(A)"
   ]
  },
  {
   "cell_type": "markdown",
   "metadata": {},
   "source": [
    "Now we are in the position to define `encrypt` and `decrypt` functions, both of them consumes an *encoded* message, namely a list of integers, and a key:"
   ]
  },
  {
   "cell_type": "code",
   "execution_count": 55,
   "metadata": {
    "collapsed": false
   },
   "outputs": [],
   "source": [
    "def encrypt(message, key, alphabet=A):\n",
    "    n = len(alphabet)\n",
    "    return [(p+v)%n for p,v in zip(message, cycle(key))]\n",
    "\n",
    "def decrypt(cipher, key, alphabet=A):\n",
    "    n = len(alphabet)\n",
    "    return [(c-v)%n for c,v in zip(cipher, cycle(key))]"
   ]
  },
  {
   "cell_type": "markdown",
   "metadata": {},
   "source": [
    "the following is the *ciphertext* produced by the application of function `encrypt` to the plaintext:"
   ]
  },
  {
   "cell_type": "code",
   "execution_count": 56,
   "metadata": {
    "collapsed": false
   },
   "outputs": [
    {
     "data": {
      "text/plain": [
       "'rxiordymmtadmcdcwkr pzmqzad zdjmmjbmcpgccpxvavzczewoczw liammck okkm chnmbioedm cqkjscxfzpxveyiiyvvcckjisbiibpmbqqwwztmvzchofbtqqdk yyroxpwhmdfvzchoznjgmdlvrxifvka cvhggiifrbcvmuc liyfvbxvyez ytefzylvmdlvzslxvfjhqdanybsfvkiddjqiejmgypivujhrzhdbededzqmieaebukycmjhofudaecyvhevzcgjibkycudonylifvkum ubyctdhypw lz vldxwzylvudhjjtdtdrqddyhofqxojlp dqpjjtdcwkycqqudltdkzdmveyioybegjpwafbhwltdgkmipudovnd thkacutpvqim bkg xevbqpxcqdm lbfmgse qcywzpinydjojsjvehwp qhckbxvmdlvkyrbvcnisvznyisompqntqzjkqrrvktmljwvrxiov nylfzjqudcwkycqqqycaebukmddjwmguwoqkycqqvjpbebqntibkmnrphtxbfzquhofudtdrqddyhgzckirrjvrhwhyyxgqwnoqhimwpvpdvewzuhxpdyvydedzqivlu oblsbfro yvsfqdm lfwggiifqwnoqhiosgiozdezuuhimidsvcym ohdlpsbvkx zimvgidszoei jhw hs kdjgjqqiruvfk yvqdogghlobty crappudqkdedeqajm dpmlcveymvcck zcmvxza pqvmqcywzuimbpebukyccvdvrxiotzziehfv qgzqtso qaccpgcdonouevvmvdxjlqtlsmamgioulsoqrvvzceftscv whzgqpttdxvhymiyqdbvgegujmmzgboblsbfro ylegqpxomstdqxisqtsveymvryqtqzkvoyipauvojsjvyzlzjudpxpxvhvz yciphwcv lmmyqrsqctvujhczettdpiveyioyvsfqdm lxz ziigjktaljp ybiszp wxqk liyfzpxveymvrli wdmvmdlvrxmfjpjieyhofudrvyypczmnydjojsjvohbnztigqzkveymvfdltdcywfwmiyuqdvbtmdqwayhxowbfioz vqidsexniuthwltdgjkqjfz vrxifvknnlzvvcck zcmvzehbpuehqbjkcv  liehzfjvhezfyyrofbtnqqwmyglmcpeotvz yqvtqmjoevzvrxmbxcedeqqnyivivkycmdhofudgjllbqhqiepvwodmhdqwayaemrxtilezvrxiomztzqdhkpugxittilenvmgqojsjvmdkmccdfzgq lz v uxhvbexfjhofuvtqtxvzehjludkyzeymdhxcpxpapsvmihnmbioeqeotvhrpyxthcedzqwofuvotzziehq qpgpdnw djq lphtqdwjuv vddvozyxomdk ydvomlqotvzvtdroupwvgeo jlixupejcqcdjaiwrbijfzvofuvtqtxvzehjludxdkjisbiibp wekhwzqj yiezvyea hhwygidhpx zjiogkiofzjolezvmgehebebulqiepsijkacmjhyzcdqvkw oeoighisqlyv dk yqrsqtxvcvkjecmgvoedziadlsxxlpqtlr vrxiospxolfwnqyf vkqdevzwpndkebpv whdrhdcmyezmohwltdxjcejhdhfgchojsjvnviprndcwkr pzmqzaddepymjqiibptfecjvuihimidhekg lwwpltdxdkjisbiibpsfqzsgjqqiyqdurtsolhmajughvoermoh lwppdoezuuhimiddecx dihofudwvlwolenvrxiocixoqhfv'"
      ]
     },
     "execution_count": 56,
     "metadata": {},
     "output_type": "execute_result"
    }
   ],
   "source": [
    "cipher_text = encrypt(encoded_plain_text, secret_key)\n",
    "decode(cipher_text)"
   ]
  },
  {
   "cell_type": "markdown",
   "metadata": {},
   "source": [
    "Assuming to know the `secret_key`, we ensure that function `decrypt` is the inverse of function `encrypt`:"
   ]
  },
  {
   "cell_type": "code",
   "execution_count": 57,
   "metadata": {
    "collapsed": false
   },
   "outputs": [],
   "source": [
    "assert decode(decrypt(cipher_text, secret_key)) == plain_text"
   ]
  },
  {
   "cell_type": "markdown",
   "metadata": {},
   "source": [
    "We now define two linguistic objects:\n",
    "\n",
    "   - let $I_{c}$ be the *coincidence index* of a sequence $\\alpha$, over an alphabet $A$, defined as \n",
    "   $$ I_{c}(\\alpha) = \\sum_{i=0}^{n}{\\frac{f_{i}(f_{i}-1)}{m(m-1)}} $$ where $n$ is the length of the alphabet, $m$ is the length of $\\alpha$ and $f_{i}$ is the frequency of symbol $a_{i}\\in A$, namely the number of occurrences of $a_{i}$ in $\\alpha$. In other words, $I_{c}$ is the probability to sample two occurrences of the same symbol $a$, forall $a\\in A$, from the sequence $\\alpha$. "
   ]
  },
  {
   "cell_type": "code",
   "execution_count": 37,
   "metadata": {
    "collapsed": false
   },
   "outputs": [],
   "source": [
    "def frequencies(lst, alphabet=A, inverse_alphabet=inverse_A):\n",
    "    \"\"\" Returns a `dict` counting occcurrences of each object of the alphabet within the iterable.\n",
    "    \n",
    "    `frequencies` consumes an iterable $lst$ and an alphabet $A$, \n",
    "    produces a dictionary of entries $(k,v)$ where $k$ is a character \n",
    "    in $A$ and $v$ is the number of occurrences of $k$ in $lst$\"\"\"\n",
    "    \n",
    "    freqs = {k:0 for k in alphabet.keys()}\n",
    "    for c in lst: freqs[inverse_alphabet[c]] += 1\n",
    "    return freqs\n",
    "\n",
    "def length_from_frequencies(freqs):\n",
    "    return sum(v for v in freqs.values())\n",
    "\n",
    "def coincidence_index(freqs, alphabet=A):\n",
    "    denom = length_from_frequencies(freqs)\n",
    "    if denom in range(2): return None\n",
    "    return sum(v*(v-1) for v in freqs.values())/(denom*(denom-1))\n",
    "    \n",
    "def mutual_coincidence_index(fst_freqs, snd_freqs, offset=0, \n",
    "                             alphabet=A, inverse_alphabet=inverse_A):\n",
    "    fst_len = length_from_frequencies(fst_freqs)\n",
    "    snd_len = length_from_frequencies(snd_freqs)\n",
    "    n = len(alphabet)\n",
    "    return sum(fst_freqs[k] * snd_freqs[inverse_alphabet[(v+offset) % n]] \n",
    "               for k,v in alphabet.items())/(fst_len * snd_len)"
   ]
  },
  {
   "cell_type": "code",
   "execution_count": 58,
   "metadata": {
    "collapsed": false
   },
   "outputs": [
    {
     "data": {
      "text/plain": [
       "{' ': 335,\n",
       " 'a': 115,\n",
       " 'b': 19,\n",
       " 'c': 40,\n",
       " 'd': 67,\n",
       " 'e': 215,\n",
       " 'f': 34,\n",
       " 'g': 39,\n",
       " 'h': 81,\n",
       " 'i': 113,\n",
       " 'j': 0,\n",
       " 'k': 9,\n",
       " 'l': 57,\n",
       " 'm': 29,\n",
       " 'n': 140,\n",
       " 'o': 120,\n",
       " 'p': 21,\n",
       " 'q': 1,\n",
       " 'r': 125,\n",
       " 's': 93,\n",
       " 't': 162,\n",
       " 'u': 35,\n",
       " 'v': 14,\n",
       " 'w': 29,\n",
       " 'x': 0,\n",
       " 'y': 26,\n",
       " 'z': 1}"
      ]
     },
     "execution_count": 58,
     "metadata": {},
     "output_type": "execute_result"
    }
   ],
   "source": [
    "plaintext_frequencies = frequencies(encoded_plain_text)\n",
    "plaintext_frequencies"
   ]
  },
  {
   "cell_type": "code",
   "execution_count": 59,
   "metadata": {
    "collapsed": false
   },
   "outputs": [
    {
     "data": {
      "image/png": "[encoded data removed]",
      "text/latex": [
       "$$0.07878506600660067$$"
      ],
      "text/plain": [
       "0.07878506600660067"
      ]
     },
     "execution_count": 59,
     "metadata": {},
     "output_type": "execute_result"
    }
   ],
   "source": [
    "coincidence_index(plaintext_frequencies)"
   ]
  },
  {
   "cell_type": "code",
   "execution_count": 60,
   "metadata": {
    "collapsed": false
   },
   "outputs": [
    {
     "data": {
      "image/png": "[encoded data removed]",
      "text/latex": [
       "$$0.041318177870418624$$"
      ],
      "text/plain": [
       "0.041318177870418624"
      ]
     },
     "execution_count": 60,
     "metadata": {},
     "output_type": "execute_result"
    }
   ],
   "source": [
    "coincidence_index(frequencies(cipher_text))"
   ]
  },
  {
   "cell_type": "code",
   "execution_count": 89,
   "metadata": {
    "collapsed": false
   },
   "outputs": [],
   "source": [
    "def spread(message, block_length):\n",
    "    return [message[i:i+block_length] for i in range(0, len(message), block_length)]\n",
    "    \n",
    "def col(spreaded, c, join=False, joiner=lambda c: ''.join(decode(c))):\n",
    "    column = [lst[c] if c < len(lst) else None for lst in spreaded]\n",
    "    ready = list(filter(lambda i: i is not None, column))\n",
    "    return joiner(ready) if join else ready"
   ]
  },
  {
   "cell_type": "code",
   "execution_count": 90,
   "metadata": {
    "collapsed": false
   },
   "outputs": [],
   "source": [
    "spreaded = spread(cipher_text, 12)"
   ]
  },
  {
   "cell_type": "code",
   "execution_count": 93,
   "metadata": {
    "collapsed": false
   },
   "outputs": [
    {
     "data": {
      "text/plain": [
       "'iddgwkixvmhrhiiyelsmdedjidxdxdded mxejhrsridewehdkxvy siidsdsvlddkveiggdiepdbeiqvdirtsiiyimdjilqxddikeerlvmvdveigqdxvdxixvghvvriivd eiiesdirmxifdddhddtddsdgpddi'"
      ]
     },
     "execution_count": 93,
     "metadata": {},
     "output_type": "execute_result"
    }
   ],
   "source": [
    "c = col(spreaded,2,True)\n",
    "c"
   ]
  },
  {
   "cell_type": "code",
   "execution_count": 31,
   "metadata": {
    "collapsed": true
   },
   "outputs": [],
   "source": [
    "def analyze(cipher_text):\n",
    "    res = {}\n",
    "    # we discard the case where the key length equals the\n",
    "    # length of the cipher text, since it is the case of \n",
    "    # OneTimePad chiper, which is unbreakable!\n",
    "    for d in range(2, len(cipher_text)):\n",
    "        spreaded = spread(cipher_text, d)\n",
    "        res[d] = []\n",
    "        for c in range(d):\n",
    "            column = col(spreaded, c)\n",
    "            freqs = frequencies(column)\n",
    "            ci = coincidence_index(freqs)\n",
    "            if ci: res[d].append(ci)\n",
    "    return res\n",
    "\n",
    "def guess_key_length(analysis, threshold=0.06):\n",
    "    candidates = {}\n",
    "    for k,v in analysis.items():\n",
    "        cs = list(filter(lambda i: i > threshold, v))\n",
    "        if cs and len(cs) > ceiling(k/2): candidates[k] = cs\n",
    "    return candidates"
   ]
  },
  {
   "cell_type": "code",
   "execution_count": 94,
   "metadata": {
    "collapsed": false
   },
   "outputs": [],
   "source": [
    "analysis = analyze(cipher_text)"
   ]
  },
  {
   "cell_type": "code",
   "execution_count": 95,
   "metadata": {
    "collapsed": false
   },
   "outputs": [
    {
     "data": {
      "image/png": "[encoded data removed]",
      "text/latex": [
       "$$\\left [ 0.08026729559748427, \\quad 0.06674528301886792, \\quad 0.10141509433962265, \\quad 0.08073899371069182, \\quad 0.07287735849056604, \\quad 0.08404088050314465, \\quad 0.07232704402515723, \\quad 0.10479559748427673, \\quad 0.06823899371069182, \\quad 0.06981132075471698, \\quad 0.09072327044025157, \\quad 0.08883647798742138\\right ]$$"
      ],
      "text/plain": [
       "[0.08026729559748427, 0.06674528301886792, 0.10141509433962265, 0.080738993710\n",
       "69182, 0.07287735849056604, 0.08404088050314465, 0.07232704402515723, 0.104795\n",
       "59748427673, 0.06823899371069182, 0.06981132075471698, 0.09072327044025157, 0.\n",
       "08883647798742138]"
      ]
     },
     "execution_count": 95,
     "metadata": {},
     "output_type": "execute_result"
    }
   ],
   "source": [
    "probing_key_length = 12\n",
    "guess_key_length(analysis)[probing_key_length]"
   ]
  },
  {
   "cell_type": "code",
   "execution_count": 66,
   "metadata": {
    "collapsed": false
   },
   "outputs": [],
   "source": [
    "def build_offsets_eqs(cipher_text, key_length, indexed_sym, threshold=.06, alphabet=A):\n",
    "    \n",
    "    n = len(alphabet)\n",
    "    eqs = {c:[] for c in range(key_length)}\n",
    "    spreaded = spread(cipher_text, key_length)\n",
    "    for c,a in itertools.product(range(key_length), repeat=2):\n",
    "    \n",
    "        if a == c: continue\n",
    "        \n",
    "        column = col(spreaded, c)\n",
    "        another = col(spreaded, a)\n",
    "        for g in range(1,n):\n",
    "            column_freqs = frequencies(column)\n",
    "            another_freqs = frequencies(another)\n",
    "            mci = mutual_coincidence_index(column_freqs, another_freqs, g)\n",
    "            if mci > threshold: \n",
    "                eqs[c].append(tuple([a, Eq(indexed_sym[a]-indexed_sym[c],g,evaluate=True), mci]))\n",
    "    \n",
    "    return eqs"
   ]
  },
  {
   "cell_type": "code",
   "execution_count": 67,
   "metadata": {
    "collapsed": false,
    "scrolled": false
   },
   "outputs": [],
   "source": [
    "k_sym=IndexedBase('k')\n",
    "\n",
    "eqs_dict = build_offsets_eqs(cipher_text, key_length=probing_key_length, indexed_sym=k_sym)"
   ]
  },
  {
   "cell_type": "code",
   "execution_count": 68,
   "metadata": {
    "collapsed": false
   },
   "outputs": [
    {
     "data": {
      "image/png": "[encoded data removed]",
      "text/latex": [
       "$$\\left [ \\left ( 1, \\quad - k_{0} + k_{1} = 18, \\quad 0.0699609375\\right ), \\quad \\left ( 2, \\quad - k_{0} + k_{2} = 6, \\quad 0.083984375\\right ), \\quad \\left ( 3, \\quad - k_{0} + k_{3} = 17, \\quad 0.078359375\\right ), \\quad \\left ( 4, \\quad - k_{0} + k_{4} = 19, \\quad 0.0724609375\\right ), \\quad \\left ( 5, \\quad - k_{0} + k_{5} = 13, \\quad 0.08015625\\right ), \\quad \\left ( 6, \\quad - k_{0} + k_{6} = 7, \\quad 0.0716015625\\right ), \\quad \\left ( 7, \\quad - k_{0} + k_{7} = 24, \\quad 0.091015625\\right ), \\quad \\left ( 8, \\quad - k_{0} + k_{8} = 14, \\quad 0.07421875\\right ), \\quad \\left ( 9, \\quad - k_{0} + k_{9} = 19, \\quad 0.0758984375\\right ), \\quad \\left ( 10, \\quad - k_{0} + k_{10} = 10, \\quad 0.08296875\\right ), \\quad \\left ( 11, \\quad - k_{0} + k_{11} = 24, \\quad 0.08390625\\right )\\right ]$$"
      ],
      "text/plain": [
       "[(1, -k[0] + k[1] = 18, 0.0699609375), (2, -k[0] + k[2] = 6, 0.083984375), (3,\n",
       " -k[0] + k[3] = 17, 0.078359375), (4, -k[0] + k[4] = 19, 0.0724609375), (5, -k\n",
       "[0] + k[5] = 13, 0.08015625), (6, -k[0] + k[6] = 7, 0.0716015625), (7, -k[0] +\n",
       " k[7] = 24, 0.091015625), (8, -k[0] + k[8] = 14, 0.07421875), (9, -k[0] + k[9]\n",
       " = 19, 0.0758984375), (10, -k[0] + k[10] = 10, 0.08296875), (11, -k[0] + k[11]\n",
       " = 24, 0.08390625)]"
      ]
     },
     "execution_count": 68,
     "metadata": {},
     "output_type": "execute_result"
    }
   ],
   "source": [
    "eqs_dict[0]"
   ]
  },
  {
   "cell_type": "code",
   "execution_count": 69,
   "metadata": {
    "collapsed": true
   },
   "outputs": [],
   "source": [
    "def clean_mci_info(eqs_dict):\n",
    "    return {k:list(map(lambda pair: (pair[0], pair[1]), v)) for k,v in eqs_dict.items()}"
   ]
  },
  {
   "cell_type": "code",
   "execution_count": 70,
   "metadata": {
    "collapsed": false
   },
   "outputs": [
    {
     "data": {
      "image/png": "[encoded data removed]",
      "text/latex": [
       "$$\\left \\{ 0 : \\left [ \\left ( 1, \\quad - k_{0} + k_{1} = 18\\right ), \\quad \\left ( 2, \\quad - k_{0} + k_{2} = 6\\right ), \\quad \\left ( 3, \\quad - k_{0} + k_{3} = 17\\right ), \\quad \\left ( 4, \\quad - k_{0} + k_{4} = 19\\right ), \\quad \\left ( 5, \\quad - k_{0} + k_{5} = 13\\right ), \\quad \\left ( 6, \\quad - k_{0} + k_{6} = 7\\right ), \\quad \\left ( 7, \\quad - k_{0} + k_{7} = 24\\right ), \\quad \\left ( 8, \\quad - k_{0} + k_{8} = 14\\right ), \\quad \\left ( 9, \\quad - k_{0} + k_{9} = 19\\right ), \\quad \\left ( 10, \\quad - k_{0} + k_{10} = 10\\right ), \\quad \\left ( 11, \\quad - k_{0} + k_{11} = 24\\right )\\right ], \\quad 1 : \\left [ \\left ( 0, \\quad k_{0} - k_{1} = 9\\right ), \\quad \\left ( 2, \\quad - k_{1} + k_{2} = 15\\right ), \\quad \\left ( 3, \\quad - k_{1} + k_{3} = 26\\right ), \\quad \\left ( 4, \\quad - k_{1} + k_{4} = 1\\right ), \\quad \\left ( 5, \\quad - k_{1} + k_{5} = 22\\right ), \\quad \\left ( 6, \\quad - k_{1} + k_{6} = 16\\right ), \\quad \\left ( 7, \\quad - k_{1} + k_{7} = 6\\right ), \\quad \\left ( 8, \\quad - k_{1} + k_{8} = 23\\right ), \\quad \\left ( 9, \\quad - k_{1} + k_{9} = 1\\right ), \\quad \\left ( 10, \\quad - k_{1} + k_{10} = 19\\right ), \\quad \\left ( 11, \\quad - k_{1} + k_{11} = 6\\right )\\right ], \\quad 2 : \\left [ \\left ( 0, \\quad k_{0} - k_{2} = 21\\right ), \\quad \\left ( 1, \\quad k_{1} - k_{2} = 12\\right ), \\quad \\left ( 3, \\quad - k_{2} + k_{3} = 11\\right ), \\quad \\left ( 4, \\quad - k_{2} + k_{4} = 13\\right ), \\quad \\left ( 5, \\quad - k_{2} + k_{5} = 7\\right ), \\quad \\left ( 6, \\quad - k_{2} + k_{6} = 1\\right ), \\quad \\left ( 7, \\quad - k_{2} + k_{7} = 18\\right ), \\quad \\left ( 8, \\quad - k_{2} + k_{8} = 8\\right ), \\quad \\left ( 9, \\quad - k_{2} + k_{9} = 13\\right ), \\quad \\left ( 10, \\quad - k_{2} + k_{10} = 4\\right ), \\quad \\left ( 11, \\quad - k_{2} + k_{11} = 5\\right ), \\quad \\left ( 11, \\quad - k_{2} + k_{11} = 18\\right )\\right ], \\quad 3 : \\left [ \\left ( 0, \\quad k_{0} - k_{3} = 10\\right ), \\quad \\left ( 1, \\quad k_{1} - k_{3} = 1\\right ), \\quad \\left ( 2, \\quad k_{2} - k_{3} = 16\\right ), \\quad \\left ( 4, \\quad - k_{3} + k_{4} = 2\\right ), \\quad \\left ( 5, \\quad - k_{3} + k_{5} = 23\\right ), \\quad \\left ( 6, \\quad - k_{3} + k_{6} = 17\\right ), \\quad \\left ( 7, \\quad - k_{3} + k_{7} = 7\\right ), \\quad \\left ( 7, \\quad - k_{3} + k_{7} = 16\\right ), \\quad \\left ( 8, \\quad - k_{3} + k_{8} = 24\\right ), \\quad \\left ( 9, \\quad - k_{3} + k_{9} = 2\\right ), \\quad \\left ( 10, \\quad - k_{3} + k_{10} = 20\\right ), \\quad \\left ( 11, \\quad - k_{3} + k_{11} = 7\\right )\\right ], \\quad 4 : \\left [ \\left ( 0, \\quad k_{0} - k_{4} = 8\\right ), \\quad \\left ( 1, \\quad k_{1} - k_{4} = 26\\right ), \\quad \\left ( 2, \\quad k_{2} - k_{4} = 14\\right ), \\quad \\left ( 3, \\quad k_{3} - k_{4} = 25\\right ), \\quad \\left ( 5, \\quad - k_{4} + k_{5} = 21\\right ), \\quad \\left ( 6, \\quad - k_{4} + k_{6} = 15\\right ), \\quad \\left ( 7, \\quad - k_{4} + k_{7} = 5\\right ), \\quad \\left ( 8, \\quad - k_{4} + k_{8} = 22\\right ), \\quad \\left ( 10, \\quad - k_{4} + k_{10} = 18\\right ), \\quad \\left ( 11, \\quad - k_{4} + k_{11} = 5\\right )\\right ], \\quad 5 : \\left [ \\left ( 0, \\quad k_{0} - k_{5} = 14\\right ), \\quad \\left ( 1, \\quad k_{1} - k_{5} = 5\\right ), \\quad \\left ( 2, \\quad k_{2} - k_{5} = 20\\right ), \\quad \\left ( 3, \\quad k_{3} - k_{5} = 4\\right ), \\quad \\left ( 4, \\quad k_{4} - k_{5} = 6\\right ), \\quad \\left ( 6, \\quad - k_{5} + k_{6} = 21\\right ), \\quad \\left ( 7, \\quad - k_{5} + k_{7} = 11\\right ), \\quad \\left ( 8, \\quad - k_{5} + k_{8} = 1\\right ), \\quad \\left ( 9, \\quad - k_{5} + k_{9} = 6\\right ), \\quad \\left ( 10, \\quad - k_{5} + k_{10} = 24\\right ), \\quad \\left ( 11, \\quad - k_{5} + k_{11} = 11\\right )\\right ], \\quad 6 : \\left [ \\left ( 0, \\quad k_{0} - k_{6} = 20\\right ), \\quad \\left ( 1, \\quad k_{1} - k_{6} = 11\\right ), \\quad \\left ( 2, \\quad k_{2} - k_{6} = 26\\right ), \\quad \\left ( 3, \\quad k_{3} - k_{6} = 10\\right ), \\quad \\left ( 4, \\quad k_{4} - k_{6} = 12\\right ), \\quad \\left ( 5, \\quad k_{5} - k_{6} = 6\\right ), \\quad \\left ( 7, \\quad - k_{6} + k_{7} = 17\\right ), \\quad \\left ( 8, \\quad - k_{6} + k_{8} = 7\\right ), \\quad \\left ( 9, \\quad - k_{6} + k_{9} = 12\\right ), \\quad \\left ( 10, \\quad - k_{6} + k_{10} = 3\\right ), \\quad \\left ( 11, \\quad - k_{6} + k_{11} = 17\\right )\\right ], \\quad 7 : \\left [ \\left ( 0, \\quad k_{0} - k_{7} = 3\\right ), \\quad \\left ( 1, \\quad k_{1} - k_{7} = 21\\right ), \\quad \\left ( 2, \\quad k_{2} - k_{7} = 9\\right ), \\quad \\left ( 3, \\quad k_{3} - k_{7} = 11\\right ), \\quad \\left ( 3, \\quad k_{3} - k_{7} = 20\\right ), \\quad \\left ( 4, \\quad k_{4} - k_{7} = 22\\right ), \\quad \\left ( 5, \\quad k_{5} - k_{7} = 16\\right ), \\quad \\left ( 6, \\quad k_{6} - k_{7} = 10\\right ), \\quad \\left ( 8, \\quad - k_{7} + k_{8} = 17\\right ), \\quad \\left ( 9, \\quad - k_{7} + k_{9} = 22\\right ), \\quad \\left ( 10, \\quad - k_{7} + k_{10} = 13\\right )\\right ], \\quad 8 : \\left [ \\left ( 0, \\quad k_{0} - k_{8} = 13\\right ), \\quad \\left ( 1, \\quad k_{1} - k_{8} = 4\\right ), \\quad \\left ( 2, \\quad k_{2} - k_{8} = 19\\right ), \\quad \\left ( 3, \\quad k_{3} - k_{8} = 3\\right ), \\quad \\left ( 4, \\quad k_{4} - k_{8} = 5\\right ), \\quad \\left ( 5, \\quad k_{5} - k_{8} = 26\\right ), \\quad \\left ( 6, \\quad k_{6} - k_{8} = 20\\right ), \\quad \\left ( 7, \\quad k_{7} - k_{8} = 10\\right ), \\quad \\left ( 9, \\quad - k_{8} + k_{9} = 5\\right ), \\quad \\left ( 10, \\quad - k_{8} + k_{10} = 23\\right ), \\quad \\left ( 11, \\quad - k_{8} + k_{11} = 10\\right )\\right ], \\quad 9 : \\left [ \\left ( 0, \\quad k_{0} - k_{9} = 8\\right ), \\quad \\left ( 1, \\quad k_{1} - k_{9} = 26\\right ), \\quad \\left ( 2, \\quad k_{2} - k_{9} = 14\\right ), \\quad \\left ( 3, \\quad k_{3} - k_{9} = 25\\right ), \\quad \\left ( 5, \\quad k_{5} - k_{9} = 21\\right ), \\quad \\left ( 6, \\quad k_{6} - k_{9} = 15\\right ), \\quad \\left ( 7, \\quad k_{7} - k_{9} = 5\\right ), \\quad \\left ( 8, \\quad k_{8} - k_{9} = 22\\right ), \\quad \\left ( 10, \\quad - k_{9} + k_{10} = 18\\right ), \\quad \\left ( 11, \\quad - k_{9} + k_{11} = 5\\right )\\right ], \\quad 10 : \\left [ \\left ( 0, \\quad k_{0} - k_{10} = 17\\right ), \\quad \\left ( 1, \\quad k_{1} - k_{10} = 8\\right ), \\quad \\left ( 2, \\quad k_{2} - k_{10} = 23\\right ), \\quad \\left ( 3, \\quad k_{3} - k_{10} = 7\\right ), \\quad \\left ( 4, \\quad k_{4} - k_{10} = 9\\right ), \\quad \\left ( 5, \\quad k_{5} - k_{10} = 3\\right ), \\quad \\left ( 6, \\quad k_{6} - k_{10} = 24\\right ), \\quad \\left ( 7, \\quad k_{7} - k_{10} = 14\\right ), \\quad \\left ( 8, \\quad k_{8} - k_{10} = 4\\right ), \\quad \\left ( 9, \\quad k_{9} - k_{10} = 9\\right ), \\quad \\left ( 11, \\quad - k_{10} + k_{11} = 14\\right )\\right ], \\quad 11 : \\left [ \\left ( 0, \\quad k_{0} - k_{11} = 3\\right ), \\quad \\left ( 1, \\quad k_{1} - k_{11} = 21\\right ), \\quad \\left ( 2, \\quad k_{2} - k_{11} = 9\\right ), \\quad \\left ( 2, \\quad k_{2} - k_{11} = 22\\right ), \\quad \\left ( 3, \\quad k_{3} - k_{11} = 20\\right ), \\quad \\left ( 4, \\quad k_{4} - k_{11} = 22\\right ), \\quad \\left ( 5, \\quad k_{5} - k_{11} = 16\\right ), \\quad \\left ( 6, \\quad k_{6} - k_{11} = 10\\right ), \\quad \\left ( 8, \\quad k_{8} - k_{11} = 17\\right ), \\quad \\left ( 9, \\quad k_{9} - k_{11} = 22\\right ), \\quad \\left ( 10, \\quad k_{10} - k_{11} = 13\\right )\\right ]\\right \\}$$"
      ],
      "text/plain": [
       "{0: [(1, -k[0] + k[1] = 18), (2, -k[0] + k[2] = 6), (3, -k[0] + k[3] = 17), (4\n",
       ", -k[0] + k[4] = 19), (5, -k[0] + k[5] = 13), (6, -k[0] + k[6] = 7), (7, -k[0]\n",
       " + k[7] = 24), (8, -k[0] + k[8] = 14), (9, -k[0] + k[9] = 19), (10, -k[0] + k[\n",
       "10] = 10), (11, -k[0] + k[11] = 24)], 1: [(0, k[0] - k[1] = 9), (2, -k[1] + k[\n",
       "2] = 15), (3, -k[1] + k[3] = 26), (4, -k[1] + k[4] = 1), (5, -k[1] + k[5] = 22\n",
       "), (6, -k[1] + k[6] = 16), (7, -k[1] + k[7] = 6), (8, -k[1] + k[8] = 23), (9, \n",
       "-k[1] + k[9] = 1), (10, -k[1] + k[10] = 19), (11, -k[1] + k[11] = 6)], 2: [(0,\n",
       " k[0] - k[2] = 21), (1, k[1] - k[2] = 12), (3, -k[2] + k[3] = 11), (4, -k[2] +\n",
       " k[4] = 13), (5, -k[2] + k[5] = 7), (6, -k[2] + k[6] = 1), (7, -k[2] + k[7] = \n",
       "18), (8, -k[2] + k[8] = 8), (9, -k[2] + k[9] = 13), (10, -k[2] + k[10] = 4), (\n",
       "11, -k[2] + k[11] = 5), (11, -k[2] + k[11] = 18)], 3: [(0, k[0] - k[3] = 10), \n",
       "(1, k[1] - k[3] = 1), (2, k[2] - k[3] = 16), (4, -k[3] + k[4] = 2), (5, -k[3] \n",
       "+ k[5] = 23), (6, -k[3] + k[6] = 17), (7, -k[3] + k[7] = 7), (7, -k[3] + k[7] \n",
       "= 16), (8, -k[3] + k[8] = 24), (9, -k[3] + k[9] = 2), (10, -k[3] + k[10] = 20)\n",
       ", (11, -k[3] + k[11] = 7)], 4: [(0, k[0] - k[4] = 8), (1, k[1] - k[4] = 26), (\n",
       "2, k[2] - k[4] = 14), (3, k[3] - k[4] = 25), (5, -k[4] + k[5] = 21), (6, -k[4]\n",
       " + k[6] = 15), (7, -k[4] + k[7] = 5), (8, -k[4] + k[8] = 22), (10, -k[4] + k[1\n",
       "0] = 18), (11, -k[4] + k[11] = 5)], 5: [(0, k[0] - k[5] = 14), (1, k[1] - k[5]\n",
       " = 5), (2, k[2] - k[5] = 20), (3, k[3] - k[5] = 4), (4, k[4] - k[5] = 6), (6, \n",
       "-k[5] + k[6] = 21), (7, -k[5] + k[7] = 11), (8, -k[5] + k[8] = 1), (9, -k[5] +\n",
       " k[9] = 6), (10, -k[5] + k[10] = 24), (11, -k[5] + k[11] = 11)], 6: [(0, k[0] \n",
       "- k[6] = 20), (1, k[1] - k[6] = 11), (2, k[2] - k[6] = 26), (3, k[3] - k[6] = \n",
       "10), (4, k[4] - k[6] = 12), (5, k[5] - k[6] = 6), (7, -k[6] + k[7] = 17), (8, \n",
       "-k[6] + k[8] = 7), (9, -k[6] + k[9] = 12), (10, -k[6] + k[10] = 3), (11, -k[6]\n",
       " + k[11] = 17)], 7: [(0, k[0] - k[7] = 3), (1, k[1] - k[7] = 21), (2, k[2] - k\n",
       "[7] = 9), (3, k[3] - k[7] = 11), (3, k[3] - k[7] = 20), (4, k[4] - k[7] = 22),\n",
       " (5, k[5] - k[7] = 16), (6, k[6] - k[7] = 10), (8, -k[7] + k[8] = 17), (9, -k[\n",
       "7] + k[9] = 22), (10, -k[7] + k[10] = 13)], 8: [(0, k[0] - k[8] = 13), (1, k[1\n",
       "] - k[8] = 4), (2, k[2] - k[8] = 19), (3, k[3] - k[8] = 3), (4, k[4] - k[8] = \n",
       "5), (5, k[5] - k[8] = 26), (6, k[6] - k[8] = 20), (7, k[7] - k[8] = 10), (9, -\n",
       "k[8] + k[9] = 5), (10, -k[8] + k[10] = 23), (11, -k[8] + k[11] = 10)], 9: [(0,\n",
       " k[0] - k[9] = 8), (1, k[1] - k[9] = 26), (2, k[2] - k[9] = 14), (3, k[3] - k[\n",
       "9] = 25), (5, k[5] - k[9] = 21), (6, k[6] - k[9] = 15), (7, k[7] - k[9] = 5), \n",
       "(8, k[8] - k[9] = 22), (10, -k[9] + k[10] = 18), (11, -k[9] + k[11] = 5)], 10:\n",
       " [(0, k[0] - k[10] = 17), (1, k[1] - k[10] = 8), (2, k[2] - k[10] = 23), (3, k\n",
       "[3] - k[10] = 7), (4, k[4] - k[10] = 9), (5, k[5] - k[10] = 3), (6, k[6] - k[1\n",
       "0] = 24), (7, k[7] - k[10] = 14), (8, k[8] - k[10] = 4), (9, k[9] - k[10] = 9)\n",
       ", (11, -k[10] + k[11] = 14)], 11: [(0, k[0] - k[11] = 3), (1, k[1] - k[11] = 2\n",
       "1), (2, k[2] - k[11] = 9), (2, k[2] - k[11] = 22), (3, k[3] - k[11] = 20), (4,\n",
       " k[4] - k[11] = 22), (5, k[5] - k[11] = 16), (6, k[6] - k[11] = 10), (8, k[8] \n",
       "- k[11] = 17), (9, k[9] - k[11] = 22), (10, k[10] - k[11] = 13)]}"
      ]
     },
     "execution_count": 70,
     "metadata": {},
     "output_type": "execute_result"
    }
   ],
   "source": [
    "eqs_dict_pure = clean_mci_info(eqs_dict)\n",
    "eqs_dict_pure"
   ]
  },
  {
   "cell_type": "code",
   "execution_count": 71,
   "metadata": {
    "collapsed": false
   },
   "outputs": [],
   "source": [
    "def candidate_keys(eqs_dict, indexed_sym, apply_mod=False, alphabet=A):\n",
    "    key_length = len(eqs_dict)\n",
    "    n = len(alphabet)\n",
    "    candidates = {}\n",
    "    for c, eq_pairs in eqs_dict.items():\n",
    "        candidates[c]=[]\n",
    "        for d in range(len(alphabet)):\n",
    "            key = [indexed_sym[i] for i in range(key_length)]\n",
    "            key[c] = d\n",
    "            for a, eq in eq_pairs:\n",
    "                subs_eq = eq.subs(indexed_sym[c],d)\n",
    "                key[a] = solve(subs_eq, indexed_sym[a])[0]\n",
    "                if apply_mod: key[a] = key[a] % n\n",
    "                    \n",
    "            at_least_one_missing = next((ind for ind in key \n",
    "                                         if isinstance(ind, Indexed) or ind >= n), None)\n",
    "            if not at_least_one_missing: candidates[c].append(key)\n",
    "    return candidates"
   ]
  },
  {
   "cell_type": "code",
   "execution_count": 72,
   "metadata": {
    "collapsed": false
   },
   "outputs": [],
   "source": [
    "possible_keys = candidate_keys(eqs_dict_pure, k_sym)"
   ]
  },
  {
   "cell_type": "code",
   "execution_count": 73,
   "metadata": {
    "collapsed": true
   },
   "outputs": [],
   "source": [
    "def attempt_keys(candidate_keys, cipher_text, threshold=.06):\n",
    "    sols = set()\n",
    "    flat_keys = []\n",
    "    for c, keys in candidate_keys.items(): \n",
    "        for key in keys: flat_keys.append(key)\n",
    "    for key in flat_keys:\n",
    "        decrypted = decrypt(cipher_text, key)\n",
    "        freqs = frequencies(decrypted)\n",
    "        ci = coincidence_index(freqs)\n",
    "        if ci > threshold: sols.add((ci, decode(key)))\n",
    "    return sols"
   ]
  },
  {
   "cell_type": "code",
   "execution_count": 74,
   "metadata": {
    "collapsed": false
   },
   "outputs": [],
   "source": [
    "sols = attempt_keys(possible_keys, cipher_text)"
   ]
  },
  {
   "cell_type": "code",
   "execution_count": 75,
   "metadata": {
    "collapsed": false
   },
   "outputs": [
    {
     "data": {
      "text/plain": [
       "{(0.07275110734757687, 'kbqacxrqycuh'),\n",
       " (0.07275110734757687, 'lcrbdysrzdvi'),\n",
       " (0.07275110734757687, 'mdscezts ewj'),\n",
       " (0.07878506600660067, ' rfqsmgxnsjx'),\n",
       " (0.07878506600660067, 'asgrtnhyotky'),\n",
       " (0.07878506600660067, 'bthsuoizpulz'),\n",
       " (0.07878506600660067, 'cuitvpj qvm '),\n",
       " (0.07878506600660067, 'jap bwqgxbtg'),\n",
       " (0.07878506600660067, 'netdf ukafxk'),\n",
       " (0.07878506600660067, 'ofuegavlbgyl'),\n",
       " (0.07878506600660067, 'pgvfhbwmchzm'),\n",
       " (0.07878506600660067, 'qhwgicxndi n'),\n",
       " (0.07878506600660067, 'rixhjdyoejao'),\n",
       " (0.07878506600660067, 'sjyikezpfkbp'),\n",
       " (0.07878506600660067, 'tkzjlf qglcq'),\n",
       " (0.07878506600660067, 'ul kmgarhmdr'),\n",
       " (0.07878506600660067, 'vmalnhbsines'),\n",
       " (0.07878506600660067, 'wnbmoictjoft'),\n",
       " (0.07878506600660067, 'xocnpjdukpgu'),\n",
       " (0.07878506600660067, 'ypdoqkevlqhv'),\n",
       " (0.07878506600660067, 'zqeprlfwmriw')}"
      ]
     },
     "execution_count": 75,
     "metadata": {},
     "output_type": "execute_result"
    }
   ],
   "source": [
    "sols"
   ]
  },
  {
   "cell_type": "code",
   "execution_count": 76,
   "metadata": {
    "collapsed": false
   },
   "outputs": [
    {
     "name": "stdout",
     "output_type": "stream",
     "text": [
      "key:(bthsuoizpulz)\n",
      "plaintext:\n",
      "qebxyqqoy qflkxlcxjbafbsyixifqboyqrobx ljbpxmboeympxjlobxpqolkdivxcoljxpljbxlqebox lrkqofbpxqeykxcoljxbkdiykaxfkxcoyk bxykaxmolsbk bxfkxdbojykvxykaxf biykaxqebobxtbobxifqboyovxyasbkqrobopxjlobxayofkdxykaxy efbsbjbkqpxjlobxafpqfkdrfpebaxfqxtypxklqxfkxbkdiykaxqeyqxqebxjlpqxtlkabocrixqefkdpxtbobxmolar baxqebobxfpxklqefkdxfkxliaxbkdifpexqeyqxqyhbpxeliaxlcxqebxjfkaxtfqexqeyqxjypqbocrixykaxprzarfkdxmltboxtef expqfiixzbilkdpxqlxqebxivof yixpqykwypxlcxqebxqolrzyalropxykaxjfkkbpfkdbopxqlxtbipexoljyk bxloxqlxqebxbmf xmolpbxlcxqebxf biykaxefpqlofbpxxxqebxklojykx lknrbpqxabdoyabaxqebxbkdifpexiykdrydbxcoljxfqpxifqboyovxoykhxykaxzolrdeqxfkxyxkbtxiykdrydbxcloxqebxmlifqboxifqboyqrobxfqxafaxklqxabpqolvxfkxlkbxpbkpbxfqxafaxklqxyzplirqbivxfkqboormqxbkdifpexifqboyqrobxzrqxfqxqllhxytyvxqebxbkdifpexifqboyovxpqykayoaxykaxqeobtxqebx lrkqovxzy hxfkqlxqebx lkafqflkxlcxfqyivxzbclobxaykqbykxykyo evxlcxafyib qpxtebkxyxkbtxifqboyovxiykdrydbxtypxbpqyzifpebaxfkxqebxqfjbxlcx eyr boxqebxjfaaibxydbpxtbobxkbyoivxlsboxykaxplxfqxeymmbkbaxqeyqxcloxqebxdobyqbpqxlcxqebxjbafbsyix bkqrofbpxqebxqtbicqexykaxqefoqbbkqexqebx bkqrofbpxlcxqebx orpyabpxlcxqebxelebkpqyrcbkxbjmbolopxlcxpqxcoyk fpxpqxaljfkf xykaxpqxilrfpxqebobxfpxfkxbkdifpexklxdobyqxobmobpbkqyqfsbxtlohxfkxmolpbxloxoevjbxqebobxyobxzbqqboxqefkdpxfqxfpxqorbxqeykxqebxpqyddbofkdxoevqejpxlcxiyvyjlkxloxqebxtllabkxmob fpflkxlcxlojxqebxyk obkxoftibxfpxzbqqboxzrqxqebobxfpxklxlkbxtelx ykxzbxqyhbkxypxpljbxlcxqebxtofqbopxfkxlqebox lrkqofbpx yk obpqfbkxabxqolfbpxcloxfkpqyk bxloxtyiqeboxslkxaboxsldbitbfabxloxsfiibeyoalrfkqebobxfpxklxlkbxfkxbkdiykaxtelx ykxzbxqyhbkxcloxyxobmobpbkqyqfsbxmlbqxloxloyqloxdfsfkdxlrqxteyqx ykxzbxob ldkfpbaxyqxlk bxykaxfpxob ldkfpbaxfkpqfk qfsbivxypxqebxzbpqxmlppfzibxifqboyovxtlohxlcxfqpxltkxayvxykaxfqpxltkxhfkaxqebxzbyrqvxlcxjbafbsyixmlbqovxykaxmolpbxfpxklqxqlxzbxclrkaxfkxbkdiykaxloxlkivxfkxyxcyfkqxobcib qbaxtyvxbkdiykaxafaxklqxmlppbppxqebxebyoqxlcxqebxjvpqbovx\n",
      "\n",
      "\n",
      "key:( rfqsmgxnsjx)\n",
      "plaintext:\n",
      "sgdz ssq bshnmznezldchdu kzkhsdq stqdzbnldrzodqg orzlnqdzrsqnmfkxzeqnlzrnldznsgdqzbntmsqhdrzsg mzeqnlzdmfk mczhmzeq mbdz mczoqnudmbdzhmzfdql mxz mczhbdk mczsgdqdzvdqdzkhsdq qxz cudmstqdqrzlnqdzc qhmfz mcz bghdudldmsrzlnqdzchrshmfthrgdczhszv rzmnszhmzdmfk mczsg szsgdzlnrszvnmcdqetkzsghmfrzvdqdzoqnctbdczsgdqdzhrzmnsghmfzhmznkczdmfkhrgzsg szs jdrzgnkcznezsgdzlhmczvhsgzsg szl rsdqetkz mczrtacthmfzonvdqzvghbgzrshkkzadknmfrzsnzsgdzkxqhb kzrs my rznezsgdzsqnta cntqrz mczlhmmdrhmfdqrzsnzvdkrgzqnl mbdznqzsnzsgdzdohbzoqnrdznezsgdzhbdk mczghrsnqhdrzzzsgdzmnql mzbnmptdrszcdfq cdczsgdzdmfkhrgzk mft fdzeqnlzhsrzkhsdq qxzq mjz mczaqntfgszhmz zmdvzk mft fdzenqzsgdzonkhsdqzkhsdq stqdzhszchczmnszcdrsqnxzhmznmdzrdmrdzhszchczmnsz arnktsdkxzhmsdqqtoszdmfkhrgzkhsdq stqdzatszhszsnnjz v xzsgdzdmfkhrgzkhsdq qxzrs mc qcz mczsgqdvzsgdzbntmsqxza bjzhmsnzsgdzbnmchshnmznezhs kxzadenqdzc msd mz m qbgxznezch kdbsrzvgdmz zmdvzkhsdq qxzk mft fdzv rzdrs akhrgdczhmzsgdzshldznezbg tbdqzsgdzlhcckdz fdrzvdqdzmd qkxznudqz mczrnzhszg oodmdczsg szenqzsgdzfqd sdrsznezsgdzldchdu kzbdmstqhdrzsgdzsvdkesgz mczsghqsddmsgzsgdzbdmstqhdrznezsgdzbqtr cdrznezsgdzgngdmrs tedmzdlodqnqrznezrszeq mbhrzrszcnlhmhbz mczrszknthrzsgdqdzhrzhmzdmfkhrgzmnzfqd szqdoqdrdms shudzvnqjzhmzoqnrdznqzqgxldzsgdqdz qdzadssdqzsghmfrzhszhrzsqtdzsg mzsgdzrs ffdqhmfzqgxsglrznezk x lnmznqzsgdzvnncdmzoqdbhrhnmzneznqlzsgdz mbqdmzqhvkdzhrzadssdqzatszsgdqdzhrzmnznmdzvgnzb mzadzs jdmz rzrnldznezsgdzvqhsdqrzhmznsgdqzbntmsqhdrzb mbqdrshdmzcdzsqnhdrzenqzhmrs mbdznqzv ksgdqzunmzcdqzunfdkvdhcdznqzuhkkdg qcnthmsgdqdzhrzmnznmdzhmzdmfk mczvgnzb mzadzs jdmzenqz zqdoqdrdms shudzondsznqznq snqzfhuhmfzntszvg szb mzadzqdbnfmhrdcz sznmbdz mczhrzqdbnfmhrdczhmrshmbshudkxz rzsgdzadrszonrrhakdzkhsdq qxzvnqjznezhsrznvmzc xz mczhsrznvmzjhmczsgdzad tsxznezldchdu kzondsqxz mczoqnrdzhrzmnszsnzadzentmczhmzdmfk mcznqznmkxzhmz ze hmszqdekdbsdczv xzdmfk mczchczmnszonrrdrrzsgdzgd qsznezsgdzlxrsdqxz\n",
      "\n",
      "\n",
      "key:(ofuegavlbgyl)\n",
      "plaintext:\n",
      "dspklddblndtzykzqkxpotpflwkwtdpbldebpknzxpck pbsl ckxzbpkcdbzyrwikqbzxkczxpkzdspbknzeydbtpckdslykqbzxkpyrwlyoktykqblynpklyok bzfpynpktykrpbxlyiklyoktnpwlyokdspbpkgpbpkwtdpblbiklofpydebpbckxzbpkolbtyrklyoklnstpfpxpydckxzbpkotcdtyretcspoktdkglckyzdktykpyrwlyokdsldkdspkxzcdkgzyopbqewkdstyrckgpbpk bzoenpokdspbpktckyzdstyrktykzwokpyrwtcskdsldkdlvpckszwokzqkdspkxtyokgtdskdsldkxlcdpbqewklyokcemoetyrk zgpbkgstnskcdtwwkmpwzyrckdzkdspkwibtnlwkcdlyjlckzqkdspkdbzemlozebcklyokxtyypctyrpbckdzkgpwcskbzxlynpkzbkdzkdspkp tnk bzcpkzqkdspktnpwlyokstcdzbtpckkkdspkyzbxlyknzyaepcdkoprblopokdspkpyrwtcskwlyrelrpkqbzxktdckwtdpblbikblyvklyokmbzersdktyklkypgkwlyrelrpkqzbkdspk zwtdpbkwtdpbldebpktdkotokyzdkopcdbziktykzypkcpycpktdkotokyzdklmczwedpwiktydpbbe dkpyrwtcskwtdpbldebpkmedktdkdzzvklglikdspkpyrwtcskwtdpblbikcdlyolboklyokdsbpgkdspknzeydbikmlnvktydzkdspknzyotdtzykzqktdlwikmpqzbpkolydplyklylbnsikzqkotlwpndckgspyklkypgkwtdpblbikwlyrelrpkglckpcdlmwtcspoktykdspkdtxpkzqknslenpbkdspkxtoowpklrpckgpbpkyplbwikzfpbklyokczktdksl  pypokdsldkqzbkdspkrbpldpcdkzqkdspkxpotpflwknpydebtpckdspkdgpwqdsklyokdstbdppydskdspknpydebtpckzqkdspknbeclopckzqkdspkszspycdleqpykpx pbzbckzqkcdkqblyntckcdkozxtytnklyokcdkwzetckdspbpktcktykpyrwtcskyzkrbpldkbp bpcpydldtfpkgzbvktyk bzcpkzbkbsixpkdspbpklbpkmpddpbkdstyrcktdktckdbepkdslykdspkcdlrrpbtyrkbsidsxckzqkwlilxzykzbkdspkgzzopyk bpntctzykzqkzbxkdspklynbpykbtgwpktckmpddpbkmedkdspbpktckyzkzypkgszknlykmpkdlvpyklckczxpkzqkdspkgbtdpbcktykzdspbknzeydbtpcknlynbpcdtpykopkdbztpckqzbktycdlynpkzbkglwdspbkfzykopbkfzrpwgptopkzbkftwwpslbozetydspbpktckyzkzypktykpyrwlyokgszknlykmpkdlvpykqzbklkbp bpcpydldtfpk zpdkzbkzbldzbkrtftyrkzedkgsldknlykmpkbpnzrytcpokldkzynpklyoktckbpnzrytcpoktycdtyndtfpwiklckdspkmpcdk zcctmwpkwtdpblbikgzbvkzqktdckzgykoliklyoktdckzgykvtyokdspkmpledikzqkxpotpflwk zpdbiklyok bzcpktckyzdkdzkmpkqzeyoktykpyrwlyokzbkzywiktyklkqltydkbpqwpndpokglikpyrwlyokotokyzdk zccpcckdspksplbdkzqkdspkxicdpbik\n",
      "\n",
      "\n",
      "key:(ul kmgarhmdr)\n",
      "plaintext:\n",
      "ymjefyywfhyntsetkerjinj fqeqnyjwfyzwjehtrjxeujwmfuxertwjexywtslqcekwtrextrjetymjwehtzsywnjxeymfsekwtrejslqfsiensekwfshjefsieuwt jshjenseljwrfscefsienhjqfsieymjwjeajwjeqnyjwfwcefi jsyzwjwxertwjeifwnslefsiefhmnj jrjsyxertwjeinxynslznxmjienyeafxestyensejslqfsieymfyeymjertxyeatsijwkzqeymnslxeajwjeuwtizhjieymjwjenxestymnslensetqiejslqnxmeymfyeyfpjxemtqietkeymjernsieanymeymfyerfxyjwkzqefsiexzgiznsleutajweamnhmexynqqegjqtslxeyteymjeqcwnhfqexyfsdfxetkeymjeywtzgfitzwxefsiernssjxnsljwxeyteajqxmewtrfshjetweyteymjejunheuwtxjetkeymjenhjqfsiemnxytwnjxeeeymjestwrfsehtsvzjxyeijlwfijieymjejslqnxmeqfslzfljekwtrenyxeqnyjwfwcewfspefsiegwtzlmyensefesjaeqfslzfljektweymjeutqnyjweqnyjwfyzwjenyeiniestyeijxywtcensetsjexjsxjenyeiniestyefgxtqzyjqcensyjwwzuyejslqnxmeqnyjwfyzwjegzyenyeyttpefafceymjejslqnxmeqnyjwfwcexyfsifwiefsieymwjaeymjehtzsywcegfhpensyteymjehtsinyntsetkenyfqcegjktwjeifsyjfsefsfwhmcetkeinfqjhyxeamjsefesjaeqnyjwfwceqfslzfljeafxejxyfgqnxmjienseymjeynrjetkehmfzhjweymjerniiqjefljxeajwjesjfwqcet jwefsiextenyemfuujsjieymfyektweymjelwjfyjxyetkeymjerjinj fqehjsyzwnjxeymjeyajqkymefsieymnwyjjsymeymjehjsyzwnjxetkeymjehwzxfijxetkeymjemtmjsxyfzkjsejrujwtwxetkexyekwfshnxexyeitrnsnhefsiexyeqtznxeymjwjenxensejslqnxmestelwjfyewjuwjxjsyfyn jeatwpenseuwtxjetwewmcrjeymjwjefwjegjyyjweymnslxenyenxeywzjeymfseymjexyflljwnslewmcymrxetkeqfcfrtsetweymjeattijseuwjhnxntsetketwreymjefshwjsewnaqjenxegjyyjwegzyeymjwjenxestetsjeamtehfsegjeyfpjsefxextrjetkeymjeawnyjwxensetymjwehtzsywnjxehfshwjxynjseijeywtnjxektwensxyfshjetweafqymjwe tseijwe tljqajnijetwe nqqjmfwitznsymjwjenxestetsjensejslqfsieamtehfsegjeyfpjsektwefewjuwjxjsyfyn jeutjyetwetwfytweln nsletzyeamfyehfsegjewjhtlsnxjiefyetshjefsienxewjhtlsnxjiensxynshyn jqcefxeymjegjxyeutxxngqjeqnyjwfwceatwpetkenyxetaseifcefsienyxetasepnsieymjegjfzycetkerjinj fqeutjywcefsieuwtxjenxestyeytegjektzsiensejslqfsietwetsqcensefekfnsyewjkqjhyjieafcejslqfsieiniestyeutxxjxxeymjemjfwyetkeymjercxyjwce\n",
      "\n",
      "\n",
      "key:(jap bwqgxbtg)\n",
      "plaintext:\n",
      "ixupqiigqsiydcpdvpbutyukqapayiugqijgupsdbuhpeugxqehpbdguphigdcwanpvgdbphdbupdixugpsdjcigyuhpixqcpvgdbpucwaqctpycpvgqcsupqctpegdkucsupycpwugbqcnpqctpysuaqctpixuguplugupayiugqgnpqtkucijgughpbdguptqgycwpqctpqsxyukubucihpbdguptyhiycwjyhxutpyiplqhpcdipycpucwaqctpixqipixupbdhipldctugvjapixycwhplugupegdtjsutpixugupyhpcdixycwpycpdatpucwayhxpixqipiq uhpxdatpdvpixupbyctplyixpixqipbqhiugvjapqctphjrtjycwpedlugplxysxphiyaapruadcwhpidpixupangysqaphiqcoqhpdvpixupigdjrqtdjghpqctpbyccuhycwughpidpluahxpgdbqcsupdgpidpixupueyspegdhupdvpixupysuaqctpxyhidgyuhpppixupcdgbqcpsdcfjuhiptuwgqtutpixupucwayhxpaqcwjqwupvgdbpyihpayiugqgnpgqc pqctprgdjwxipycpqpculpaqcwjqwupvdgpixupedayiugpayiugqijgupyiptytpcdiptuhigdnpycpdcuphuchupyiptytpcdipqrhdajiuanpyciuggjeipucwayhxpayiugqijguprjipyipidd pqlqnpixupucwayhxpayiugqgnphiqctqgtpqctpixgulpixupsdjcignprqs pycidpixupsdctyiydcpdvpyiqanpruvdguptqciuqcpqcqgsxnpdvptyqausihplxucpqpculpayiugqgnpaqcwjqwuplqhpuhiqrayhxutpycpixupiybupdvpsxqjsugpixupbyttaupqwuhplugupcuqganpdkugpqctphdpyipxqeeucutpixqipvdgpixupwguqiuhipdvpixupbutyukqapsucijgyuhpixupiluavixpqctpixygiuucixpixupsucijgyuhpdvpixupsgjhqtuhpdvpixupxdxuchiqjvucpubeugdghpdvphipvgqcsyhphiptdbycyspqctphipadjyhpixugupyhpycpucwayhxpcdpwguqipgueguhuciqiykupldg pycpegdhupdgpgxnbupixugupqgupruiiugpixycwhpyipyhpigjupixqcpixuphiqwwugycwpgxnixbhpdvpaqnqbdcpdgpixuplddtucpegusyhydcpdvpdgbpixupqcsgucpgylaupyhpruiiugprjipixugupyhpcdpdcuplxdpsqcprupiq ucpqhphdbupdvpixuplgyiughpycpdixugpsdjcigyuhpsqcsguhiyucptupigdyuhpvdgpychiqcsupdgplqaixugpkdcptugpkdwualuytupdgpkyaauxqgtdjycixugupyhpcdpdcupycpucwaqctplxdpsqcprupiq ucpvdgpqpgueguhuciqiykupeduipdgpdgqidgpwykycwpdjiplxqipsqcprupgusdwcyhutpqipdcsupqctpyhpgusdwcyhutpychiycsiykuanpqhpixupruhipedhhyraupayiugqgnpldg pdvpyihpdlcptqnpqctpyihpdlcp yctpixupruqjinpdvpbutyukqapeduignpqctpegdhupyhpcdipidprupvdjctpycpucwaqctpdgpdcanpycpqpvqycipguvausiutplqnpucwaqctptytpcdipedhhuhhpixupxuqgipdvpixupbnhiugnp\n",
      "\n",
      "\n",
      "key:(netdf ukafxk)\n",
      "plaintext:\n",
      "etqlmeecmoeu zl rlyqpuqgmxlxueqcmefcqlo yqdlaqctmadly cqldec zsxjlrc yld yql etqclo fzecuqdletmzlrc ylqzsxmzpluzlrcmzoqlmzplac gqzoqluzlsqcymzjlmzpluoqxmzpletqcqlhqcqlxueqcmcjlmpgqzefcqcdly cqlpmcuzslmzplmotuqgqyqzedly cqlpudeuzsfudtqpluelhmdlz eluzlqzsxmzpletmeletqly delh zpqcrfxletuzsdlhqcqlac pfoqpletqcqludlz etuzsluzl xplqzsxudtletmelemwqdlt xpl rletqlyuzplhuetletmelymdeqcrfxlmzpldfnpfuzsla hqclhtuotldeuxxlnqx zsdle letqlxjcuomxldemzkmdl rletqlec fnmp fcdlmzplyuzzqduzsqcdle lhqxdtlc ymzoql cle letqlqauolac dql rletqluoqxmzpltude cuqdllletqlz cymzlo zbfqdelpqscmpqpletqlqzsxudtlxmzsfmsqlrc yluedlxueqcmcjlcmzwlmzplnc fsteluzlmlzqhlxmzsfmsqlr cletqla xueqclxueqcmefcqluelpuplz elpqdec jluzl zqldqzdqluelpuplz elmnd xfeqxjluzeqccfaelqzsxudtlxueqcmefcqlnfeluele  wlmhmjletqlqzsxudtlxueqcmcjldemzpmcplmzpletcqhletqlo fzecjlnmowluze letqlo zpueu zl rluemxjlnqr cqlpmzeqmzlmzmcotjl rlpumxqoedlhtqzlmlzqhlxueqcmcjlxmzsfmsqlhmdlqdemnxudtqpluzletqleuyql rlotmfoqcletqlyuppxqlmsqdlhqcqlzqmcxjl gqclmzpld lueltmaaqzqpletmelr cletqlscqmeqdel rletqlyqpuqgmxloqzefcuqdletqlehqxretlmzpletuceqqzetletqloqzefcuqdl rletqlocfdmpqdl rletqlt tqzdemfrqzlqyaqc cdl rldelrcmzoudldelp yuzuolmzpldelx fudletqcqludluzlqzsxudtlz lscqmelcqacqdqzemeugqlh cwluzlac dql clctjyqletqcqlmcqlnqeeqcletuzsdlueludlecfqletmzletqldemssqcuzslctjetydl rlxmjmy zl cletqlh  pqzlacqoudu zl rl cyletqlmzocqzlcuhxqludlnqeeqclnfeletqcqludlz l zqlht lomzlnqlemwqzlmdld yql rletqlhcueqcdluzl etqclo fzecuqdlomzocqdeuqzlpqlec uqdlr cluzdemzoql clhmxetqclg zlpqclg sqxhqupql clguxxqtmcp fuzetqcqludlz l zqluzlqzsxmzplht lomzlnqlemwqzlr clmlcqacqdqzemeugqla qel cl cme clsuguzsl felhtmelomzlnqlcqo szudqplmel zoqlmzpludlcqo szudqpluzdeuzoeugqxjlmdletqlnqdela ddunxqlxueqcmcjlh cwl rluedl hzlpmjlmzpluedl hzlwuzpletqlnqmfejl rlyqpuqgmxla qecjlmzplac dqludlz ele lnqlr fzpluzlqzsxmzpl cl zxjluzlmlrmuzelcqrxqoeqplhmjlqzsxmzplpuplz ela ddqddletqltqmcel rletqlyjdeqcjl\n",
      "\n",
      "\n",
      "key:(tkzjlf qglcq)\n",
      "plaintext:\n",
      "znkfgzzxgizoutfulfskjokagrfrozkxgz xkfiuskyfvkxngvyfsuxkfyzxutmrdflxusfyuskfuznkxfiu tzxokyfzngtflxusfktmrgtjfotflxgtikfgtjfvxuaktikfotfmkxsgtdfgtjfoikrgtjfznkxkfbkxkfrozkxgxdfgjaktz xkxyfsuxkfjgxotmfgtjfginokaksktzyfsuxkfjoyzotm oynkjfozfbgyftuzfotfktmrgtjfzngzfznkfsuyzfbutjkxl rfznotmyfbkxkfvxuj ikjfznkxkfoyftuznotmfotfurjfktmroynfzngzfzgqkyfnurjfulfznkfsotjfboznfzngzfsgyzkxl rfgtjfy hj otmfvubkxfbnoinfyzorrfhkrutmyfzufznkfrdxoigrfyzgtegyfulfznkfzxu hgju xyfgtjfsottkyotmkxyfzufbkrynfxusgtikfuxfzufznkfkvoifvxuykfulfznkfoikrgtjfnoyzuxokyfffznkftuxsgtfiutw kyzfjkmxgjkjfznkfktmroynfrgtm gmkflxusfozyfrozkxgxdfxgtqfgtjfhxu mnzfotfgftkbfrgtm gmkfluxfznkfvurozkxfrozkxgz xkfozfjojftuzfjkyzxudfotfutkfyktykfozfjojftuzfghyur zkrdfotzkxx vzfktmroynfrozkxgz xkfh zfozfzuuqfgbgdfznkfktmroynfrozkxgxdfyzgtjgxjfgtjfznxkbfznkfiu tzxdfhgiqfotzufznkfiutjozoutfulfozgrdfhkluxkfjgtzkgtfgtgxindfulfjogrkizyfbnktfgftkbfrozkxgxdfrgtm gmkfbgyfkyzghroynkjfotfznkfzoskfulfing ikxfznkfsojjrkfgmkyfbkxkftkgxrdfuakxfgtjfyufozfngvvktkjfzngzfluxfznkfmxkgzkyzfulfznkfskjokagrfiktz xokyfznkfzbkrlznfgtjfznoxzkktznfznkfiktz xokyfulfznkfix ygjkyfulfznkfnunktyzg lktfksvkxuxyfulfyzflxgtioyfyzfjusotoifgtjfyzfru oyfznkxkfoyfotfktmroynftufmxkgzfxkvxkyktzgzoakfbuxqfotfvxuykfuxfxndskfznkxkfgxkfhkzzkxfznotmyfozfoyfzx kfzngtfznkfyzgmmkxotmfxndznsyfulfrgdgsutfuxfznkfbuujktfvxkioyoutfulfuxsfznkfgtixktfxobrkfoyfhkzzkxfh zfznkxkfoyftufutkfbnufigtfhkfzgqktfgyfyuskfulfznkfbxozkxyfotfuznkxfiu tzxokyfigtixkyzoktfjkfzxuokyfluxfotyzgtikfuxfbgrznkxfautfjkxfaumkrbkojkfuxfaorrkngxju otznkxkfoyftufutkfotfktmrgtjfbnufigtfhkfzgqktfluxfgfxkvxkyktzgzoakfvukzfuxfuxgzuxfmoaotmfu zfbngzfigtfhkfxkiumtoykjfgzfutikfgtjfoyfxkiumtoykjfotyzotizoakrdfgyfznkfhkyzfvuyyohrkfrozkxgxdfbuxqfulfozyfubtfjgdfgtjfozyfubtfqotjfznkfhkg zdfulfskjokagrfvukzxdfgtjfvxuykfoyftuzfzufhkflu tjfotfktmrgtjfuxfutrdfotfgflgotzfxklrkizkjfbgdfktmrgtjfjojftuzfvuyykyyfznkfnkgxzfulfznkfsdyzkxdf\n",
      "\n",
      "\n",
      "key:(ypdoqkevlqhv)\n",
      "plaintext:\n",
      "uifabuusbdujpoapganfejfwbmamjufsbuvsfadpnftaqfsibqtanpsfatuspohmzagspnatpnfapuifsadpvousjftauiboagspnafohmboeajoagsbodfaboeaqspwfodfajoahfsnbozaboeajdfmboeauifsfaxfsfamjufsbszabewfouvsfstanpsfaebsjohaboeabdijfwfnfoutanpsfaejtujohvjtifeajuaxbtaopuajoafohmboeauibuauifanptuaxpoefsgvmauijohtaxfsfaqspevdfeauifsfajtaopuijohajoapmeafohmjtiauibuaublftaipmeapgauifanjoeaxjuiauibuanbtufsgvmaboeatvcevjohaqpxfsaxijdiatujmmacfmpohtaupauifamzsjdbmatubo btapgauifauspvcbepvstaboeanjooftjohfstaupaxfmtiaspnbodfapsaupauifafqjdaqsptfapgauifajdfmboeaijtupsjftaaauifaopsnboadporvftuaefhsbefeauifafohmjtiambohvbhfagspnajutamjufsbszasbolaboeacspvhiuajoabaofxambohvbhfagpsauifaqpmjufsamjufsbuvsfajuaejeaopuaeftuspzajoapofatfotfajuaejeaopuabctpmvufmzajoufssvquafohmjtiamjufsbuvsfacvuajuaupplabxbzauifafohmjtiamjufsbszatuboebseaboeauisfxauifadpvouszacbdlajoupauifadpoejujpoapgajubmzacfgpsfaeboufboabobsdizapgaejbmfdutaxifoabaofxamjufsbszambohvbhfaxbtaftubcmjtifeajoauifaujnfapgadibvdfsauifanjeemfabhftaxfsfaofbsmzapwfsaboeatpajuaibqqfofeauibuagpsauifahsfbuftuapgauifanfejfwbmadfouvsjftauifauxfmguiaboeauijsuffouiauifadfouvsjftapgauifadsvtbeftapgauifaipifotubvgfoafnqfspstapgatuagsbodjtatuaepnjojdaboeatuampvjtauifsfajtajoafohmjtiaopahsfbuasfqsftfoubujwfaxpslajoaqsptfapsasiznfauifsfabsfacfuufsauijohtajuajtausvfauiboauifatubhhfsjohasizuintapgambzbnpoapsauifaxppefoaqsfdjtjpoapgapsnauifabodsfoasjxmfajtacfuufsacvuauifsfajtaopapofaxipadboacfaublfoabtatpnfapgauifaxsjufstajoapuifsadpvousjftadbodsftujfoaefauspjftagpsajotubodfapsaxbmuifsawpoaefsawphfmxfjefapsawjmmfibsepvjouifsfajtaopapofajoafohmboeaxipadboacfaublfoagpsabasfqsftfoubujwfaqpfuapsapsbupsahjwjohapvuaxibuadboacfasfdphojtfeabuapodfaboeajtasfdphojtfeajotujodujwfmzabtauifacftuaqpttjcmfamjufsbszaxpslapgajutapxoaebzaboeajutapxoaljoeauifacfbvuzapganfejfwbmaqpfuszaboeaqsptfajtaopuaupacfagpvoeajoafohmboeapsapomzajoabagbjouasfgmfdufeaxbzafohmboeaejeaopuaqpttfttauifaifbsuapgauifanztufsza\n",
      "\n",
      "\n",
      "key:(pgvfhbwmchzm)\n",
      "plaintext:\n",
      "crojkccakmcsyxjypjwonsoekvjvscoakcdaojmywobjzoarkzbjwyaojbcayxqvhjpaywjbywojycroajmydxcasobjcrkxjpaywjoxqvkxnjsxjpakxmojkxnjzayeoxmojsxjqoawkxhjkxnjsmovkxnjcroaojfoaojvscoakahjkneoxcdaoabjwyaojnkasxqjkxnjkmrsoeowoxcbjwyaojnsbcsxqdsbronjscjfkbjxycjsxjoxqvkxnjcrkcjcrojwybcjfyxnoapdvjcrsxqbjfoaojzayndmonjcroaojsbjxycrsxqjsxjyvnjoxqvsbrjcrkcjckuobjryvnjypjcrojwsxnjfscrjcrkcjwkbcoapdvjkxnjbdlndsxqjzyfoajfrsmrjbcsvvjlovyxqbjcyjcrojvhasmkvjbckxikbjypjcrojcaydlknydabjkxnjwsxxobsxqoabjcyjfovbrjaywkxmojyajcyjcrojozsmjzaybojypjcrojsmovkxnjrsbcyasobjjjcrojxyawkxjmyx dobcjnoqaknonjcrojoxqvsbrjvkxqdkqojpaywjscbjvscoakahjakxujkxnjlaydqrcjsxjkjxofjvkxqdkqojpyajcrojzyvscoajvscoakcdaojscjnsnjxycjnobcayhjsxjyxojboxbojscjnsnjxycjklbyvdcovhjsxcoaadzcjoxqvsbrjvscoakcdaojldcjscjcyyujkfkhjcrojoxqvsbrjvscoakahjbckxnkanjkxnjcraofjcrojmydxcahjlkmujsxcyjcrojmyxnscsyxjypjsckvhjlopyaojnkxcokxjkxkamrhjypjnskvomcbjfroxjkjxofjvscoakahjvkxqdkqojfkbjobcklvsbronjsxjcrojcswojypjmrkdmoajcrojwsnnvojkqobjfoaojxokavhjyeoajkxnjbyjscjrkzzoxonjcrkcjpyajcrojqaokcobcjypjcrojwonsoekvjmoxcdasobjcrojcfovpcrjkxnjcrsacooxcrjcrojmoxcdasobjypjcrojmadbknobjypjcrojryroxbckdpoxjowzoayabjypjbcjpakxmsbjbcjnywsxsmjkxnjbcjvydsbjcroaojsbjsxjoxqvsbrjxyjqaokcjaozaoboxckcseojfyaujsxjzaybojyajarhwojcroaojkaojloccoajcrsxqbjscjsbjcadojcrkxjcrojbckqqoasxqjarhcrwbjypjvkhkwyxjyajcrojfyynoxjzaomsbsyxjypjyawjcrojkxmaoxjasfvojsbjloccoajldcjcroaojsbjxyjyxojfryjmkxjlojckuoxjkbjbywojypjcrojfascoabjsxjycroajmydxcasobjmkxmaobcsoxjnojcaysobjpyajsxbckxmojyajfkvcroajeyxjnoajeyqovfosnojyajesvvorkanydsxcroaojsbjxyjyxojsxjoxqvkxnjfryjmkxjlojckuoxjpyajkjaozaoboxckcseojzyocjyajyakcyajqsesxqjydcjfrkcjmkxjlojaomyqxsbonjkcjyxmojkxnjsbjaomyqxsbonjsxbcsxmcseovhjkbjcrojlobcjzybbslvojvscoakahjfyaujypjscbjyfxjnkhjkxnjscbjyfxjusxnjcrojlokdchjypjwonsoekvjzyocahjkxnjzaybojsbjxycjcyjlojpydxnjsxjoxqvkxnjyajyxvhjsxjkjpksxcjaopvomconjfkhjoxqvkxnjnsnjxycjzybbobbjcrojrokacjypjcrojwhbcoahj\n",
      "\n",
      "\n",
      "key:(xocnpjdukpgu)\n",
      "plaintext:\n",
      "vjgbcvvtcevkqpbqhbogfkgxcnbnkvgtcvwtgbeqogubrgtjcruboqtgbuvtqpin bhtqobuqogbqvjgtbeqwpvtkgubvjcpbhtqobgpincpfbkpbhtcpegbcpfbrtqxgpegbkpbigtocp bcpfbkegncpfbvjgtgbygtgbnkvgtct bcfxgpvwtgtuboqtgbfctkpibcpfbcejkgxgogpvuboqtgbfkuvkpiwkujgfbkvbycubpqvbkpbgpincpfbvjcvbvjgboquvbyqpfgthwnbvjkpiubygtgbrtqfwegfbvjgtgbkubpqvjkpibkpbqnfbgpinkujbvjcvbvcmgubjqnfbqhbvjgbokpfbykvjbvjcvbocuvgthwnbcpfbuwdfwkpibrqygtbyjkejbuvknnbdgnqpiubvqbvjgbn tkecnbuvcpacubqhbvjgbvtqwdcfqwtubcpfbokppgukpigtubvqbygnujbtqocpegbqtbvqbvjgbgrkebrtqugbqhbvjgbkegncpfbjkuvqtkgubbbvjgbpqtocpbeqpswguvbfgitcfgfbvjgbgpinkujbncpiwcigbhtqobkvubnkvgtct btcpmbcpfbdtqwijvbkpbcbpgybncpiwcigbhqtbvjgbrqnkvgtbnkvgtcvwtgbkvbfkfbpqvbfguvtq bkpbqpgbugpugbkvbfkfbpqvbcduqnwvgn bkpvgttwrvbgpinkujbnkvgtcvwtgbdwvbkvbvqqmbcyc bvjgbgpinkujbnkvgtct buvcpfctfbcpfbvjtgybvjgbeqwpvt bdcembkpvqbvjgbeqpfkvkqpbqhbkvcn bdghqtgbfcpvgcpbcpctej bqhbfkcngevubyjgpbcbpgybnkvgtct bncpiwcigbycubguvcdnkujgfbkpbvjgbvkogbqhbejcwegtbvjgbokffngbcigubygtgbpgctn bqxgtbcpfbuqbkvbjcrrgpgfbvjcvbhqtbvjgbitgcvguvbqhbvjgbogfkgxcnbegpvwtkgubvjgbvygnhvjbcpfbvjktvggpvjbvjgbegpvwtkgubqhbvjgbetwucfgubqhbvjgbjqjgpuvcwhgpbgorgtqtubqhbuvbhtcpekubuvbfqokpkebcpfbuvbnqwkubvjgtgbkubkpbgpinkujbpqbitgcvbtgrtgugpvcvkxgbyqtmbkpbrtqugbqtbtj ogbvjgtgbctgbdgvvgtbvjkpiubkvbkubvtwgbvjcpbvjgbuvciigtkpibtj vjoubqhbnc coqpbqtbvjgbyqqfgpbrtgekukqpbqhbqtobvjgbcpetgpbtkyngbkubdgvvgtbdwvbvjgtgbkubpqbqpgbyjqbecpbdgbvcmgpbcubuqogbqhbvjgbytkvgtubkpbqvjgtbeqwpvtkgubecpetguvkgpbfgbvtqkgubhqtbkpuvcpegbqtbycnvjgtbxqpbfgtbxqignygkfgbqtbxknngjctfqwkpvjgtgbkubpqbqpgbkpbgpincpfbyjqbecpbdgbvcmgpbhqtbcbtgrtgugpvcvkxgbrqgvbqtbqtcvqtbikxkpibqwvbyjcvbecpbdgbtgeqipkugfbcvbqpegbcpfbkubtgeqipkugfbkpuvkpevkxgn bcubvjgbdguvbrquukdngbnkvgtct byqtmbqhbkvubqypbfc bcpfbkvubqypbmkpfbvjgbdgcwv bqhbogfkgxcnbrqgvt bcpfbrtqugbkubpqvbvqbdgbhqwpfbkpbgpincpfbqtbqpn bkpbcbhckpvbtghngevgfbyc bgpincpfbfkfbpqvbrquuguubvjgbjgctvbqhbvjgbo uvgt b\n",
      "\n",
      "\n",
      "key:(lcrbdysrzdvi)\n",
      "plaintext:\n",
      "gvsnoggwoqgwbanbtn jrwsioznzwgswoghesnqb sfecsevocfn bejnfgebauzlntwb nfb snbgvjenqbhagewsfegvoanteb nssuzoarnwantefaqsnoarnceb saqsnwanuseroalnoarnwqsqoarngvsesnjjesnzwgseoeleorisaghesefe besnroewaueoarnoqvwsisrsagfn besnrnfgwauhwfvsrewgnjofnabgnnansauzoarngmogngvsn bfgejbarsethzngmwaufnjsesncwbrhqsrngvsejnwfnabgvwauewanbzrnsauznfvngvogngoyjfnvbzrnbtngmsn warnjwgvegvogn ofgsekhznoarnfhprzwauncbjsenjmwqvnfgwzznpjzbaufngbngvjnzlewqoznfgfamofnbtngvsegebhporbhefeoarn waasfwsusefngbnjszxvneb oaqsnbwngbngvsnscwhncebfsnbtngmsnwqszoarnvnfgbewsfnnngmsnabe oanqbsdhsfgnrsueoisrngvsnsauznfvnzoauhouseteb nwgfnzwyseoelneoaynfarnpebhuvgnnanonasjnzoalhousntbengvjncbzwgsenzwyseoghesnwgniwrnabgnrsfgwblnwanbasnfjafsnwgnrwrnsbgnopfbzhgsqlnwagseehcgesauzwfvnzwgjeoghesnphgnngngbbynojolegvsnsauzwfvezwgseoelnfgfaroernoarngmesjngvsnqbhsgelnpoqynwaybngvsnqbarwywbanbtnwgozcnpstbesnroaysoanoaoeqvlebtnrwozsqgfejvsanonasjnqwgseoelnzoalhousnjofnsfyopzwfvsrnwaegvsngw snbteqvohqsengvse wrrzsnousfejsesnasoezlebisenoarnfbewgnvoccsasregvogntbengvjnuesogsfgnbkngvsn srwsifznqsaghewsfegvsngjsztgveoarngvwegsssgvngvsnqsagzewsfnbtngvseqehforsfnbtegvsnvbvsafgfhtsans csebwfnbtnfgnteosqwfnfgnrb wswqnoarnfgnzthwfngvsesnwxnwansauzwfveabnuesognesuesfsagogwisejbeynwancebxsnbenevl snyvsesnoesnpsygsengvwaufnngnwfngehsngmoangvsnfgoulsewaunevlgvrfnbtnzolo bsnbengvsnjbbisancesqwfwbsnbtnbe ngvseoaqesanewjzjnwfnpsggsenghgngvsesnwfeabnbasnjvbnhoanpsngoysaeofnfb snbtnyvsnjewgsefnnanbgvsenqbhsgewsfnqoaqejfgwsanrsngetwsfntbenwafyoaqsnbenjozyvsenibanrseeibuszjswrsnteniwzzsvoerthwagvsesnwfeabnbasnwanssuzoarnjvbnqfanpsngoysankbenonescesfjagogwisncbsynbenbeogbenlwiwaunbhgnjmognqoanpsnejqbuawfsrnogebaqsnoarnwfeesqbuawfsrnnafgwaqgwiszcnofngvsnpsfyncbffwpzsnzngseoelnjbeyebtnwgfnbjaniolnoarnwgfntjanywarngvsepsohglnbtn jrwsiozncbsgwlnoarncebfsewfnabgngbnpjntbharnwanssuzoarnbenbaqlnwanontowaynestzsqgsrnaolnsauzoarniwrnabgncbffjffngvsnvsoeynbtngvsn lfyseln\n",
      "\n",
      "\n",
      "key:(mdscezts ewj)\n",
      "plaintext:\n",
      "furmnffvnpfva masmziqvrhnymyvfrvnfgdrmpazredbrdunbemzadimefda tykmsvazmeazrmafuidmpag fdvredfun msdazmrrtyn qmv msde prmn qmbdazr prmv mtrdqn kmn qmvprpn qmfurdrmiidrmyvfrdndkdnqhr fgdrdedzadrmqndv tdn qmnpuvrhrqr femzadrmqmefv tgveurqdvfminem afmm mr tyn qmflnfmfurmzaefdia qrdsgymflv temirdrmbvaqgprqmfurdimvem afuv tdv mayqmr tymeumfunfmfnxiemuayqmasmflrmzv qmivfudfunfmznefrdjgymn qmegoqyv tmbairdmilvpumefvyymoiya temfamfuimykdvpnymefe lnemasmfurdfdagonqagdedn qmzv  revrtrdemfamirywumdazn prmavmfamfurmrbvgmbdaermasmflrmvpryn qmumefadvremmmflrm adzn mparcgrefmqrtdnhrqmfurmr tymeumyn tgntrdsdazmvfemyvxrdndkmdn xme qmodagtufmm mnm rimyn kgntrmsadmfuimbayvfrdmyvxrdnfgdrmvfmhvqm afmqrefvakmv ma rmei ermvfmqvqmrafmnoeaygfrpkmv frddgbfdr tyveumyvfidnfgdrmogfmmfmfaaxmninkdfurmr tyveudyvfrdndkmefe qndqmn qmfldrimfurmpagrfdkmonpxmv xamfurmpa qvxva masmvfnybmorsadrmqn xrn mn ndpukdasmqvnyrpfediur mnm rimpvfrdndkmyn kgntrminemrexnoyveurqmv dfurmfvzrmasdpungprdmfurdzvqqyrmntredirdrm rndykdahrdmn qmeadvfmunbbr rqdfunfmsadmfuimtdrnfrefmajmfurmzrqvrheympr fgdvredfurmfirysfudn qmfuvdfrrrfumfurmpr fydvremasmfurdpdgenqremasdfurmuaur efegsr mrzbrdavemasmefmsdnrpvemefmqazvrvpmn qmefmysgvemfurdrmvwmv mr tyveud amtdrnfmdrtdrer fnfvhrdiadxmv mbdawrmadmdukzrmxurdrmndrmorxfrdmfuv temmfmvemfdgrmfln mfurmefntkrdv tmdukfuqemasmynknzarmadmfurmiaahr mbdrpvevarmasmadzmfurdn pdr mdviyimvemorffrdmfgfmfurdrmved ama rmiuamgn mormfnxr dnemeazrmasmxurmidvfrdemm mafurdmpagrfdvrempn pdiefvr mqrmfdsvremsadmv exn prmadminyxurdmha mqrddhatryirvqrmsdmhvyyrundqsgv furdrmved ama rmv mrrtyn qmiuampe mormfnxr mjadmnmdrbdrei fnfvhrmbarxmadmadnfadmkvhv tmagfmilnfmpn mormdipat verqmnfda prmn qmveddrpat verqmm efv pfvhrybmnemfurmorexmbaeevoyrmymfrdndkmiadxdasmvfemai mhnkmn qmvfemsi mxv qmfurdorngfkmasmziqvrhnymbarfvkmn qmbdaerdvem afmfamoimsag qmv mrrtyn qmadma pkmv mnmsnv xmdrsyrpfrqm nkmr tyn qmhvqm afmbaeeieemfurmurndxmasmfurmzkexrdkm\n",
      "\n",
      "\n",
      "key:(rixhjdyoejao)\n",
      "plaintext:\n",
      "apmhiaazikaqwvhwnhumlqmcithtqamziabzmhkwum hxmzpix huwzmh azwvotfhnzwuh wumhwapmzhkwbvazqm hapivhnzwuhmvotivlhqvhnzivkmhivlhxzwcmvkmhqvhomzuivfhivlhqkmtivlhapmzmhdmzmhtqamzizfhilcmvabzmz huwzmhlizqvohivlhikpqmcmumva huwzmhlq aqvobq pmlhqahdi hvwahqvhmvotivlhapiahapmhuw ahdwvlmznbthapqvo hdmzmhxzwlbkmlhapmzmhq hvwapqvohqvhwtlhmvotq phapiahaism hpwtlhwnhapmhuqvlhdqaphapiahui amznbthivlh bjlbqvohxwdmzhdpqkph aqtthjmtwvo hawhapmhtfzqkith aivgi hwnhapmhazwbjilwbz hivlhuqvvm qvomz hawhdmt phzwuivkmhwzhawhapmhmxqkhxzw mhwnhapmhqkmtivlhpq awzqm hhhapmhvwzuivhkwvybm ahlmozilmlhapmhmvotq phtivobiomhnzwuhqa htqamzizfhzivshivlhjzwbopahqvhihvmdhtivobiomhnwzhapmhxwtqamzhtqamziabzmhqahlqlhvwahlm azwfhqvhwvmh mv mhqahlqlhvwahij wtbamtfhqvamzzbxahmvotq phtqamziabzmhjbahqahawwshidifhapmhmvotq phtqamzizfh aivlizlhivlhapzmdhapmhkwbvazfhjikshqvawhapmhkwvlqaqwvhwnhqaitfhjmnwzmhlivamivhivizkpfhwnhlqitmka hdpmvhihvmdhtqamzizfhtivobiomhdi hm aijtq pmlhqvhapmhaqumhwnhkpibkmzhapmhuqlltmhiom hdmzmhvmiztfhwcmzhivlh whqahpixxmvmlhapiahnwzhapmhozmiam ahwnhapmhumlqmcithkmvabzqm hapmhadmtnaphivlhapqzammvaphapmhkmvabzqm hwnhapmhkzb ilm hwnhapmhpwpmv aibnmvhmuxmzwz hwnh ahnzivkq h ahlwuqvqkhivlh ahtwbq hapmzmhq hqvhmvotq phvwhozmiahzmxzm mvaiaqcmhdwzshqvhxzw mhwzhzpfumhapmzmhizmhjmaamzhapqvo hqahq hazbmhapivhapmh aioomzqvohzpfapu hwnhtifiuwvhwzhapmhdwwlmvhxzmkq qwvhwnhwzuhapmhivkzmvhzqdtmhq hjmaamzhjbahapmzmhq hvwhwvmhdpwhkivhjmhaismvhi h wumhwnhapmhdzqamz hqvhwapmzhkwbvazqm hkivkzm aqmvhlmhazwqm hnwzhqv aivkmhwzhditapmzhcwvhlmzhcwomtdmqlmhwzhcqttmpizlwbqvapmzmhq hvwhwvmhqvhmvotivlhdpwhkivhjmhaismvhnwzhihzmxzm mvaiaqcmhxwmahwzhwziawzhoqcqvohwbahdpiahkivhjmhzmkwovq mlhiahwvkmhivlhq hzmkwovq mlhqv aqvkaqcmtfhi hapmhjm ahxw  qjtmhtqamzizfhdwzshwnhqa hwdvhlifhivlhqa hwdvhsqvlhapmhjmibafhwnhumlqmcithxwmazfhivlhxzw mhq hvwahawhjmhnwbvlhqvhmvotivlhwzhwvtfhqvhihniqvahzmntmkamlhdifhmvotivlhlqlhvwahxw  m  hapmhpmizahwnhapmhuf amzfh\n",
      "\n",
      "\n",
      "key:(cuitvpj qvm )\n",
      "plaintext:\n",
      "pdawxppnxzpekjwkbwia earxhwhepanxpqnawzkiaowlandxlowiknawopnkjchuwbnkiwokiawkpdanwzkqjpneaowpdxjwbnkiwajchxj wejwbnxjzawxj wlnkrajzawejwcanixjuwxj wezahxj wpdanawsanawhepanxnuwx rajpqnanowiknaw xnejcwxj wxzdearaiajpowiknaw eopejcqeoda wepwsxowjkpwejwajchxj wpdxpwpdawikopwskj anbqhwpdejcowsanawlnk qza wpdanaweowjkpdejcwejwkh wajcheodwpdxpwpxgaowdkh wkbwpdawiej wsepdwpdxpwixopanbqhwxj woqy qejcwlksanwsdezdwopehhwyahkjcowpkwpdawhunezxhwopxjvxowkbwpdawpnkqyx kqnowxj wiejjaoejcanowpkwsahodwnkixjzawknwpkwpdawalezwlnkoawkbwpdawezahxj wdeopkneaowwwpdawjknixjwzkjmqaopw acnx a wpdawajcheodwhxjcqxcawbnkiwepowhepanxnuwnxjgwxj wynkqcdpwejwxwjaswhxjcqxcawbknwpdawlkhepanwhepanxpqnawepw e wjkpw aopnkuwejwkjawoajoawepw e wjkpwxyokhqpahuwejpannqlpwajcheodwhepanxpqnawyqpwepwpkkgwxsxuwpdawajcheodwhepanxnuwopxj xn wxj wpdnaswpdawzkqjpnuwyxzgwejpkwpdawzkj epekjwkbwepxhuwyabknaw xjpaxjwxjxnzduwkbw exhazpowsdajwxwjaswhepanxnuwhxjcqxcawsxowaopxyheoda wejwpdawpeiawkbwzdxqzanwpdawie  hawxcaowsanawjaxnhuwkranwxj wokwepwdxllaja wpdxpwbknwpdawcnaxpaopwkbwpdawia earxhwzajpqneaowpdawpsahbpdwxj wpdenpaajpdwpdawzajpqneaowkbwpdawznqox aowkbwpdawdkdajopxqbajwailanknowkbwopwbnxjzeowopw kiejezwxj wopwhkqeowpdanaweowejwajcheodwjkwcnaxpwnalnaoajpxperawskngwejwlnkoawknwnduiawpdanawxnawyappanwpdejcowepweowpnqawpdxjwpdawopxccanejcwndupdiowkbwhxuxikjwknwpdawskk ajwlnazeoekjwkbwkniwpdawxjznajwneshaweowyappanwyqpwpdanaweowjkwkjawsdkwzxjwyawpxgajwxowokiawkbwpdawsnepanowejwkpdanwzkqjpneaowzxjznaopeajw awpnkeaowbknwejopxjzawknwsxhpdanwrkjw anwrkcahsae awknwrehhadxn kqejpdanaweowjkwkjawejwajchxj wsdkwzxjwyawpxgajwbknwxwnalnaoajpxperawlkapwknwknxpknwcerejcwkqpwsdxpwzxjwyawnazkcjeoa wxpwkjzawxj weownazkcjeoa wejopejzperahuwxowpdawyaopwlkooeyhawhepanxnuwskngwkbwepowksjw xuwxj wepowksjwgej wpdawyaxqpuwkbwia earxhwlkapnuwxj wlnkoaweowjkpwpkwyawbkqj wejwajchxj wknwkjhuwejwxwbxejpwnabhazpa wsxuwajchxj w e wjkpwlkooaoowpdawdaxnpwkbwpdawiuopanuw\n",
      "\n",
      "\n",
      "key:(zqeprlfwmriw)\n",
      "plaintext:\n",
      "the attraction of medieval literature comes perhaps more strongly from some other countries than from england in france and provence in germany and iceland there were literary adventurers more daring and achievements more distinguished it was not in england that the most wonderful things were produced there is nothing in old english that takes hold of the mind with that masterful and subduing power which still belongs to the lyrical stanzas of the troubadours and minnesingers to welsh romance or to the epic prose of the iceland histories   the norman conquest degraded the english language from its literary rank and brought in a new language for the politer literature it did not destroy in one sense it did not absolutely interrupt english literature but it took away the english literary standard and threw the country back into the condition of italy before dantean anarchy of dialects when a new literary language was established in the time of chaucer the middle ages were nearly over and so it happened that for the greatest of the medieval centuries the twelfth and thirteenth the centuries of the crusades of the hohenstaufen emperors of st francis st dominic and st louis there is in english no great representative work in prose or rhyme there are better things it is true than the staggering rhythms of layamon or the wooden precision of orm the ancren riwle is better but there is no one who can be taken as some of the writers in other countries cancrestien de troies for instance or walther von der vogelweide or villehardouinthere is no one in england who can be taken for a representative poet or orator giving out what can be recognised at once and is recognised instinctively as the best possible literary work of its own day and its own kind the beauty of medieval poetry and prose is not to be found in england or only in a faint reflected way england did not possess the heart of the mystery \n",
      "\n",
      "\n",
      "key:(qhwgicxndi n)\n",
      "plaintext:\n",
      "bqnijbb jlbrxwixoivnmrndjuiurbn jbc nilxvnaiyn qjyaivx niab xwpugio xviaxvnixbqn ilxcwb rnaibqjwio xvinwpujwmirwio jwlnijwmiy xdnwlnirwipn vjwgijwmirlnujwmibqn nien niurbn j gijmdnwbc n aivx nimj rwpijwmijlqrndnvnwbaivx nimrabrwpcraqnmirbiejaiwxbirwinwpujwmibqjbibqnivxabiexwmn ocuibqrwpaien niy xmclnmibqn niraiwxbqrwpirwixuminwpuraqibqjbibjtnaiqxumixoibqnivrwmierbqibqjbivjabn ocuijwmiackmcrwpiyxen ieqrlqiabruuiknuxwpaibxibqniug rljuiabjwhjaixoibqnib xckjmxc aijwmivrwwnarwpn aibxienuaqi xvjwlnix ibxibqninyrliy xanixoibqnirlnujwmiqrabx rnaiiibqniwx vjwilxwzcnabimnp jmnmibqninwpuraqiujwpcjpnio xvirbaiurbn j gi jwtijwmik xcpqbirwijiwneiujwpcjpniox ibqniyxurbn iurbn jbc nirbimrmiwxbimnab xgirwixwnianwanirbimrmiwxbijkaxucbnugirwbn  cybinwpuraqiurbn jbc nikcbirbibxxtijejgibqninwpuraqiurbn j giabjwmj mijwmibq neibqnilxcwb gikjltirwbxibqnilxwmrbrxwixoirbjugiknox nimjwbnjwijwj lqgixoimrjunlbaieqnwijiwneiurbn j giujwpcjpniejainabjkuraqnmirwibqnibrvnixoilqjcln ibqnivrmmunijpnaien niwnj ugixdn ijwmiaxirbiqjyynwnmibqjbiox ibqnip njbnabixoibqnivnmrndjuilnwbc rnaibqnibenuobqijwmibqr bnnwbqibqnilnwbc rnaixoibqnil cajmnaixoibqniqxqnwabjconwinvyn x aixoiabio jwlraiabimxvrwrlijwmiabiuxcraibqn nirairwinwpuraqiwxip njbi ny nanwbjbrdniex tirwiy xanix i qgvnibqn nij niknbbn ibqrwpairbiraib cnibqjwibqniabjppn rwpi qgbqvaixoiujgjvxwix ibqniexxmnwiy nlrarxwixoix vibqnijwl nwi reuniraiknbbn ikcbibqn niraiwxixwnieqxiljwiknibjtnwijaiaxvnixoibqnie rbn airwixbqn ilxcwb rnailjwl nabrnwimnib xrnaiox irwabjwlnix iejubqn idxwimn idxpnuenrmnix idruunqj mxcrwbqn niraiwxixwnirwinwpujwmieqxiljwiknibjtnwiox iji ny nanwbjbrdniyxnbix ix jbx iprdrwpixcbieqjbiljwikni nlxpwranmijbixwlnijwmirai nlxpwranmirwabrwlbrdnugijaibqniknabiyxaarkuniurbn j giex tixoirbaixewimjgijwmirbaixewitrwmibqniknjcbgixoivnmrndjuiyxnb gijwmiy xaniraiwxbibxiknioxcwmirwinwpujwmix ixwugirwijiojrwbi nounlbnmiejginwpujwmimrmiwxbiyxaanaaibqniqnj bixoibqnivgabn gi\n",
      "\n",
      "\n",
      "key:(sjyikezpfkbp)\n",
      "plaintext:\n",
      " olgh  yhj pvugvmgtlkplbhsgsp lyh aylgjvtlzgwlyohwzgtvylgz yvunsegmyvtgzvtlgv olygjvau yplzg ohugmyvtglunshukgpugmyhujlghukgwyvblujlgpugnlythueghukgpjlshukg olylgclylgsp lyhyeghkblu aylyzgtvylgkhypunghukghjoplbltlu zgtvylgkpz punapzolkgp gchzguv gpuglunshukg oh g olgtvz gcvuklymasg opunzgclylgwyvkajlkg olylgpzguv opungpugvskglunspzog oh g hrlzgovskgvmg olgtpukgcp og oh gthz lymasghukgzaikapungwvclygcopjogz pssgilsvunzg vg olgseypjhsgz hufhzgvmg olg yvaihkvayzghukgtpuulzpunlyzg vgclszogyvthujlgvyg vg olglwpjgwyvzlgvmg olgpjlshukgopz vyplzggg olguvythugjvuxalz gklnyhklkg olglunspzogshunahnlgmyvtgp zgsp lyhyegyhurghukgiyvano gpughgulcgshunahnlgmvyg olgwvsp lygsp lyh aylgp gkpkguv gklz yvegpugvulgzluzlgp gkpkguv ghizvsa lsegpu lyyaw glunspzogsp lyh aylgia gp g vvrghcheg olglunspzogsp lyhyegz hukhykghukg oylcg olgjvau yegihjrgpu vg olgjvukp pvugvmgp hsegilmvylgkhu lhughuhyjoegvmgkphslj zgcolughgulcgsp lyhyegshunahnlgchzglz hispzolkgpug olg ptlgvmgjohajlyg olgtpkkslghnlzgclylgulhysegvblyghukgzvgp gohwwlulkg oh gmvyg olgnylh lz gvmg olgtlkplbhsgjlu ayplzg olg clsm oghukg opy llu og olgjlu ayplzgvmg olgjyazhklzgvmg olgovoluz hamlugltwlyvyzgvmgz gmyhujpzgz gkvtpupjghukgz gsvapzg olylgpzgpuglunspzoguvgnylh gylwylzlu h pblgcvyrgpugwyvzlgvygyoetlg olylghylgil  lyg opunzgp gpzg yalg ohug olgz hnnlypungyoe otzgvmgshehtvugvyg olgcvvklugwyljpzpvugvmgvytg olghujylugypcslgpzgil  lygia g olylgpzguvgvulgcovgjhugilg hrlughzgzvtlgvmg olgcyp lyzgpugv olygjvau yplzgjhujylz plugklg yvplzgmvygpuz hujlgvygchs olygbvugklygbvnlsclpklgvygbpsslohykvapu olylgpzguvgvulgpuglunshukgcovgjhugilg hrlugmvyghgylwylzlu h pblgwvl gvygvyh vygnpbpungva gcoh gjhugilgyljvnupzlkgh gvujlghukgpzgyljvnupzlkgpuz puj pblseghzg olgilz gwvzzpislgsp lyhyegcvyrgvmgp zgvcugkheghukgp zgvcugrpukg olgilha egvmgtlkplbhsgwvl yeghukgwyvzlgpzguv g vgilgmvaukgpuglunshukgvygvusegpughgmhpu gylmslj lkgcheglunshukgkpkguv gwvzzlzzg olgolhy gvmg olgtez lyeg\n",
      "\n",
      "\n",
      "key:(kbqacxrqycuh)\n",
      "plaintext:\n",
      "hwtophhxprhxcbocuoaksxtjp o xhtxphiftorcatgfdtfwpdgoacfkoghfcbv mouxcaogcatochwkforcibhfxtgfhwpboufcaottv pbsoxboufgbrtopbsodfcatbrtoxbovtfspbmopbsoxrtrpbsohwtftokkfto xhtfpfmfpsjtbhiftfgfacftospfxbvfpbsoprwxtjtstbhgoacftosoghxbvixgwtsfxhokpgobchoobotbv pbsohnphohwtoacghfkcbstfui ohnxbvgoktftodxcsirtsohwtfkoxgobchwxbvfxboc sotbv ogwohwphohpzkgowc socuohntoaxbsokxhwfhwphoapghtfli opbsogiqs xbvodcktfoknxrwoghx  oqk cbvgohcohwko mfxrp oghgbnpgocuohwtfhfciqpscifgfpbsoaxbbtgxtvtfgohcokt ywofcapbrtocxohcohwtotdxiodfcgtocuohntoxrt pbsowoghcfxtgooohntobcfapborcteitghostvfpjtsohwtotbv ogwo pbvipvtfufcaoxhgo xztfpfmofpbzogbsoqfcivwhoobopobtko pbmipvtoucfohwkodc xhtfo xztfphiftoxhojxsobchostghxcmoxbocbtogkbgtoxhosxsotchopqgc ihtrmoxbhtffidhftbv xgwo xhkfphiftoqihoohohcczopkpmfhwtotbv xgwf xhtfpfmoghgbspfsopbsohnftkohwtorcithfmoqprzoxbzcohwtorcbsxzxcbocuoxhp doqtucftospbztpbopbpfrwmfcuosxp trhgfkwtbopobtkorxhtfpfmo pbmipvtokpgotgzpq xgwtsoxbfhwtohxatocufrwpirtfohwtfaxss topvtgfktftobtpf mfcjtfopbsogcfxhowpddtbtsfhwphoucfohwkovftphtghoclohwtoatsxtjg ortbhifxtgfhwtohkt uhwfpbsohwxfhttthwohwtortbh fxtgocuohwtfrfigpstgocufhwtowcwtbghgiutbotadtfcxgocuoghoufptrxgoghoscaxtxropbsogho uixgohwtftoxyoxbotbv xgwfbcovftphoftvftgtbhphxjtfkcfzoxbodfcytocfofwmatozwtftopftoqtzhtfohwxbvgoohoxgohfitohnpbohwtoghpvmtfxbvofwmhwsgocuo pmpactocfohwtokccjtbodftrxgxctocuocfaohwtfpbrftbofxk koxgoqthhtfohihohwtftoxgfbcocbtokwcoipboqtohpztbfpgogcatocuozwtokfxhtfgoobochwtforcithfxtgorpbrfkghxtbostohfuxtgoucfoxbgzpbrtocfokp zwtfojcbostffjcvt ktxstoufojx  twpfsuixbhwtftoxgfbcocbtoxbottv pbsokwcorgboqtohpztbolcfopoftdftgkbhphxjtodctzocfocfphcfomxjxbvocihoknphorpboqtofkrcvbxgtsophfcbrtopbsoxgfftrcvbxgtsoobghxbrhxjt dopgohwtoqtgzodcggxq to ohtfpfmokcfzfcuoxhgockbojpmopbsoxhgoukbozxbsohwtfqtpihmocuoaksxtjp odcthxmopbsodfcgtfxgobchohcoqkoucibsoxbottv pbsocfocbrmoxbopoupxbzoftu trhtsobpmotbv pbsojxsobchodcggkggohwtowtpfzocuohwtoamgztfmo\n",
      "\n",
      "\n",
      "key:(wnbmoictjoft)\n",
      "plaintext:\n",
      "wkhcdwwudfwlrqcricphglhydocolwhudwxuhcfrphvcshukdsvcpruhcvwurqjoaciurpcvrphcrwkhucfrxqwulhvcwkdqciurpchqjodqgclqciudqfhcdqgcsuryhqfhclqcjhupdqacdqgclfhodqgcwkhuhczhuhcolwhuduacdgyhqwxuhuvcpruhcgdulqjcdqgcdfklhyhphqwvcpruhcglvwlqjxlvkhgclwczdvcqrwclqchqjodqgcwkdwcwkhcprvwczrqghuixocwklqjvczhuhcsurgxfhgcwkhuhclvcqrwklqjclqcrogchqjolvkcwkdwcwdnhvckrogcricwkhcplqgczlwkcwkdwcpdvwhuixocdqgcvxegxlqjcsrzhuczklfkcvwloocehorqjvcwrcwkhcoaulfdocvwdqbdvcricwkhcwurxedgrxuvcdqgcplqqhvlqjhuvcwrczhovkcurpdqfhcrucwrcwkhchslfcsurvhcricwkhclfhodqgcklvwrulhvcccwkhcqrupdqcfrqtxhvwcghjudghgcwkhchqjolvkcodqjxdjhciurpclwvcolwhuduacudqncdqgceurxjkwclqcdcqhzcodqjxdjhcirucwkhcsrolwhucolwhudwxuhclwcglgcqrwcghvwuraclqcrqhcvhqvhclwcglgcqrwcdevroxwhoaclqwhuuxswchqjolvkcolwhudwxuhcexwclwcwrrncdzdacwkhchqjolvkcolwhuduacvwdqgdugcdqgcwkuhzcwkhcfrxqwuacedfnclqwrcwkhcfrqglwlrqcriclwdoacehiruhcgdqwhdqcdqdufkacricgldohfwvczkhqcdcqhzcolwhuduacodqjxdjhczdvchvwdeolvkhgclqcwkhcwlphcricfkdxfhucwkhcplggohcdjhvczhuhcqhduoacryhucdqgcvrclwckdsshqhgcwkdwcirucwkhcjuhdwhvwcricwkhcphglhydocfhqwxulhvcwkhcwzhoiwkcdqgcwkluwhhqwkcwkhcfhqwxulhvcricwkhcfuxvdghvcricwkhckrkhqvwdxihqchpshuruvcricvwciudqflvcvwcgrplqlfcdqgcvwcorxlvcwkhuhclvclqchqjolvkcqrcjuhdwcuhsuhvhqwdwlyhczrunclqcsurvhcrucukaphcwkhuhcduhcehwwhucwklqjvclwclvcwuxhcwkdqcwkhcvwdjjhulqjcukawkpvcricodadprqcrucwkhczrrghqcsuhflvlrqcricrupcwkhcdqfuhqculzohclvcehwwhucexwcwkhuhclvcqrcrqhczkrcfdqcehcwdnhqcdvcvrphcricwkhczulwhuvclqcrwkhucfrxqwulhvcfdqfuhvwlhqcghcwurlhvciruclqvwdqfhcruczdowkhucyrqcghucyrjhozhlghcrucyloohkdugrxlqwkhuhclvcqrcrqhclqchqjodqgczkrcfdqcehcwdnhqcirucdcuhsuhvhqwdwlyhcsrhwcrucrudwrucjlylqjcrxwczkdwcfdqcehcuhfrjqlvhgcdwcrqfhcdqgclvcuhfrjqlvhgclqvwlqfwlyhoacdvcwkhcehvwcsrvvleohcolwhuduaczruncriclwvcrzqcgdacdqgclwvcrzqcnlqgcwkhcehdxwacricphglhydocsrhwuacdqgcsurvhclvcqrwcwrcehcirxqgclqchqjodqgcrucrqoaclqcdcidlqwcuhiohfwhgczdachqjodqgcglgcqrwcsrvvhvvcwkhckhduwcricwkhcpavwhuac\n",
      "\n",
      "\n",
      "key:(asgrtnhyotky)\n",
      "plaintext:\n",
      "rfcyzrrpzargmlymdykcbgctzjyjgrcpzrspcyamkcqyncpfznqykmpcyqrpmlejwydpmkyqmkcymrfcpyamslrpgcqyrfzlydpmkyclejzlbyglydpzlacyzlbynpmtclacyglyecpkzlwyzlbygacjzlbyrfcpcyucpcyjgrcpzpwyzbtclrspcpqykmpcybzpgleyzlbyzafgctckclrqykmpcybgqrglesgqfcbygryuzqylmryglyclejzlbyrfzryrfcykmqryumlbcpdsjyrfgleqyucpcynpmbsacbyrfcpcygqylmrfgleyglymjbyclejgqfyrfzryrzicqyfmjbymdyrfcykglbyugrfyrfzrykzqrcpdsjyzlbyqs bsgleynmucpyufgafyqrgjjy cjmleqyrmyrfcyjwpgazjyqrzlxzqymdyrfcyrpms zbmspqyzlbykgllcqglecpqyrmyucjqfypmkzlacympyrmyrfcycngaynpmqcymdyrfcygacjzlbyfgqrmpgcqyyyrfcylmpkzlyamloscqrybcepzbcbyrfcyclejgqfyjzleszecydpmkygrqyjgrcpzpwypzliyzlby pmsefryglyzylcuyjzleszecydmpyrfcynmjgrcpyjgrcpzrspcygrybgbylmrybcqrpmwyglymlcyqclqcygrybgbylmryz qmjsrcjwyglrcppsnryclejgqfyjgrcpzrspcy srygryrmmiyzuzwyrfcyclejgqfyjgrcpzpwyqrzlbzpbyzlbyrfpcuyrfcyamslrpwy zaiyglrmyrfcyamlbgrgmlymdygrzjwy cdmpcybzlrczlyzlzpafwymdybgzjcarqyufclyzylcuyjgrcpzpwyjzleszecyuzqycqrz jgqfcbyglyrfcyrgkcymdyafzsacpyrfcykgbbjcyzecqyucpcylczpjwymtcpyzlbyqmygryfznnclcbyrfzrydmpyrfcyepczrcqrymdyrfcykcbgctzjyaclrspgcqyrfcyrucjdrfyzlbyrfgprcclrfyrfcyaclrspgcqymdyrfcyapsqzbcqymdyrfcyfmfclqrzsdclyckncpmpqymdyqrydpzlagqyqrybmkglgayzlbyqryjmsgqyrfcpcygqyglyclejgqfylmyepczrypcnpcqclrzrgtcyumpiyglynpmqcympypfwkcyrfcpcyzpcy crrcpyrfgleqygrygqyrpscyrfzlyrfcyqrzeecpgleypfwrfkqymdyjzwzkmlympyrfcyummbclynpcagqgmlymdympkyrfcyzlapclypgujcygqy crrcpy sryrfcpcygqylmymlcyufmyazly cyrziclyzqyqmkcymdyrfcyupgrcpqyglymrfcpyamslrpgcqyazlapcqrgclybcyrpmgcqydmpyglqrzlacympyuzjrfcpytmlybcpytmecjucgbcympytgjjcfzpbmsglrfcpcygqylmymlcyglyclejzlbyufmyazly cyrziclydmpyzypcnpcqclrzrgtcynmcrympympzrmpyegtgleymsryufzryazly cypcamelgqcbyzrymlacyzlbygqypcamelgqcbyglqrglargtcjwyzqyrfcy cqrynmqqg jcyjgrcpzpwyumpiymdygrqymulybzwyzlbygrqymulyiglbyrfcy czsrwymdykcbgctzjynmcrpwyzlbynpmqcygqylmryrmy cydmslbyglyclejzlbympymljwyglyzydzglrypcdjcarcbyuzwyclejzlbybgbylmrynmqqcqqyrfcyfczprymdyrfcykwqrcpwy\n",
      "\n",
      "\n",
      "key:(vmalnhbsines)\n",
      "plaintext:\n",
      "xlidexxvegxmsrdsjdqihmizepdpmxivexyvidgsqiwdtivletwdqsvidwxvsrkpbdjvsqdwsqidsxlivdgsyrxvmiwdxlerdjvsqdirkperhdmrdjvergiderhdtvszirgidmrdkivqerbderhdmgiperhdxlivid ividpmxivevbdehzirxyvivwdqsvidhevmrkderhdeglmiziqirxwdqsvidhmwxmrkymwlihdmxd ewdrsxdmrdirkperhdxlexdxlidqswxd srhivjypdxlmrkwd ividtvshygihdxlividmwdrsxlmrkdmrdsphdirkpmwldxlexdxeoiwdlsphdsjdxlidqmrhd mxldxlexdqewxivjypderhdwyfhymrkdts ivd lmgldwxmppdfipsrkwdxsdxlidpbvmgepdwxercewdsjdxlidxvsyfehsyvwderhdqmrriwmrkivwdxsd ipwldvsqergidsvdxsdxliditmgdtvswidsjdxlidmgiperhdlmwxsvmiwdddxlidrsvqerdgsruyiwxdhikvehihdxlidirkpmwldperkyekidjvsqdmxwdpmxivevbdveroderhdfvsyklxdmrdedri dperkyekidjsvdxlidtspmxivdpmxivexyvidmxdhmhdrsxdhiwxvsbdmrdsridwirwidmxdhmhdrsxdefwspyxipbdmrxivvytxdirkpmwldpmxivexyvidfyxdmxdxssode ebdxlidirkpmwldpmxivevbdwxerhevhderhdxlvi dxlidgsyrxvbdfegodmrxsdxlidgsrhmxmsrdsjdmxepbdfijsvidherxierderevglbdsjdhmepigxwd lirdedri dpmxivevbdperkyekid ewdiwxefpmwlihdmrdxlidxmqidsjdgleygivdxlidqmhhpidekiwd ividrievpbdszivderhdwsdmxdlettirihdxlexdjsvdxlidkviexiwxdsjdxlidqihmizepdgirxyvmiwdxlidx ipjxlderhdxlmvxiirxldxlidgirxyvmiwdsjdxlidgvywehiwdsjdxlidlslirwxeyjirdiqtivsvwdsjdwxdjvergmwdwxdhsqmrmgderhdwxdpsymwdxlividmwdmrdirkpmwldrsdkviexdvitviwirxexmzid svodmrdtvswidsvdvlbqidxlividevidfixxivdxlmrkwdmxdmwdxvyidxlerdxlidwxekkivmrkdvlbxlqwdsjdpebeqsrdsvdxlid sshirdtvigmwmsrdsjdsvqdxlidergvirdvm pidmwdfixxivdfyxdxlividmwdrsdsrid lsdgerdfidxeoirdewdwsqidsjdxlid vmxivwdmrdsxlivdgsyrxvmiwdgergviwxmirdhidxvsmiwdjsvdmrwxergidsvd epxlivdzsrdhivdzskip imhidsvdzmppilevhsymrxlividmwdrsdsridmrdirkperhd lsdgerdfidxeoirdjsvdedvitviwirxexmzidtsixdsvdsvexsvdkmzmrkdsyxd lexdgerdfidvigskrmwihdexdsrgiderhdmwdvigskrmwihdmrwxmrgxmzipbdewdxlidfiwxdtswwmfpidpmxivevbd svodsjdmxwds rdhebderhdmxwds rdomrhdxlidfieyxbdsjdqihmizepdtsixvbderhdtvswidmwdrsxdxsdfidjsyrhdmrdirkperhdsvdsrpbdmrdedjemrxdvijpigxihd ebdirkperhdhmhdrsxdtswwiwwdxlidlievxdsjdxlidqbwxivbd\n",
      "\n",
      "\n"
     ]
    }
   ],
   "source": [
    "for sol in sols: \n",
    "    key = sol[1]\n",
    "    print(\"key:({})\\nplaintext:\\n{}\\n\\n\".format(key, decode(decrypt(cipher_text, encode(key)))))"
   ]
  },
  {
   "cell_type": "code",
   "execution_count": 77,
   "metadata": {
    "collapsed": false
   },
   "outputs": [
    {
     "data": {
      "text/plain": [
       "True"
      ]
     },
     "execution_count": 77,
     "metadata": {},
     "output_type": "execute_result"
    }
   ],
   "source": [
    "decode(secret_key) == 'zqeprlfwmriw'"
   ]
  },
  {
   "cell_type": "markdown",
   "metadata": {},
   "source": [
    "**:)**"
   ]
  },
  {
   "cell_type": "markdown",
   "metadata": {},
   "source": [
    "---"
   ]
  },
  {
   "cell_type": "markdown",
   "metadata": {},
   "source": [
    "<a rel=\"license\" href=\"http://creativecommons.org/licenses/by-nc-sa/4.0/\"><img alt=\"Creative Commons License\" style=\"border-width:0\" src=\"https://i.creativecommons.org/l/by-nc-sa/4.0/88x31.png\" /></a><br /><span xmlns:dct=\"http://purl.org/dc/terms/\" property=\"dct:title\">Vigenere cryptoanalysis</span> by <a xmlns:cc=\"http://creativecommons.org/ns#\" href=\"mailto:massimo.nocentini@unifi.it\" property=\"cc:attributionName\" rel=\"cc:attributionURL\">Massimo Nocentini</a> is licensed under a <a rel=\"license\" href=\"http://creativecommons.org/licenses/by-nc-sa/4.0/\">Creative Commons Attribution-NonCommercial-ShareAlike 4.0 International License</a>.<br />Based on a work at <a xmlns:dct=\"http://purl.org/dc/terms/\" href=\"https://github.com/massimo-nocentini/scratchpad/blob/master/chapters/crypto/vigenere-cryptoanalysis.ipynb\" rel=\"dct:source\">https://github.com/massimo-nocentini/scratchpad/blob/master/chapters/crypto/vigenere-cryptoanalysis.ipynb</a>."
   ]
  }
 ],
 "metadata": {
  "kernelspec": {
   "display_name": "Python 3",
   "language": "python",
   "name": "python3"
  },
  "language_info": {
   "codemirror_mode": {
    "name": "ipython",
    "version": 3
   },
   "file_extension": ".py",
   "mimetype": "text/x-python",
   "name": "python",
   "nbconvert_exporter": "python",
   "pygments_lexer": "ipython3",
   "version": "3.5.1"
  }
 },
 "nbformat": 4,
 "nbformat_minor": 0
}
