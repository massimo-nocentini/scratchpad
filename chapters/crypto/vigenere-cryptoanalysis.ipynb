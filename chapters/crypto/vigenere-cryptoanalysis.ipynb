{
 "cells": [
  {
   "cell_type": "code",
   "execution_count": 148,
   "metadata": {
    "collapsed": false
   },
   "outputs": [],
   "source": [
    "import itertools\n",
    "from itertools import *\n",
    "from copy import copy, deepcopy\n",
    "from heapq import *\n",
    "from random import *\n",
    "\n",
    "from sympy import *\n",
    "\n",
    "init_printing()"
   ]
  },
  {
   "cell_type": "markdown",
   "metadata": {},
   "source": [
    "Let $\\mathcal{A}$ be our alphabet:"
   ]
  },
  {
   "cell_type": "code",
   "execution_count": 4,
   "metadata": {
    "collapsed": false
   },
   "outputs": [
    {
     "data": {
      "text/plain": [
       "{' ': 26,\n",
       " 'a': 0,\n",
       " 'b': 1,\n",
       " 'c': 2,\n",
       " 'd': 3,\n",
       " 'e': 4,\n",
       " 'f': 5,\n",
       " 'g': 6,\n",
       " 'h': 7,\n",
       " 'i': 8,\n",
       " 'j': 9,\n",
       " 'k': 10,\n",
       " 'l': 11,\n",
       " 'm': 12,\n",
       " 'n': 13,\n",
       " 'o': 14,\n",
       " 'p': 15,\n",
       " 'q': 16,\n",
       " 'r': 17,\n",
       " 's': 18,\n",
       " 't': 19,\n",
       " 'u': 20,\n",
       " 'v': 21,\n",
       " 'w': 22,\n",
       " 'x': 23,\n",
       " 'y': 24,\n",
       " 'z': 25}"
      ]
     },
     "execution_count": 4,
     "metadata": {},
     "output_type": "execute_result"
    }
   ],
   "source": [
    "def make_alphabet_entry(i):\n",
    "    alpha = i + ord('a')\n",
    "    return chr(alpha),i\n",
    "\n",
    "A = dict(map(make_alphabet_entry, range(26)))\n",
    "A.update({' ':26})\n",
    "inverse_A = {v:k for k,v in A.items()}\n",
    "\n",
    "A"
   ]
  },
  {
   "cell_type": "markdown",
   "metadata": {},
   "source": [
    "We define a function `encode` that consumes a string and produces a list of integer in our field:"
   ]
  },
  {
   "cell_type": "code",
   "execution_count": 5,
   "metadata": {
    "collapsed": false
   },
   "outputs": [],
   "source": [
    "def encode(s, alphabet=A): return list(map(lambda i: alphabet[i], s))\n",
    "\n",
    "def decode(e, inverse_alphabet=inverse_A): return \"\".join(map(lambda i: inverse_alphabet[i], e))"
   ]
  },
  {
   "cell_type": "markdown",
   "metadata": {},
   "source": [
    "The following plaintext is prose taken from [here]:\n",
    "\n",
    "[here]:http://www.bartleby.com/209/2.html"
   ]
  },
  {
   "cell_type": "code",
   "execution_count": 6,
   "metadata": {
    "collapsed": false
   },
   "outputs": [
    {
     "data": {
      "text/plain": [
       "('the attraction of medieval literature comes perhaps more stronglyfrom some other countries than from england in france and provencein germany and iceland there were literary adventurers more daringand achievements more distinguished it was not in england that themost wonderful things were produced there is nothing in old englishthat takes hold of the mind with that masterful and subduing powerwhich still belongs to the lyrical stanzas of the troubadours andminnesingers to welsh romance or to the epic prose of the icelandhistories   the norman conquest degraded the english language fromits literary rank and brought in a new language for the politerliterature it did not destroy in one sense it did not absolutelyinterrupt english literature but it took away the english literarystandard and threw the country back into the condition of italybefore dantean anarchy of dialects when a new literary languagewas established in the time of chaucer the middle ages were nearlyover and so it happened that for the greatest of the medievalcenturies the twelfth and thirteenth the centuries of thecrusades of the hohenstaufen emperors of st francis st dominicand st louis there is in english no great representative work inprose or rhyme there are better things it is true than thestaggering rhythms of layamon or the wooden precision of orm theancren riwle is better but there is no one who can be taken assome of the writers in other countries cancrestien de troies forinstance or walther von der vogelweide or villehardouinthere isno one in england who can be taken for a representative poet ororator giving out what can be recognised at once and is recognisedinstinctively as the best possible literary work of its own day andits own kind the beauty of medieval poetry and prose is not to befound in england or only in a faint reflected way england did notpossess the heart of the mystery',\n",
       " 1890)"
      ]
     },
     "execution_count": 6,
     "metadata": {},
     "output_type": "execute_result"
    }
   ],
   "source": [
    "with open('plain_text.txt', 'r') as f:\n",
    "    plain_text = f.read().lower()\n",
    "\n",
    "remove_chars = [',', '.', ';', ':', '\\n', '-', '(', ')', \"'\", '\"']\n",
    "for rc in remove_chars: \n",
    "    plain_text = plain_text.replace(rc, '')\n",
    "\n",
    "plain_text = \"\".join(filter(lambda c: not c.isdigit(), plain_text))\n",
    "m = len(plain_text)\n",
    "plain_text, m"
   ]
  },
  {
   "cell_type": "code",
   "execution_count": 7,
   "metadata": {
    "collapsed": false
   },
   "outputs": [],
   "source": [
    "assert decode(encode(plain_text)) == plain_text"
   ]
  },
  {
   "cell_type": "code",
   "execution_count": 8,
   "metadata": {
    "collapsed": false
   },
   "outputs": [],
   "source": [
    "encoded_plain_text = encode(plain_text)"
   ]
  },
  {
   "cell_type": "markdown",
   "metadata": {},
   "source": [
    "Let $k \\in \\left(\\frac{\\mathbb{Z}}{n\\mathbb{Z}}\\right)^{m}$ be a *key* of length $m\\in\\mathbb{N}$, for example:"
   ]
  },
  {
   "cell_type": "code",
   "execution_count": 150,
   "metadata": {
    "collapsed": false
   },
   "outputs": [],
   "source": [
    "def generate_random_key(alphabet=A):\n",
    "    length = randint(0,floor(len(alphabet)/2))\n",
    "    key = [0] * length\n",
    "    for i in range(length): key[i] = randint(0, len(alphabet)-1)\n",
    "    return key\n",
    "\n",
    "# it should be better to randomly generate it to keep it safe\n",
    "#k = encode(\"ericsmullyan\")\n",
    "k = generate_random_key(A)\n",
    "#k, len(k)"
   ]
  },
  {
   "cell_type": "markdown",
   "metadata": {},
   "source": [
    "Now we are in the position to define the `encrypt` function:"
   ]
  },
  {
   "cell_type": "code",
   "execution_count": 151,
   "metadata": {
    "collapsed": false
   },
   "outputs": [],
   "source": [
    "def encrypt(message, key, alphabet=A):\n",
    "    n = len(alphabet)\n",
    "    return [(p+v)%n for p,v in zip(message, cycle(key))]\n",
    "\n",
    "def decrypt(cipher, key, alphabet=A):\n",
    "    n = len(alphabet)\n",
    "    return [(c-v)%n for c,v in zip(cipher, cycle(key))]"
   ]
  },
  {
   "cell_type": "code",
   "execution_count": 152,
   "metadata": {
    "collapsed": false
   },
   "outputs": [
    {
     "data": {
      "text/plain": [
       "'lwghpi opvhkwbpvcoetfqtkhiodxvmfq rfxoewauzxdxfjidhgjcjtb hgvkvdmhzcbgpcetbwhxloovcwvhgpbgshjibpmoceogvvahkssxphughkrxocvspwocntpktyuxvxfoibngybwokktahksshjmfugttjtbtxilopjmbisklkhmfgzgptlfxofifyudpfsbirxpbjxagvhhgjcjtblxh fbzik wukxxloyigpulhsxphtcnipfsbawq xh towgigtcfsgzujsxh xpogpcbfxorzcta twovptglxxkopwhxpkvsxphcakxtfvnqgx eplovizuzxwg fhcvgqwxooqbtgtxlwbawq xatgvmfvaiotbfhgjiaiabihddcbfowkkwpzqxd bjtavkvkovwoiobodmtqrqsxglppgphglushjmoiyliupfwigzxpfsoqbclpxfvgzgp lootn wpylatbemodyxhgovptplmxvorzchlxcyovptpp tdpplwyzqcjxg opgqwxopwfbhkovcpyiuzqowtizptlaolwghtcnixkwbtpcnrpztbnfdtfhkonqhuyyfqotib gybwodzcjnehsxphppubks cvvjhdtsuqzoiobohcnqhuyixlttihjyboahblxtgkclofmgiylmsxphcclxgxbumoy xsasbvcigyqkcnbhusvxfhgzfjwqoxbitxhox ahgzpiaotsqwaoy xhgcmhplhvolwghtcnixkwbtxilopjmuapckyfwocvsp efxkbawug cmbvzmpiyrcokvhdgqwxoewbtpqxgbbwuppqpdmdmudybowppatquxpfptkwnglusski ujqgskjmbphxbxkbtxilopjmbtpcnrpztyigplphtqnqgxlaoabbawugqxetbwupjepmrgzoioboexfl ugyvxgbdtglxbxpttmdbbfspplohvxxlojidelktwovppigccjovptpnotthg hpvcolwghaukftnpnktc rfatuhhxlxhotnnhxgybwovpxg btfhjhhxlxrxbvbfylpogubawujoikpfmgpvcolwghwdobbkhcbuuuxtedgzcgzxcyouaovyybvxuhgigacexpqrquaokhbtcjppolwgztpppoabbmbwsfg opwowybplotmdglptfhcaxklxkgfmhxcwocktbwfpyemetbawuybotfghqu qtjovpxcnpoahbqgp oixovppcgqwxgvivwloxfvbzwn eakoqnoahvpecphcggqwxoywctlkohfgkxhplbschhcgtxh tcvrglkojxyttpppoutvatggzilovptglxxkopwoduboowqhrquxqxovizuuxpkgqutpvcolwghkgpqtjgbqbpvqwxfbkcjuqfatuhrqu fxgvqtcgatshtwxuzxugfkvgihkrxoqzolhih tthjduxsxfbccwlikxxfmodyxja nmwqyacmxpawuyboagpwoduboabbmbwsybwoypcpjybsqghhqrbbsuqzoqgothfg tc yhajghddlqogfqzpivoozxxqbwgliloyppig pfodmogl czbk ttgyhscpktphkssxuhfujlvfxumsyuphabeaxklimspuhhxlxqxgvhddzpxu gh y bftf hkdyhogubqhhglkfofimphksahuhcluxzabfhhxlxqxpwampvcoetfqtkhiohcgafngybworzchlxxkopwhp louthwickxxfogvvahksscthccsvoabbiovhfblotmual hxsbdpngbbz cvspkfssbqaddzptkgbawugettfvhcvgqwxoofgilom'"
      ]
     },
     "execution_count": 152,
     "metadata": {},
     "output_type": "execute_result"
    }
   ],
   "source": [
    "cipher_text = encrypt(encoded_plain_text, k)\n",
    "decode(cipher_text)"
   ]
  },
  {
   "cell_type": "code",
   "execution_count": 153,
   "metadata": {
    "collapsed": false
   },
   "outputs": [],
   "source": [
    "assert decode(decrypt(cipher_text, k)) == plain_text"
   ]
  },
  {
   "cell_type": "code",
   "execution_count": 154,
   "metadata": {
    "collapsed": false
   },
   "outputs": [],
   "source": [
    "def frequency(elem, lst):\n",
    "    return lst.count(elem)\n",
    "\n",
    "def coincidence_index(lst, alphabet=A):\n",
    "    sums = 0\n",
    "    freqs = {}\n",
    "    denom = len(lst)\n",
    "    #if denom == 0 or denom == 1: return 0,{}\n",
    "    for k,v in alphabet.items(): freqs[k] = frequency(v, lst)\n",
    "    ci = sum(v*(v-1) for v in freqs.values())/(denom*(denom-1))\n",
    "    return ci, freqs\n",
    "\n",
    "def mutual_coincidence_index(fst, snd, g=0, alphabet=A):\n",
    "    fst_ci = coincidence_index(fst, alphabet)[1]\n",
    "    snd_ci = coincidence_index(snd, alphabet)[1]\n",
    "    return sum(fst_ci[k] * snd_ci[decode([(v+g)%len(alphabet)])] \n",
    "               for k,v in alphabet.items())/(len(fst)*len(snd))"
   ]
  },
  {
   "cell_type": "code",
   "execution_count": 155,
   "metadata": {
    "collapsed": false
   },
   "outputs": [
    {
     "data": {
      "text/plain": [
       "(0.07593726979645456,\n",
       " {' ': 305,\n",
       "  'a': 115,\n",
       "  'b': 19,\n",
       "  'c': 40,\n",
       "  'd': 67,\n",
       "  'e': 215,\n",
       "  'f': 34,\n",
       "  'g': 39,\n",
       "  'h': 81,\n",
       "  'i': 113,\n",
       "  'j': 0,\n",
       "  'k': 9,\n",
       "  'l': 57,\n",
       "  'm': 29,\n",
       "  'n': 140,\n",
       "  'o': 120,\n",
       "  'p': 21,\n",
       "  'q': 1,\n",
       "  'r': 125,\n",
       "  's': 93,\n",
       "  't': 162,\n",
       "  'u': 35,\n",
       "  'v': 14,\n",
       "  'w': 29,\n",
       "  'x': 0,\n",
       "  'y': 26,\n",
       "  'z': 1})"
      ]
     },
     "execution_count": 155,
     "metadata": {},
     "output_type": "execute_result"
    }
   ],
   "source": [
    "coincidence_index(encoded_plain_text)"
   ]
  },
  {
   "cell_type": "code",
   "execution_count": 156,
   "metadata": {
    "collapsed": false
   },
   "outputs": [
    {
     "data": {
      "text/plain": [
       "(0.04518277636329516,\n",
       " {' ': 49,\n",
       "  'a': 58,\n",
       "  'b': 106,\n",
       "  'c': 79,\n",
       "  'd': 37,\n",
       "  'e': 22,\n",
       "  'f': 70,\n",
       "  'g': 115,\n",
       "  'h': 120,\n",
       "  'i': 60,\n",
       "  'j': 38,\n",
       "  'k': 67,\n",
       "  'l': 72,\n",
       "  'm': 40,\n",
       "  'n': 27,\n",
       "  'o': 135,\n",
       "  'p': 132,\n",
       "  'q': 62,\n",
       "  'r': 19,\n",
       "  's': 49,\n",
       "  't': 105,\n",
       "  'u': 67,\n",
       "  'v': 70,\n",
       "  'w': 77,\n",
       "  'x': 127,\n",
       "  'y': 47,\n",
       "  'z': 40})"
      ]
     },
     "execution_count": 156,
     "metadata": {},
     "output_type": "execute_result"
    }
   ],
   "source": [
    "coincidence_index(cipher_text)"
   ]
  },
  {
   "cell_type": "code",
   "execution_count": 157,
   "metadata": {
    "collapsed": false
   },
   "outputs": [],
   "source": [
    "def spread(message, block_length):\n",
    "    return [message[i:i+block_length] for i in range(0, len(message), block_length)]\n",
    "    \n",
    "def col(spreaded, c, joiner=\"\"):\n",
    "    column = [lst[c] if c < len(lst) else None for lst in spreaded]\n",
    "    ready = list(filter(lambda i: i is not None, column))\n",
    "    return joiner.join(ready) if joiner is not None else ready"
   ]
  },
  {
   "cell_type": "code",
   "execution_count": 158,
   "metadata": {
    "collapsed": false
   },
   "outputs": [],
   "source": [
    "spreaded = spread(cipher_text, 12)"
   ]
  },
  {
   "cell_type": "code",
   "execution_count": 159,
   "metadata": {
    "collapsed": false
   },
   "outputs": [],
   "source": [
    "c = col(spreaded,2,None)"
   ]
  },
  {
   "cell_type": "code",
   "execution_count": 163,
   "metadata": {
    "collapsed": true
   },
   "outputs": [],
   "source": [
    "def analyze(cipher_text):\n",
    "    res = {}\n",
    "    # we discard the case where the key length equals the\n",
    "    # length of the cipher text, since it is the case of \n",
    "    # OneTimePad chiper, which is unbreakable!\n",
    "    for d in range(2, len(cipher_text)):\n",
    "        spreaded = spread(cipher_text, d)\n",
    "        res[d] = []\n",
    "        for c in range(d):\n",
    "            column = col(spreaded, c, joiner=None)\n",
    "            if len(column) < 2: continue\n",
    "            mci = coincidence_index(column)[0]\n",
    "            res[d].append(mci)\n",
    "    return res\n",
    "\n",
    "def guess_key_length(analysis, threshold=0.06):\n",
    "    candidates = {}\n",
    "    for k,v in analysis.items():\n",
    "        cs = list(filter(lambda i: i > threshold, v))\n",
    "        if cs and len(cs) > k/2: candidates[k] = cs\n",
    "    return candidates"
   ]
  },
  {
   "cell_type": "code",
   "execution_count": 164,
   "metadata": {
    "collapsed": false
   },
   "outputs": [],
   "source": [
    "analysis = analyze(cipher_text)"
   ]
  },
  {
   "cell_type": "code",
   "execution_count": 172,
   "metadata": {
    "collapsed": false
   },
   "outputs": [
    {
     "data": {
      "image/png": "[encoded data removed]",
      "text/latex": [
       "$$\\left [ 0.06707678286625655, \\quad 0.09300524037366142, \\quad 0.07897015265436318, \\quad 0.08024606971975393, \\quad 0.06429710640236956, \\quad 0.07208931419457736, \\quad 0.0836637047163363, \\quad 0.07810435178856232, \\quad 0.07669172932330827\\right ]$$"
      ],
      "text/plain": [
       "[0.06707678286625655, 0.09300524037366142, 0.07897015265436318, 0.080246069719\n",
       "75393, 0.06429710640236956, 0.07208931419457736, 0.0836637047163363, 0.0781043\n",
       "5178856232, 0.07669172932330827]"
      ]
     },
     "execution_count": 172,
     "metadata": {},
     "output_type": "execute_result"
    }
   ],
   "source": [
    "probing_key_length = 9\n",
    "guess_key_length(analysis)[probing_key_length]"
   ]
  },
  {
   "cell_type": "code",
   "execution_count": 167,
   "metadata": {
    "collapsed": false
   },
   "outputs": [],
   "source": [
    "def normalize_heap(heap):\n",
    "    \n",
    "    def normalize(pair): \n",
    "        p,d = pair\n",
    "        return d, 1-p\n",
    "    \n",
    "    return list(map(normalize, heap))\n",
    "\n",
    "def build_offsets_eqs(cipher_text, key_length, indexed_sym, threshold=.06, alphabet=A):\n",
    "    \n",
    "    n = len(alphabet)\n",
    "    eqs = {c:[] for c in range(key_length)}\n",
    "    spreaded = spread(cipher_text, key_length)\n",
    "    for c,a in itertools.product(range(key_length), repeat=2):\n",
    "    \n",
    "        if a == c: continue\n",
    "        \n",
    "        column = col(spreaded, c, joiner=None)\n",
    "        another = col(spreaded, a, joiner=None)\n",
    "        for g in range(1,n):\n",
    "            mci = mutual_coincidence_index(column, another, g)\n",
    "            if mci > threshold: \n",
    "                eqs[c].append(tuple([a, Eq(indexed_sym[a]-indexed_sym[c],g,evaluate=True), mci]))\n",
    "    \n",
    "    return eqs"
   ]
  },
  {
   "cell_type": "code",
   "execution_count": 173,
   "metadata": {
    "collapsed": false,
    "scrolled": false
   },
   "outputs": [],
   "source": [
    "k_sym=IndexedBase('k')\n",
    "\n",
    "eqs_dict = build_offsets_eqs(cipher_text, key_length=probing_key_length, indexed_sym=k_sym)"
   ]
  },
  {
   "cell_type": "code",
   "execution_count": 175,
   "metadata": {
    "collapsed": false
   },
   "outputs": [
    {
     "data": {
      "image/png": "[encoded data removed]",
      "text/latex": [
       "$$\\left [ \\left ( 1, \\quad - k_{0} + k_{1} = 23, \\quad 0.07421768707482994\\right ), \\quad \\left ( 2, \\quad - k_{0} + k_{2} = 10, \\quad 0.0727437641723356\\right ), \\quad \\left ( 3, \\quad - k_{0} + k_{3} = 16, \\quad 0.0681859410430839\\right ), \\quad \\left ( 4, \\quad - k_{0} + k_{4} = 23, \\quad 0.06426303854875283\\right ), \\quad \\left ( 5, \\quad - k_{0} + k_{5} = 24, \\quad 0.06764172335600907\\right ), \\quad \\left ( 6, \\quad - k_{0} + k_{6} = 15, \\quad 0.07564625850340136\\right ), \\quad \\left ( 7, \\quad - k_{0} + k_{7} = 5, \\quad 0.06934240362811792\\right ), \\quad \\left ( 8, \\quad - k_{0} + k_{8} = 23, \\quad 0.0681859410430839\\right )\\right ]$$"
      ],
      "text/plain": [
       "[(1, -k[0] + k[1] = 23, 0.07421768707482994), (2, -k[0] + k[2] = 10, 0.0727437\n",
       "641723356), (3, -k[0] + k[3] = 16, 0.0681859410430839), (4, -k[0] + k[4] = 23,\n",
       " 0.06426303854875283), (5, -k[0] + k[5] = 24, 0.06764172335600907), (6, -k[0] \n",
       "+ k[6] = 15, 0.07564625850340136), (7, -k[0] + k[7] = 5, 0.06934240362811792),\n",
       " (8, -k[0] + k[8] = 23, 0.0681859410430839)]"
      ]
     },
     "execution_count": 175,
     "metadata": {},
     "output_type": "execute_result"
    }
   ],
   "source": [
    "eqs_dict[0]"
   ]
  },
  {
   "cell_type": "code",
   "execution_count": 176,
   "metadata": {
    "collapsed": true
   },
   "outputs": [],
   "source": [
    "def clean_mci_info(eqs_dict):\n",
    "    return {k:list(map(lambda pair: (pair[0], pair[1]), v)) for k,v in eqs_dict.items()}"
   ]
  },
  {
   "cell_type": "code",
   "execution_count": 177,
   "metadata": {
    "collapsed": false
   },
   "outputs": [
    {
     "data": {
      "image/png": "[encoded data removed]",
      "text/latex": [
       "$$\\left \\{ 0 : \\left [ \\left ( 1, \\quad - k_{0} + k_{1} = 23\\right ), \\quad \\left ( 2, \\quad - k_{0} + k_{2} = 10\\right ), \\quad \\left ( 3, \\quad - k_{0} + k_{3} = 16\\right ), \\quad \\left ( 4, \\quad - k_{0} + k_{4} = 23\\right ), \\quad \\left ( 5, \\quad - k_{0} + k_{5} = 24\\right ), \\quad \\left ( 6, \\quad - k_{0} + k_{6} = 15\\right ), \\quad \\left ( 7, \\quad - k_{0} + k_{7} = 5\\right ), \\quad \\left ( 8, \\quad - k_{0} + k_{8} = 23\\right )\\right ], \\quad 1 : \\left [ \\left ( 0, \\quad k_{0} - k_{1} = 4\\right ), \\quad \\left ( 2, \\quad - k_{1} + k_{2} = 14\\right ), \\quad \\left ( 3, \\quad - k_{1} + k_{3} = 20\\right ), \\quad \\left ( 5, \\quad - k_{1} + k_{5} = 1\\right ), \\quad \\left ( 6, \\quad - k_{1} + k_{6} = 19\\right ), \\quad \\left ( 7, \\quad - k_{1} + k_{7} = 9\\right )\\right ], \\quad 2 : \\left [ \\left ( 0, \\quad k_{0} - k_{2} = 17\\right ), \\quad \\left ( 1, \\quad k_{1} - k_{2} = 13\\right ), \\quad \\left ( 3, \\quad - k_{2} + k_{3} = 6\\right ), \\quad \\left ( 4, \\quad - k_{2} + k_{4} = 13\\right ), \\quad \\left ( 5, \\quad - k_{2} + k_{5} = 14\\right ), \\quad \\left ( 6, \\quad - k_{2} + k_{6} = 5\\right ), \\quad \\left ( 7, \\quad - k_{2} + k_{7} = 22\\right ), \\quad \\left ( 8, \\quad - k_{2} + k_{8} = 13\\right )\\right ], \\quad 3 : \\left [ \\left ( 0, \\quad k_{0} - k_{3} = 11\\right ), \\quad \\left ( 1, \\quad k_{1} - k_{3} = 7\\right ), \\quad \\left ( 2, \\quad k_{2} - k_{3} = 21\\right ), \\quad \\left ( 4, \\quad - k_{3} + k_{4} = 7\\right ), \\quad \\left ( 5, \\quad - k_{3} + k_{5} = 8\\right ), \\quad \\left ( 6, \\quad - k_{3} + k_{6} = 26\\right ), \\quad \\left ( 7, \\quad - k_{3} + k_{7} = 16\\right ), \\quad \\left ( 8, \\quad - k_{3} + k_{8} = 7\\right )\\right ], \\quad 4 : \\left [ \\left ( 0, \\quad k_{0} - k_{4} = 4\\right ), \\quad \\left ( 2, \\quad k_{2} - k_{4} = 14\\right ), \\quad \\left ( 3, \\quad k_{3} - k_{4} = 20\\right ), \\quad \\left ( 5, \\quad - k_{4} + k_{5} = 1\\right ), \\quad \\left ( 6, \\quad - k_{4} + k_{6} = 19\\right ), \\quad \\left ( 7, \\quad - k_{4} + k_{7} = 9\\right )\\right ], \\quad 5 : \\left [ \\left ( 0, \\quad k_{0} - k_{5} = 3\\right ), \\quad \\left ( 1, \\quad k_{1} - k_{5} = 26\\right ), \\quad \\left ( 2, \\quad k_{2} - k_{5} = 13\\right ), \\quad \\left ( 3, \\quad k_{3} - k_{5} = 19\\right ), \\quad \\left ( 4, \\quad k_{4} - k_{5} = 26\\right ), \\quad \\left ( 6, \\quad - k_{5} + k_{6} = 18\\right ), \\quad \\left ( 7, \\quad - k_{5} + k_{7} = 8\\right ), \\quad \\left ( 8, \\quad - k_{5} + k_{8} = 26\\right )\\right ], \\quad 6 : \\left [ \\left ( 0, \\quad k_{0} - k_{6} = 12\\right ), \\quad \\left ( 1, \\quad k_{1} - k_{6} = 8\\right ), \\quad \\left ( 2, \\quad k_{2} - k_{6} = 22\\right ), \\quad \\left ( 3, \\quad k_{3} - k_{6} = 1\\right ), \\quad \\left ( 4, \\quad k_{4} - k_{6} = 8\\right ), \\quad \\left ( 5, \\quad k_{5} - k_{6} = 9\\right ), \\quad \\left ( 7, \\quad - k_{6} + k_{7} = 17\\right ), \\quad \\left ( 8, \\quad - k_{6} + k_{8} = 8\\right )\\right ], \\quad 7 : \\left [ \\left ( 0, \\quad k_{0} - k_{7} = 22\\right ), \\quad \\left ( 1, \\quad k_{1} - k_{7} = 18\\right ), \\quad \\left ( 2, \\quad k_{2} - k_{7} = 5\\right ), \\quad \\left ( 3, \\quad k_{3} - k_{7} = 11\\right ), \\quad \\left ( 4, \\quad k_{4} - k_{7} = 18\\right ), \\quad \\left ( 5, \\quad k_{5} - k_{7} = 19\\right ), \\quad \\left ( 6, \\quad k_{6} - k_{7} = 10\\right ), \\quad \\left ( 8, \\quad - k_{7} + k_{8} = 18\\right )\\right ], \\quad 8 : \\left [ \\left ( 0, \\quad k_{0} - k_{8} = 4\\right ), \\quad \\left ( 2, \\quad k_{2} - k_{8} = 14\\right ), \\quad \\left ( 3, \\quad k_{3} - k_{8} = 20\\right ), \\quad \\left ( 5, \\quad k_{5} - k_{8} = 1\\right ), \\quad \\left ( 6, \\quad k_{6} - k_{8} = 19\\right ), \\quad \\left ( 7, \\quad k_{7} - k_{8} = 9\\right )\\right ]\\right \\}$$"
      ],
      "text/plain": [
       "{0: [(1, -k[0] + k[1] = 23), (2, -k[0] + k[2] = 10), (3, -k[0] + k[3] = 16), (\n",
       "4, -k[0] + k[4] = 23), (5, -k[0] + k[5] = 24), (6, -k[0] + k[6] = 15), (7, -k[\n",
       "0] + k[7] = 5), (8, -k[0] + k[8] = 23)], 1: [(0, k[0] - k[1] = 4), (2, -k[1] +\n",
       " k[2] = 14), (3, -k[1] + k[3] = 20), (5, -k[1] + k[5] = 1), (6, -k[1] + k[6] =\n",
       " 19), (7, -k[1] + k[7] = 9)], 2: [(0, k[0] - k[2] = 17), (1, k[1] - k[2] = 13)\n",
       ", (3, -k[2] + k[3] = 6), (4, -k[2] + k[4] = 13), (5, -k[2] + k[5] = 14), (6, -\n",
       "k[2] + k[6] = 5), (7, -k[2] + k[7] = 22), (8, -k[2] + k[8] = 13)], 3: [(0, k[0\n",
       "] - k[3] = 11), (1, k[1] - k[3] = 7), (2, k[2] - k[3] = 21), (4, -k[3] + k[4] \n",
       "= 7), (5, -k[3] + k[5] = 8), (6, -k[3] + k[6] = 26), (7, -k[3] + k[7] = 16), (\n",
       "8, -k[3] + k[8] = 7)], 4: [(0, k[0] - k[4] = 4), (2, k[2] - k[4] = 14), (3, k[\n",
       "3] - k[4] = 20), (5, -k[4] + k[5] = 1), (6, -k[4] + k[6] = 19), (7, -k[4] + k[\n",
       "7] = 9)], 5: [(0, k[0] - k[5] = 3), (1, k[1] - k[5] = 26), (2, k[2] - k[5] = 1\n",
       "3), (3, k[3] - k[5] = 19), (4, k[4] - k[5] = 26), (6, -k[5] + k[6] = 18), (7, \n",
       "-k[5] + k[7] = 8), (8, -k[5] + k[8] = 26)], 6: [(0, k[0] - k[6] = 12), (1, k[1\n",
       "] - k[6] = 8), (2, k[2] - k[6] = 22), (3, k[3] - k[6] = 1), (4, k[4] - k[6] = \n",
       "8), (5, k[5] - k[6] = 9), (7, -k[6] + k[7] = 17), (8, -k[6] + k[8] = 8)], 7: [\n",
       "(0, k[0] - k[7] = 22), (1, k[1] - k[7] = 18), (2, k[2] - k[7] = 5), (3, k[3] -\n",
       " k[7] = 11), (4, k[4] - k[7] = 18), (5, k[5] - k[7] = 19), (6, k[6] - k[7] = 1\n",
       "0), (8, -k[7] + k[8] = 18)], 8: [(0, k[0] - k[8] = 4), (2, k[2] - k[8] = 14), \n",
       "(3, k[3] - k[8] = 20), (5, k[5] - k[8] = 1), (6, k[6] - k[8] = 19), (7, k[7] -\n",
       " k[8] = 9)]}"
      ]
     },
     "execution_count": 177,
     "metadata": {},
     "output_type": "execute_result"
    }
   ],
   "source": [
    "eqs_dict_pure = clean_mci_info(eqs_dict)\n",
    "eqs_dict_pure"
   ]
  },
  {
   "cell_type": "code",
   "execution_count": 178,
   "metadata": {
    "collapsed": false
   },
   "outputs": [],
   "source": [
    "def candidate_keys(eqs_dict, indexed_sym, apply_mod=False, alphabet=A):\n",
    "    key_length = len(eqs_dict)\n",
    "    n = len(alphabet)\n",
    "    candidates = {}\n",
    "    for c, eq_pairs in eqs_dict.items():\n",
    "        candidates[c]=[]\n",
    "        for d in range(len(alphabet)):\n",
    "            key = [indexed_sym[i] for i in range(key_length)]\n",
    "            key[c] = d\n",
    "            for a, eq in eq_pairs:\n",
    "                subs_eq = eq.subs(indexed_sym[c],d)\n",
    "                key[a] = solve(subs_eq, indexed_sym[a])[0]\n",
    "                if apply_mod: key[a] = key[a] % n\n",
    "                    \n",
    "            at_least_one_missing = next((ind for ind in key \n",
    "                                         if isinstance(ind, Indexed) or ind >= n), None)\n",
    "            if not at_least_one_missing: candidates[c].append(key)\n",
    "    return candidates"
   ]
  },
  {
   "cell_type": "code",
   "execution_count": 179,
   "metadata": {
    "collapsed": false
   },
   "outputs": [],
   "source": [
    "possible_keys = candidate_keys(eqs_dict_pure, k_sym)"
   ]
  },
  {
   "cell_type": "code",
   "execution_count": 180,
   "metadata": {
    "collapsed": true
   },
   "outputs": [],
   "source": [
    "def attempt_keys(candidate_keys, cipher_text, threshold=.06):\n",
    "    sols = set()\n",
    "    flat_keys = []\n",
    "    for c, keys in candidate_keys.items(): \n",
    "        for key in keys: flat_keys.append(key)\n",
    "    for key in flat_keys:\n",
    "        decrypted = decrypt(cipher_text, key)\n",
    "        cipher_check = encrypt(decrypted, key)\n",
    "        ci = coincidence_index(decrypted)[0]\n",
    "        ci_check = coincidence_index(cipher_check)[0]\n",
    "        if ci > threshold:# and ci_check > threshold: \n",
    "            sols.add((ci, decode(key)))\n",
    "    return sols"
   ]
  },
  {
   "cell_type": "code",
   "execution_count": 181,
   "metadata": {
    "collapsed": false
   },
   "outputs": [],
   "source": [
    "sols = attempt_keys(possible_keys, cipher_text)"
   ]
  },
  {
   "cell_type": "code",
   "execution_count": 182,
   "metadata": {
    "collapsed": false
   },
   "outputs": [
    {
     "data": {
      "text/plain": [
       "{(0.07593726979645456, ' wjpwxoew'),\n",
       " (0.07593726979645456, 'axkqxypfx'),\n",
       " (0.07593726979645456, 'bylryzqgy'),\n",
       " (0.07593726979645456, 'czmsz rhz'),\n",
       " (0.07593726979645456, 'd nt asi '),\n",
       " (0.07593726979645456, 'lhvahi qh'),\n",
       " (0.07593726979645456, 'miwbijari'),\n",
       " (0.07593726979645456, 'njxcjkbsj'),\n",
       " (0.07593726979645456, 'okydklctk'),\n",
       " (0.07593726979645456, 'plzelmdul'),\n",
       " (0.07593726979645456, 'qm fmnevm'),\n",
       " (0.07593726979645456, 'rnagnofwn'),\n",
       " (0.07593726979645456, 'sobhopgxo'),\n",
       " (0.07593726979645456, 'tpcipqhyp'),\n",
       " (0.07593726979645456, 'uqdjqrizq'),\n",
       " (0.07593726979645456, 'vrekrsj r'),\n",
       " (0.07593726979645456, 'wsflstkas'),\n",
       " (0.07593726979645456, 'xtgmtulbt'),\n",
       " (0.07593726979645456, 'yuhnuvmcu'),\n",
       " (0.07593726979645456, 'zviovwndv')}"
      ]
     },
     "execution_count": 182,
     "metadata": {},
     "output_type": "execute_result"
    }
   ],
   "source": [
    "sols"
   ]
  },
  {
   "cell_type": "code",
   "execution_count": 202,
   "metadata": {
    "collapsed": false
   },
   "outputs": [
    {
     "name": "stdout",
     "output_type": "stream",
     "text": [
      "key:(okydklctk)\n",
      "plaintext:\n",
      "ymjefyywfhyntsetkerjinj fqeqnyjwfyzwjehtrjxeujwmfuxertwjexywtslqckwtrextrjetymjwehtzsywnjxeymfsekwtrejslqfsiensekwfshjefsieuwt jshjnseljwrfscefsienhjqfsieymjwjeajwjeqnyjwfwcefi jsyzwjwxertwjeifwnslfsiefhmnj jrjsyxertwjeinxynslznxmjienyeafxestyensejslqfsieymfyeymjrtxyeatsijwkzqeymnslxeajwjeuwtizhjieymjwjenxestymnslensetqiejslqnxmymfyeyfpjxemtqietkeymjernsieanymeymfyerfxyjwkzqefsiexzgiznsleutajwamnhmexynqqegjqtslxeyteymjeqcwnhfqexyfsdfxetkeymjeywtzgfitzwxefsirnssjxnsljwxeyteajqxmewtrfshjetweyteymjejunheuwtxjetkeymjenhjqfsimnxytwnjxeeeymjestwrfsehtsvzjxyeijlwfijieymjejslqnxmeqfslzfljekwtrnyxeqnyjwfwcewfspefsiegwtzlmyensefesjaeqfslzfljektweymjeutqnyjwqnyjwfyzwjenyeiniestyeijxywtcensetsjexjsxjenyeiniestyefgxtqzyjqcnsyjwwzuyejslqnxmeqnyjwfyzwjegzyenyeyttpefafceymjejslqnxmeqnyjwfwcxyfsifwiefsieymwjaeymjehtzsywcegfhpensyteymjehtsinyntsetkenyfqcgjktwjeifsyjfsefsfwhmcetkeinfqjhyxeamjsefesjaeqnyjwfwceqfslzfljafxejxyfgqnxmjienseymjeynrjetkehmfzhjweymjerniiqjefljxeajwjesjfwqct jwefsiextenyemfuujsjieymfyektweymjelwjfyjxyetkeymjerjinj fqhjsyzwnjxeymjeyajqkymefsieymnwyjjsymeymjehjsyzwnjxetkeymjhwzxfijxetkeymjemtmjsxyfzkjsejrujwtwxetkexyekwfshnxexyeitrnsnhfsiexyeqtznxeymjwjenxensejslqnxmestelwjfyewjuwjxjsyfyn jeatwpensuwtxjetwewmcrjeymjwjefwjegjyyjweymnslxenyenxeywzjeymfseymjxyflljwnslewmcymrxetkeqfcfrtsetweymjeattijseuwjhnxntsetketwreymjfshwjsewnaqjenxegjyyjwegzyeymjwjenxestetsjeamtehfsegjeyfpjsefxxtrjetkeymjeawnyjwxensetymjwehtzsywnjxehfshwjxynjseijeywtnjxektwnsxyfshjetweafqymjwe tseijwe tljqajnijetwe nqqjmfwitznsymjwjenxstetsjensejslqfsieamtehfsegjeyfpjsektwefewjuwjxjsyfyn jeutjyetwtwfytweln nsletzyeamfyehfsegjewjhtlsnxjiefyetshjefsienxewjhtlsnxjinsxynshyn jqcefxeymjegjxyeutxxngqjeqnyjwfwceatwpetkenyxetaseifcefsinyxetasepnsieymjegjfzycetkerjinj fqeutjywcefsieuwtxjenxestyeytegjktzsiensejslqfsietwetsqcensefekfnsyewjkqjhyjieafcejslqfsieiniestyutxxjxxeymjemjfwyetkeymjercxyjwc\n",
      "\n",
      "\n",
      "key:(zviovwndv)\n",
      "plaintext:\n",
      "nbzuvnnlvxncihui ugzyczpvfufcnzlvnolzuxigzmujzlbvjmugilzumnlihafs ligumigzuinbzluxiohnlczmunbvhu liguzhafvhyuchu lvhxzuvhyujlipzhxzchuazlgvhsuvhyucxzfvhyunbzlzuqzlzufcnzlvlsuvypzhnolzlmugilzuyvlchavhyuvxbczpzgzhnmugilzuycmnchaocmbzyucnuqvmuhinuchuzhafvhyunbvnunbzgimnuqihyzl ofunbchamuqzlzujliyoxzyunbzlzucmuhinbchauchuifyuzhafcmbnbvnunvezmubifyui unbzugchyuqcnbunbvnugvmnzl ofuvhyumowyochaujiqzlqbcxbumncffuwzfihamuniunbzufslcxvfumnvhtvmui unbzunliowvyiolmuvhygchhzmchazlmuniuqzfmbuligvhxzuiluniunbzuzjcxujlimzui unbzucxzfvhybcmnilczmuuunbzuhilgvhuxihkozmnuyzalvyzyunbzuzhafcmbufvhaovazu ligcnmufcnzlvlsulvheuvhyuwlioabnuchuvuhzqufvhaovazu ilunbzujifcnzlfcnzlvnolzucnuycyuhinuyzmnlisuchuihzumzhmzucnuycyuhinuvwmifonzfschnzllojnuzhafcmbufcnzlvnolzuwonucnuniieuvqvsunbzuzhafcmbufcnzlvlsmnvhyvlyuvhyunblzqunbzuxiohnlsuwvxeuchniunbzuxihycncihui ucnvfswz ilzuyvhnzvhuvhvlxbsui uycvfzxnmuqbzhuvuhzqufcnzlvlsufvhaovazqvmuzmnvwfcmbzyuchunbzuncgzui uxbvoxzlunbzugcyyfzuvazmuqzlzuhzvlfsipzluvhyumiucnubvjjzhzyunbvnu ilunbzualzvnzmnui unbzugzyczpvfxzhnolczmunbzunqzf nbuvhyunbclnzzhnbunbzuxzhnolczmui unbzxlomvyzmui unbzubibzhmnvo zhuzgjzlilmui umnu lvhxcmumnuyigchcxvhyumnufiocmunbzlzucmuchuzhafcmbuhiualzvnulzjlzmzhnvncpzuqileuchjlimzuilulbsgzunbzlzuvlzuwznnzlunbchamucnucmunlozunbvhunbzmnvaazlchaulbsnbgmui ufvsvgihuilunbzuqiiyzhujlzxcmcihui uilgunbzvhxlzhulcqfzucmuwznnzluwonunbzlzucmuhiuihzuqbiuxvhuwzunvezhuvmmigzui unbzuqlcnzlmuchuinbzluxiohnlczmuxvhxlzmnczhuyzunliczmu ilchmnvhxzuiluqvfnbzlupihuyzlupiazfqzcyzuilupcffzbvlyiochnbzlzucmhiuihzuchuzhafvhyuqbiuxvhuwzunvezhu iluvulzjlzmzhnvncpzujiznuililvniluacpchauionuqbvnuxvhuwzulzxiahcmzyuvnuihxzuvhyucmulzxiahcmzychmnchxncpzfsuvmunbzuwzmnujimmcwfzufcnzlvlsuqileui ucnmuiqhuyvsuvhycnmuiqhuechyunbzuwzvonsui ugzyczpvfujiznlsuvhyujlimzucmuhinuniuwz iohyuchuzhafvhyuiluihfsuchuvu vchnulz fzxnzyuqvsuzhafvhyuycyuhinjimmzmmunbzubzvlnui unbzugsmnzls\n",
      "\n",
      "\n",
      "key:(njxcjkbsj)\n",
      "plaintext:\n",
      "znkfgzzxgizoutfulfskjokagrfrozkxgz xkfiuskyfvkxngvyfsuxkfyzxutmrdlxusfyuskfuznkxfiu tzxokyfzngtflxusfktmrgtjfotflxgtikfgtjfvxuaktikotfmkxsgtdfgtjfoikrgtjfznkxkfbkxkfrozkxgxdfgjaktz xkxyfsuxkfjgxotmgtjfginokaksktzyfsuxkfjoyzotm oynkjfozfbgyftuzfotfktmrgtjfzngzfznksuyzfbutjkxl rfznotmyfbkxkfvxuj ikjfznkxkfoyftuznotmfotfurjfktmroynzngzfzgqkyfnurjfulfznkfsotjfboznfzngzfsgyzkxl rfgtjfy hj otmfvubkxbnoinfyzorrfhkrutmyfzufznkfrdxoigrfyzgtegyfulfznkfzxu hgju xyfgtjsottkyotmkxyfzufbkrynfxusgtikfuxfzufznkfkvoifvxuykfulfznkfoikrgtjnoyzuxokyfffznkftuxsgtfiutw kyzfjkmxgjkjfznkfktmroynfrgtm gmkflxusozyfrozkxgxdfxgtqfgtjfhxu mnzfotfgftkbfrgtm gmkfluxfznkfvurozkxrozkxgz xkfozfjojftuzfjkyzxudfotfutkfyktykfozfjojftuzfghyur zkrdotzkxx vzfktmroynfrozkxgz xkfh zfozfzuuqfgbgdfznkfktmroynfrozkxgxdyzgtjgxjfgtjfznxkbfznkfiu tzxdfhgiqfotzufznkfiutjozoutfulfozgrdhkluxkfjgtzkgtfgtgxindfulfjogrkizyfbnktfgftkbfrozkxgxdfrgtm gmkbgyfkyzghroynkjfotfznkfzoskfulfing ikxfznkfsojjrkfgmkyfbkxkftkgxrduakxfgtjfyufozfngvvktkjfzngzfluxfznkfmxkgzkyzfulfznkfskjokagriktz xokyfznkfzbkrlznfgtjfznoxzkktznfznkfiktz xokyfulfznkix ygjkyfulfznkfnunktyzg lktfksvkxuxyfulfyzflxgtioyfyzfjusotoigtjfyzfru oyfznkxkfoyfotfktmroynftufmxkgzfxkvxkyktzgzoakfbuxqfotvxuykfuxfxndskfznkxkfgxkfhkzzkxfznotmyfozfoyfzx kfzngtfznkyzgmmkxotmfxndznsyfulfrgdgsutfuxfznkfbuujktfvxkioyoutfulfuxsfznkgtixktfxobrkfoyfhkzzkxfh zfznkxkfoyftufutkfbnufigtfhkfzgqktfgyyuskfulfznkfbxozkxyfotfuznkxfiu tzxokyfigtixkyzoktfjkfzxuokyfluxotyzgtikfuxfbgrznkxfautfjkxfaumkrbkojkfuxfaorrkngxju otznkxkfoytufutkfotfktmrgtjfbnufigtfhkfzgqktfluxfgfxkvxkyktzgzoakfvukzfuxuxgzuxfmoaotmfu zfbngzfigtfhkfxkiumtoykjfgzfutikfgtjfoyfxkiumtoykjotyzotizoakrdfgyfznkfhkyzfvuyyohrkfrozkxgxdfbuxqfulfozyfubtfjgdfgtjozyfubtfqotjfznkfhkg zdfulfskjokagrfvukzxdfgtjfvxuykfoyftuzfzufhklu tjfotfktmrgtjfuxfutrdfotfgflgotzfxklrkizkjfbgdfktmrgtjfjojftuzvuyykyyfznkfnkgxzfulfznkfsdyzkxd\n",
      "\n",
      "\n",
      "key:(d nt asi )\n",
      "plaintext:\n",
      "ixupqiigqsiydcpdvpbutyukqapayiugqijgupsdbuhpeugxqehpbdguphigdcwanvgdbphdbupdixugpsdjcigyuhpixqcpvgdbpucwaqctpycpvgqcsupqctpegdkucsuycpwugbqcnpqctpysuaqctpixuguplugupayiugqgnpqtkucijgughpbdguptqgycwqctpqsxyukubucihpbdguptyhiycwjyhxutpyiplqhpcdipycpucwaqctpixqipixubdhipldctugvjapixycwhplugupegdtjsutpixugupyhpcdixycwpycpdatpucwayhxixqipiq uhpxdatpdvpixupbyctplyixpixqipbqhiugvjapqctphjrtjycwpedluglxysxphiyaapruadcwhpidpixupangysqaphiqcoqhpdvpixupigdjrqtdjghpqctbyccuhycwughpidpluahxpgdbqcsupdgpidpixupueyspegdhupdvpixupysuaqctxyhidgyuhpppixupcdgbqcpsdcfjuhiptuwgqtutpixupucwayhxpaqcwjqwupvgdbyihpayiugqgnpgqc pqctprgdjwxipycpqpculpaqcwjqwupvdgpixupedayiugayiugqijgupyiptytpcdiptuhigdnpycpdcuphuchupyiptytpcdipqrhdajiuanyciuggjeipucwayhxpayiugqijguprjipyipidd pqlqnpixupucwayhxpayiugqgnhiqctqgtpqctpixgulpixupsdjcignprqs pycidpixupsdctyiydcpdvpyiqanruvdguptqciuqcpqcqgsxnpdvptyqausihplxucpqpculpayiugqgnpaqcwjqwulqhpuhiqrayhxutpycpixupiybupdvpsxqjsugpixupbyttaupqwuhplugupcuqgandkugpqctphdpyipxqeeucutpixqipvdgpixupwguqiuhipdvpixupbutyukqasucijgyuhpixupiluavixpqctpixygiuucixpixupsucijgyuhpdvpixusgjhqtuhpdvpixupxdxuchiqjvucpubeugdghpdvphipvgqcsyhphiptdbycysqctphipadjyhpixugupyhpycpucwayhxpcdpwguqipgueguhuciqiykupldg pycegdhupdgpgxnbupixugupqgupruiiugpixycwhpyipyhpigjupixqcpixuhiqwwugycwpgxnixbhpdvpaqnqbdcpdgpixuplddtucpegusyhydcpdvpdgbpixuqcsgucpgylaupyhpruiiugprjipixugupyhpcdpdcuplxdpsqcprupiq ucpqhhdbupdvpixuplgyiughpycpdixugpsdjcigyuhpsqcsguhiyucptupigdyuhpvdgychiqcsupdgplqaixugpkdcptugpkdwualuytupdgpkyaauxqgtdjycixugupyhcdpdcupycpucwaqctplxdpsqcprupiq ucpvdgpqpgueguhuciqiykupeduipdgdgqidgpwykycwpdjiplxqipsqcprupgusdwcyhutpqipdcsupqctpyhpgusdwcyhutychiycsiykuanpqhpixupruhipedhhyraupayiugqgnpldg pdvpyihpdlcptqnpqctyihpdlcp yctpixupruqjinpdvpbutyukqapeduignpqctpegdhupyhpcdipidpruvdjctpycpucwaqctpdgpdcanpycpqpvqycipguvausiutplqnpucwaqctptytpcdiedhhuhhpixupxuqgipdvpixupbnhiugn\n",
      "\n",
      "\n",
      "key:(wsflstkas)\n",
      "plaintext:\n",
      "qebxyqqoy qflkxlcxjbafbsyixifqboyqrobx ljbpxmboeympxjlobxpqolkdivcoljxpljbxlqebox lrkqofbpxqeykxcoljxbkdiykaxfkxcoyk bxykaxmolsbk bfkxdbojykvxykaxf biykaxqebobxtbobxifqboyovxyasbkqrobopxjlobxayofkdykaxy efbsbjbkqpxjlobxafpqfkdrfpebaxfqxtypxklqxfkxbkdiykaxqeyqxqebjlpqxtlkabocrixqefkdpxtbobxmolar baxqebobxfpxklqefkdxfkxliaxbkdifpeqeyqxqyhbpxeliaxlcxqebxjfkaxtfqexqeyqxjypqbocrixykaxprzarfkdxmltbotef expqfiixzbilkdpxqlxqebxivof yixpqykwypxlcxqebxqolrzyalropxykajfkkbpfkdbopxqlxtbipexoljyk bxloxqlxqebxbmf xmolpbxlcxqebxf biykaefpqlofbpxxxqebxklojykx lknrbpqxabdoyabaxqebxbkdifpexiykdrydbxcoljfqpxifqboyovxoykhxykaxzolrdeqxfkxyxkbtxiykdrydbxcloxqebxmlifqboifqboyqrobxfqxafaxklqxabpqolvxfkxlkbxpbkpbxfqxafaxklqxyzplirqbivfkqboormqxbkdifpexifqboyqrobxzrqxfqxqllhxytyvxqebxbkdifpexifqboyovpqykayoaxykaxqeobtxqebx lrkqovxzy hxfkqlxqebx lkafqflkxlcxfqyivzbclobxaykqbykxykyo evxlcxafyib qpxtebkxyxkbtxifqboyovxiykdrydbtypxbpqyzifpebaxfkxqebxqfjbxlcx eyr boxqebxjfaaibxydbpxtbobxkbyoivlsboxykaxplxfqxeymmbkbaxqeyqxcloxqebxdobyqbpqxlcxqebxjbafbsyi bkqrofbpxqebxqtbicqexykaxqefoqbbkqexqebx bkqrofbpxlcxqeb orpyabpxlcxqebxelebkpqyrcbkxbjmbolopxlcxpqxcoyk fpxpqxaljfkf ykaxpqxilrfpxqebobxfpxfkxbkdifpexklxdobyqxobmobpbkqyqfsbxtlohxfkmolpbxloxoevjbxqebobxyobxzbqqboxqefkdpxfqxfpxqorbxqeykxqebpqyddbofkdxoevqejpxlcxiyvyjlkxloxqebxtllabkxmob fpflkxlcxlojxqebyk obkxoftibxfpxzbqqboxzrqxqebobxfpxklxlkbxtelx ykxzbxqyhbkxyppljbxlcxqebxtofqbopxfkxlqebox lrkqofbpx yk obpqfbkxabxqolfbpxclofkpqyk bxloxtyiqeboxslkxaboxsldbitbfabxloxsfiibeyoalrfkqebobxfpklxlkbxfkxbkdiykaxtelx ykxzbxqyhbkxcloxyxobmobpbkqyqfsbxmlbqxloloyqloxdfsfkdxlrqxteyqx ykxzbxob ldkfpbaxyqxlk bxykaxfpxob ldkfpbafkpqfk qfsbivxypxqebxzbpqxmlppfzibxifqboyovxtlohxlcxfqpxltkxayvxykafqpxltkxhfkaxqebxzbyrqvxlcxjbafbsyixmlbqovxykaxmolpbxfpxklqxqlxzbclrkaxfkxbkdiykaxloxlkivxfkxyxcyfkqxobcib qbaxtyvxbkdiykaxafaxklqmlppbppxqebxebyoqxlcxqebxjvpqbov\n",
      "\n",
      "\n",
      "key:(uqdjqrizq)\n",
      "plaintext:\n",
      "sgdz ssq bshnmznezldchdu kzkhsdq stqdzbnldrzodqg orzlnqdzrsqnmfkxeqnlzrnldznsgdqzbntmsqhdrzsg mzeqnlzdmfk mczhmzeq mbdz mczoqnudmbdhmzfdql mxz mczhbdk mczsgdqdzvdqdzkhsdq qxz cudmstqdqrzlnqdzc qhmf mcz bghdudldmsrzlnqdzchrshmfthrgdczhszv rzmnszhmzdmfk mczsg szsgdlnrszvnmcdqetkzsghmfrzvdqdzoqnctbdczsgdqdzhrzmnsghmfzhmznkczdmfkhrgsg szs jdrzgnkcznezsgdzlhmczvhsgzsg szl rsdqetkz mczrtacthmfzonvdqvghbgzrshkkzadknmfrzsnzsgdzkxqhb kzrs my rznezsgdzsqnta cntqrz mclhmmdrhmfdqrzsnzvdkrgzqnl mbdznqzsnzsgdzdohbzoqnrdznezsgdzhbdk mcghrsnqhdrzzzsgdzmnql mzbnmptdrszcdfq cdczsgdzdmfkhrgzk mft fdzeqnlhsrzkhsdq qxzq mjz mczaqntfgszhmz zmdvzk mft fdzenqzsgdzonkhsdqkhsdq stqdzhszchczmnszcdrsqnxzhmznmdzrdmrdzhszchczmnsz arnktsdkxhmsdqqtoszdmfkhrgzkhsdq stqdzatszhszsnnjz v xzsgdzdmfkhrgzkhsdq qxrs mc qcz mczsgqdvzsgdzbntmsqxza bjzhmsnzsgdzbnmchshnmznezhs kxadenqdzc msd mz m qbgxznezch kdbsrzvgdmz zmdvzkhsdq qxzk mft fdv rzdrs akhrgdczhmzsgdzshldznezbg tbdqzsgdzlhcckdz fdrzvdqdzmd qkxnudqz mczrnzhszg oodmdczsg szenqzsgdzfqd sdrsznezsgdzldchdu kbdmstqhdrzsgdzsvdkesgz mczsghqsddmsgzsgdzbdmstqhdrznezsgdbqtr cdrznezsgdzgngdmrs tedmzdlodqnqrznezrszeq mbhrzrszcnlhmhb mczrszknthrzsgdqdzhrzhmzdmfkhrgzmnzfqd szqdoqdrdms shudzvnqjzhmoqnrdznqzqgxldzsgdqdz qdzadssdqzsghmfrzhszhrzsqtdzsg mzsgdrs ffdqhmfzqgxsglrznezk x lnmznqzsgdzvnncdmzoqdbhrhnmzneznqlzsgd mbqdmzqhvkdzhrzadssdqzatszsgdqdzhrzmnznmdzvgnzb mzadzs jdmz rrnldznezsgdzvqhsdqrzhmznsgdqzbntmsqhdrzb mbqdrshdmzcdzsqnhdrzenqhmrs mbdznqzv ksgdqzunmzcdqzunfdkvdhcdznqzuhkkdg qcnthmsgdqdzhrmnznmdzhmzdmfk mczvgnzb mzadzs jdmzenqz zqdoqdrdms shudzondsznqnq snqzfhuhmfzntszvg szb mzadzqdbnfmhrdcz sznmbdz mczhrzqdbnfmhrdchmrshmbshudkxz rzsgdzadrszonrrhakdzkhsdq qxzvnqjznezhsrznvmzc xz mchsrznvmzjhmczsgdzad tsxznezldchdu kzondsqxz mczoqnrdzhrzmnszsnzadentmczhmzdmfk mcznqznmkxzhmz ze hmszqdekdbsdczv xzdmfk mczchczmnsonrrdrrzsgdzgd qsznezsgdzlxrsdqx\n",
      "\n",
      "\n",
      "key:(bylryzqgy)\n",
      "plaintext:\n",
      "kzwrskkisuk ferfxrdwv wmscrc kwiskliwrufdwjrgwizsgjrdfiwrjkifeycpxifdrjfdwrfkzwirufleki wjrkzserxifdrweycsevr erxiseuwrsevrgifmweuw erywidseprsevr uwcsevrkzwiwrnwiwrc kwisiprsvmwekliwijrdfiwrvsi eysevrsuz wmwdwekjrdfiwrv jk eyl jzwvr krnsjrefkr erweycsevrkzskrkzwdfjkrnfevwixlcrkz eyjrnwiwrgifvluwvrkzwiwr jrefkz eyr erfcvrweyc jzkzskrksbwjrzfcvrfxrkzwrd evrn kzrkzskrdsjkwixlcrsevrjltvl eyrgfnwinz uzrjk ccrtwcfeyjrkfrkzwrcpi uscrjkseqsjrfxrkzwrkifltsvflijrsevd eewj eywijrkfrnwcjzrifdseuwrfirkfrkzwrwg urgifjwrfxrkzwr uwcsevz jkfi wjrrrkzwrefidserufehlwjkrvwyisvwvrkzwrweyc jzrcseylsywrxifd kjrc kwisiprisebrsevrtiflyzkr ersrewnrcseylsywrxfirkzwrgfc kwic kwiskliwr krv vrefkrvwjkifpr erfewrjwejwr krv vrefkrstjfclkwcp ekwiilgkrweyc jzrc kwiskliwrtlkr krkffbrsnsprkzwrweyc jzrc kwisipjksevsivrsevrkziwnrkzwruflekiprtsubr ekfrkzwrufev k ferfxr kscptwxfiwrvsekwsersesiuzprfxrv scwukjrnzwersrewnrc kwisiprcseylsywnsjrwjkstc jzwvr erkzwrk dwrfxruzsluwirkzwrd vvcwrsywjrnwiwrewsicpfmwirsevrjfr krzsggwewvrkzskrxfirkzwryiwskwjkrfxrkzwrdwv wmscuwekli wjrkzwrknwcxkzrsevrkz ikwwekzrkzwruwekli wjrfxrkzwuiljsvwjrfxrkzwrzfzwejkslxwerwdgwifijrfxrjkrxiseu jrjkrvfd e usevrjkrcfl jrkzwiwr jr erweyc jzrefryiwskriwgiwjweksk mwrnfibr egifjwrfirizpdwrkzwiwrsiwrtwkkwirkz eyjr kr jrkilwrkzserkzwjksyywi eyrizpkzdjrfxrcspsdferfirkzwrnffvwergiwu j ferfxrfidrkzwseuiweri ncwr jrtwkkwirtlkrkzwiwr jrefrfewrnzfrusertwrksbwersjjfdwrfxrkzwrni kwijr erfkzwirufleki wjruseuiwjk wervwrkif wjrxfi ejkseuwrfirnsckzwirmfervwirmfywcnw vwrfirm ccwzsivfl ekzwiwr jefrfewr erweycsevrnzfrusertwrksbwerxfirsriwgiwjweksk mwrgfwkrfifiskfiry m eyrflkrnzskrusertwriwufye jwvrskrfeuwrsevr jriwufye jwv ejk euk mwcprsjrkzwrtwjkrgfjj tcwrc kwisiprnfibrfxr kjrfnervsprsev kjrfnerb evrkzwrtwslkprfxrdwv wmscrgfwkiprsevrgifjwr jrefkrkfrtwxflevr erweycsevrfirfecpr ersrxs ekriwxcwukwvrnsprweycsevrv vrefkgfjjwjjrkzwrzwsikrfxrkzwrdpjkwip\n",
      "\n",
      "\n",
      "key:(xtgmtulbt)\n",
      "plaintext:\n",
      "pdawxppnxzpekjwkbwia earxhwhepanxpqnawzkiaowlandxlowiknawopnkjchubnkiwokiawkpdanwzkqjpneaowpdxjwbnkiwajchxj wejwbnxjzawxj wlnkrajzaejwcanixjuwxj wezahxj wpdanawsanawhepanxnuwx rajpqnanowiknaw xnejcxj wxzdearaiajpowiknaw eopejcqeoda wepwsxowjkpwejwajchxj wpdxpwpdaikopwskj anbqhwpdejcowsanawlnk qza wpdanaweowjkpdejcwejwkh wajcheodpdxpwpxgaowdkh wkbwpdawiej wsepdwpdxpwixopanbqhwxj woqy qejcwlksansdezdwopehhwyahkjcowpkwpdawhunezxhwopxjvxowkbwpdawpnkqyx kqnowxj iejjaoejcanowpkwsahodwnkixjzawknwpkwpdawalezwlnkoawkbwpdawezahxj deopkneaowwwpdawjknixjwzkjmqaopw acnx a wpdawajcheodwhxjcqxcawbnkiepowhepanxnuwnxjgwxj wynkqcdpwejwxwjaswhxjcqxcawbknwpdawlkhepanhepanxpqnawepw e wjkpw aopnkuwejwkjawoajoawepw e wjkpwxyokhqpahuejpannqlpwajcheodwhepanxpqnawyqpwepwpkkgwxsxuwpdawajcheodwhepanxnuopxj xn wxj wpdnaswpdawzkqjpnuwyxzgwejpkwpdawzkj epekjwkbwepxhuyabknaw xjpaxjwxjxnzduwkbw exhazpowsdajwxwjaswhepanxnuwhxjcqxcasxowaopxyheoda wejwpdawpeiawkbwzdxqzanwpdawie  hawxcaowsanawjaxnhukranwxj wokwepwdxllaja wpdxpwbknwpdawcnaxpaopwkbwpdawia earxhzajpqneaowpdawpsahbpdwxj wpdenpaajpdwpdawzajpqneaowkbwpdaznqox aowkbwpdawdkdajopxqbajwailanknowkbwopwbnxjzeowopw kiejezxj wopwhkqeowpdanaweowejwajcheodwjkwcnaxpwnalnaoajpxperawskngwejlnkoawknwnduiawpdanawxnawyappanwpdejcowepweowpnqawpdxjwpdaopxccanejcwndupdiowkbwhxuxikjwknwpdawskk ajwlnazeoekjwkbwkniwpdaxjznajwneshaweowyappanwyqpwpdanaweowjkwkjawsdkwzxjwyawpxgajwxookiawkbwpdawsnepanowejwkpdanwzkqjpneaowzxjznaopeajw awpnkeaowbknejopxjzawknwsxhpdanwrkjw anwrkcahsae awknwrehhadxn kqejpdanaweojkwkjawejwajchxj wsdkwzxjwyawpxgajwbknwxwnalnaoajpxperawlkapwknknxpknwcerejcwkqpwsdxpwzxjwyawnazkcjeoa wxpwkjzawxj weownazkcjeoa ejopejzperahuwxowpdawyaopwlkooeyhawhepanxnuwskngwkbwepowksjw xuwxj epowksjwgej wpdawyaxqpuwkbwia earxhwlkapnuwxj wlnkoaweowjkpwpkwyabkqj wejwajchxj wknwkjhuwejwxwbxejpwnabhazpa wsxuwajchxj w e wjkplkooaoowpdawdaxnpwkbwpdawiuopanu\n",
      "\n",
      "\n",
      "key:(czmsz rhz)\n",
      "plaintext:\n",
      "jyvqrjjhrtjzedqewqcvuzvlrbqbzjvhrjkhvqtecviqfvhyrfiqcehvqijhedxbowhecqiecvqejyvhqtekdjhzviqjyrdqwhecqvdxbrduqzdqwhrdtvqrduqfhelvdtvzdqxvhcrdoqrduqztvbrduqjyvhvqmvhvqbzjvhrhoqrulvdjkhvhiqcehvqurhzdxrduqrtyzvlvcvdjiqcehvquzijzdxkziyvuqzjqmriqdejqzdqvdxbrduqjyrjqjyvceijqmeduvhwkbqjyzdxiqmvhvqfheuktvuqjyvhvqziqdejyzdxqzdqebuqvdxbziyjyrjqjraviqyebuqewqjyvqczduqmzjyqjyrjqcrijvhwkbqrduqiksukzdxqfemvhmyztyqijzbbqsvbedxiqjeqjyvqbohztrbqijrdpriqewqjyvqjheksruekhiqrduczddvizdxvhiqjeqmvbiyqhecrdtvqehqjeqjyvqvfztqfheivqewqjyvqztvbrduyzijehzviqqqjyvqdehcrdqtedgkvijquvxhruvuqjyvqvdxbziyqbrdxkrxvqwheczjiqbzjvhrhoqhrdaqrduqshekxyjqzdqrqdvmqbrdxkrxvqwehqjyvqfebzjvhbzjvhrjkhvqzjquzuqdejquvijheoqzdqedvqivdivqzjquzuqdejqrsiebkjvbozdjvhhkfjqvdxbziyqbzjvhrjkhvqskjqzjqjeeaqrmroqjyvqvdxbziyqbzjvhrhoijrdurhuqrduqjyhvmqjyvqtekdjhoqsrtaqzdjeqjyvqteduzjzedqewqzjrbosvwehvqurdjvrdqrdrhtyoqewquzrbvtjiqmyvdqrqdvmqbzjvhrhoqbrdxkrxvmriqvijrsbziyvuqzdqjyvqjzcvqewqtyrktvhqjyvqczuubvqrxviqmvhvqdvrhboelvhqrduqieqzjqyrffvdvuqjyrjqwehqjyvqxhvrjvijqewqjyvqcvuzvlrbtvdjkhzviqjyvqjmvbwjyqrduqjyzhjvvdjyqjyvqtvdjkhzviqewqjyvthkiruviqewqjyvqyeyvdijrkwvdqvcfvhehiqewqijqwhrdtziqijqueczdztrduqijqbekziqjyvhvqziqzdqvdxbziyqdeqxhvrjqhvfhvivdjrjzlvqmehaqzdfheivqehqhyocvqjyvhvqrhvqsvjjvhqjyzdxiqzjqziqjhkvqjyrdqjyvijrxxvhzdxqhyojyciqewqbrorcedqehqjyvqmeeuvdqfhvtzizedqewqehcqjyvrdthvdqhzmbvqziqsvjjvhqskjqjyvhvqziqdeqedvqmyeqtrdqsvqjravdqriiecvqewqjyvqmhzjvhiqzdqejyvhqtekdjhzviqtrdthvijzvdquvqjhezviqwehzdijrdtvqehqmrbjyvhqledquvhqlexvbmvzuvqehqlzbbvyrhuekzdjyvhvqzideqedvqzdqvdxbrduqmyeqtrdqsvqjravdqwehqrqhvfhvivdjrjzlvqfevjqehehrjehqxzlzdxqekjqmyrjqtrdqsvqhvtexdzivuqrjqedtvqrduqziqhvtexdzivuzdijzdtjzlvboqriqjyvqsvijqfeiizsbvqbzjvhrhoqmehaqewqzjiqemdquroqrduzjiqemdqazduqjyvqsvrkjoqewqcvuzvlrbqfevjhoqrduqfheivqziqdejqjeqsvwekduqzdqvdxbrduqehqedboqzdqrqwrzdjqhvwbvtjvuqmroqvdxbrduquzuqdejfeiiviiqjyvqyvrhjqewqjyvqcoijvho\n",
      "\n",
      "\n",
      "key:(yuhnuvmcu)\n",
      "plaintext:\n",
      "oc vwoomwyodjivjavh zd qwgvgdo mwopm vyjh nvk mcwknvhjm vnomjibgtamjhvnjh vjoc mvyjpiomd nvocwivamjhv ibgwizvdivamwiy vwizvkmjq iy divb mhwitvwizvdy gwizvoc m vr m vgdo mwmtvwzq iopm mnvhjm vzwmdibwizvwycd q h ionvhjm vzdnodibpdnc zvdovrwnvijovdiv ibgwizvocwovoc hjnovrjiz mapgvocdibnvr m vkmjzpy zvoc m vdnvijocdibvdivjgzv ibgdncocwovowf nvcjgzvjavoc vhdizvrdocvocwovhwno mapgvwizvnpxzpdibvkjr mrcdycvnodggvx gjibnvojvoc vgtmdywgvnowiuwnvjavoc vomjpxwzjpmnvwizhdii ndib mnvojvr gncvmjhwiy vjmvojvoc v kdyvkmjn vjavoc vdy gwizcdnojmd nvvvoc vijmhwivyjilp novz bmwz zvoc v ibgdncvgwibpwb vamjhdonvgdo mwmtvmwifvwizvxmjpbcovdivwvi rvgwibpwb vajmvoc vkjgdo mgdo mwopm vdovzdzvijovz nomjtvdivji vn in vdovzdzvijovwxnjgpo gtdio mmpkov ibgdncvgdo mwopm vxpovdovojjfvwrwtvoc v ibgdncvgdo mwmtnowizwmzvwizvocm rvoc vyjpiomtvxwyfvdiojvoc vyjizdodjivjavdowgtx ajm vzwio wivwiwmyctvjavzdwg yonvrc ivwvi rvgdo mwmtvgwibpwb rwnv nowxgdnc zvdivoc vodh vjavycwpy mvoc vhdzzg vwb nvr m vi wmgtjq mvwizvnjvdovcwkk i zvocwovajmvoc vbm wo novjavoc vh zd qwgy iopmd nvoc vor gaocvwizvocdmo  iocvoc vy iopmd nvjavoc ympnwz nvjavoc vcjc inowpa iv hk mjmnvjavnovamwiydnvnovzjhdidywizvnovgjpdnvoc m vdnvdiv ibgdncvijvbm wovm km n iowodq vrjmfvdikmjn vjmvmcth voc m vwm vx oo mvocdibnvdovdnvomp vocwivoc nowbb mdibvmctochnvjavgwtwhjivjmvoc vrjjz ivkm ydndjivjavjmhvoc wiym ivmdrg vdnvx oo mvxpovoc m vdnvijvji vrcjvywivx vowf ivwnnjh vjavoc vrmdo mnvdivjoc mvyjpiomd nvywiym nod ivz vomjd nvajmdinowiy vjmvrwgoc mvqjivz mvqjb gr dz vjmvqdgg cwmzjpdioc m vdnijvji vdiv ibgwizvrcjvywivx vowf ivajmvwvm km n iowodq vkj ovjmjmwojmvbdqdibvjpovrcwovywivx vm yjbidn zvwovjiy vwizvdnvm yjbidn zdinodiyodq gtvwnvoc vx novkjnndxg vgdo mwmtvrjmfvjavdonvjrivzwtvwizdonvjrivfdizvoc vx wpotvjavh zd qwgvkj omtvwizvkmjn vdnvijovojvx ajpizvdiv ibgwizvjmvjigtvdivwvawdiovm ag yo zvrwtv ibgwizvzdzvijokjnn nnvoc vc wmovjavoc vhtno mt\n",
      "\n",
      "\n",
      "key:(vrekrsj r)\n",
      "plaintext:\n",
      "rfcyzrrpzargmlymdykcbgctzjyjgrcpzrspcyamkcqyncpfznqykmpcyqrpmlejwdpmkyqmkcymrfcpyamslrpgcqyrfzlydpmkyclejzlbyglydpzlacyzlbynpmtclacglyecpkzlwyzlbygacjzlbyrfcpcyucpcyjgrcpzpwyzbtclrspcpqykmpcybzpglezlbyzafgctckclrqykmpcybgqrglesgqfcbygryuzqylmryglyclejzlbyrfzryrfckmqryumlbcpdsjyrfgleqyucpcynpmbsacbyrfcpcygqylmrfgleyglymjbyclejgqfrfzryrzicqyfmjbymdyrfcykglbyugrfyrfzrykzqrcpdsjyzlbyqs bsgleynmucpufgafyqrgjjy cjmleqyrmyrfcyjwpgazjyqrzlxzqymdyrfcyrpms zbmspqyzlbkgllcqglecpqyrmyucjqfypmkzlacympyrmyrfcycngaynpmqcymdyrfcygacjzlbfgqrmpgcqyyyrfcylmpkzlyamloscqrybcepzbcbyrfcyclejgqfyjzleszecydpmkgrqyjgrcpzpwypzliyzlby pmsefryglyzylcuyjzleszecydmpyrfcynmjgrcpjgrcpzrspcygrybgbylmrybcqrpmwyglymlcyqclqcygrybgbylmryz qmjsrcjwglrcppsnryclejgqfyjgrcpzrspcy srygryrmmiyzuzwyrfcyclejgqfyjgrcpzpwqrzlbzpbyzlbyrfpcuyrfcyamslrpwy zaiyglrmyrfcyamlbgrgmlymdygrzjw cdmpcybzlrczlyzlzpafwymdybgzjcarqyufclyzylcuyjgrcpzpwyjzleszecuzqycqrz jgqfcbyglyrfcyrgkcymdyafzsacpyrfcykgbbjcyzecqyucpcylczpjwmtcpyzlbyqmygryfznnclcbyrfzrydmpyrfcyepczrcqrymdyrfcykcbgctzjaclrspgcqyrfcyrucjdrfyzlbyrfgprcclrfyrfcyaclrspgcqymdyrfcapsqzbcqymdyrfcyfmfclqrzsdclyckncpmpqymdyqrydpzlagqyqrybmkglgazlbyqryjmsgqyrfcpcygqyglyclejgqfylmyepczrypcnpcqclrzrgtcyumpiyglnpmqcympypfwkcyrfcpcyzpcy crrcpyrfgleqygrygqyrpscyrfzlyrfcqrzeecpgleypfwrfkqymdyjzwzkmlympyrfcyummbclynpcagqgmlymdympkyrfczlapclypgujcygqy crrcpy sryrfcpcygqylmymlcyufmyazly cyrziclyzqqmkcymdyrfcyupgrcpqyglymrfcpyamslrpgcqyazlapcqrgclybcyrpmgcqydmpglqrzlacympyuzjrfcpytmlybcpytmecjucgbcympytgjjcfzpbmsglrfcpcygqlmymlcyglyclejzlbyufmyazly cyrziclydmpyzypcnpcqclrzrgtcynmcrympmpzrmpyegtgleymsryufzryazly cypcamelgqcbyzrymlacyzlbygqypcamelgqcbglqrglargtcjwyzqyrfcy cqrynmqqg jcyjgrcpzpwyumpiymdygrqymulybzwyzlbgrqymulyiglbyrfcy czsrwymdykcbgctzjynmcrpwyzlbynpmqcygqylmryrmy cdmslbyglyclejzlbympymljwyglyzydzglrypcdjcarcbyuzwyclejzlbybgbylmrnmqqcqqyrfcyfczprymdyrfcykwqrcpw\n",
      "\n",
      "\n",
      "key:(tpcipqhyp)\n",
      "plaintext:\n",
      "the attraction of medieval literature comes perhaps more stronglyfrom some other countries than from england in france and provencein germany and iceland there were literary adventurers more daringand achievements more distinguished it was not in england that themost wonderful things were produced there is nothing in old englishthat takes hold of the mind with that masterful and subduing powerwhich still belongs to the lyrical stanzas of the troubadours andminnesingers to welsh romance or to the epic prose of the icelandhistories   the norman conquest degraded the english language fromits literary rank and brought in a new language for the politerliterature it did not destroy in one sense it did not absolutelyinterrupt english literature but it took away the english literarystandard and threw the country back into the condition of italybefore dantean anarchy of dialects when a new literary languagewas established in the time of chaucer the middle ages were nearlyover and so it happened that for the greatest of the medievalcenturies the twelfth and thirteenth the centuries of thecrusades of the hohenstaufen emperors of st francis st dominicand st louis there is in english no great representative work inprose or rhyme there are better things it is true than thestaggering rhythms of layamon or the wooden precision of orm theancren riwle is better but there is no one who can be taken assome of the writers in other countries cancrestien de troies forinstance or walther von der vogelweide or villehardouinthere isno one in england who can be taken for a representative poet ororator giving out what can be recognised at once and is recognisedinstinctively as the best possible literary work of its own day andits own kind the beauty of medieval poetry and prose is not to befound in england or only in a faint reflected way england did notpossess the heart of the mystery\n",
      "\n",
      "\n",
      "key:(lhvahi qh)\n",
      "plaintext:\n",
      "apmhiaazikaqwvhwnhumlqmcithtqamziabzmhkwum hxmzpix huwzmh azwvotfnzwuh wumhwapmzhkwbvazqm hapivhnzwuhmvotivlhqvhnzivkmhivlhxzwcmvkmqvhomzuivfhivlhqkmtivlhapmzmhdmzmhtqamzizfhilcmvabzmz huwzmhlizqvoivlhikpqmcmumva huwzmhlq aqvobq pmlhqahdi hvwahqvhmvotivlhapiahapmuw ahdwvlmznbthapqvo hdmzmhxzwlbkmlhapmzmhq hvwapqvohqvhwtlhmvotq papiahaism hpwtlhwnhapmhuqvlhdqaphapiahui amznbthivlh bjlbqvohxwdmzdpqkph aqtthjmtwvo hawhapmhtfzqkith aivgi hwnhapmhazwbjilwbz hivluqvvm qvomz hawhdmt phzwuivkmhwzhawhapmhmxqkhxzw mhwnhapmhqkmtivlpq awzqm hhhapmhvwzuivhkwvybm ahlmozilmlhapmhmvotq phtivobiomhnzwuqa htqamzizfhzivshivlhjzwbopahqvhihvmdhtivobiomhnwzhapmhxwtqamztqamziabzmhqahlqlhvwahlm azwfhqvhwvmh mv mhqahlqlhvwahij wtbamtfqvamzzbxahmvotq phtqamziabzmhjbahqahawwshidifhapmhmvotq phtqamzizf aivlizlhivlhapzmdhapmhkwbvazfhjikshqvawhapmhkwvlqaqwvhwnhqaitfjmnwzmhlivamivhivizkpfhwnhlqitmka hdpmvhihvmdhtqamzizfhtivobiomdi hm aijtq pmlhqvhapmhaqumhwnhkpibkmzhapmhuqlltmhiom hdmzmhvmiztfwcmzhivlh whqahpixxmvmlhapiahnwzhapmhozmiam ahwnhapmhumlqmcitkmvabzqm hapmhadmtnaphivlhapqzammvaphapmhkmvabzqm hwnhapmkzb ilm hwnhapmhpwpmv aibnmvhmuxmzwz hwnh ahnzivkq h ahlwuqvqkivlh ahtwbq hapmzmhq hqvhmvotq phvwhozmiahzmxzm mvaiaqcmhdwzshqvxzw mhwzhzpfumhapmzmhizmhjmaamzhapqvo hqahq hazbmhapivhapm aioomzqvohzpfapu hwnhtifiuwvhwzhapmhdwwlmvhxzmkq qwvhwnhwzuhapmivkzmvhzqdtmhq hjmaamzhjbahapmzmhq hvwhwvmhdpwhkivhjmhaismvhi  wumhwnhapmhdzqamz hqvhwapmzhkwbvazqm hkivkzm aqmvhlmhazwqm hnwzqv aivkmhwzhditapmzhcwvhlmzhcwomtdmqlmhwzhcqttmpizlwbqvapmzmhq vwhwvmhqvhmvotivlhdpwhkivhjmhaismvhnwzhihzmxzm mvaiaqcmhxwmahwzwziawzhoqcqvohwbahdpiahkivhjmhzmkwovq mlhiahwvkmhivlhq hzmkwovq mlqv aqvkaqcmtfhi hapmhjm ahxw  qjtmhtqamzizfhdwzshwnhqa hwdvhlifhivlqa hwdvhsqvlhapmhjmibafhwnhumlqmcithxwmazfhivlhxzw mhq hvwahawhjmnwbvlhqvhmvotivlhwzhwvtfhqvhihniqvahzmntmkamlhdifhmvotivlhlqlhvwaxw  m  hapmhpmizahwnhapmhuf amzf\n",
      "\n",
      "\n",
      "key:(plzelmdul)\n",
      "plaintext:\n",
      "xlidexxvegxmsrdsjdqihmizepdpmxivexyvidgsqiwdtivletwdqsvidwxvsrkpbjvsqdwsqidsxlivdgsyrxvmiwdxlerdjvsqdirkperhdmrdjvergiderhdtvszirgimrdkivqerbderhdmgiperhdxlivid ividpmxivevbdehzirxyvivwdqsvidhevmrkerhdeglmiziqirxwdqsvidhmwxmrkymwlihdmxd ewdrsxdmrdirkperhdxlexdxliqswxd srhivjypdxlmrkwd ividtvshygihdxlividmwdrsxlmrkdmrdsphdirkpmwlxlexdxeoiwdlsphdsjdxlidqmrhd mxldxlexdqewxivjypderhdwyfhymrkdts iv lmgldwxmppdfipsrkwdxsdxlidpbvmgepdwxercewdsjdxlidxvsyfehsyvwderhqmrriwmrkivwdxsd ipwldvsqergidsvdxsdxliditmgdtvswidsjdxlidmgiperhlmwxsvmiwdddxlidrsvqerdgsruyiwxdhikvehihdxlidirkpmwldperkyekidjvsqmxwdpmxivevbdveroderhdfvsyklxdmrdedri dperkyekidjsvdxlidtspmxivpmxivexyvidmxdhmhdrsxdhiwxvsbdmrdsridwirwidmxdhmhdrsxdefwspyxipbmrxivvytxdirkpmwldpmxivexyvidfyxdmxdxssode ebdxlidirkpmwldpmxivevbwxerhevhderhdxlvi dxlidgsyrxvbdfegodmrxsdxlidgsrhmxmsrdsjdmxepbfijsvidherxierderevglbdsjdhmepigxwd lirdedri dpmxivevbdperkyeki ewdiwxefpmwlihdmrdxlidxmqidsjdgleygivdxlidqmhhpidekiwd ividrievpbszivderhdwsdmxdlettirihdxlexdjsvdxlidkviexiwxdsjdxlidqihmizepgirxyvmiwdxlidx ipjxlderhdxlmvxiirxldxlidgirxyvmiwdsjdxligvywehiwdsjdxlidlslirwxeyjirdiqtivsvwdsjdwxdjvergmwdwxdhsqmrmgerhdwxdpsymwdxlividmwdmrdirkpmwldrsdkviexdvitviwirxexmzid svodmrtvswidsvdvlbqidxlividevidfixxivdxlmrkwdmxdmwdxvyidxlerdxliwxekkivmrkdvlbxlqwdsjdpebeqsrdsvdxlid sshirdtvigmwmsrdsjdsvqdxliergvirdvm pidmwdfixxivdfyxdxlividmwdrsdsrid lsdgerdfidxeoirdewwsqidsjdxlid vmxivwdmrdsxlivdgsyrxvmiwdgergviwxmirdhidxvsmiwdjsvmrwxergidsvd epxlivdzsrdhivdzskip imhidsvdzmppilevhsymrxlividmwrsdsridmrdirkperhd lsdgerdfidxeoirdjsvdedvitviwirxexmzidtsixdsvsvexsvdkmzmrkdsyxd lexdgerdfidvigskrmwihdexdsrgiderhdmwdvigskrmwihmrwxmrgxmzipbdewdxlidfiwxdtswwmfpidpmxivevbd svodsjdmxwds rdhebderhmxwds rdomrhdxlidfieyxbdsjdqihmizepdtsixvbderhdtvswidmwdrsxdxsdfijsyrhdmrdirkperhdsvdsrpbdmrdedjemrxdvijpigxihd ebdirkperhdhmhdrsxtswwiwwdxlidlievxdsjdxlidqbwxivb\n",
      "\n",
      "\n",
      "key:(qm fmnevm)\n",
      "plaintext:\n",
      "wkhcdwwudfwlrqcricphglhydocolwhudwxuhcfrphvcshukdsvcpruhcvwurqjoaiurpcvrphcrwkhucfrxqwulhvcwkdqciurpchqjodqgclqciudqfhcdqgcsuryhqfhlqcjhupdqacdqgclfhodqgcwkhuhczhuhcolwhuduacdgyhqwxuhuvcpruhcgdulqjdqgcdfklhyhphqwvcpruhcglvwlqjxlvkhgclwczdvcqrwclqchqjodqgcwkdwcwkhprvwczrqghuixocwklqjvczhuhcsurgxfhgcwkhuhclvcqrwklqjclqcrogchqjolvkwkdwcwdnhvckrogcricwkhcplqgczlwkcwkdwcpdvwhuixocdqgcvxegxlqjcsrzhuzklfkcvwloocehorqjvcwrcwkhcoaulfdocvwdqbdvcricwkhcwurxedgrxuvcdqgplqqhvlqjhuvcwrczhovkcurpdqfhcrucwrcwkhchslfcsurvhcricwkhclfhodqgklvwrulhvcccwkhcqrupdqcfrqtxhvwcghjudghgcwkhchqjolvkcodqjxdjhciurplwvcolwhuduacudqncdqgceurxjkwclqcdcqhzcodqjxdjhcirucwkhcsrolwhuolwhudwxuhclwcglgcqrwcghvwuraclqcrqhcvhqvhclwcglgcqrwcdevroxwhoalqwhuuxswchqjolvkcolwhudwxuhcexwclwcwrrncdzdacwkhchqjolvkcolwhuduavwdqgdugcdqgcwkuhzcwkhcfrxqwuacedfnclqwrcwkhcfrqglwlrqcriclwdoaehiruhcgdqwhdqcdqdufkacricgldohfwvczkhqcdcqhzcolwhuduacodqjxdjhzdvchvwdeolvkhgclqcwkhcwlphcricfkdxfhucwkhcplggohcdjhvczhuhcqhduoaryhucdqgcvrclwckdsshqhgcwkdwcirucwkhcjuhdwhvwcricwkhcphglhydofhqwxulhvcwkhcwzhoiwkcdqgcwkluwhhqwkcwkhcfhqwxulhvcricwkhfuxvdghvcricwkhckrkhqvwdxihqchpshuruvcricvwciudqflvcvwcgrplqlfdqgcvwcorxlvcwkhuhclvclqchqjolvkcqrcjuhdwcuhsuhvhqwdwlyhczrunclqsurvhcrucukaphcwkhuhcduhcehwwhucwklqjvclwclvcwuxhcwkdqcwkhvwdjjhulqjcukawkpvcricodadprqcrucwkhczrrghqcsuhflvlrqcricrupcwkhdqfuhqculzohclvcehwwhucexwcwkhuhclvcqrcrqhczkrcfdqcehcwdnhqcdvvrphcricwkhczulwhuvclqcrwkhucfrxqwulhvcfdqfuhvwlhqcghcwurlhvcirulqvwdqfhcruczdowkhucyrqcghucyrjhozhlghcrucyloohkdugrxlqwkhuhclvqrcrqhclqchqjodqgczkrcfdqcehcwdnhqcirucdcuhsuhvhqwdwlyhcsrhwcrurudwrucjlylqjcrxwczkdwcfdqcehcuhfrjqlvhgcdwcrqfhcdqgclvcuhfrjqlvhglqvwlqfwlyhoacdvcwkhcehvwcsrvvleohcolwhuduaczruncriclwvcrzqcgdacdqglwvcrzqcnlqgcwkhcehdxwacricphglhydocsrhwuacdqgcsurvhclvcqrwcwrcehirxqgclqchqjodqgcrucrqoaclqcdcidlqwcuhiohfwhgczdachqjodqgcglgcqrwsrvvhvvcwkhckhduwcricwkhcpavwhua\n",
      "\n",
      "\n",
      "key:( wjpwxoew)\n",
      "plaintext:\n",
      "maytummkuwmbhgthztfyxbyouetebmykumnkytwhfyltiykauiltfhkytlmkhg erzkhftlhfythmayktwhngmkbyltmaugtzkhftyg eugxtbgtzkugwytugxtikhoygwybgt ykfugrtugxtbwyeugxtmaykytpykytebmykukrtuxoygmnkykltfhkytxukbg ugxtuwabyoyfygmltfhkytxblmbg nblayxtbmtpultghmtbgtyg eugxtmaumtmayfhlmtphgxykznetmabg ltpykytikhxnwyxtmaykytbltghmabg tbgthextyg eblamaumtmudyltahexthztmaytfbgxtpbmatmaumtfulmykznetugxtlnvxnbg tihpykpabwatlmbeetvyehg ltmhtmayterkbwuetlmugsulthztmaytmkhnvuxhnkltugxfbggylbg ykltmhtpyelatkhfugwythktmhtmaytyibwtikhlythztmaytbwyeugxablmhkbyltttmaytghkfugtwhgjnylmtxy kuxyxtmaytyg eblateug nu ytzkhfbmltebmykukrtkugdtugxtvkhn amtbgtutgypteug nu ytzhktmaytihebmykebmykumnkytbmtxbxtghmtxylmkhrtbgthgytlyglytbmtxbxtghmtuvlhenmyerbgmykknimtyg eblatebmykumnkytvnmtbmtmhhdtupurtmaytyg eblatebmykukrlmugxukxtugxtmakyptmaytwhngmkrtvuwdtbgmhtmaytwhgxbmbhgthztbmuervyzhkytxugmyugtugukwarthztxbueywmltpaygtutgyptebmykukrteug nu ypultylmuveblayxtbgtmaytmbfythztwaunwyktmaytfbxxeytu yltpykytgyukerhoyktugxtlhtbmtauiiygyxtmaumtzhktmayt kyumylmthztmaytfyxbyouewygmnkbyltmaytmpyezmatugxtmabkmyygmatmaytwygmnkbylthztmaywknluxylthztmaytahayglmunzygtyfiykhklthztlmtzkugwbltlmtxhfbgbwugxtlmtehnbltmaykytbltbgtyg eblatght kyumtkyikylygmumboytphkdtbgikhlythktkarfytmaykytukytvymmyktmabg ltbmtbltmknytmaugtmaylmu  ykbg tkarmaflthzteurufhgthktmaytphhxygtikywblbhgthzthkftmayugwkygtkbpeytbltvymmyktvnmtmaykytbltghthgytpahtwugtvytmudygtullhfythztmaytpkbmykltbgthmayktwhngmkbyltwugwkylmbygtxytmkhbyltzhkbglmugwythktpuemayktohgtxyktoh yepybxythktobeeyaukxhnbgmaykytblghthgytbgtyg eugxtpahtwugtvytmudygtzhktutkyikylygmumboytihymthkhkumhkt bobg thnmtpaumtwugtvytkywh gblyxtumthgwytugxtbltkywh gblyxbglmbgwmboyertultmaytvylmtihllbveytebmykukrtphkdthztbmlthpgtxurtugxbmlthpgtdbgxtmaytvyunmrthztfyxbyouetihymkrtugxtikhlytbltghmtmhtvyzhngxtbgtyg eugxthkthgertbgtutzubgmtkyzeywmyxtpurtyg eugxtxbxtghmihllylltmaytayukmthztmaytfrlmykr\n",
      "\n",
      "\n",
      "key:(axkqxypfx)\n",
      "plaintext:\n",
      "l xstlljtvlagfsgysexwaxntdsdalxjtlmjxsvgexkshxj thksegjxskljgfzdqyjgeskgexsgl xjsvgmfljaxksl tfsyjgesxfzdtfwsafsyjtfvxstfwshjgnxfvxafszxjetfqstfwsavxdtfwsl xjxsoxjxsdalxjtjqstwnxflmjxjksegjxswtjafztfwstv axnxexflksegjxswaklafzmak xwsalsotksfglsafsxfzdtfwsl tlsl xegklsogfwxjymdsl afzksoxjxshjgwmvxwsl xjxsaksfgl afzsafsgdwsxfzdak l tlsltcxks gdwsgysl xseafwsoal sl tlsetklxjymdstfwskmuwmafzshgoxjo av skladdsuxdgfzkslgsl xsdqjavtdskltfrtksgysl xsljgmutwgmjkstfweaffxkafzxjkslgsoxdk sjgetfvxsgjslgsl xsxhavshjgkxsgysl xsavxdtfw aklgjaxksssl xsfgjetfsvgfimxklswxzjtwxwsl xsxfzdak sdtfzmtzxsyjgealksdalxjtjqsjtfcstfwsujgmz lsafstsfxosdtfzmtzxsygjsl xshgdalxjdalxjtlmjxsalswawsfglswxkljgqsafsgfxskxfkxsalswawsfglstukgdmlxdqaflxjjmhlsxfzdak sdalxjtlmjxsumlsalslggcstotqsl xsxfzdak sdalxjtjqkltfwtjwstfwsl jxosl xsvgmfljqsutvcsaflgsl xsvgfwalagfsgysaltdquxygjxswtflxtfstftjv qsgyswatdxvlkso xfstsfxosdalxjtjqsdtfzmtzxotksxkltudak xwsafsl xslaexsgysv tmvxjsl xseawwdxstzxksoxjxsfxtjdqgnxjstfwskgsals thhxfxwsl tlsygjsl xszjxtlxklsgysl xsexwaxntdvxflmjaxksl xsloxdyl stfwsl ajlxxfl sl xsvxflmjaxksgysl xvjmktwxksgysl xs g xfkltmyxfsxehxjgjksgysklsyjtfvaksklswgeafavtfwsklsdgmaksl xjxsaksafsxfzdak sfgszjxtlsjxhjxkxfltlanxsogjcsafhjgkxsgjsj qexsl xjxstjxsuxllxjsl afzksalsaksljmxsl tfsl xkltzzxjafzsj ql eksgysdtqtegfsgjsl xsoggwxfshjxvakagfsgysgjesl xtfvjxfsjaodxsaksuxllxjsumlsl xjxsaksfgsgfxso gsvtfsuxsltcxfstkkgexsgysl xsojalxjksafsgl xjsvgmfljaxksvtfvjxklaxfswxsljgaxksygjafkltfvxsgjsotdl xjsngfswxjsngzxdoxawxsgjsnaddx tjwgmafl xjxsakfgsgfxsafsxfzdtfwso gsvtfsuxsltcxfsygjstsjxhjxkxfltlanxshgxlsgjgjtlgjszanafzsgmlso tlsvtfsuxsjxvgzfakxwstlsgfvxstfwsaksjxvgzfakxwafklafvlanxdqstksl xsuxklshgkkaudxsdalxjtjqsogjcsgysalksgofswtqstfwalksgofscafwsl xsuxtmlqsgysexwaxntdshgxljqstfwshjgkxsaksfglslgsuxygmfwsafsxfzdtfwsgjsgfdqsafstsytaflsjxydxvlxwsotqsxfzdtfwswawsfglhgkkxkksl xs xtjlsgysl xseqklxjq\n",
      "\n",
      "\n",
      "key:(sobhopgxo)\n",
      "plaintext:\n",
      "uifabuusbdujpoapganfejfwbmamjufsbuvsfadpnftaqfsibqtanpsfatuspohmzgspnatpnfapuifsadpvousjftauiboagspnafohmboeajoagsbodfaboeaqspwfodfjoahfsnbozaboeajdfmboeauifsfaxfsfamjufsbszabewfouvsfstanpsfaebsjohboeabdijfwfnfoutanpsfaejtujohvjtifeajuaxbtaopuajoafohmboeauibuauifnptuaxpoefsgvmauijohtaxfsfaqspevdfeauifsfajtaopuijohajoapmeafohmjtiuibuaublftaipmeapgauifanjoeaxjuiauibuanbtufsgvmaboeatvcevjohaqpxfsxijdiatujmmacfmpohtaupauifamzsjdbmatubo btapgauifauspvcbepvstaboenjooftjohfstaupaxfmtiaspnbodfapsaupauifafqjdaqsptfapgauifajdfmboeijtupsjftaaauifaopsnboadporvftuaefhsbefeauifafohmjtiambohvbhfagspnjutamjufsbszasbolaboeacspvhiuajoabaofxambohvbhfagpsauifaqpmjufsmjufsbuvsfajuaejeaopuaeftuspzajoapofatfotfajuaejeaopuabctpmvufmzjoufssvquafohmjtiamjufsbuvsfacvuajuaupplabxbzauifafohmjtiamjufsbsztuboebseaboeauisfxauifadpvouszacbdlajoupauifadpoejujpoapgajubmzcfgpsfaeboufboabobsdizapgaejbmfdutaxifoabaofxamjufsbszambohvbhfxbtaftubcmjtifeajoauifaujnfapgadibvdfsauifanjeemfabhftaxfsfaofbsmzpwfsaboeatpajuaibqqfofeauibuagpsauifahsfbuftuapgauifanfejfwbmdfouvsjftauifauxfmguiaboeauijsuffouiauifadfouvsjftapgauifdsvtbeftapgauifaipifotubvgfoafnqfspstapgatuagsbodjtatuaepnjojdboeatuampvjtauifsfajtajoafohmjtiaopahsfbuasfqsftfoubujwfaxpslajoqsptfapsasiznfauifsfabsfacfuufsauijohtajuajtausvfauiboauiftubhhfsjohasizuintapgambzbnpoapsauifaxppefoaqsfdjtjpoapgapsnauifbodsfoasjxmfajtacfuufsacvuauifsfajtaopapofaxipadboacfaublfoabttpnfapgauifaxsjufstajoapuifsadpvousjftadbodsftujfoaefauspjftagpsjotubodfapsaxbmuifsawpoaefsawphfmxfjefapsawjmmfibsepvjouifsfajtopapofajoafohmboeaxipadboacfaublfoagpsabasfqsftfoubujwfaqpfuapspsbupsahjwjohapvuaxibuadboacfasfdphojtfeabuapodfaboeajtasfdphojtfejotujodujwfmzabtauifacftuaqpttjcmfamjufsbszaxpslapgajutapxoaebzaboejutapxoaljoeauifacfbvuzapganfejfwbmaqpfuszaboeaqsptfajtaopuaupacfgpvoeajoafohmboeapsapomzajoabagbjouasfgmfdufeaxbzafohmboeaejeaopuqpttfttauifaifbsuapgauifanztufsz\n",
      "\n",
      "\n",
      "key:(miwbijari)\n",
      "plaintext:\n",
      " olgh  yhj pvugvmgtlkplbhsgsp lyh aylgjvtlzgwlyohwzgtvylgz yvunsemyvtgzvtlgv olygjvau yplzg ohugmyvtglunshukgpugmyhujlghukgwyvblujlpugnlythueghukgpjlshukg olylgclylgsp lyhyeghkblu aylyzgtvylgkhypunhukghjoplbltlu zgtvylgkpz punapzolkgp gchzguv gpuglunshukg oh g oltvz gcvuklymasg opunzgclylgwyvkajlkg olylgpzguv opungpugvskglunspzo oh g hrlzgovskgvmg olgtpukgcp og oh gthz lymasghukgzaikapungwvclycopjogz pssgilsvunzg vg olgseypjhsgz hufhzgvmg olg yvaihkvayzghuktpuulzpunlyzg vgclszogyvthujlgvyg vg olglwpjgwyvzlgvmg olgpjlshukopz vyplzggg olguvythugjvuxalz gklnyhklkg olglunspzogshunahnlgmyvtp zgsp lyhyegyhurghukgiyvano gpughgulcgshunahnlgmvyg olgwvsp lysp lyh aylgp gkpkguv gklz yvegpugvulgzluzlgp gkpkguv ghizvsa lsepu lyyaw glunspzogsp lyh aylgia gp g vvrghcheg olglunspzogsp lyhyez hukhykghukg oylcg olgjvau yegihjrgpu vg olgjvukp pvugvmgp hseilmvylgkhu lhughuhyjoegvmgkphslj zgcolughgulcgsp lyhyegshunahnlchzglz hispzolkgpug olg ptlgvmgjohajlyg olgtpkkslghnlzgclylgulhysevblyghukgzvgp gohwwlulkg oh gmvyg olgnylh lz gvmg olgtlkplbhsjlu ayplzg olg clsm oghukg opy llu og olgjlu ayplzgvmg oljyazhklzgvmg olgovoluz hamlugltwlyvyzgvmgz gmyhujpzgz gkvtpupjhukgz gsvapzg olylgpzgpuglunspzoguvgnylh gylwylzlu h pblgcvyrgpuwyvzlgvygyoetlg olylghylgil  lyg opunzgp gpzg yalg ohug olz hnnlypungyoe otzgvmgshehtvugvyg olgcvvklugwyljpzpvugvmgvytg olhujylugypcslgpzgil  lygia g olylgpzguvgvulgcovgjhugilg hrlughzzvtlgvmg olgcyp lyzgpugv olygjvau yplzgjhujylz plugklg yvplzgmvypuz hujlgvygchs olygbvugklygbvnlsclpklgvygbpsslohykvapu olylgpzuvgvulgpuglunshukgcovgjhugilg hrlugmvyghgylwylzlu h pblgwvl gvyvyh vygnpbpungva gcoh gjhugilgyljvnupzlkgh gvujlghukgpzgyljvnupzlkpuz puj pblseghzg olgilz gwvzzpislgsp lyhyegcvyrgvmgp zgvcugkheghukp zgvcugrpukg olgilha egvmgtlkplbhsgwvl yeghukgwyvzlgpzguv g vgilmvaukgpuglunshukgvygvusegpughgmhpu gylmslj lkgcheglunshukgkpkguv wvzzlzzg olgolhy gvmg olgtez lye\n",
      "\n",
      "\n",
      "key:(rnagnofwn)\n",
      "plaintext:\n",
      "vjgbcvvtcevkqpbqhbogfkgxcnbnkvgtcvwtgbeqogubrgtjcruboqtgbuvtqpin htqobuqogbqvjgtbeqwpvtkgubvjcpbhtqobgpincpfbkpbhtcpegbcpfbrtqxgpegkpbigtocp bcpfbkegncpfbvjgtgbygtgbnkvgtct bcfxgpvwtgtuboqtgbfctkpicpfbcejkgxgogpvuboqtgbfkuvkpiwkujgfbkvbycubpqvbkpbgpincpfbvjcvbvjgoquvbyqpfgthwnbvjkpiubygtgbrtqfwegfbvjgtgbkubpqvjkpibkpbqnfbgpinkujvjcvbvcmgubjqnfbqhbvjgbokpfbykvjbvjcvbocuvgthwnbcpfbuwdfwkpibrqygtyjkejbuvknnbdgnqpiubvqbvjgbn tkecnbuvcpacubqhbvjgbvtqwdcfqwtubcpfokppgukpigtubvqbygnujbtqocpegbqtbvqbvjgbgrkebrtqugbqhbvjgbkegncpfjkuvqtkgubbbvjgbpqtocpbeqpswguvbfgitcfgfbvjgbgpinkujbncpiwcigbhtqokvubnkvgtct btcpmbcpfbdtqwijvbkpbcbpgybncpiwcigbhqtbvjgbrqnkvgtnkvgtcvwtgbkvbfkfbpqvbfguvtq bkpbqpgbugpugbkvbfkfbpqvbcduqnwvgn kpvgttwrvbgpinkujbnkvgtcvwtgbdwvbkvbvqqmbcyc bvjgbgpinkujbnkvgtct uvcpfctfbcpfbvjtgybvjgbeqwpvt bdcembkpvqbvjgbeqpfkvkqpbqhbkvcn dghqtgbfcpvgcpbcpctej bqhbfkcngevubyjgpbcbpgybnkvgtct bncpiwcigycubguvcdnkujgfbkpbvjgbvkogbqhbejcwegtbvjgbokffngbcigubygtgbpgctn qxgtbcpfbuqbkvbjcrrgpgfbvjcvbhqtbvjgbitgcvguvbqhbvjgbogfkgxcnegpvwtkgubvjgbvygnhvjbcpfbvjktvggpvjbvjgbegpvwtkgubqhbvjgetwucfgubqhbvjgbjqjgpuvcwhgpbgorgtqtubqhbuvbhtcpekubuvbfqokpkecpfbuvbnqwkubvjgtgbkubkpbgpinkujbpqbitgcvbtgrtgugpvcvkxgbyqtmbkprtqugbqtbtj ogbvjgtgbctgbdgvvgtbvjkpiubkvbkubvtwgbvjcpbvjguvciigtkpibtj vjoubqhbnc coqpbqtbvjgbyqqfgpbrtgekukqpbqhbqtobvjgcpetgpbtkyngbkubdgvvgtbdwvbvjgtgbkubpqbqpgbyjqbecpbdgbvcmgpbcuuqogbqhbvjgbytkvgtubkpbqvjgtbeqwpvtkgubecpetguvkgpbfgbvtqkgubhqtkpuvcpegbqtbycnvjgtbxqpbfgtbxqignygkfgbqtbxknngjctfqwkpvjgtgbkupqbqpgbkpbgpincpfbyjqbecpbdgbvcmgpbhqtbcbtgrtgugpvcvkxgbrqgvbqtqtcvqtbikxkpibqwvbyjcvbecpbdgbtgeqipkugfbcvbqpegbcpfbkubtgeqipkugfkpuvkpevkxgn bcubvjgbdguvbrquukdngbnkvgtct byqtmbqhbkvubqypbfc bcpfkvubqypbmkpfbvjgbdgcwv bqhbogfkgxcnbrqgvt bcpfbrtqugbkubpqvbvqbdghqwpfbkpbgpincpfbqtbqpn bkpbcbhckpvbtghngevgfbyc bgpincpfbfkfbpqvrquuguubvjgbjgctvbqhbvjgbo uvgt \n",
      "\n",
      "\n"
     ]
    }
   ],
   "source": [
    "for sol in sols: \n",
    "    key = sol[1]\n",
    "    print(\"key:({})\\nplaintext:\\n{}\\n\\n\".format(key, decode(decrypt(cipher_text, encode(key)))))"
   ]
  },
  {
   "cell_type": "code",
   "execution_count": 204,
   "metadata": {
    "collapsed": false
   },
   "outputs": [
    {
     "data": {
      "text/plain": [
       "'tpcipqhyp'"
      ]
     },
     "execution_count": 204,
     "metadata": {},
     "output_type": "execute_result"
    }
   ],
   "source": [
    "decode(k)"
   ]
  },
  {
   "cell_type": "markdown",
   "metadata": {},
   "source": [
    "**:)**"
   ]
  },
  {
   "cell_type": "markdown",
   "metadata": {},
   "source": [
    "---"
   ]
  },
  {
   "cell_type": "markdown",
   "metadata": {},
   "source": [
    "<a rel=\"license\" href=\"http://creativecommons.org/licenses/by-nc-sa/4.0/\"><img alt=\"Creative Commons License\" style=\"border-width:0\" src=\"https://i.creativecommons.org/l/by-nc-sa/4.0/88x31.png\" /></a><br /><span xmlns:dct=\"http://purl.org/dc/terms/\" property=\"dct:title\">Vigenere cryptoanalysis</span> by <a xmlns:cc=\"http://creativecommons.org/ns#\" href=\"mailto:massimo.nocentini@unifi.it\" property=\"cc:attributionName\" rel=\"cc:attributionURL\">Massimo Nocentini</a> is licensed under a <a rel=\"license\" href=\"http://creativecommons.org/licenses/by-nc-sa/4.0/\">Creative Commons Attribution-NonCommercial-ShareAlike 4.0 International License</a>.<br />Based on a work at <a xmlns:dct=\"http://purl.org/dc/terms/\" href=\"https://github.com/massimo-nocentini/scratchpad/blob/master/chapters/crypto/vigenere-cryptoanalysis.ipynb\" rel=\"dct:source\">https://github.com/massimo-nocentini/scratchpad/blob/master/chapters/crypto/vigenere-cryptoanalysis.ipynb</a>."
   ]
  }
 ],
 "metadata": {
  "kernelspec": {
   "display_name": "Python 3",
   "language": "python",
   "name": "python3"
  },
  "language_info": {
   "codemirror_mode": {
    "name": "ipython",
    "version": 3
   },
   "file_extension": ".py",
   "mimetype": "text/x-python",
   "name": "python",
   "nbconvert_exporter": "python",
   "pygments_lexer": "ipython3",
   "version": "3.5.1"
  }
 },
 "nbformat": 4,
 "nbformat_minor": 0
}
