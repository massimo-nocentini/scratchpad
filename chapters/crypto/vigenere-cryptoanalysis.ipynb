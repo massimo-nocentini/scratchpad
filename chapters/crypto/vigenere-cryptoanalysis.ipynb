{
 "cells": [
  {
   "cell_type": "code",
   "execution_count": 1,
   "metadata": {
    "collapsed": false
   },
   "outputs": [],
   "source": [
    "import itertools\n",
    "from itertools import *\n",
    "from copy import copy, deepcopy\n",
    "from heapq import *\n",
    "\n",
    "from sympy import *\n",
    "\n",
    "init_printing()"
   ]
  },
  {
   "cell_type": "markdown",
   "metadata": {},
   "source": [
    "Let $\\mathcal{A}$ be our alphabet:"
   ]
  },
  {
   "cell_type": "code",
   "execution_count": 4,
   "metadata": {
    "collapsed": false
   },
   "outputs": [
    {
     "data": {
      "text/plain": [
       "{' ': 26,\n",
       " 'a': 0,\n",
       " 'b': 1,\n",
       " 'c': 2,\n",
       " 'd': 3,\n",
       " 'e': 4,\n",
       " 'f': 5,\n",
       " 'g': 6,\n",
       " 'h': 7,\n",
       " 'i': 8,\n",
       " 'j': 9,\n",
       " 'k': 10,\n",
       " 'l': 11,\n",
       " 'm': 12,\n",
       " 'n': 13,\n",
       " 'o': 14,\n",
       " 'p': 15,\n",
       " 'q': 16,\n",
       " 'r': 17,\n",
       " 's': 18,\n",
       " 't': 19,\n",
       " 'u': 20,\n",
       " 'v': 21,\n",
       " 'w': 22,\n",
       " 'x': 23,\n",
       " 'y': 24,\n",
       " 'z': 25}"
      ]
     },
     "execution_count": 4,
     "metadata": {},
     "output_type": "execute_result"
    }
   ],
   "source": [
    "def make_alphabet_entry(i):\n",
    "    alpha = i + ord('a')\n",
    "    return chr(alpha),i\n",
    "\n",
    "A = dict(map(make_alphabet_entry, range(26)))\n",
    "A.update({' ':26})\n",
    "inverse_A = {v:k for k,v in A.items()}\n",
    "\n",
    "A"
   ]
  },
  {
   "cell_type": "markdown",
   "metadata": {},
   "source": [
    "We define a function `encode` that consumes a string and produces a list of integer in our field:"
   ]
  },
  {
   "cell_type": "code",
   "execution_count": 5,
   "metadata": {
    "collapsed": false
   },
   "outputs": [],
   "source": [
    "def encode(s, alphabet=A): return list(map(lambda i: alphabet[i], s))\n",
    "\n",
    "def decode(e, inverse_alphabet=inverse_A): return \"\".join(map(lambda i: inverse_alphabet[i], e))"
   ]
  },
  {
   "cell_type": "markdown",
   "metadata": {},
   "source": [
    "The following plaintext is prose taken from [here]:\n",
    "\n",
    "[here]:http://www.bartleby.com/209/2.html"
   ]
  },
  {
   "cell_type": "code",
   "execution_count": 6,
   "metadata": {
    "collapsed": false
   },
   "outputs": [
    {
     "data": {
      "text/plain": [
       "('the attraction of medieval literature comes perhaps more stronglyfrom some other countries than from england in france and provencein germany and iceland there were literary adventurers more daringand achievements more distinguished it was not in england that themost wonderful things were produced there is nothing in old englishthat takes hold of the mind with that masterful and subduing powerwhich still belongs to the lyrical stanzas of the troubadours andminnesingers to welsh romance or to the epic prose of the icelandhistories   the norman conquest degraded the english language fromits literary rank and brought in a new language for the politerliterature it did not destroy in one sense it did not absolutelyinterrupt english literature but it took away the english literarystandard and threw the country back into the condition of italybefore dantean anarchy of dialects when a new literary languagewas established in the time of chaucer the middle ages were nearlyover and so it happened that for the greatest of the medievalcenturies the twelfth and thirteenth the centuries of thecrusades of the hohenstaufen emperors of st francis st dominicand st louis there is in english no great representative work inprose or rhyme there are better things it is true than thestaggering rhythms of layamon or the wooden precision of orm theancren riwle is better but there is no one who can be taken assome of the writers in other countries cancrestien de troies forinstance or walther von der vogelweide or villehardouinthere isno one in england who can be taken for a representative poet ororator giving out what can be recognised at once and is recognisedinstinctively as the best possible literary work of its own day andits own kind the beauty of medieval poetry and prose is not to befound in england or only in a faint reflected way england did notpossess the heart of the mystery',\n",
       " 1890)"
      ]
     },
     "execution_count": 6,
     "metadata": {},
     "output_type": "execute_result"
    }
   ],
   "source": [
    "with open('plain_text.txt', 'r') as f:\n",
    "    plain_text = f.read().lower()\n",
    "\n",
    "remove_chars = [',', '.', ';', ':', '\\n', '-', '(', ')', \"'\", '\"']\n",
    "for rc in remove_chars: \n",
    "    plain_text = plain_text.replace(rc, '')\n",
    "\n",
    "plain_text = \"\".join(filter(lambda c: not c.isdigit(), plain_text))\n",
    "m = len(plain_text)\n",
    "plain_text, m"
   ]
  },
  {
   "cell_type": "code",
   "execution_count": 7,
   "metadata": {
    "collapsed": false
   },
   "outputs": [],
   "source": [
    "assert decode(encode(plain_text)) == plain_text"
   ]
  },
  {
   "cell_type": "code",
   "execution_count": 8,
   "metadata": {
    "collapsed": false
   },
   "outputs": [],
   "source": [
    "encoded_plain_text = encode(plain_text)"
   ]
  },
  {
   "cell_type": "markdown",
   "metadata": {},
   "source": [
    "Let $k \\in \\left(\\frac{\\mathbb{Z}}{n\\mathbb{Z}}\\right)^{m}$ be a *key* of length $m\\in\\mathbb{N}$, for example:"
   ]
  },
  {
   "cell_type": "code",
   "execution_count": 9,
   "metadata": {
    "collapsed": false
   },
   "outputs": [
    {
     "data": {
      "image/png": "[encoded data removed]",
      "text/latex": [
       "$$\\left ( \\left [ 4, \\quad 17, \\quad 8, \\quad 2, \\quad 18, \\quad 12, \\quad 20, \\quad 11, \\quad 11, \\quad 24, \\quad 0, \\quad 13\\right ], \\quad 12\\right )$$"
      ],
      "text/plain": [
       "([4, 17, 8, 2, 18, 12, 20, 11, 11, 24, 0, 13], 12)"
      ]
     },
     "execution_count": 9,
     "metadata": {},
     "output_type": "execute_result"
    }
   ],
   "source": [
    "# it should be better to randomly generate it to keep it safe\n",
    "k = encode(\"ericsmullyan\")\n",
    "k, len(k)"
   ]
  },
  {
   "cell_type": "markdown",
   "metadata": {},
   "source": [
    "Now we are in the position to define the `encrypt` function:"
   ]
  },
  {
   "cell_type": "code",
   "execution_count": 12,
   "metadata": {
    "collapsed": false
   },
   "outputs": [],
   "source": [
    "def encrypt(message, key, alphabet=A):\n",
    "    n = len(alphabet)\n",
    "    return [(p+v)%n for p,v in zip(message, cycle(key))]\n",
    "\n",
    "def decrypt(cipher, key, alphabet=A):\n",
    "    n = len(alphabet)\n",
    "    return [(c-v)%n for c,v in zip(cipher, cycle(key))]"
   ]
  },
  {
   "cell_type": "code",
   "execution_count": 13,
   "metadata": {
    "collapsed": false
   },
   "outputs": [
    {
     "data": {
      "text/plain": [
       "'xymbsembl tvsdhqxlfpofehebhn eyblqudiqkqdqlk bruef bd kpkptdsdonprkzxxsaqvhqktybk ogrjzkwdtdsynmjhworqgrwynqdzvbxcuynb nruhri opy evrqogiyuyixa hqqewxuyoxtuihmbnqkpkiifihitpluofbnfyhmtjlfzbb qehqpymgokycumvcgdqgdcxmavvhf dmtyduvwymfrumkgysmreab ztpydlnruhvzmmkdeezsiabn gopofgpqaj z cktediqxtfpnnpa flvzgrulkyltumdob ztzwa rrxtkjtmslq feamurthwoxosdjpgrybyoxwvxyhvzmmkxysfihnwcluyoxsgfubkest zted yqezlldtilmfvtqeslkdl flvhnpcbnli exrvasdtzqxtuiqatffvloludwqipvybyybsvrxmtjlmzkteywyhtfyuynb avqaqreapkbpvgqxtfdykzc flvhkuqelyahvwjwt qlkkxtuiqvqiyuyk o ukmuklxproaqiuhvzqtpydlvwyhnsz eldemjhwo elkwftrvrz rcuyvxa hqjtff sdxi drhpwhtwlkggexmbx kkdeemtetkkqkwtqedejbtwlbdkaiqddwvrpycdookdzvbfzykcbneiqqvrpbokkofdrjufxndpiyvrjmtifidkbntpz jrxbdpoafyhmbtfmktq fsesbshuikqhrdvviculskiifihitpdmlyaadhqipvlmsbbwmxymbu nydoymfrkmrugdzxtuiqkqepbdtlnmswhkkmeimbfavvhfszmplk nrrzezjtzqxdvebmekdtgsbnmeqvgnletdbrnvohnsz eldeieihgjeumwfsuiuhkelmspxtvqvhqxlwslrcrvqajwlftoalrdrogjlppbb  irznp opbxa hq qrumksypbidmfrealdxfavqajwl bpytrwjhqxlmspxmrhzmxsxwpyqudmv bktykdteyjjpbszxkdeidxvmpkttdsb pidawiuycklfmxymeifllobsmswhvzqtszee wjiwxqgkpjprvezur zkcq svrve dtcdxdaqzvkumgokptmpebkjlmspoemmihkelyyriielqvqrskplq difzgjqgdlqihiqdqiwttymrawvhqilksijemxymtwlubpxbrxjmtreatydsmmjhkjlmbeb flrvbktycdygtihqpylksiqhzwqwhrxuiljo dezbktykgloqidhriqwtcfo denbfcfkdeenrtzgelktgiemmihdwempbxbgxqajwcyktp  sqwpwlpszxcnrqjgreuvpk nwiwowlhqkqhrdmzkkqkckfnmsjpgilwzektdmv bumgnbbsfmvvbvqtdblirwqnqiugcdynpiqwtrhuwdeeddlwprpybksotibdg pykzo hmbtgzmkozri xymtwlbcyl arvhkelyyria hqdjflwlyxbrdjimwztqzo ndhmriqlpyqafmlmbg ydklravraqil tffntdebvrhaldxcnrqjgrcynzdnvwvlbsetzy emedlb dtbp otrz gvugcdfnpxzcgcjtlcxtuiqjgjet zpsvfbmbcumpbyrkdmwtblhqkftededprpuikynqmj bfhgkvfnqdjpgrnyleqymswhowpbpfylmtemvijtlya bve grulkyltmxehdwrheya vrqmpyxuyoxoddevnplbyky sezvvrcyqwbcfiuhysjtpydlnruhf ptyzqpawimujlmspxhrehabfrtdsb zbiagij'"
      ]
     },
     "execution_count": 13,
     "metadata": {},
     "output_type": "execute_result"
    }
   ],
   "source": [
    "cipher_text = encrypt(encoded_plain_text, k)\n",
    "decode(cipher_text)"
   ]
  },
  {
   "cell_type": "code",
   "execution_count": 14,
   "metadata": {
    "collapsed": false
   },
   "outputs": [],
   "source": [
    "assert decode(decrypt(cipher_text, k)) == plain_text"
   ]
  },
  {
   "cell_type": "code",
   "execution_count": 18,
   "metadata": {
    "collapsed": false
   },
   "outputs": [],
   "source": [
    "def frequency(elem, lst):\n",
    "    return lst.count(elem)\n",
    "\n",
    "def coincidence_index(lst, alphabet=A):\n",
    "    sums = 0\n",
    "    freqs = {}\n",
    "    denom = len(lst)\n",
    "    #if denom == 0 or denom == 1: return 0,{}\n",
    "    for k,v in alphabet.items(): freqs[k] = frequency(v, lst)\n",
    "    ci = sum(v*(v-1) for v in freqs.values())/(denom*(denom-1))\n",
    "    return ci, freqs\n",
    "\n",
    "def mutual_coincidence_index(fst, snd, g=0, alphabet=A):\n",
    "    fst_ci = coincidence_index(fst, alphabet)[1]\n",
    "    snd_ci = coincidence_index(snd, alphabet)[1]\n",
    "    return sum(fst_ci[k] * snd_ci[decode([(v+g)%len(alphabet)])] \n",
    "               for k,v in alphabet.items())/(len(fst)*len(snd))"
   ]
  },
  {
   "cell_type": "code",
   "execution_count": 19,
   "metadata": {
    "collapsed": false
   },
   "outputs": [
    {
     "data": {
      "text/plain": [
       "(0.07593726979645456,\n",
       " {' ': 305,\n",
       "  'a': 115,\n",
       "  'b': 19,\n",
       "  'c': 40,\n",
       "  'd': 67,\n",
       "  'e': 215,\n",
       "  'f': 34,\n",
       "  'g': 39,\n",
       "  'h': 81,\n",
       "  'i': 113,\n",
       "  'j': 0,\n",
       "  'k': 9,\n",
       "  'l': 57,\n",
       "  'm': 29,\n",
       "  'n': 140,\n",
       "  'o': 120,\n",
       "  'p': 21,\n",
       "  'q': 1,\n",
       "  'r': 125,\n",
       "  's': 93,\n",
       "  't': 162,\n",
       "  'u': 35,\n",
       "  'v': 14,\n",
       "  'w': 29,\n",
       "  'x': 0,\n",
       "  'y': 26,\n",
       "  'z': 1})"
      ]
     },
     "execution_count": 19,
     "metadata": {},
     "output_type": "execute_result"
    }
   ],
   "source": [
    "coincidence_index(encoded_plain_text)"
   ]
  },
  {
   "cell_type": "code",
   "execution_count": 20,
   "metadata": {
    "collapsed": false
   },
   "outputs": [
    {
     "data": {
      "text/plain": [
       "(0.039283963688410486,\n",
       " {' ': 81,\n",
       "  'a': 44,\n",
       "  'b': 87,\n",
       "  'c': 33,\n",
       "  'd': 98,\n",
       "  'e': 86,\n",
       "  'f': 62,\n",
       "  'g': 45,\n",
       "  'h': 67,\n",
       "  'i': 78,\n",
       "  'j': 46,\n",
       "  'k': 91,\n",
       "  'l': 90,\n",
       "  'm': 92,\n",
       "  'n': 47,\n",
       "  'o': 45,\n",
       "  'p': 76,\n",
       "  'q': 95,\n",
       "  'r': 83,\n",
       "  's': 55,\n",
       "  't': 92,\n",
       "  'u': 56,\n",
       "  'v': 72,\n",
       "  'w': 61,\n",
       "  'x': 60,\n",
       "  'y': 91,\n",
       "  'z': 57})"
      ]
     },
     "execution_count": 20,
     "metadata": {},
     "output_type": "execute_result"
    }
   ],
   "source": [
    "coincidence_index(cipher_text)"
   ]
  },
  {
   "cell_type": "code",
   "execution_count": 21,
   "metadata": {
    "collapsed": false
   },
   "outputs": [],
   "source": [
    "def spread(message, block_length):\n",
    "    return [message[i:i+block_length] for i in range(0, len(message), block_length)]\n",
    "    \n",
    "def col(spreaded, c, joiner=\"\"):\n",
    "    column = [lst[c] if c < len(lst) else None for lst in spreaded]\n",
    "    ready = list(filter(lambda i: i is not None, column))\n",
    "    return joiner.join(ready) if joiner is not None else ready"
   ]
  },
  {
   "cell_type": "code",
   "execution_count": 22,
   "metadata": {
    "collapsed": false
   },
   "outputs": [],
   "source": [
    "spreaded = spread(cipher_text, 12)"
   ]
  },
  {
   "cell_type": "code",
   "execution_count": 23,
   "metadata": {
    "collapsed": false
   },
   "outputs": [],
   "source": [
    "c = col(spreaded,2,None)"
   ]
  },
  {
   "cell_type": "code",
   "execution_count": 24,
   "metadata": {
    "collapsed": true
   },
   "outputs": [],
   "source": [
    "def analyze(cipher_text):\n",
    "    res = {}\n",
    "    # we discard the case where the key length equals the\n",
    "    # length of the cipher text, since it is the case of \n",
    "    # OneTimePad chiper, which is unbreakable!\n",
    "    for d in range(2, len(cipher_text)):\n",
    "        spreaded = spread(cipher_text, d)\n",
    "        res[d] = []\n",
    "        for c in range(d):\n",
    "            column = col(spreaded, c, joiner=None)\n",
    "            if len(column) < 2: continue\n",
    "            mci = coincidence_index(column)[0]\n",
    "            res[d].append(mci)\n",
    "    return res\n",
    "\n",
    "def guess_key_length(analysis):\n",
    "    candidates = {}\n",
    "    for k,v in analysis.items():\n",
    "        cs = list(filter(lambda i: i > .06, v))\n",
    "        if cs and len(cs) > k/2: candidates[k] = cs\n",
    "    return candidates"
   ]
  },
  {
   "cell_type": "code",
   "execution_count": 25,
   "metadata": {
    "collapsed": false
   },
   "outputs": [],
   "source": [
    "analysis = analyze(cipher_text)"
   ]
  },
  {
   "cell_type": "code",
   "execution_count": 26,
   "metadata": {
    "collapsed": false
   },
   "outputs": [
    {
     "data": {
      "image/png": "[encoded data removed]",
      "text/latex": [
       "$$\\left [ 0.0759493670886076, \\quad 0.08248004515036685, \\quad 0.08876884624687575, \\quad 0.07861001370636136, \\quad 0.0708699508183504, \\quad 0.07941627025719585, \\quad 0.07839294463498285, \\quad 0.07251347378735913, \\quad 0.0720235178833905, \\quad 0.07618814306712396, \\quad 0.07235015515270292, \\quad 0.06663400293973543\\right ]$$"
      ],
      "text/plain": [
       "[0.0759493670886076, 0.08248004515036685, 0.08876884624687575, 0.0786100137063\n",
       "6136, 0.0708699508183504, 0.07941627025719585, 0.07839294463498285, 0.07251347\n",
       "378735913, 0.0720235178833905, 0.07618814306712396, 0.07235015515270292, 0.066\n",
       "63400293973543]"
      ]
     },
     "execution_count": 26,
     "metadata": {},
     "output_type": "execute_result"
    }
   ],
   "source": [
    "guess_key_length(analysis)[12]"
   ]
  },
  {
   "cell_type": "code",
   "execution_count": 27,
   "metadata": {
    "collapsed": false
   },
   "outputs": [
    {
     "data": {
      "image/png": "[encoded data removed]",
      "text/latex": [
       "$$\\left [ 0.0688088283024992, \\quad 0.07400194741966894, \\quad 0.09087958455047063, \\quad 0.07367737747484583, \\quad 0.07075624797143784, \\quad 0.06491398896462187, \\quad 0.08179162609542356, \\quad 0.06134371957156767, \\quad 0.0688088283024992, \\quad 0.06426484907497566, \\quad 0.07530022719896137, \\quad 0.06815968841285297, \\quad 0.08503732554365466, \\quad 0.08471275559883155, \\quad 0.0863356053229471, \\quad 0.07659850697825381, \\quad 0.06751054852320675, \\quad 0.09607270366764038, \\quad 0.07958707958707958, \\quad 0.08658008658008658, \\quad 0.07392607392607392, \\quad 0.08824508824508824, \\quad 0.06859806859806859, \\quad 0.06293706293706294\\right ]$$"
      ],
      "text/plain": [
       "[0.0688088283024992, 0.07400194741966894, 0.09087958455047063, 0.0736773774748\n",
       "4583, 0.07075624797143784, 0.06491398896462187, 0.08179162609542356, 0.0613437\n",
       "1957156767, 0.0688088283024992, 0.06426484907497566, 0.07530022719896137, 0.06\n",
       "815968841285297, 0.08503732554365466, 0.08471275559883155, 0.0863356053229471,\n",
       " 0.07659850697825381, 0.06751054852320675, 0.09607270366764038, 0.079587079587\n",
       "07958, 0.08658008658008658, 0.07392607392607392, 0.08824508824508824, 0.068598\n",
       "06859806859, 0.06293706293706294]"
      ]
     },
     "execution_count": 27,
     "metadata": {},
     "output_type": "execute_result"
    }
   ],
   "source": [
    "guess_key_length(analysis)[24]"
   ]
  },
  {
   "cell_type": "code",
   "execution_count": 63,
   "metadata": {
    "collapsed": false
   },
   "outputs": [],
   "source": [
    "def normalize_heap(heap):\n",
    "    \n",
    "    def normalize(pair): \n",
    "        p,d = pair\n",
    "        return d, 1-p\n",
    "    \n",
    "    return list(map(normalize, heap))\n",
    "\n",
    "def build_offsets_eqs(cipher_text, key_length, indexed_sym, threshold=.06, alphabet=A):\n",
    "    \n",
    "    n = len(alphabet)\n",
    "    eqs = {c:[] for c in range(key_length)}\n",
    "    spreaded = spread(cipher_text, key_length)\n",
    "    for c,a in itertools.product(range(key_length), repeat=2):\n",
    "    \n",
    "        if a == c: continue\n",
    "        \n",
    "        column = col(spreaded, c, joiner=None)\n",
    "        another = col(spreaded, a, joiner=None)\n",
    "        for g in range(1,n):\n",
    "            mci = mutual_coincidence_index(column, another, g)\n",
    "            if mci > threshold: \n",
    "                eqs[c].append(tuple([a, Eq(indexed_sym[a]-indexed_sym[c],g,evaluate=True), mci]))\n",
    "    \n",
    "    return eqs"
   ]
  },
  {
   "cell_type": "code",
   "execution_count": 64,
   "metadata": {
    "collapsed": false,
    "scrolled": false
   },
   "outputs": [],
   "source": [
    "k_sym=IndexedBase('k')\n",
    "\n",
    "eqs_dict = build_offsets_eqs(cipher_text, key_length=12, indexed_sym=k_sym)"
   ]
  },
  {
   "cell_type": "code",
   "execution_count": 65,
   "metadata": {
    "collapsed": false
   },
   "outputs": [
    {
     "data": {
      "image/png": "[encoded data removed]",
      "text/latex": [
       "$$\\left [ \\left ( 1, \\quad - k_{0} + k_{1} = 13, \\quad 0.07783207819259734\\right ), \\quad \\left ( 2, \\quad - k_{0} + k_{2} = 4, \\quad 0.08167761576670406\\right ), \\quad \\left ( 3, \\quad - k_{0} + k_{3} = 25, \\quad 0.07438711744912674\\right ), \\quad \\left ( 4, \\quad - k_{0} + k_{4} = 14, \\quad 0.07302515622496394\\right ), \\quad \\left ( 5, \\quad - k_{0} + k_{5} = 8, \\quad 0.07410671366768146\\right ), \\quad \\left ( 6, \\quad - k_{0} + k_{6} = 16, \\quad 0.07800532129323551\\right ), \\quad \\left ( 7, \\quad - k_{0} + k_{7} = 7, \\quad 0.07627186970894138\\right ), \\quad \\left ( 8, \\quad - k_{0} + k_{8} = 7, \\quad 0.07340965895347899\\right ), \\quad \\left ( 9, \\quad - k_{0} + k_{9} = 20, \\quad 0.0732484076433121\\right ), \\quad \\left ( 10, \\quad - k_{0} + k_{10} = 23, \\quad 0.07590905426106587\\right ), \\quad \\left ( 11, \\quad - k_{0} + k_{11} = 9, \\quad 0.07095057647343385\\right )\\right ]$$"
      ],
      "text/plain": [
       "[(1, -k[0] + k[1] = 13, 0.07783207819259734), (2, -k[0] + k[2] = 4, 0.08167761\n",
       "576670406), (3, -k[0] + k[3] = 25, 0.07438711744912674), (4, -k[0] + k[4] = 14\n",
       ", 0.07302515622496394), (5, -k[0] + k[5] = 8, 0.07410671366768146), (6, -k[0] \n",
       "+ k[6] = 16, 0.07800532129323551), (7, -k[0] + k[7] = 7, 0.07627186970894138),\n",
       " (8, -k[0] + k[8] = 7, 0.07340965895347899), (9, -k[0] + k[9] = 20, 0.07324840\n",
       "76433121), (10, -k[0] + k[10] = 23, 0.07590905426106587), (11, -k[0] + k[11] =\n",
       " 9, 0.07095057647343385)]"
      ]
     },
     "execution_count": 65,
     "metadata": {},
     "output_type": "execute_result"
    }
   ],
   "source": [
    "eqs_dict[0]"
   ]
  },
  {
   "cell_type": "code",
   "execution_count": 66,
   "metadata": {
    "collapsed": true
   },
   "outputs": [],
   "source": [
    "def clean_mci_info(eqs_dict):\n",
    "    return {k:list(map(lambda pair: (pair[0], pair[1]), v)) for k,v in eqs_dict.items()}"
   ]
  },
  {
   "cell_type": "code",
   "execution_count": 69,
   "metadata": {
    "collapsed": false
   },
   "outputs": [
    {
     "data": {
      "image/png": "[encoded data removed]",
      "text/latex": [
       "$$\\left \\{ 0 : \\left [ \\left ( 1, \\quad - k_{0} + k_{1} = 13\\right ), \\quad \\left ( 2, \\quad - k_{0} + k_{2} = 4\\right ), \\quad \\left ( 3, \\quad - k_{0} + k_{3} = 25\\right ), \\quad \\left ( 4, \\quad - k_{0} + k_{4} = 14\\right ), \\quad \\left ( 5, \\quad - k_{0} + k_{5} = 8\\right ), \\quad \\left ( 6, \\quad - k_{0} + k_{6} = 16\\right ), \\quad \\left ( 7, \\quad - k_{0} + k_{7} = 7\\right ), \\quad \\left ( 8, \\quad - k_{0} + k_{8} = 7\\right ), \\quad \\left ( 9, \\quad - k_{0} + k_{9} = 20\\right ), \\quad \\left ( 10, \\quad - k_{0} + k_{10} = 23\\right ), \\quad \\left ( 11, \\quad - k_{0} + k_{11} = 9\\right )\\right ], \\quad 1 : \\left [ \\left ( 0, \\quad k_{0} - k_{1} = 14\\right ), \\quad \\left ( 2, \\quad - k_{1} + k_{2} = 18\\right ), \\quad \\left ( 3, \\quad - k_{1} + k_{3} = 12\\right ), \\quad \\left ( 4, \\quad - k_{1} + k_{4} = 1\\right ), \\quad \\left ( 5, \\quad - k_{1} + k_{5} = 22\\right ), \\quad \\left ( 6, \\quad - k_{1} + k_{6} = 3\\right ), \\quad \\left ( 7, \\quad - k_{1} + k_{7} = 21\\right ), \\quad \\left ( 8, \\quad - k_{1} + k_{8} = 21\\right ), \\quad \\left ( 9, \\quad - k_{1} + k_{9} = 7\\right ), \\quad \\left ( 10, \\quad - k_{1} + k_{10} = 10\\right ), \\quad \\left ( 11, \\quad - k_{1} + k_{11} = 23\\right )\\right ], \\quad 2 : \\left [ \\left ( 0, \\quad k_{0} - k_{2} = 23\\right ), \\quad \\left ( 1, \\quad k_{1} - k_{2} = 9\\right ), \\quad \\left ( 3, \\quad - k_{2} + k_{3} = 21\\right ), \\quad \\left ( 4, \\quad - k_{2} + k_{4} = 10\\right ), \\quad \\left ( 5, \\quad - k_{2} + k_{5} = 4\\right ), \\quad \\left ( 6, \\quad - k_{2} + k_{6} = 12\\right ), \\quad \\left ( 7, \\quad - k_{2} + k_{7} = 3\\right ), \\quad \\left ( 8, \\quad - k_{2} + k_{8} = 3\\right ), \\quad \\left ( 9, \\quad - k_{2} + k_{9} = 16\\right ), \\quad \\left ( 10, \\quad - k_{2} + k_{10} = 19\\right ), \\quad \\left ( 11, \\quad - k_{2} + k_{11} = 5\\right )\\right ], \\quad 3 : \\left [ \\left ( 0, \\quad k_{0} - k_{3} = 2\\right ), \\quad \\left ( 1, \\quad k_{1} - k_{3} = 15\\right ), \\quad \\left ( 2, \\quad k_{2} - k_{3} = 6\\right ), \\quad \\left ( 4, \\quad - k_{3} + k_{4} = 16\\right ), \\quad \\left ( 5, \\quad - k_{3} + k_{5} = 10\\right ), \\quad \\left ( 6, \\quad - k_{3} + k_{6} = 18\\right ), \\quad \\left ( 7, \\quad - k_{3} + k_{7} = 9\\right ), \\quad \\left ( 8, \\quad - k_{3} + k_{8} = 9\\right ), \\quad \\left ( 9, \\quad - k_{3} + k_{9} = 22\\right ), \\quad \\left ( 10, \\quad - k_{3} + k_{10} = 25\\right ), \\quad \\left ( 11, \\quad - k_{3} + k_{11} = 11\\right )\\right ], \\quad 4 : \\left [ \\left ( 0, \\quad k_{0} - k_{4} = 13\\right ), \\quad \\left ( 1, \\quad k_{1} - k_{4} = 26\\right ), \\quad \\left ( 2, \\quad k_{2} - k_{4} = 17\\right ), \\quad \\left ( 3, \\quad k_{3} - k_{4} = 11\\right ), \\quad \\left ( 5, \\quad - k_{4} + k_{5} = 21\\right ), \\quad \\left ( 6, \\quad - k_{4} + k_{6} = 2\\right ), \\quad \\left ( 7, \\quad - k_{4} + k_{7} = 20\\right ), \\quad \\left ( 8, \\quad - k_{4} + k_{8} = 20\\right ), \\quad \\left ( 9, \\quad - k_{4} + k_{9} = 6\\right ), \\quad \\left ( 10, \\quad - k_{4} + k_{10} = 9\\right ), \\quad \\left ( 11, \\quad - k_{4} + k_{11} = 22\\right )\\right ], \\quad 5 : \\left [ \\left ( 0, \\quad k_{0} - k_{5} = 19\\right ), \\quad \\left ( 1, \\quad k_{1} - k_{5} = 5\\right ), \\quad \\left ( 2, \\quad k_{2} - k_{5} = 23\\right ), \\quad \\left ( 3, \\quad k_{3} - k_{5} = 17\\right ), \\quad \\left ( 4, \\quad k_{4} - k_{5} = 6\\right ), \\quad \\left ( 6, \\quad - k_{5} + k_{6} = 8\\right ), \\quad \\left ( 7, \\quad - k_{5} + k_{7} = 26\\right ), \\quad \\left ( 8, \\quad - k_{5} + k_{8} = 26\\right ), \\quad \\left ( 9, \\quad - k_{5} + k_{9} = 12\\right ), \\quad \\left ( 10, \\quad - k_{5} + k_{10} = 15\\right ), \\quad \\left ( 11, \\quad - k_{5} + k_{11} = 1\\right )\\right ], \\quad 6 : \\left [ \\left ( 0, \\quad k_{0} - k_{6} = 11\\right ), \\quad \\left ( 1, \\quad k_{1} - k_{6} = 24\\right ), \\quad \\left ( 2, \\quad k_{2} - k_{6} = 15\\right ), \\quad \\left ( 3, \\quad k_{3} - k_{6} = 9\\right ), \\quad \\left ( 4, \\quad k_{4} - k_{6} = 25\\right ), \\quad \\left ( 5, \\quad k_{5} - k_{6} = 19\\right ), \\quad \\left ( 7, \\quad - k_{6} + k_{7} = 18\\right ), \\quad \\left ( 8, \\quad - k_{6} + k_{8} = 18\\right ), \\quad \\left ( 9, \\quad - k_{6} + k_{9} = 4\\right ), \\quad \\left ( 10, \\quad - k_{6} + k_{10} = 7\\right ), \\quad \\left ( 11, \\quad - k_{6} + k_{11} = 20\\right )\\right ], \\quad 7 : \\left [ \\left ( 0, \\quad k_{0} - k_{7} = 20\\right ), \\quad \\left ( 1, \\quad k_{1} - k_{7} = 6\\right ), \\quad \\left ( 2, \\quad k_{2} - k_{7} = 24\\right ), \\quad \\left ( 3, \\quad k_{3} - k_{7} = 18\\right ), \\quad \\left ( 4, \\quad k_{4} - k_{7} = 7\\right ), \\quad \\left ( 5, \\quad k_{5} - k_{7} = 1\\right ), \\quad \\left ( 6, \\quad k_{6} - k_{7} = 9\\right ), \\quad \\left ( 9, \\quad - k_{7} + k_{9} = 13\\right ), \\quad \\left ( 10, \\quad - k_{7} + k_{10} = 16\\right ), \\quad \\left ( 11, \\quad - k_{7} + k_{11} = 2\\right )\\right ], \\quad 8 : \\left [ \\left ( 0, \\quad k_{0} - k_{8} = 20\\right ), \\quad \\left ( 1, \\quad k_{1} - k_{8} = 6\\right ), \\quad \\left ( 2, \\quad k_{2} - k_{8} = 24\\right ), \\quad \\left ( 3, \\quad k_{3} - k_{8} = 18\\right ), \\quad \\left ( 4, \\quad k_{4} - k_{8} = 7\\right ), \\quad \\left ( 5, \\quad k_{5} - k_{8} = 1\\right ), \\quad \\left ( 6, \\quad k_{6} - k_{8} = 9\\right ), \\quad \\left ( 9, \\quad - k_{8} + k_{9} = 13\\right ), \\quad \\left ( 10, \\quad - k_{8} + k_{10} = 16\\right ), \\quad \\left ( 11, \\quad - k_{8} + k_{11} = 2\\right )\\right ], \\quad 9 : \\left [ \\left ( 0, \\quad k_{0} - k_{9} = 7\\right ), \\quad \\left ( 1, \\quad k_{1} - k_{9} = 20\\right ), \\quad \\left ( 2, \\quad k_{2} - k_{9} = 11\\right ), \\quad \\left ( 3, \\quad k_{3} - k_{9} = 5\\right ), \\quad \\left ( 4, \\quad k_{4} - k_{9} = 21\\right ), \\quad \\left ( 5, \\quad k_{5} - k_{9} = 15\\right ), \\quad \\left ( 6, \\quad k_{6} - k_{9} = 23\\right ), \\quad \\left ( 7, \\quad k_{7} - k_{9} = 14\\right ), \\quad \\left ( 8, \\quad k_{8} - k_{9} = 14\\right ), \\quad \\left ( 10, \\quad - k_{9} + k_{10} = 3\\right ), \\quad \\left ( 11, \\quad - k_{9} + k_{11} = 16\\right )\\right ], \\quad 10 : \\left [ \\left ( 0, \\quad k_{0} - k_{10} = 4\\right ), \\quad \\left ( 1, \\quad k_{1} - k_{10} = 17\\right ), \\quad \\left ( 2, \\quad k_{2} - k_{10} = 8\\right ), \\quad \\left ( 3, \\quad k_{3} - k_{10} = 2\\right ), \\quad \\left ( 4, \\quad k_{4} - k_{10} = 18\\right ), \\quad \\left ( 5, \\quad k_{5} - k_{10} = 12\\right ), \\quad \\left ( 6, \\quad k_{6} - k_{10} = 20\\right ), \\quad \\left ( 7, \\quad k_{7} - k_{10} = 11\\right ), \\quad \\left ( 8, \\quad k_{8} - k_{10} = 11\\right ), \\quad \\left ( 9, \\quad k_{9} - k_{10} = 24\\right ), \\quad \\left ( 11, \\quad - k_{10} + k_{11} = 13\\right )\\right ], \\quad 11 : \\left [ \\left ( 0, \\quad k_{0} - k_{11} = 18\\right ), \\quad \\left ( 1, \\quad k_{1} - k_{11} = 4\\right ), \\quad \\left ( 2, \\quad k_{2} - k_{11} = 22\\right ), \\quad \\left ( 3, \\quad k_{3} - k_{11} = 16\\right ), \\quad \\left ( 4, \\quad k_{4} - k_{11} = 5\\right ), \\quad \\left ( 5, \\quad k_{5} - k_{11} = 26\\right ), \\quad \\left ( 6, \\quad k_{6} - k_{11} = 7\\right ), \\quad \\left ( 7, \\quad k_{7} - k_{11} = 25\\right ), \\quad \\left ( 8, \\quad k_{8} - k_{11} = 25\\right ), \\quad \\left ( 9, \\quad k_{9} - k_{11} = 11\\right ), \\quad \\left ( 10, \\quad k_{10} - k_{11} = 14\\right )\\right ]\\right \\}$$"
      ],
      "text/plain": [
       "{0: [(1, -k[0] + k[1] = 13), (2, -k[0] + k[2] = 4), (3, -k[0] + k[3] = 25), (4\n",
       ", -k[0] + k[4] = 14), (5, -k[0] + k[5] = 8), (6, -k[0] + k[6] = 16), (7, -k[0]\n",
       " + k[7] = 7), (8, -k[0] + k[8] = 7), (9, -k[0] + k[9] = 20), (10, -k[0] + k[10\n",
       "] = 23), (11, -k[0] + k[11] = 9)], 1: [(0, k[0] - k[1] = 14), (2, -k[1] + k[2]\n",
       " = 18), (3, -k[1] + k[3] = 12), (4, -k[1] + k[4] = 1), (5, -k[1] + k[5] = 22),\n",
       " (6, -k[1] + k[6] = 3), (7, -k[1] + k[7] = 21), (8, -k[1] + k[8] = 21), (9, -k\n",
       "[1] + k[9] = 7), (10, -k[1] + k[10] = 10), (11, -k[1] + k[11] = 23)], 2: [(0, \n",
       "k[0] - k[2] = 23), (1, k[1] - k[2] = 9), (3, -k[2] + k[3] = 21), (4, -k[2] + k\n",
       "[4] = 10), (5, -k[2] + k[5] = 4), (6, -k[2] + k[6] = 12), (7, -k[2] + k[7] = 3\n",
       "), (8, -k[2] + k[8] = 3), (9, -k[2] + k[9] = 16), (10, -k[2] + k[10] = 19), (1\n",
       "1, -k[2] + k[11] = 5)], 3: [(0, k[0] - k[3] = 2), (1, k[1] - k[3] = 15), (2, k\n",
       "[2] - k[3] = 6), (4, -k[3] + k[4] = 16), (5, -k[3] + k[5] = 10), (6, -k[3] + k\n",
       "[6] = 18), (7, -k[3] + k[7] = 9), (8, -k[3] + k[8] = 9), (9, -k[3] + k[9] = 22\n",
       "), (10, -k[3] + k[10] = 25), (11, -k[3] + k[11] = 11)], 4: [(0, k[0] - k[4] = \n",
       "13), (1, k[1] - k[4] = 26), (2, k[2] - k[4] = 17), (3, k[3] - k[4] = 11), (5, \n",
       "-k[4] + k[5] = 21), (6, -k[4] + k[6] = 2), (7, -k[4] + k[7] = 20), (8, -k[4] +\n",
       " k[8] = 20), (9, -k[4] + k[9] = 6), (10, -k[4] + k[10] = 9), (11, -k[4] + k[11\n",
       "] = 22)], 5: [(0, k[0] - k[5] = 19), (1, k[1] - k[5] = 5), (2, k[2] - k[5] = 2\n",
       "3), (3, k[3] - k[5] = 17), (4, k[4] - k[5] = 6), (6, -k[5] + k[6] = 8), (7, -k\n",
       "[5] + k[7] = 26), (8, -k[5] + k[8] = 26), (9, -k[5] + k[9] = 12), (10, -k[5] +\n",
       " k[10] = 15), (11, -k[5] + k[11] = 1)], 6: [(0, k[0] - k[6] = 11), (1, k[1] - \n",
       "k[6] = 24), (2, k[2] - k[6] = 15), (3, k[3] - k[6] = 9), (4, k[4] - k[6] = 25)\n",
       ", (5, k[5] - k[6] = 19), (7, -k[6] + k[7] = 18), (8, -k[6] + k[8] = 18), (9, -\n",
       "k[6] + k[9] = 4), (10, -k[6] + k[10] = 7), (11, -k[6] + k[11] = 20)], 7: [(0, \n",
       "k[0] - k[7] = 20), (1, k[1] - k[7] = 6), (2, k[2] - k[7] = 24), (3, k[3] - k[7\n",
       "] = 18), (4, k[4] - k[7] = 7), (5, k[5] - k[7] = 1), (6, k[6] - k[7] = 9), (9,\n",
       " -k[7] + k[9] = 13), (10, -k[7] + k[10] = 16), (11, -k[7] + k[11] = 2)], 8: [(\n",
       "0, k[0] - k[8] = 20), (1, k[1] - k[8] = 6), (2, k[2] - k[8] = 24), (3, k[3] - \n",
       "k[8] = 18), (4, k[4] - k[8] = 7), (5, k[5] - k[8] = 1), (6, k[6] - k[8] = 9), \n",
       "(9, -k[8] + k[9] = 13), (10, -k[8] + k[10] = 16), (11, -k[8] + k[11] = 2)], 9:\n",
       " [(0, k[0] - k[9] = 7), (1, k[1] - k[9] = 20), (2, k[2] - k[9] = 11), (3, k[3]\n",
       " - k[9] = 5), (4, k[4] - k[9] = 21), (5, k[5] - k[9] = 15), (6, k[6] - k[9] = \n",
       "23), (7, k[7] - k[9] = 14), (8, k[8] - k[9] = 14), (10, -k[9] + k[10] = 3), (1\n",
       "1, -k[9] + k[11] = 16)], 10: [(0, k[0] - k[10] = 4), (1, k[1] - k[10] = 17), (\n",
       "2, k[2] - k[10] = 8), (3, k[3] - k[10] = 2), (4, k[4] - k[10] = 18), (5, k[5] \n",
       "- k[10] = 12), (6, k[6] - k[10] = 20), (7, k[7] - k[10] = 11), (8, k[8] - k[10\n",
       "] = 11), (9, k[9] - k[10] = 24), (11, -k[10] + k[11] = 13)], 11: [(0, k[0] - k\n",
       "[11] = 18), (1, k[1] - k[11] = 4), (2, k[2] - k[11] = 22), (3, k[3] - k[11] = \n",
       "16), (4, k[4] - k[11] = 5), (5, k[5] - k[11] = 26), (6, k[6] - k[11] = 7), (7,\n",
       " k[7] - k[11] = 25), (8, k[8] - k[11] = 25), (9, k[9] - k[11] = 11), (10, k[10\n",
       "] - k[11] = 14)]}"
      ]
     },
     "execution_count": 69,
     "metadata": {},
     "output_type": "execute_result"
    }
   ],
   "source": [
    "eqs_dict_pure = clean_mci_info(eqs_dict)\n",
    "eqs_dict_pure"
   ]
  },
  {
   "cell_type": "code",
   "execution_count": 136,
   "metadata": {
    "collapsed": false
   },
   "outputs": [],
   "source": [
    "def candidate_keys(eqs_dict, indexed_sym, apply_mod=False, alphabet=A):\n",
    "    key_length = len(eqs_dict)\n",
    "    n = len(alphabet)\n",
    "    candidates = {}\n",
    "    for c, eq_pairs in eqs_dict.items():\n",
    "        candidates[c]=[]\n",
    "        for d in range(len(alphabet)):\n",
    "            key = [indexed_sym[i] for i in range(key_length)]\n",
    "            key[c] = d\n",
    "            for a, eq in eq_pairs:\n",
    "                subs_eq = eq.subs(indexed_sym[c],d)\n",
    "                key[a] = solve(subs_eq, indexed_sym[a])[0]\n",
    "                if apply_mod: key[a] = key[a] % n\n",
    "                    \n",
    "            at_least_one_missing = next((ind for ind in key \n",
    "                                         if isinstance(ind, Indexed) or ind >= n), None)\n",
    "            if not at_least_one_missing: candidates[c].append(key)\n",
    "    return candidates"
   ]
  },
  {
   "cell_type": "code",
   "execution_count": 137,
   "metadata": {
    "collapsed": false
   },
   "outputs": [],
   "source": [
    "possible_keys = candidate_keys(eqs_dict_pure, k_sym)"
   ]
  },
  {
   "cell_type": "code",
   "execution_count": 144,
   "metadata": {
    "collapsed": true
   },
   "outputs": [],
   "source": [
    "def attempt_keys(candidate_keys, cipher_text, threshold=.06):\n",
    "    sols = set()\n",
    "    flat_keys = []\n",
    "    for c, keys in candidate_keys.items(): \n",
    "        for key in keys: flat_keys.append(key)\n",
    "    for key in flat_keys:\n",
    "        decrypted = decrypt(cipher_text, key)\n",
    "        cipher_check = encrypt(decrypted, key)\n",
    "        ci = coincidence_index(decrypted)[0]\n",
    "        ci_check = coincidence_index(cipher_check)[0]\n",
    "        if ci > threshold:# and ci_check > threshold: \n",
    "            sols.add((ci, decode(key)))\n",
    "    return sols"
   ]
  },
  {
   "cell_type": "code",
   "execution_count": 145,
   "metadata": {
    "collapsed": false
   },
   "outputs": [],
   "source": [
    "sols = attempt_keys(possible_keys, cipher_text)"
   ]
  },
  {
   "cell_type": "code",
   "execution_count": 146,
   "metadata": {
    "collapsed": false
   },
   "outputs": [
    {
     "data": {
      "text/plain": [
       "{(0.07593726979645456, ' mdynhpggtwi'),\n",
       " (0.07593726979645456, 'anezoiqhhuxj'),\n",
       " (0.07593726979645456, 'bof pjriivyk'),\n",
       " (0.07593726979645456, 'cpgaqksjjwzl'),\n",
       " (0.07593726979645456, 'dqhbrltkkx m'),\n",
       " (0.07593726979645456, 'ericsmullyan'),\n",
       " (0.07593726979645456, 'fsjdtnvmmzbo'),\n",
       " (0.07593726979645456, 'gtkeuownn cp'),\n",
       " (0.07593726979645456, 'hulfvpxooadq'),\n",
       " (0.07593726979645456, 'ivmgwqyppber'),\n",
       " (0.07593726979645456, 'jwnhxrzqqcfs'),\n",
       " (0.07593726979645456, 'kxoiys rrdgt'),\n",
       " (0.07593726979645456, 'lypjztassehu'),\n",
       " (0.07593726979645456, 'mzqk ubttfiv'),\n",
       " (0.07593726979645456, 'n rlavcuugjw'),\n",
       " (0.07593726979645456, 'oasmbwdvvhkx'),\n",
       " (0.07593726979645456, 'pbtncxewwily'),\n",
       " (0.07593726979645456, 'qcuodyfxxjmz'),\n",
       " (0.07593726979645456, 'rdvpezgyykn '),\n",
       " (0.07593726979645456, 'sewqf hzzloa'),\n",
       " (0.07593726979645456, 'tfxrgai  mpb'),\n",
       " (0.07593726979645456, 'xjavkemddqtf'),\n",
       " (0.07593726979645456, 'ykbwlfneerug'),\n",
       " (0.07593726979645456, 'zlcxmgoffsvh')}"
      ]
     },
     "execution_count": 146,
     "metadata": {},
     "output_type": "execute_result"
    }
   ],
   "source": [
    "sols"
   ]
  },
  {
   "cell_type": "code",
   "execution_count": 147,
   "metadata": {
    "collapsed": false
   },
   "outputs": [
    {
     "data": {
      "text/plain": [
       "'znkfgzzxgizoutfulfskjokagrfrozkxgz xkfiuskyfvkxngvyfsuxkfyzxutmrdlxusfyuskfuznkxfiu tzxokyfzngtflxusfktmrgtjfotflxgtikfgtjfvxuaktikotfmkxsgtdfgtjfoikrgtjfznkxkfbkxkfrozkxgxdfgjaktz xkxyfsuxkfjgxotmgtjfginokaksktzyfsuxkfjoyzotm oynkjfozfbgyftuzfotfktmrgtjfzngzfznksuyzfbutjkxl rfznotmyfbkxkfvxuj ikjfznkxkfoyftuznotmfotfurjfktmroynzngzfzgqkyfnurjfulfznkfsotjfboznfzngzfsgyzkxl rfgtjfy hj otmfvubkxbnoinfyzorrfhkrutmyfzufznkfrdxoigrfyzgtegyfulfznkfzxu hgju xyfgtjsottkyotmkxyfzufbkrynfxusgtikfuxfzufznkfkvoifvxuykfulfznkfoikrgtjnoyzuxokyfffznkftuxsgtfiutw kyzfjkmxgjkjfznkfktmroynfrgtm gmkflxusozyfrozkxgxdfxgtqfgtjfhxu mnzfotfgftkbfrgtm gmkfluxfznkfvurozkxrozkxgz xkfozfjojftuzfjkyzxudfotfutkfyktykfozfjojftuzfghyur zkrdotzkxx vzfktmroynfrozkxgz xkfh zfozfzuuqfgbgdfznkfktmroynfrozkxgxdyzgtjgxjfgtjfznxkbfznkfiu tzxdfhgiqfotzufznkfiutjozoutfulfozgrdhkluxkfjgtzkgtfgtgxindfulfjogrkizyfbnktfgftkbfrozkxgxdfrgtm gmkbgyfkyzghroynkjfotfznkfzoskfulfing ikxfznkfsojjrkfgmkyfbkxkftkgxrduakxfgtjfyufozfngvvktkjfzngzfluxfznkfmxkgzkyzfulfznkfskjokagriktz xokyfznkfzbkrlznfgtjfznoxzkktznfznkfiktz xokyfulfznkix ygjkyfulfznkfnunktyzg lktfksvkxuxyfulfyzflxgtioyfyzfjusotoigtjfyzfru oyfznkxkfoyfotfktmroynftufmxkgzfxkvxkyktzgzoakfbuxqfotvxuykfuxfxndskfznkxkfgxkfhkzzkxfznotmyfozfoyfzx kfzngtfznkyzgmmkxotmfxndznsyfulfrgdgsutfuxfznkfbuujktfvxkioyoutfulfuxsfznkgtixktfxobrkfoyfhkzzkxfh zfznkxkfoyftufutkfbnufigtfhkfzgqktfgyyuskfulfznkfbxozkxyfotfuznkxfiu tzxokyfigtixkyzoktfjkfzxuokyfluxotyzgtikfuxfbgrznkxfautfjkxfaumkrbkojkfuxfaorrkngxju otznkxkfoytufutkfotfktmrgtjfbnufigtfhkfzgqktfluxfgfxkvxkyktzgzoakfvukzfuxuxgzuxfmoaotmfu zfbngzfigtfhkfxkiumtoykjfgzfutikfgtjfoyfxkiumtoykjotyzotizoakrdfgyfznkfhkyzfvuyyohrkfrozkxgxdfbuxqfulfozyfubtfjgdfgtjozyfubtfqotjfznkfhkg zdfulfskjokagrfvukzxdfgtjfvxuykfoyftuzfzufhklu tjfotfktmrgtjfuxfutrdfotfgflgotzfxklrkizkjfbgdfktmrgtjfjojftuzvuyykyyfznkfnkgxzfulfznkfsdyzkxd'"
      ]
     },
     "execution_count": 147,
     "metadata": {},
     "output_type": "execute_result"
    }
   ],
   "source": [
    "decode(decrypt(cipher_text, encode(\"zlcxmgoffsvh\")))"
   ]
  }
 ],
 "metadata": {
  "kernelspec": {
   "display_name": "Python 3",
   "language": "python",
   "name": "python3"
  },
  "language_info": {
   "codemirror_mode": {
    "name": "ipython",
    "version": 3
   },
   "file_extension": ".py",
   "mimetype": "text/x-python",
   "name": "python",
   "nbconvert_exporter": "python",
   "pygments_lexer": "ipython3",
   "version": "3.5.1"
  }
 },
 "nbformat": 4,
 "nbformat_minor": 0
}
