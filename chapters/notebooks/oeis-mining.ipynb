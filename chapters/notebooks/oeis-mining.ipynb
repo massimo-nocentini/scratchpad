{
 "cells": [
  {
   "cell_type": "markdown",
   "metadata": {},
   "source": [
    "<div align=\"right\">\n",
    "Massimo Nocentini<br>\n",
    "<br>September 8, 2016: big bang\n",
    "</div>\n",
    "<br>\n",
    "<div align=\"center\">\n",
    "<b>Abstract</b><br>\n",
    "This document describe our effort to perform mining techniques on the [OEIS][oeis].\n",
    "</div>\n",
    "\n",
    "[oeis]:http://oeis.org"
   ]
  },
  {
   "cell_type": "markdown",
   "metadata": {},
   "source": [
    "**Imports**"
   ]
  },
  {
   "cell_type": "markdown",
   "metadata": {},
   "source": [
    "The following cell import the function `oeis_search` in order to query the *Online Encyclopedia of Integer Sequences* and render search results directly in the current notebook; for a detailed tutorial, see http://nbviewer.jupyter.org/github/massimo-nocentini/competitive-programming/blob/master/tutorials/oeis-interaction.ipynb?flush_cache=true"
   ]
  },
  {
   "cell_type": "code",
   "execution_count": 5,
   "metadata": {
    "collapsed": false
   },
   "outputs": [],
   "source": [
    "from oeis import oeis_search"
   ]
  },
  {
   "cell_type": "code",
   "execution_count": 10,
   "metadata": {
    "collapsed": true
   },
   "outputs": [],
   "source": [
    "from requests import get\n",
    "import re"
   ]
  },
  {
   "cell_type": "markdown",
   "metadata": {},
   "source": [
    "# Sandbox"
   ]
  },
  {
   "cell_type": "code",
   "execution_count": 40,
   "metadata": {
    "collapsed": true
   },
   "outputs": [],
   "source": [
    "def oeis_graph(seq_id, depth=1):\n",
    "        \n",
    "    sink = {}\n",
    "    \n",
    "    def recursion(seq_id, step):\n",
    "        \n",
    "        payload = {\"fmt\": \"json\", \"q\": \"id:A{:06d}\".format(seq_id)}\n",
    "        doc_result = get(\"https://oeis.org/search\", params=payload,)\n",
    "        doc = doc_result.json()\n",
    "        result = doc['results'].pop()\n",
    "\n",
    "        sink.update({seq_id: result})\n",
    "\n",
    "        # preparing for recursion\n",
    "        xrefs = result['xref'][:10] if 'xref' in result else []\n",
    "\n",
    "        cross_references = set()\n",
    "        regex = re.compile('(?P<id>A\\d{6,6})')\n",
    "        for xref in xrefs:\n",
    "            cross_references |= set(int(r[1:]) for r in regex.findall(xref))\n",
    "\n",
    "        print(\"cross: \", cross_references)\n",
    "            \n",
    "        limit = 3\n",
    "        if step < depth:\n",
    "            for ref_seq_id in filter(lambda cr: cr not in sink, cross_references):\n",
    "                if not limit: break\n",
    "                recursion(ref_seq_id, step+1)\n",
    "                limit -= 1\n",
    "    \n",
    "    recursion(seq_id, step=0)\n",
    "    \n",
    "    return sink\n"
   ]
  },
  {
   "cell_type": "code",
   "execution_count": 42,
   "metadata": {
    "collapsed": false,
    "scrolled": false
   },
   "outputs": [
    {
     "name": "stdout",
     "output_type": "stream",
     "text": [
      "cross:  {114690, 36355, 383, 94216, 90888, 152063, 100492, 99731, 254719, 7317, 104597, 101399, 101400, 59929, 1690, 39834, 144152, 157725, 157726, 157727, 288, 157728, 157729, 32, 930, 103323, 37027, 60455, 111006, 22307, 94638, 38575, 3893, 162741, 6327, 109754, 957, 99390, 167616, 322, 3269, 262342, 71, 1611, 249548, 48887, 74829, 105809, 109906, 213, 20695, 27926, 114197, 91867, 20701, 60441, 738, 101220, 105317, 744, 30186, 228074, 108, 118654, 234357, 57078, 1911, 92921, 94718, 71679}\n",
      "cross:  {45, 5773, 1006, 114655}\n",
      "cross:  {54393, 158973, 1700, 108, 1006, 5775, 2426, 132814, 245455, 136787, 57682, 5717, 5043, 54391, 54392, 62105, 55898, 26300, 1405, 38622}\n",
      "cross:  {26945, 64645, 97862, 64189, 6533, 54726, 6600, 5773, 7569, 178515, 5817, 5717, 258710, 258711, 258712, 7578, 7579, 144218, 182172, 39963, 39964, 6561, 20474, 7971, 86246, 88615, 108, 1006, 99250, 5043, 4148, 49401, 1850, 217275, 26300, 1405, 7678, 64191}\n",
      "cross:  {114656, 2003, 6318}\n",
      "cross:  {228576, 37027, 228196, 36681, 36682, 36683, 36684, 45, 2605, 228074, 74829, 105809, 109906, 36692, 114197, 7318, 51159, 27926, 162741, 1629, 111006}\n",
      "cross:  {105728, 228196, 209705, 119725, 119726, 119727, 2061, 112626, 112468, 244, 119673, 119258, 38207}\n",
      "cross:  {129, 36355, 38149, 74829, 105809, 109906, 59283, 114197, 55830, 7318, 27926, 155161, 49310, 111006, 38112, 228576, 228196, 228074, 122542, 91186, 162741, 38137}\n",
      "cross:  {164866, 227074, 227075, 227076, 172171, 51597, 51601, 108561, 132753, 106516, 214292, 7318, 172185, 193820, 74909, 29600, 177954, 37027, 290, 95660, 96940, 29618, 95666, 96956, 29635, 93644, 74829, 93645, 79, 51666, 29653, 228053, 137688, 227550, 153056, 225, 228576, 118885, 132200, 228074, 134636, 164844, 71919, 164847, 172283, 8949, 160760, 164855, 93560, 93561, 93562, 93563, 93564, 93565}\n",
      "cross:  {1592, 249413, 247192, 60455}\n",
      "cross:  {92921, 48887}\n",
      "cross:  {20992, 322, 214727, 234696, 247561, 100683, 233554, 141523, 231574, 231575, 247192, 235862, 248920, 1630, 1631, 288, 232543, 235873, 214825, 214899, 247027, 1590, 241660, 383}\n",
      "cross:  {20992, 322, 249413, 214727, 100683, 230607, 141523, 81172, 231574, 231575, 235862, 232542, 1631, 214752, 288, 214825, 232498, 214899, 1590, 383}\n"
     ]
    }
   ],
   "source": [
    "graph = oeis_graph(seq_id=45, depth=2)"
   ]
  },
  {
   "cell_type": "code",
   "execution_count": 43,
   "metadata": {
    "collapsed": false
   },
   "outputs": [
    {
     "data": {
      "text/plain": [
       "dict_keys([228576, 114690, 36355, 228196, 249413, 5773, 1006, 45, 247192, 37027, 1592, 114655, 383])"
      ]
     },
     "execution_count": 43,
     "metadata": {},
     "output_type": "execute_result"
    }
   ],
   "source": [
    "graph.keys()"
   ]
  },
  {
   "cell_type": "markdown",
   "metadata": {},
   "source": [
    "---\n",
    "<a rel=\"license\" href=\"http://creativecommons.org/licenses/by-nc-sa/4.0/\"><img alt=\"Creative Commons License\" style=\"border-width:0\" src=\"https://i.creativecommons.org/l/by-nc-sa/4.0/88x31.png\" /></a><br />This work is licensed under a <a rel=\"license\" href=\"http://creativecommons.org/licenses/by-nc-sa/4.0/\">Creative Commons Attribution-NonCommercial-ShareAlike 4.0 International License</a>."
   ]
  }
 ],
 "metadata": {
  "kernelspec": {
   "display_name": "Python 3",
   "language": "python",
   "name": "python3"
  },
  "language_info": {
   "codemirror_mode": {
    "name": "ipython",
    "version": 3
   },
   "file_extension": ".py",
   "mimetype": "text/x-python",
   "name": "python",
   "nbconvert_exporter": "python",
   "pygments_lexer": "ipython3",
   "version": "3.5.1"
  }
 },
 "nbformat": 4,
 "nbformat_minor": 0
}
