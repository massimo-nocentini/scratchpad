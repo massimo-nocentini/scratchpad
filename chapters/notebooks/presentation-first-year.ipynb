{
 "cells": [
  {
   "cell_type": "markdown",
   "metadata": {
    "slideshow": {
     "slide_type": "slide"
    }
   },
   "source": [
    "<p>\n",
    "<img src=\"http://www.cerm.unifi.it/chianti/images/logo%20unifi_positivo.jpg\" \n",
    "        alt=\"UniFI logo\" style=\"float: left; width: 20%; height: 20%;\">\n",
    "<div align=\"right\">\n",
    "<small>\n",
    "<br>October 13, 2016: presentation time\n",
    "<br>October 10, 2016: first draft, Pythonic style\n",
    "</small>\n",
    "</div>\n",
    "</p>\n",
    "<br>\n",
    "<br>\n",
    "<p>\n",
    "<div align=\"center\">\n",
    "<b>Abstract</b><br>\n",
    "This presentation is a summary of my work during the first year of PhD course <br> \n",
    "in Computer Science, XXXI cycle @ UniFI\n",
    "</div>\n",
    "</p>"
   ]
  },
  {
   "cell_type": "code",
   "execution_count": 26,
   "metadata": {
    "collapsed": true,
    "slideshow": {
     "slide_type": "skip"
    }
   },
   "outputs": [],
   "source": [
    "from IPython.display import Markdown\n",
    "from inpututils import python_code\n",
    "\n",
    "from graycodes import graycode_rank, graycode_unrank\n",
    "\n",
    "toc = [\"\", \"exams & courses & conferences\", \"what I've done\", \"what I'm working on\", \"thesis arguments\"]\n",
    "toc_iter = iter(toc[1:])\n",
    "\n",
    "def references():\n",
    "    src = '''\n",
    "<div align=\"center\">\n",
    "https://github.com/massimo-nocentini/ <br>\n",
    "http://massimo-nocentini.github.io/\n",
    "</div>\n",
    "    '''\n",
    "    return Markdown(src)\n",
    "\n",
    "def table_of_contents():\n",
    "    src = r'# TOC'\n",
    "    return Markdown('\\n- '.join(toc))\n",
    "\n",
    "def greetings(smiley=True):\n",
    "    return Markdown(\"<h1>{greet} {smile}</h1>\".format(greet=\"Thanks for coming \", smile=\":)\" if smiley else \"\"))\n",
    "\n",
    "def next_topic():\n",
    "    return Markdown(\"# {topic}\".format(topic=next(toc_iter)))"
   ]
  },
  {
   "cell_type": "code",
   "execution_count": 27,
   "metadata": {
    "collapsed": false
   },
   "outputs": [
    {
     "data": {
      "text/markdown": [
       "\n",
       "<div align=\"center\">\n",
       "https://github.com/massimo-nocentini/ <br>\n",
       "http://massimo-nocentini.github.io/\n",
       "</div>\n",
       "    "
      ],
      "text/plain": [
       "<IPython.core.display.Markdown object>"
      ]
     },
     "execution_count": 27,
     "metadata": {},
     "output_type": "execute_result"
    }
   ],
   "source": [
    "__AUTHOR__ = \"Massimo Nocentini, \" + \"massimo.nocentini@unifi.it\"\n",
    "\n",
    "__SUPERVISOR__ = \"Donatella Merlini, \"  + \"donatella.merlini@unifi.it\"\n",
    "\n",
    "__MENTORSHIP__ = [\"Giovanni Marchetti\", \"Marco Maggesi\", \"Cecilia Verri\", \n",
    "                  \"Antonio Bernini\", \"Elena Barcucci\", \"Stefano Bilotta\"]\n",
    "\n",
    "references()"
   ]
  },
  {
   "cell_type": "code",
   "execution_count": 2,
   "metadata": {
    "collapsed": false,
    "slideshow": {
     "slide_type": "subslide"
    }
   },
   "outputs": [
    {
     "data": {
      "text/markdown": [
       "\n",
       "- exams & courses & conferences\n",
       "- what I've done\n",
       "- what I'm working on\n",
       "- thesis arguments"
      ],
      "text/plain": [
       "<IPython.core.display.Markdown object>"
      ]
     },
     "execution_count": 2,
     "metadata": {},
     "output_type": "execute_result"
    }
   ],
   "source": [
    "table_of_contents()"
   ]
  },
  {
   "cell_type": "code",
   "execution_count": 3,
   "metadata": {
    "collapsed": false,
    "slideshow": {
     "slide_type": "slide"
    }
   },
   "outputs": [
    {
     "data": {
      "text/markdown": [
       "# exams & courses & conferences"
      ],
      "text/plain": [
       "<IPython.core.display.Markdown object>"
      ]
     },
     "execution_count": 3,
     "metadata": {},
     "output_type": "execute_result"
    }
   ],
   "source": [
    "next_topic()"
   ]
  },
  {
   "cell_type": "markdown",
   "metadata": {
    "slideshow": {
     "slide_type": "subslide"
    }
   },
   "source": [
    "## Introduction to Process Calculi and related Type Systems\n",
    "\n",
    "taught by Rosario Pugliese and Ilaria Castellani, 4 CFU. \n",
    "\n",
    "Here I studied __*co*-recursive definitions__, in the spirit of:\n",
    "```haskell\n",
    "fib :: [Integer]\n",
    "fib = 0 : 1 : zipWith (+) fib (tail fib)\n",
    "\n",
    "sieve' :: [Integer] -> [Integer]\n",
    "sieve' (n:xs) = n : sieve' (filter (\\ m -> (rem m n) /= 0) xs)\n",
    "```\n",
    "More on this: https://github.com/massimo-nocentini/ipcts\n"
   ]
  },
  {
   "cell_type": "markdown",
   "metadata": {
    "slideshow": {
     "slide_type": "subslide"
    }
   },
   "source": [
    "## Mathematical methods for Computer Science\n",
    "\n",
    "taught by Elena Barcucci, 3 CFU.\n",
    "\n",
    "Here I studied __Gray codes__, all implementations use *bit-masking* techniques;<br>\n",
    "moreover, I collect theory and practice in this [notebook][nb].\n",
    "\n",
    "[nb]:http://nbviewer.jupyter.org/github/massimo-nocentini/competitive-programming/blob/master/tutorials/graycodes.ipynb?flush_cache=true\n",
    "\n"
   ]
  },
  {
   "cell_type": "code",
   "execution_count": 4,
   "metadata": {
    "collapsed": false,
    "slideshow": {
     "slide_type": "-"
    }
   },
   "outputs": [
    {
     "data": {
      "text/markdown": [
       "```python\n",
       "def graycode_rank(g):\n",
       "    \n",
       "    k=0\n",
       "    for i in reversed(range(g.bit_length())):\n",
       "        k ^= set_all(i+1) * is_on(g, i)\n",
       "\n",
       "    return k\n",
       "\n",
       "def graycode_unrank(k): \n",
       "    \n",
       "    g = k ^ (k >> 1)\n",
       "    return g\n",
       "\n",
       "```"
      ],
      "text/plain": [
       "<IPython.core.display.Markdown object>"
      ]
     },
     "execution_count": 4,
     "metadata": {},
     "output_type": "execute_result"
    }
   ],
   "source": [
    "python_code(graycode_rank, graycode_unrank, remove_comments=True)"
   ]
  },
  {
   "cell_type": "markdown",
   "metadata": {},
   "source": [
    "More on this: https://github.com/massimo-nocentini/competitive-programming/blob/master/python-libs/graycodes.py"
   ]
  },
  {
   "cell_type": "markdown",
   "metadata": {
    "slideshow": {
     "slide_type": "subslide"
    }
   },
   "source": [
    "## Present and Future exams\n",
    "\n",
    "### Cryptography\n",
    "\n",
    "taught by Orazio Puglisi, 3 CFU. Application of *bit-masking* techniques for chiper implementations.\n",
    "\n",
    "### Advanced Programming Techniques\n",
    "\n",
    "taught by Lorenzo Bettini, 3 CFU. TDD, BDD, CI, DVC and Eclipse.\n",
    "\n",
    "### Coding and security\n",
    "\n",
    "taught by Michele Boreale, 3 CFU. Low density parity check codes.\n",
    "\n",
    "### Analysis of algorithms and data structures through Riordan arrays\n",
    "\n",
    "taught by Donatella Merlini, 4 CFU. ehm...really I don't know\n",
    "\n",
    "### Numerical methods for simulation\n",
    "\n",
    "taught by Luigi Brugnano, 6 CFU. Difference and Differential eqs, solutions stability"
   ]
  },
  {
   "cell_type": "markdown",
   "metadata": {
    "slideshow": {
     "slide_type": "subslide"
    }
   },
   "source": [
    "## Conferences\n",
    "\n",
    "Last July, in Rome, __ECOOP__, http://2016.ecoop.org/ \n",
    "- served as Volounteer Student\n",
    "- attended __Gradual Typing__ classes and all *Summer school*'s sessions\n",
    "- met [Matthias Felleisen][mf], [Gilad Bracha][gb] and [Shriram Krishnamurthi][sk]\n",
    "\n",
    "Last April, in Florence, __PyCON 7__, https://www.pycon.it/en/:\n",
    "- attended almost __PyData__ sessions\n",
    "- worked throgh two workshops about __asyncio__\n",
    "\n",
    "## Seminars\n",
    "\n",
    "Last June, in Florence, followed Rida Farouki as part of the Spring School *Hypercomplex Function Theory and Applications*\n",
    "\n",
    "Last March, in Florence, followed Marco Maggesi about *theorem proving* and *proof mechanization*\n",
    "\n",
    "[mf]:http://www.ccs.neu.edu/home/matthias/\n",
    "[gb]:http://bracha.org/Site/Home.html\n",
    "[sk]:https://cs.brown.edu/~sk/"
   ]
  },
  {
   "cell_type": "code",
   "execution_count": 5,
   "metadata": {
    "collapsed": false,
    "slideshow": {
     "slide_type": "slide"
    }
   },
   "outputs": [
    {
     "data": {
      "text/markdown": [
       "# what I've done"
      ],
      "text/plain": [
       "<IPython.core.display.Markdown object>"
      ]
     },
     "execution_count": 5,
     "metadata": {},
     "output_type": "execute_result"
    }
   ],
   "source": [
    "next_topic()"
   ]
  },
  {
   "cell_type": "markdown",
   "metadata": {
    "slideshow": {
     "slide_type": "subslide"
    }
   },
   "source": [
    "## in a nutshell\n",
    "\n",
    "- attempt to *submit a paper*, three times, wrong targets :(\n",
    "- *code, code, code*\n",
    " - 80% Python\n",
    "   - programming contest against [UVa][uva] judge, more on this [here][cp]\n",
    "   - wrote a handful of notebooks\n",
    "   - *recurrence unfoldings*, [OEIS][oeis] mining   \n",
    " - 15% Lisp\n",
    "   - Ackermann function study, symbolically \n",
    "   - `call-with-current-continuation`\n",
    "   - [MiniKanren][mk] playing\n",
    " - 5% Haskell\n",
    "   - read http://learnyouahaskell.com/\n",
    "   - *co*-recursion\n",
    "- *studied* for courses\n",
    "\n",
    "[mk]:http://minikanren.org/\n",
    "[cp]:https://github.com/massimo-nocentini/competitive-programming\n",
    "[uva]:https://uva.onlinejudge.org/\n",
    "[oeis]:http://oeis.org/"
   ]
  },
  {
   "cell_type": "code",
   "execution_count": 6,
   "metadata": {
    "collapsed": false,
    "slideshow": {
     "slide_type": "slide"
    }
   },
   "outputs": [
    {
     "data": {
      "text/markdown": [
       "# what I'm working on"
      ],
      "text/plain": [
       "<IPython.core.display.Markdown object>"
      ]
     },
     "execution_count": 6,
     "metadata": {},
     "output_type": "execute_result"
    }
   ],
   "source": [
    "next_topic()"
   ]
  },
  {
   "cell_type": "markdown",
   "metadata": {
    "slideshow": {
     "slide_type": "-"
    }
   },
   "source": [
    "- typesetting recurrence unfolding material in *second paper*, just for me\n",
    "- understand scheme *macrology* (code that writes code), just for fun\n",
    "- (I'd like to play with [HOL light][hl] theorem prover, also for fun)\n",
    "- give a symbolic implementation of *Riordan array theory*, just for the thesis\n",
    "- ...*code, code, code*: training for https://hashcode.withgoogle.com/\n",
    "- *dynamic programming* technique, for contests and (possibly) for the R Journal\n",
    "\n",
    "[hl]:https://www.cl.cam.ac.uk/~jrh13/hol-light/"
   ]
  },
  {
   "cell_type": "code",
   "execution_count": 7,
   "metadata": {
    "collapsed": false,
    "slideshow": {
     "slide_type": "slide"
    }
   },
   "outputs": [
    {
     "data": {
      "text/markdown": [
       "# thesis arguments"
      ],
      "text/plain": [
       "<IPython.core.display.Markdown object>"
      ]
     },
     "execution_count": 7,
     "metadata": {},
     "output_type": "execute_result"
    }
   ],
   "source": [
    "next_topic()"
   ]
  },
  {
   "cell_type": "markdown",
   "metadata": {},
   "source": [
    "- *recursively defined structures*, both *inductively* and *co*-inductively\n",
    "- *code abstract systems*, such as rewriting rules, ECO method and Riordan arrays\n",
    "- *code formal methods*, such as repertoire method, LIF, diagonalization, ...\n",
    "- *representation of dynamic systems*, mainly fractals\n",
    "- `(Y Y)` works, you do know `Y`, didn't you? *Quine generation* with MiniKanren\n",
    "- *reasong about Smullyan machines*, especially those that talk about themselves"
   ]
  },
  {
   "cell_type": "markdown",
   "metadata": {
    "slideshow": {
     "slide_type": "fragment"
    }
   },
   "source": [
    "all previous points help each others toward a <br>\n",
    "__symbolic framework for recursive combinatorial objects__"
   ]
  },
  {
   "cell_type": "code",
   "execution_count": 8,
   "metadata": {
    "collapsed": false,
    "slideshow": {
     "slide_type": "slide"
    }
   },
   "outputs": [
    {
     "name": "stdout",
     "output_type": "stream",
     "text": [
      "The Zen of Python, by Tim Peters\n",
      "\n",
      "Beautiful is better than ugly.\n",
      "Explicit is better than implicit.\n",
      "Simple is better than complex.\n",
      "Complex is better than complicated.\n",
      "Flat is better than nested.\n",
      "Sparse is better than dense.\n",
      "Readability counts.\n",
      "Special cases aren't special enough to break the rules.\n",
      "Although practicality beats purity.\n",
      "Errors should never pass silently.\n",
      "Unless explicitly silenced.\n",
      "In the face of ambiguity, refuse the temptation to guess.\n",
      "There should be one-- and preferably only one --obvious way to do it.\n",
      "Although that way may not be obvious at first unless you're Dutch.\n",
      "Now is better than never.\n",
      "Although never is often better than *right* now.\n",
      "If the implementation is hard to explain, it's a bad idea.\n",
      "If the implementation is easy to explain, it may be a good idea.\n",
      "Namespaces are one honking great idea -- let's do more of those!\n"
     ]
    }
   ],
   "source": [
    "try: \n",
    "    next_topic()\n",
    "except StopIteration: \n",
    "    import this"
   ]
  },
  {
   "cell_type": "code",
   "execution_count": 9,
   "metadata": {
    "collapsed": false,
    "slideshow": {
     "slide_type": "-"
    }
   },
   "outputs": [
    {
     "data": {
      "text/markdown": [
       "<h1>Thanks for coming  :)</h1>"
      ],
      "text/plain": [
       "<IPython.core.display.Markdown object>"
      ]
     },
     "execution_count": 9,
     "metadata": {},
     "output_type": "execute_result"
    }
   ],
   "source": [
    "greetings(smiley=True)"
   ]
  },
  {
   "cell_type": "markdown",
   "metadata": {
    "slideshow": {
     "slide_type": "skip"
    }
   },
   "source": [
    "---\n",
    "<a rel=\"license\" href=\"http://creativecommons.org/licenses/by-nc-sa/4.0/\"><img alt=\"Creative Commons License\" style=\"border-width:0\" src=\"https://i.creativecommons.org/l/by-nc-sa/4.0/88x31.png\" /></a><br />This work is licensed under a <a rel=\"license\" href=\"http://creativecommons.org/licenses/by-nc-sa/4.0/\">Creative Commons Attribution-NonCommercial-ShareAlike 4.0 International License</a>."
   ]
  }
 ],
 "metadata": {
  "celltoolbar": "Slideshow",
  "kernelspec": {
   "display_name": "Python 3",
   "language": "python",
   "name": "python3"
  },
  "language_info": {
   "codemirror_mode": {
    "name": "ipython",
    "version": 3
   },
   "file_extension": ".py",
   "mimetype": "text/x-python",
   "name": "python",
   "nbconvert_exporter": "python",
   "pygments_lexer": "ipython3",
   "version": "3.5.2"
  }
 },
 "nbformat": 4,
 "nbformat_minor": 0
}
