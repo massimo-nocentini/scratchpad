{
 "cells": [
  {
   "cell_type": "code",
   "execution_count": 124,
   "metadata": {
    "collapsed": true
   },
   "outputs": [],
   "source": [
    "from sympy import Matrix, init_printing\n",
    "\n",
    "init_printing()"
   ]
  },
  {
   "cell_type": "code",
   "execution_count": 141,
   "metadata": {
    "collapsed": false
   },
   "outputs": [],
   "source": [
    "def words(avoiding, ones, zeros):\n",
    "    \n",
    "    a = len(avoiding)\n",
    "    \n",
    "    def W(word, ones, zeros): \n",
    "        \n",
    "        if ones:\n",
    "            one = ones[0]\n",
    "            new_word = word + [one]\n",
    "            if new_word[-a:] != avoiding: yield from W(new_word, ones[1:], zeros)\n",
    "        \n",
    "        if zeros:\n",
    "            zero = zeros[0]\n",
    "            new_word = word + [zero]\n",
    "            if new_word[-a:] != avoiding: yield from W(new_word, ones, zeros[1:])\n",
    "        \n",
    "        if not ones and not zeros: yield word\n",
    "        \n",
    "    \n",
    "    return W([], ones, zeros)\n",
    "    "
   ]
  },
  {
   "cell_type": "code",
   "execution_count": 142,
   "metadata": {
    "collapsed": false
   },
   "outputs": [
    {
     "data": {
      "image/png": "[encoded data removed]",
      "text/latex": [
       "$$\\left [ \\left [ 0, \\quad 0, \\quad 1, \\quad 1, \\quad 1\\right ], \\quad \\left [ 0, \\quad 1, \\quad 0, \\quad 1, \\quad 1\\right ], \\quad \\left [ 1, \\quad 0, \\quad 0, \\quad 1, \\quad 1\\right ], \\quad \\left [ 1, \\quad 0, \\quad 1, \\quad 0, \\quad 1\\right ]\\right ]$$"
      ],
      "text/plain": [
       "[[0, 0, 1, 1, 1], [0, 1, 0, 1, 1], [1, 0, 0, 1, 1], [1, 0, 1, 0, 1]]"
      ]
     },
     "execution_count": 142,
     "metadata": {},
     "output_type": "execute_result"
    }
   ],
   "source": [
    "w_1, w_0 = 3, 2\n",
    "sorted(words(avoiding=[1,1,0], ones=[1]*w_1, zeros=[0]*w_0))"
   ]
  },
  {
   "cell_type": "code",
   "execution_count": 143,
   "metadata": {
    "collapsed": false
   },
   "outputs": [
    {
     "data": {
      "image/png": "[encoded data removed]",
      "text/latex": [
       "$$\\left \\{ 0 : \\left [ \\left [ 1, \\quad 1, \\quad 1\\right ]\\right ], \\quad 1 : \\left [ \\left [ 1, \\quad 0, \\quad 1, \\quad 1\\right ], \\quad \\left [ 0, \\quad 1, \\quad 1, \\quad 1\\right ]\\right ], \\quad 2 : \\left [ \\left [ 1, \\quad 0, \\quad 1, \\quad 0, \\quad 1\\right ], \\quad \\left [ 1, \\quad 0, \\quad 0, \\quad 1, \\quad 1\\right ], \\quad \\left [ 0, \\quad 1, \\quad 0, \\quad 1, \\quad 1\\right ], \\quad \\left [ 0, \\quad 0, \\quad 1, \\quad 1, \\quad 1\\right ]\\right ], \\quad 3 : \\left [ \\left [ 1, \\quad 0, \\quad 1, \\quad 0, \\quad 1, \\quad 0\\right ], \\quad \\left [ 1, \\quad 0, \\quad 1, \\quad 0, \\quad 0, \\quad 1\\right ], \\quad \\left [ 1, \\quad 0, \\quad 0, \\quad 1, \\quad 0, \\quad 1\\right ], \\quad \\left [ 1, \\quad 0, \\quad 0, \\quad 0, \\quad 1, \\quad 1\\right ], \\quad \\left [ 0, \\quad 1, \\quad 0, \\quad 1, \\quad 0, \\quad 1\\right ], \\quad \\left [ 0, \\quad 1, \\quad 0, \\quad 0, \\quad 1, \\quad 1\\right ], \\quad \\left [ 0, \\quad 0, \\quad 1, \\quad 0, \\quad 1, \\quad 1\\right ], \\quad \\left [ 0, \\quad 0, \\quad 0, \\quad 1, \\quad 1, \\quad 1\\right ]\\right ]\\right \\}$$"
      ],
      "text/plain": [
       "{0: [[1, 1, 1]], 1: [[1, 0, 1, 1], [0, 1, 1, 1]], 2: [[1, 0, 1, 0, 1], [1, 0, \n",
       "0, 1, 1], [0, 1, 0, 1, 1], [0, 0, 1, 1, 1]], 3: [[1, 0, 1, 0, 1, 0], [1, 0, 1,\n",
       " 0, 0, 1], [1, 0, 0, 1, 0, 1], [1, 0, 0, 0, 1, 1], [0, 1, 0, 1, 0, 1], [0, 1, \n",
       "0, 0, 1, 1], [0, 0, 1, 0, 1, 1], [0, 0, 0, 1, 1, 1]]}"
      ]
     },
     "execution_count": 143,
     "metadata": {},
     "output_type": "execute_result"
    }
   ],
   "source": [
    "{w_0: [w for w in words(avoiding=[1,1,0], ones=[1]*w_1, zeros=[0]*w_0)] for w_0 in range(w_1+1)}"
   ]
  },
  {
   "cell_type": "code",
   "execution_count": 144,
   "metadata": {
    "collapsed": true
   },
   "outputs": [],
   "source": [
    "class avoiding:\n",
    "    \n",
    "    def __init__(self, pattern, generator):\n",
    "        self.pattern = pattern\n",
    "        self.generator = generator\n",
    "        \n",
    "    def __call__(self, f):\n",
    "        \n",
    "        def F(n, j, *args, **kwds):\n",
    "            T = {}\n",
    "            for w_1 in n:\n",
    "                for j_point in j:\n",
    "                    pattern = self.pattern(j_point)\n",
    "                    T[w_1,j_point] = {w_0: [w for w in self.generator(avoiding=pattern, \n",
    "                                                                      ones=[1]*w_1, zeros=[0]*w_0)] \n",
    "                              for w_0 in range(w_1+1)}\n",
    "            \n",
    "            return [fn(T, n, j) for fn in f()]\n",
    "        \n",
    "        return F"
   ]
  },
  {
   "cell_type": "code",
   "execution_count": 146,
   "metadata": {
    "collapsed": true
   },
   "outputs": [],
   "source": [
    "def pprint_words(subtable):\n",
    "    words = [w for w_0, words in subtable.items() for w in words]\n",
    "    return sorted({''.join(map(str, w)) for w in words}, key=len)\n",
    "\n",
    "def to_matrix(table, n, j):\n",
    "    return Matrix(len(j), len(n), lambda z, w: sum(len(words) for w_0, words in table[w, z].items()))\n",
    "\n",
    "def identity(table, n, j):\n",
    "    return table"
   ]
  },
  {
   "cell_type": "markdown",
   "metadata": {},
   "source": [
    "$\\mathfrak{p}=1^{j+1}0^{j}$"
   ]
  },
  {
   "cell_type": "code",
   "execution_count": 147,
   "metadata": {
    "collapsed": false
   },
   "outputs": [],
   "source": [
    "@avoiding(pattern=lambda j: [1]*(j+1) + [0]*j, generator=words)\n",
    "def ones_then_zeros_words(): return [identity, to_matrix]"
   ]
  },
  {
   "cell_type": "code",
   "execution_count": 148,
   "metadata": {
    "collapsed": false
   },
   "outputs": [],
   "source": [
    "binary_words, matrix = ones_then_zeros_words(n=range(11), j=range(10))"
   ]
  },
  {
   "cell_type": "code",
   "execution_count": 149,
   "metadata": {
    "collapsed": false
   },
   "outputs": [
    {
     "data": {
      "image/png": "[encoded data removed]",
      "text/latex": [
       "$$\\left[\\begin{array}{ccccccccccc}1 & 3 & 7 & 15 & 31 & 63 & 127 & 255 & 511 & 1023 & 2047\\\\1 & 3 & 10 & 32 & 106 & 357 & 1222 & 4230 & 14770 & 51918 & 183472\\\\1 & 3 & 10 & 35 & 123 & 442 & 1611 & 5931 & 22010 & 82187 & 308427\\\\1 & 3 & 10 & 35 & 126 & 459 & 1696 & 6330 & 23806 & 90068 & 342430\\\\1 & 3 & 10 & 35 & 126 & 462 & 1713 & 6415 & 24205 & 91874 & 350406\\\\1 & 3 & 10 & 35 & 126 & 462 & 1716 & 6432 & 24290 & 92273 & 352212\\\\1 & 3 & 10 & 35 & 126 & 462 & 1716 & 6435 & 24307 & 92358 & 352611\\\\1 & 3 & 10 & 35 & 126 & 462 & 1716 & 6435 & 24310 & 92375 & 352696\\\\1 & 3 & 10 & 35 & 126 & 462 & 1716 & 6435 & 24310 & 92378 & 352713\\end{array}\\right]$$"
      ],
      "text/plain": [
       "⎡1  3  7   15  31   63   127   255    511   1023    2047 ⎤\n",
       "⎢                                                        ⎥\n",
       "⎢1  3  10  32  106  357  1222  4230  14770  51918  183472⎥\n",
       "⎢                                                        ⎥\n",
       "⎢1  3  10  35  123  442  1611  5931  22010  82187  308427⎥\n",
       "⎢                                                        ⎥\n",
       "⎢1  3  10  35  126  459  1696  6330  23806  90068  342430⎥\n",
       "⎢                                                        ⎥\n",
       "⎢1  3  10  35  126  462  1713  6415  24205  91874  350406⎥\n",
       "⎢                                                        ⎥\n",
       "⎢1  3  10  35  126  462  1716  6432  24290  92273  352212⎥\n",
       "⎢                                                        ⎥\n",
       "⎢1  3  10  35  126  462  1716  6435  24307  92358  352611⎥\n",
       "⎢                                                        ⎥\n",
       "⎢1  3  10  35  126  462  1716  6435  24310  92375  352696⎥\n",
       "⎢                                                        ⎥\n",
       "⎣1  3  10  35  126  462  1716  6435  24310  92378  352713⎦"
      ]
     },
     "execution_count": 149,
     "metadata": {},
     "output_type": "execute_result"
    }
   ],
   "source": [
    "matrix[1:,:]"
   ]
  },
  {
   "cell_type": "code",
   "execution_count": 150,
   "metadata": {
    "collapsed": false
   },
   "outputs": [
    {
     "data": {
      "image/png": "[encoded data removed]",
      "text/latex": [
       "$$\\left \\{ 0 : \\left [ \\left [ 1, \\quad 1, \\quad 1\\right ]\\right ], \\quad 1 : \\left [ \\left [ 1, \\quad 0, \\quad 1, \\quad 1\\right ], \\quad \\left [ 0, \\quad 1, \\quad 1, \\quad 1\\right ]\\right ], \\quad 2 : \\left [ \\left [ 1, \\quad 0, \\quad 1, \\quad 0, \\quad 1\\right ], \\quad \\left [ 1, \\quad 0, \\quad 0, \\quad 1, \\quad 1\\right ], \\quad \\left [ 0, \\quad 1, \\quad 0, \\quad 1, \\quad 1\\right ], \\quad \\left [ 0, \\quad 0, \\quad 1, \\quad 1, \\quad 1\\right ]\\right ], \\quad 3 : \\left [ \\left [ 1, \\quad 0, \\quad 1, \\quad 0, \\quad 1, \\quad 0\\right ], \\quad \\left [ 1, \\quad 0, \\quad 1, \\quad 0, \\quad 0, \\quad 1\\right ], \\quad \\left [ 1, \\quad 0, \\quad 0, \\quad 1, \\quad 0, \\quad 1\\right ], \\quad \\left [ 1, \\quad 0, \\quad 0, \\quad 0, \\quad 1, \\quad 1\\right ], \\quad \\left [ 0, \\quad 1, \\quad 0, \\quad 1, \\quad 0, \\quad 1\\right ], \\quad \\left [ 0, \\quad 1, \\quad 0, \\quad 0, \\quad 1, \\quad 1\\right ], \\quad \\left [ 0, \\quad 0, \\quad 1, \\quad 0, \\quad 1, \\quad 1\\right ], \\quad \\left [ 0, \\quad 0, \\quad 0, \\quad 1, \\quad 1, \\quad 1\\right ]\\right ]\\right \\}$$"
      ],
      "text/plain": [
       "{0: [[1, 1, 1]], 1: [[1, 0, 1, 1], [0, 1, 1, 1]], 2: [[1, 0, 1, 0, 1], [1, 0, \n",
       "0, 1, 1], [0, 1, 0, 1, 1], [0, 0, 1, 1, 1]], 3: [[1, 0, 1, 0, 1, 0], [1, 0, 1,\n",
       " 0, 0, 1], [1, 0, 0, 1, 0, 1], [1, 0, 0, 0, 1, 1], [0, 1, 0, 1, 0, 1], [0, 1, \n",
       "0, 0, 1, 1], [0, 0, 1, 0, 1, 1], [0, 0, 0, 1, 1, 1]]}"
      ]
     },
     "execution_count": 150,
     "metadata": {},
     "output_type": "execute_result"
    }
   ],
   "source": [
    "binary_words[3,1]"
   ]
  },
  {
   "cell_type": "code",
   "execution_count": 151,
   "metadata": {
    "collapsed": false
   },
   "outputs": [
    {
     "data": {
      "text/plain": [
       "['111',\n",
       " '0111',\n",
       " '1011',\n",
       " '10011',\n",
       " '00111',\n",
       " '01011',\n",
       " '10101',\n",
       " '101010',\n",
       " '100011',\n",
       " '100101',\n",
       " '101001',\n",
       " '010101',\n",
       " '000111',\n",
       " '001011',\n",
       " '010011']"
      ]
     },
     "execution_count": 151,
     "metadata": {},
     "output_type": "execute_result"
    }
   ],
   "source": [
    "pprint_words(binary_words[3,1])"
   ]
  },
  {
   "cell_type": "code",
   "execution_count": 152,
   "metadata": {
    "collapsed": false
   },
   "outputs": [
    {
     "data": {
      "image/png": "[encoded data removed]",
      "text/latex": [
       "$$15$$"
      ],
      "text/plain": [
       "15"
      ]
     },
     "execution_count": 152,
     "metadata": {},
     "output_type": "execute_result"
    }
   ],
   "source": [
    "len(_)"
   ]
  },
  {
   "cell_type": "markdown",
   "metadata": {},
   "source": [
    "$\\mathfrak{p}=0^{j}1^{j}$"
   ]
  },
  {
   "cell_type": "code",
   "execution_count": 157,
   "metadata": {
    "collapsed": false
   },
   "outputs": [],
   "source": [
    "@avoiding(pattern=lambda j: [0]*j + [1]*j, generator=words)\n",
    "def ones_then_zeros_words(): return [identity, to_matrix]"
   ]
  },
  {
   "cell_type": "code",
   "execution_count": 158,
   "metadata": {
    "collapsed": false
   },
   "outputs": [],
   "source": [
    "binary_words, matrix = ones_then_zeros_words(n=range(11), j=range(10))"
   ]
  },
  {
   "cell_type": "code",
   "execution_count": 159,
   "metadata": {
    "collapsed": false
   },
   "outputs": [
    {
     "data": {
      "image/png": "[encoded data removed]",
      "text/latex": [
       "$$\\left[\\begin{array}{ccccccccccc}1 & 3 & 10 & 35 & 126 & 462 & 1716 & 6435 & 24310 & 92378 & 352716\\\\1 & 2 & 3 & 4 & 5 & 6 & 7 & 8 & 9 & 10 & 11\\\\1 & 3 & 9 & 27 & 82 & 253 & 791 & 2499 & 7960 & 25520 & 82248\\\\1 & 3 & 10 & 34 & 118 & 417 & 1493 & 5400 & 19684 & 72196 & 266122\\\\1 & 3 & 10 & 35 & 125 & 454 & 1671 & 6211 & 23261 & 87641 & 331821\\\\1 & 3 & 10 & 35 & 126 & 461 & 1708 & 6390 & 24086 & 91328 & 347965\\\\1 & 3 & 10 & 35 & 126 & 462 & 1715 & 6427 & 24265 & 92154 & 351666\\\\1 & 3 & 10 & 35 & 126 & 462 & 1716 & 6434 & 24302 & 92333 & 352492\\\\1 & 3 & 10 & 35 & 126 & 462 & 1716 & 6435 & 24309 & 92370 & 352671\\\\1 & 3 & 10 & 35 & 126 & 462 & 1716 & 6435 & 24310 & 92377 & 352708\\end{array}\\right]$$"
      ],
      "text/plain": [
       "⎡1  3  10  35  126  462  1716  6435  24310  92378  352716⎤\n",
       "⎢                                                        ⎥\n",
       "⎢1  2  3   4    5    6    7     8      9     10      11  ⎥\n",
       "⎢                                                        ⎥\n",
       "⎢1  3  9   27  82   253  791   2499  7960   25520  82248 ⎥\n",
       "⎢                                                        ⎥\n",
       "⎢1  3  10  34  118  417  1493  5400  19684  72196  266122⎥\n",
       "⎢                                                        ⎥\n",
       "⎢1  3  10  35  125  454  1671  6211  23261  87641  331821⎥\n",
       "⎢                                                        ⎥\n",
       "⎢1  3  10  35  126  461  1708  6390  24086  91328  347965⎥\n",
       "⎢                                                        ⎥\n",
       "⎢1  3  10  35  126  462  1715  6427  24265  92154  351666⎥\n",
       "⎢                                                        ⎥\n",
       "⎢1  3  10  35  126  462  1716  6434  24302  92333  352492⎥\n",
       "⎢                                                        ⎥\n",
       "⎢1  3  10  35  126  462  1716  6435  24309  92370  352671⎥\n",
       "⎢                                                        ⎥\n",
       "⎣1  3  10  35  126  462  1716  6435  24310  92377  352708⎦"
      ]
     },
     "execution_count": 159,
     "metadata": {},
     "output_type": "execute_result"
    }
   ],
   "source": [
    "matrix[:,:]"
   ]
  },
  {
   "cell_type": "markdown",
   "metadata": {},
   "source": [
    "$\\mathfrak{p}=0^{j+1}1^{j}$"
   ]
  },
  {
   "cell_type": "code",
   "execution_count": 153,
   "metadata": {
    "collapsed": false
   },
   "outputs": [],
   "source": [
    "@avoiding(pattern=lambda j: [0]*(j+1) + [1]*j, generator=words)\n",
    "def ones_then_zeros_words(): return [identity, to_matrix]"
   ]
  },
  {
   "cell_type": "code",
   "execution_count": 154,
   "metadata": {
    "collapsed": false
   },
   "outputs": [],
   "source": [
    "binary_words, matrix = ones_then_zeros_words(n=range(11), j=range(10))"
   ]
  },
  {
   "cell_type": "code",
   "execution_count": 156,
   "metadata": {
    "collapsed": false
   },
   "outputs": [
    {
     "data": {
      "image/png": "[encoded data removed]",
      "text/latex": [
       "$$\\left[\\begin{array}{ccccccccccc}1 & 1 & 1 & 1 & 1 & 1 & 1 & 1 & 1 & 1 & 1\\\\1 & 3 & 8 & 20 & 48 & 112 & 256 & 576 & 1280 & 2816 & 6144\\\\1 & 3 & 10 & 33 & 111 & 378 & 1302 & 4525 & 15841 & 55783 & 197389\\\\1 & 3 & 10 & 35 & 124 & 447 & 1632 & 6015 & 22336 & 83439 & 313216\\\\1 & 3 & 10 & 35 & 126 & 460 & 1701 & 6351 & 23890 & 90398 & 343713\\\\1 & 3 & 10 & 35 & 126 & 462 & 1714 & 6420 & 24226 & 91958 & 350736\\\\1 & 3 & 10 & 35 & 126 & 462 & 1716 & 6433 & 24295 & 92294 & 352296\\\\1 & 3 & 10 & 35 & 126 & 462 & 1716 & 6435 & 24308 & 92363 & 352632\\\\1 & 3 & 10 & 35 & 126 & 462 & 1716 & 6435 & 24310 & 92376 & 352701\\\\1 & 3 & 10 & 35 & 126 & 462 & 1716 & 6435 & 24310 & 92378 & 352714\\end{array}\\right]$$"
      ],
      "text/plain": [
       "⎡1  1  1   1    1    1    1     1      1      1      1   ⎤\n",
       "⎢                                                        ⎥\n",
       "⎢1  3  8   20  48   112  256   576   1280   2816    6144 ⎥\n",
       "⎢                                                        ⎥\n",
       "⎢1  3  10  33  111  378  1302  4525  15841  55783  197389⎥\n",
       "⎢                                                        ⎥\n",
       "⎢1  3  10  35  124  447  1632  6015  22336  83439  313216⎥\n",
       "⎢                                                        ⎥\n",
       "⎢1  3  10  35  126  460  1701  6351  23890  90398  343713⎥\n",
       "⎢                                                        ⎥\n",
       "⎢1  3  10  35  126  462  1714  6420  24226  91958  350736⎥\n",
       "⎢                                                        ⎥\n",
       "⎢1  3  10  35  126  462  1716  6433  24295  92294  352296⎥\n",
       "⎢                                                        ⎥\n",
       "⎢1  3  10  35  126  462  1716  6435  24308  92363  352632⎥\n",
       "⎢                                                        ⎥\n",
       "⎢1  3  10  35  126  462  1716  6435  24310  92376  352701⎥\n",
       "⎢                                                        ⎥\n",
       "⎣1  3  10  35  126  462  1716  6435  24310  92378  352714⎦"
      ]
     },
     "execution_count": 156,
     "metadata": {},
     "output_type": "execute_result"
    }
   ],
   "source": [
    "matrix[:,:]"
   ]
  },
  {
   "cell_type": "markdown",
   "metadata": {},
   "source": [
    "$\\mathfrak{p}=(10)^{j}1$"
   ]
  },
  {
   "cell_type": "code",
   "execution_count": 161,
   "metadata": {
    "collapsed": false
   },
   "outputs": [],
   "source": [
    "@avoiding(pattern=lambda j: [1,0]*j + [1], generator=words)\n",
    "def ones_then_zeros_words(): return [identity, to_matrix]"
   ]
  },
  {
   "cell_type": "code",
   "execution_count": 162,
   "metadata": {
    "collapsed": false
   },
   "outputs": [],
   "source": [
    "binary_words, matrix = ones_then_zeros_words(n=range(11), j=range(10))"
   ]
  },
  {
   "cell_type": "code",
   "execution_count": 163,
   "metadata": {
    "collapsed": false
   },
   "outputs": [
    {
     "data": {
      "image/png": "[encoded data removed]",
      "text/latex": [
       "$$\\left[\\begin{array}{ccccccccccc}1 & 0 & 0 & 0 & 0 & 0 & 0 & 0 & 0 & 0 & 0\\\\1 & 3 & 7 & 18 & 48 & 131 & 363 & 1017 & 2873 & 8169 & 23349\\\\1 & 3 & 10 & 32 & 109 & 377 & 1324 & 4697 & 16795 & 60425 & 218485\\\\1 & 3 & 10 & 35 & 123 & 445 & 1631 & 6036 & 22511 & 84460 & 318438\\\\1 & 3 & 10 & 35 & 126 & 459 & 1699 & 6350 & 23911 & 90572 & 344737\\\\1 & 3 & 10 & 35 & 126 & 462 & 1713 & 6418 & 24225 & 91979 & 350910\\\\1 & 3 & 10 & 35 & 126 & 462 & 1716 & 6432 & 24293 & 92293 & 352317\\\\1 & 3 & 10 & 35 & 126 & 462 & 1716 & 6435 & 24307 & 92361 & 352631\\\\1 & 3 & 10 & 35 & 126 & 462 & 1716 & 6435 & 24310 & 92375 & 352699\\\\1 & 3 & 10 & 35 & 126 & 462 & 1716 & 6435 & 24310 & 92378 & 352713\\end{array}\\right]$$"
      ],
      "text/plain": [
       "⎡1  0  0   0    0    0    0     0      0      0      0   ⎤\n",
       "⎢                                                        ⎥\n",
       "⎢1  3  7   18  48   131  363   1017  2873   8169   23349 ⎥\n",
       "⎢                                                        ⎥\n",
       "⎢1  3  10  32  109  377  1324  4697  16795  60425  218485⎥\n",
       "⎢                                                        ⎥\n",
       "⎢1  3  10  35  123  445  1631  6036  22511  84460  318438⎥\n",
       "⎢                                                        ⎥\n",
       "⎢1  3  10  35  126  459  1699  6350  23911  90572  344737⎥\n",
       "⎢                                                        ⎥\n",
       "⎢1  3  10  35  126  462  1713  6418  24225  91979  350910⎥\n",
       "⎢                                                        ⎥\n",
       "⎢1  3  10  35  126  462  1716  6432  24293  92293  352317⎥\n",
       "⎢                                                        ⎥\n",
       "⎢1  3  10  35  126  462  1716  6435  24307  92361  352631⎥\n",
       "⎢                                                        ⎥\n",
       "⎢1  3  10  35  126  462  1716  6435  24310  92375  352699⎥\n",
       "⎢                                                        ⎥\n",
       "⎣1  3  10  35  126  462  1716  6435  24310  92378  352713⎦"
      ]
     },
     "execution_count": 163,
     "metadata": {},
     "output_type": "execute_result"
    }
   ],
   "source": [
    "matrix[:,:]"
   ]
  },
  {
   "cell_type": "markdown",
   "metadata": {},
   "source": [
    "$\\mathfrak{p}=(01)^{j}0$"
   ]
  },
  {
   "cell_type": "code",
   "execution_count": 164,
   "metadata": {
    "collapsed": false
   },
   "outputs": [],
   "source": [
    "@avoiding(pattern=lambda j: [0,1]*j + [0], generator=words)\n",
    "def ones_then_zeros_words(): return [identity, to_matrix]"
   ]
  },
  {
   "cell_type": "code",
   "execution_count": 165,
   "metadata": {
    "collapsed": false
   },
   "outputs": [],
   "source": [
    "binary_words, matrix = ones_then_zeros_words(n=range(11), j=range(10))"
   ]
  },
  {
   "cell_type": "code",
   "execution_count": 166,
   "metadata": {
    "collapsed": false
   },
   "outputs": [
    {
     "data": {
      "image/png": "[encoded data removed]",
      "text/latex": [
       "$$\\left[\\begin{array}{ccccccccccc}1 & 1 & 1 & 1 & 1 & 1 & 1 & 1 & 1 & 1 & 1\\\\1 & 3 & 8 & 22 & 61 & 171 & 483 & 1373 & 3923 & 11257 & 32418\\\\1 & 3 & 10 & 33 & 113 & 393 & 1384 & 4920 & 17618 & 63456 & 229642\\\\1 & 3 & 10 & 35 & 124 & 449 & 1647 & 6099 & 22754 & 85394 & 322022\\\\1 & 3 & 10 & 35 & 126 & 460 & 1703 & 6366 & 23974 & 90818 & 345691\\\\1 & 3 & 10 & 35 & 126 & 462 & 1714 & 6422 & 24241 & 92042 & 351156\\\\1 & 3 & 10 & 35 & 126 & 462 & 1716 & 6433 & 24297 & 92309 & 352380\\\\1 & 3 & 10 & 35 & 126 & 462 & 1716 & 6435 & 24308 & 92365 & 352647\\\\1 & 3 & 10 & 35 & 126 & 462 & 1716 & 6435 & 24310 & 92376 & 352703\\\\1 & 3 & 10 & 35 & 126 & 462 & 1716 & 6435 & 24310 & 92378 & 352714\\end{array}\\right]$$"
      ],
      "text/plain": [
       "⎡1  1  1   1    1    1    1     1      1      1      1   ⎤\n",
       "⎢                                                        ⎥\n",
       "⎢1  3  8   22  61   171  483   1373  3923   11257  32418 ⎥\n",
       "⎢                                                        ⎥\n",
       "⎢1  3  10  33  113  393  1384  4920  17618  63456  229642⎥\n",
       "⎢                                                        ⎥\n",
       "⎢1  3  10  35  124  449  1647  6099  22754  85394  322022⎥\n",
       "⎢                                                        ⎥\n",
       "⎢1  3  10  35  126  460  1703  6366  23974  90818  345691⎥\n",
       "⎢                                                        ⎥\n",
       "⎢1  3  10  35  126  462  1714  6422  24241  92042  351156⎥\n",
       "⎢                                                        ⎥\n",
       "⎢1  3  10  35  126  462  1716  6433  24297  92309  352380⎥\n",
       "⎢                                                        ⎥\n",
       "⎢1  3  10  35  126  462  1716  6435  24308  92365  352647⎥\n",
       "⎢                                                        ⎥\n",
       "⎢1  3  10  35  126  462  1716  6435  24310  92376  352703⎥\n",
       "⎢                                                        ⎥\n",
       "⎣1  3  10  35  126  462  1716  6435  24310  92378  352714⎦"
      ]
     },
     "execution_count": 166,
     "metadata": {},
     "output_type": "execute_result"
    }
   ],
   "source": [
    "matrix[:,:]"
   ]
  },
  {
   "cell_type": "code",
   "execution_count": null,
   "metadata": {
    "collapsed": true
   },
   "outputs": [],
   "source": []
  }
 ],
 "metadata": {
  "kernelspec": {
   "display_name": "Python 3",
   "language": "python",
   "name": "python3"
  },
  "language_info": {
   "codemirror_mode": {
    "name": "ipython",
    "version": 3
   },
   "file_extension": ".py",
   "mimetype": "text/x-python",
   "name": "python",
   "nbconvert_exporter": "python",
   "pygments_lexer": "ipython3",
   "version": "3.5.2"
  }
 },
 "nbformat": 4,
 "nbformat_minor": 1
}
